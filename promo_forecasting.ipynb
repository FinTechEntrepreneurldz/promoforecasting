{
 "cells": [
  {
   "cell_type": "code",
   "execution_count": 1,
   "id": "baa8f0b9-1682-4a0d-b11e-66ba2b061a9a",
   "metadata": {},
   "outputs": [
    {
     "name": "stderr",
     "output_type": "stream",
     "text": [
      "2022-01-09 23:46:59.911380: I tensorflow/stream_executor/platform/default/dso_loader.cc:48] Successfully opened dynamic library libcudart.so.11.0\n",
      "Using TensorFlow backend.\n"
     ]
    }
   ],
   "source": [
    "#Import my dependencies\n",
    "import numpy as np\n",
    "import pandas as pd\n",
    "import matplotlib.pyplot as plt\n",
    "from sklearn.preprocessing import MinMaxScaler\n",
    "from keras.models import Sequential, load_model\n",
    "from keras.layers import LSTM, Dense, Dropout, Bidirectional, GRU\n",
    "import os\n",
    "from pandas import read_csv\n",
    "import os\n",
    "import datetime\n",
    "import IPython\n",
    "import IPython.display\n",
    "import matplotlib as mpl\n",
    "import matplotlib.pyplot as plt\n",
    "import seaborn as sns\n",
    "import tensorflow as tf\n",
    "from tensorflow import keras\n",
    "import kerastuner as kt\n",
    "from sklearn import metrics \n",
    "import warnings\n",
    "\n",
    "mpl.rcParams['figure.figsize'] = (8, 6)\n",
    "mpl.rcParams['axes.grid'] = False\n",
    "\n",
    "np.random.seed(1234)"
   ]
  },
  {
   "cell_type": "code",
   "execution_count": 2,
   "id": "5d108f7b-ed2b-454f-a1f6-aad919969b75",
   "metadata": {},
   "outputs": [
    {
     "data": {
      "text/html": [
       "<div>\n",
       "<style scoped>\n",
       "    .dataframe tbody tr th:only-of-type {\n",
       "        vertical-align: middle;\n",
       "    }\n",
       "\n",
       "    .dataframe tbody tr th {\n",
       "        vertical-align: top;\n",
       "    }\n",
       "\n",
       "    .dataframe thead th {\n",
       "        text-align: right;\n",
       "    }\n",
       "</style>\n",
       "<table border=\"1\" class=\"dataframe\">\n",
       "  <thead>\n",
       "    <tr style=\"text-align: right;\">\n",
       "      <th></th>\n",
       "      <th>cal_dt</th>\n",
       "      <th>merch_dept</th>\n",
       "      <th>class_nbr</th>\n",
       "      <th>class_name</th>\n",
       "      <th>mfg_brand_name</th>\n",
       "      <th>oms_id</th>\n",
       "      <th>internet_sku_name</th>\n",
       "      <th>is_incart</th>\n",
       "      <th>is_special_buy</th>\n",
       "      <th>is_bau</th>\n",
       "      <th>is_major_event</th>\n",
       "      <th>is_event</th>\n",
       "      <th>ty_regular_retail</th>\n",
       "      <th>ty_effective_retail</th>\n",
       "      <th>markdown</th>\n",
       "      <th>ty_promo_gross_demand</th>\n",
       "      <th>promo_pen</th>\n",
       "      <th>ty_gross_demand</th>\n",
       "    </tr>\n",
       "  </thead>\n",
       "  <tbody>\n",
       "    <tr>\n",
       "      <th>0</th>\n",
       "      <td>2018-01-01</td>\n",
       "      <td>25H-HARDWARE (25H)</td>\n",
       "      <td>025-012</td>\n",
       "      <td>PNEUMATIC FASTENERS</td>\n",
       "      <td>RYOBI</td>\n",
       "      <td>203810823</td>\n",
       "      <td>203810823-ONE  18V Cordless AirStrike 18 Gauge...</td>\n",
       "      <td>0.0</td>\n",
       "      <td>0.0</td>\n",
       "      <td>0.0</td>\n",
       "      <td>0.0</td>\n",
       "      <td>0.0</td>\n",
       "      <td>129.0</td>\n",
       "      <td>114.67</td>\n",
       "      <td>14.33</td>\n",
       "      <td>0.0</td>\n",
       "      <td>0.0</td>\n",
       "      <td>1140.0</td>\n",
       "    </tr>\n",
       "    <tr>\n",
       "      <th>1</th>\n",
       "      <td>2018-01-02</td>\n",
       "      <td>25H-HARDWARE (25H)</td>\n",
       "      <td>025-012</td>\n",
       "      <td>PNEUMATIC FASTENERS</td>\n",
       "      <td>RYOBI</td>\n",
       "      <td>203810823</td>\n",
       "      <td>203810823-ONE  18V Cordless AirStrike 18 Gauge...</td>\n",
       "      <td>0.0</td>\n",
       "      <td>0.0</td>\n",
       "      <td>0.0</td>\n",
       "      <td>0.0</td>\n",
       "      <td>0.0</td>\n",
       "      <td>129.0</td>\n",
       "      <td>129.00</td>\n",
       "      <td>0.00</td>\n",
       "      <td>0.0</td>\n",
       "      <td>0.0</td>\n",
       "      <td>2064.0</td>\n",
       "    </tr>\n",
       "    <tr>\n",
       "      <th>2</th>\n",
       "      <td>2018-01-03</td>\n",
       "      <td>25H-HARDWARE (25H)</td>\n",
       "      <td>025-012</td>\n",
       "      <td>PNEUMATIC FASTENERS</td>\n",
       "      <td>RYOBI</td>\n",
       "      <td>203810823</td>\n",
       "      <td>203810823-ONE  18V Cordless AirStrike 18 Gauge...</td>\n",
       "      <td>0.0</td>\n",
       "      <td>0.0</td>\n",
       "      <td>0.0</td>\n",
       "      <td>0.0</td>\n",
       "      <td>0.0</td>\n",
       "      <td>129.0</td>\n",
       "      <td>129.00</td>\n",
       "      <td>0.00</td>\n",
       "      <td>0.0</td>\n",
       "      <td>0.0</td>\n",
       "      <td>1776.0</td>\n",
       "    </tr>\n",
       "    <tr>\n",
       "      <th>3</th>\n",
       "      <td>2018-01-04</td>\n",
       "      <td>25H-HARDWARE (25H)</td>\n",
       "      <td>025-012</td>\n",
       "      <td>PNEUMATIC FASTENERS</td>\n",
       "      <td>RYOBI</td>\n",
       "      <td>203810823</td>\n",
       "      <td>203810823-ONE  18V Cordless AirStrike 18 Gauge...</td>\n",
       "      <td>0.0</td>\n",
       "      <td>0.0</td>\n",
       "      <td>0.0</td>\n",
       "      <td>0.0</td>\n",
       "      <td>0.0</td>\n",
       "      <td>129.0</td>\n",
       "      <td>127.83</td>\n",
       "      <td>1.17</td>\n",
       "      <td>0.0</td>\n",
       "      <td>0.0</td>\n",
       "      <td>1406.0</td>\n",
       "    </tr>\n",
       "    <tr>\n",
       "      <th>4</th>\n",
       "      <td>2018-01-05</td>\n",
       "      <td>25H-HARDWARE (25H)</td>\n",
       "      <td>025-012</td>\n",
       "      <td>PNEUMATIC FASTENERS</td>\n",
       "      <td>RYOBI</td>\n",
       "      <td>203810823</td>\n",
       "      <td>203810823-ONE  18V Cordless AirStrike 18 Gauge...</td>\n",
       "      <td>0.0</td>\n",
       "      <td>0.0</td>\n",
       "      <td>0.0</td>\n",
       "      <td>0.0</td>\n",
       "      <td>0.0</td>\n",
       "      <td>129.0</td>\n",
       "      <td>124.81</td>\n",
       "      <td>4.19</td>\n",
       "      <td>0.0</td>\n",
       "      <td>0.0</td>\n",
       "      <td>1494.0</td>\n",
       "    </tr>\n",
       "  </tbody>\n",
       "</table>\n",
       "</div>"
      ],
      "text/plain": [
       "      cal_dt          merch_dept class_nbr           class_name  \\\n",
       "0 2018-01-01  25H-HARDWARE (25H)   025-012  PNEUMATIC FASTENERS   \n",
       "1 2018-01-02  25H-HARDWARE (25H)   025-012  PNEUMATIC FASTENERS   \n",
       "2 2018-01-03  25H-HARDWARE (25H)   025-012  PNEUMATIC FASTENERS   \n",
       "3 2018-01-04  25H-HARDWARE (25H)   025-012  PNEUMATIC FASTENERS   \n",
       "4 2018-01-05  25H-HARDWARE (25H)   025-012  PNEUMATIC FASTENERS   \n",
       "\n",
       "  mfg_brand_name     oms_id  \\\n",
       "0          RYOBI  203810823   \n",
       "1          RYOBI  203810823   \n",
       "2          RYOBI  203810823   \n",
       "3          RYOBI  203810823   \n",
       "4          RYOBI  203810823   \n",
       "\n",
       "                                   internet_sku_name  is_incart  \\\n",
       "0  203810823-ONE  18V Cordless AirStrike 18 Gauge...        0.0   \n",
       "1  203810823-ONE  18V Cordless AirStrike 18 Gauge...        0.0   \n",
       "2  203810823-ONE  18V Cordless AirStrike 18 Gauge...        0.0   \n",
       "3  203810823-ONE  18V Cordless AirStrike 18 Gauge...        0.0   \n",
       "4  203810823-ONE  18V Cordless AirStrike 18 Gauge...        0.0   \n",
       "\n",
       "   is_special_buy  is_bau  is_major_event  is_event  ty_regular_retail  \\\n",
       "0             0.0     0.0             0.0       0.0              129.0   \n",
       "1             0.0     0.0             0.0       0.0              129.0   \n",
       "2             0.0     0.0             0.0       0.0              129.0   \n",
       "3             0.0     0.0             0.0       0.0              129.0   \n",
       "4             0.0     0.0             0.0       0.0              129.0   \n",
       "\n",
       "   ty_effective_retail  markdown  ty_promo_gross_demand  promo_pen  \\\n",
       "0               114.67     14.33                    0.0        0.0   \n",
       "1               129.00      0.00                    0.0        0.0   \n",
       "2               129.00      0.00                    0.0        0.0   \n",
       "3               127.83      1.17                    0.0        0.0   \n",
       "4               124.81      4.19                    0.0        0.0   \n",
       "\n",
       "   ty_gross_demand  \n",
       "0           1140.0  \n",
       "1           2064.0  \n",
       "2           1776.0  \n",
       "3           1406.0  \n",
       "4           1494.0  "
      ]
     },
     "execution_count": 2,
     "metadata": {},
     "output_type": "execute_result"
    }
   ],
   "source": [
    "df = pd.read_csv('PROMO_GD_OPD_203810823_NEW.csv', parse_dates=['cal_dt'])\n",
    "\n",
    "df.index = df['cal_dt']\n",
    "df = df.reindex(pd.date_range(min(df['cal_dt']),\n",
    "                                          max(df['cal_dt']),\n",
    "                                          freq='D'))\n",
    "df = df.drop('cal_dt', axis=1)\n",
    "\n",
    "df = df\n",
    "df = df.reset_index(level=0)\n",
    "df = df.rename(columns={\"index\": \"cal_dt\"})\n",
    "df.head()"
   ]
  },
  {
   "cell_type": "code",
   "execution_count": 3,
   "id": "799307da-5fdc-4dbb-9725-37556ff659fc",
   "metadata": {},
   "outputs": [],
   "source": [
    "# Create data as an index\n",
    "df = df.set_index(\"cal_dt\")\n",
    "df = df.set_index(pd.to_datetime(df.index))"
   ]
  },
  {
   "cell_type": "code",
   "execution_count": 4,
   "id": "786a176a-7925-4001-a918-8486523254c0",
   "metadata": {},
   "outputs": [
    {
     "data": {
      "text/html": [
       "<div>\n",
       "<style scoped>\n",
       "    .dataframe tbody tr th:only-of-type {\n",
       "        vertical-align: middle;\n",
       "    }\n",
       "\n",
       "    .dataframe tbody tr th {\n",
       "        vertical-align: top;\n",
       "    }\n",
       "\n",
       "    .dataframe thead th {\n",
       "        text-align: right;\n",
       "    }\n",
       "</style>\n",
       "<table border=\"1\" class=\"dataframe\">\n",
       "  <thead>\n",
       "    <tr style=\"text-align: right;\">\n",
       "      <th></th>\n",
       "      <th>merch_dept</th>\n",
       "      <th>class_nbr</th>\n",
       "      <th>class_name</th>\n",
       "      <th>mfg_brand_name</th>\n",
       "      <th>oms_id</th>\n",
       "      <th>internet_sku_name</th>\n",
       "      <th>is_incart</th>\n",
       "      <th>is_special_buy</th>\n",
       "      <th>is_bau</th>\n",
       "      <th>is_major_event</th>\n",
       "      <th>is_event</th>\n",
       "      <th>ty_regular_retail</th>\n",
       "      <th>ty_effective_retail</th>\n",
       "      <th>markdown</th>\n",
       "      <th>ty_promo_gross_demand</th>\n",
       "      <th>promo_pen</th>\n",
       "      <th>ty_gross_demand</th>\n",
       "    </tr>\n",
       "    <tr>\n",
       "      <th>cal_dt</th>\n",
       "      <th></th>\n",
       "      <th></th>\n",
       "      <th></th>\n",
       "      <th></th>\n",
       "      <th></th>\n",
       "      <th></th>\n",
       "      <th></th>\n",
       "      <th></th>\n",
       "      <th></th>\n",
       "      <th></th>\n",
       "      <th></th>\n",
       "      <th></th>\n",
       "      <th></th>\n",
       "      <th></th>\n",
       "      <th></th>\n",
       "      <th></th>\n",
       "      <th></th>\n",
       "    </tr>\n",
       "  </thead>\n",
       "  <tbody>\n",
       "    <tr>\n",
       "      <th>2018-01-01</th>\n",
       "      <td>25H-HARDWARE (25H)</td>\n",
       "      <td>025-012</td>\n",
       "      <td>PNEUMATIC FASTENERS</td>\n",
       "      <td>RYOBI</td>\n",
       "      <td>203810823</td>\n",
       "      <td>203810823-ONE  18V Cordless AirStrike 18 Gauge...</td>\n",
       "      <td>0.0</td>\n",
       "      <td>0.0</td>\n",
       "      <td>0.0</td>\n",
       "      <td>0.0</td>\n",
       "      <td>0.0</td>\n",
       "      <td>129.0</td>\n",
       "      <td>114.67</td>\n",
       "      <td>14.33</td>\n",
       "      <td>0.0</td>\n",
       "      <td>0.0</td>\n",
       "      <td>1140.0</td>\n",
       "    </tr>\n",
       "    <tr>\n",
       "      <th>2018-01-02</th>\n",
       "      <td>25H-HARDWARE (25H)</td>\n",
       "      <td>025-012</td>\n",
       "      <td>PNEUMATIC FASTENERS</td>\n",
       "      <td>RYOBI</td>\n",
       "      <td>203810823</td>\n",
       "      <td>203810823-ONE  18V Cordless AirStrike 18 Gauge...</td>\n",
       "      <td>0.0</td>\n",
       "      <td>0.0</td>\n",
       "      <td>0.0</td>\n",
       "      <td>0.0</td>\n",
       "      <td>0.0</td>\n",
       "      <td>129.0</td>\n",
       "      <td>129.00</td>\n",
       "      <td>0.00</td>\n",
       "      <td>0.0</td>\n",
       "      <td>0.0</td>\n",
       "      <td>2064.0</td>\n",
       "    </tr>\n",
       "    <tr>\n",
       "      <th>2018-01-03</th>\n",
       "      <td>25H-HARDWARE (25H)</td>\n",
       "      <td>025-012</td>\n",
       "      <td>PNEUMATIC FASTENERS</td>\n",
       "      <td>RYOBI</td>\n",
       "      <td>203810823</td>\n",
       "      <td>203810823-ONE  18V Cordless AirStrike 18 Gauge...</td>\n",
       "      <td>0.0</td>\n",
       "      <td>0.0</td>\n",
       "      <td>0.0</td>\n",
       "      <td>0.0</td>\n",
       "      <td>0.0</td>\n",
       "      <td>129.0</td>\n",
       "      <td>129.00</td>\n",
       "      <td>0.00</td>\n",
       "      <td>0.0</td>\n",
       "      <td>0.0</td>\n",
       "      <td>1776.0</td>\n",
       "    </tr>\n",
       "    <tr>\n",
       "      <th>2018-01-04</th>\n",
       "      <td>25H-HARDWARE (25H)</td>\n",
       "      <td>025-012</td>\n",
       "      <td>PNEUMATIC FASTENERS</td>\n",
       "      <td>RYOBI</td>\n",
       "      <td>203810823</td>\n",
       "      <td>203810823-ONE  18V Cordless AirStrike 18 Gauge...</td>\n",
       "      <td>0.0</td>\n",
       "      <td>0.0</td>\n",
       "      <td>0.0</td>\n",
       "      <td>0.0</td>\n",
       "      <td>0.0</td>\n",
       "      <td>129.0</td>\n",
       "      <td>127.83</td>\n",
       "      <td>1.17</td>\n",
       "      <td>0.0</td>\n",
       "      <td>0.0</td>\n",
       "      <td>1406.0</td>\n",
       "    </tr>\n",
       "    <tr>\n",
       "      <th>2018-01-05</th>\n",
       "      <td>25H-HARDWARE (25H)</td>\n",
       "      <td>025-012</td>\n",
       "      <td>PNEUMATIC FASTENERS</td>\n",
       "      <td>RYOBI</td>\n",
       "      <td>203810823</td>\n",
       "      <td>203810823-ONE  18V Cordless AirStrike 18 Gauge...</td>\n",
       "      <td>0.0</td>\n",
       "      <td>0.0</td>\n",
       "      <td>0.0</td>\n",
       "      <td>0.0</td>\n",
       "      <td>0.0</td>\n",
       "      <td>129.0</td>\n",
       "      <td>124.81</td>\n",
       "      <td>4.19</td>\n",
       "      <td>0.0</td>\n",
       "      <td>0.0</td>\n",
       "      <td>1494.0</td>\n",
       "    </tr>\n",
       "  </tbody>\n",
       "</table>\n",
       "</div>"
      ],
      "text/plain": [
       "                    merch_dept class_nbr           class_name mfg_brand_name  \\\n",
       "cal_dt                                                                         \n",
       "2018-01-01  25H-HARDWARE (25H)   025-012  PNEUMATIC FASTENERS          RYOBI   \n",
       "2018-01-02  25H-HARDWARE (25H)   025-012  PNEUMATIC FASTENERS          RYOBI   \n",
       "2018-01-03  25H-HARDWARE (25H)   025-012  PNEUMATIC FASTENERS          RYOBI   \n",
       "2018-01-04  25H-HARDWARE (25H)   025-012  PNEUMATIC FASTENERS          RYOBI   \n",
       "2018-01-05  25H-HARDWARE (25H)   025-012  PNEUMATIC FASTENERS          RYOBI   \n",
       "\n",
       "               oms_id                                  internet_sku_name  \\\n",
       "cal_dt                                                                     \n",
       "2018-01-01  203810823  203810823-ONE  18V Cordless AirStrike 18 Gauge...   \n",
       "2018-01-02  203810823  203810823-ONE  18V Cordless AirStrike 18 Gauge...   \n",
       "2018-01-03  203810823  203810823-ONE  18V Cordless AirStrike 18 Gauge...   \n",
       "2018-01-04  203810823  203810823-ONE  18V Cordless AirStrike 18 Gauge...   \n",
       "2018-01-05  203810823  203810823-ONE  18V Cordless AirStrike 18 Gauge...   \n",
       "\n",
       "            is_incart  is_special_buy  is_bau  is_major_event  is_event  \\\n",
       "cal_dt                                                                    \n",
       "2018-01-01        0.0             0.0     0.0             0.0       0.0   \n",
       "2018-01-02        0.0             0.0     0.0             0.0       0.0   \n",
       "2018-01-03        0.0             0.0     0.0             0.0       0.0   \n",
       "2018-01-04        0.0             0.0     0.0             0.0       0.0   \n",
       "2018-01-05        0.0             0.0     0.0             0.0       0.0   \n",
       "\n",
       "            ty_regular_retail  ty_effective_retail  markdown  \\\n",
       "cal_dt                                                         \n",
       "2018-01-01              129.0               114.67     14.33   \n",
       "2018-01-02              129.0               129.00      0.00   \n",
       "2018-01-03              129.0               129.00      0.00   \n",
       "2018-01-04              129.0               127.83      1.17   \n",
       "2018-01-05              129.0               124.81      4.19   \n",
       "\n",
       "            ty_promo_gross_demand  promo_pen  ty_gross_demand  \n",
       "cal_dt                                                         \n",
       "2018-01-01                    0.0        0.0           1140.0  \n",
       "2018-01-02                    0.0        0.0           2064.0  \n",
       "2018-01-03                    0.0        0.0           1776.0  \n",
       "2018-01-04                    0.0        0.0           1406.0  \n",
       "2018-01-05                    0.0        0.0           1494.0  "
      ]
     },
     "execution_count": 4,
     "metadata": {},
     "output_type": "execute_result"
    }
   ],
   "source": [
    "df.head()"
   ]
  },
  {
   "cell_type": "code",
   "execution_count": 5,
   "id": "596f2fde-0ac3-4b56-a700-4159e71a75a1",
   "metadata": {},
   "outputs": [
    {
     "name": "stderr",
     "output_type": "stream",
     "text": [
      "/opt/conda/lib/python3.7/site-packages/ipykernel_launcher.py:2: FutureWarning: Dropping of nuisance columns in DataFrame reductions (with 'numeric_only=None') is deprecated; in a future version this will raise TypeError.  Select only valid columns before calling the reduction.\n",
      "  \n"
     ]
    },
    {
     "data": {
      "text/html": [
       "<div>\n",
       "<style scoped>\n",
       "    .dataframe tbody tr th:only-of-type {\n",
       "        vertical-align: middle;\n",
       "    }\n",
       "\n",
       "    .dataframe tbody tr th {\n",
       "        vertical-align: top;\n",
       "    }\n",
       "\n",
       "    .dataframe thead th {\n",
       "        text-align: right;\n",
       "    }\n",
       "</style>\n",
       "<table border=\"1\" class=\"dataframe\">\n",
       "  <thead>\n",
       "    <tr style=\"text-align: right;\">\n",
       "      <th></th>\n",
       "      <th>merch_dept</th>\n",
       "      <th>class_nbr</th>\n",
       "      <th>class_name</th>\n",
       "      <th>mfg_brand_name</th>\n",
       "      <th>oms_id</th>\n",
       "      <th>internet_sku_name</th>\n",
       "      <th>is_incart</th>\n",
       "      <th>is_special_buy</th>\n",
       "      <th>is_bau</th>\n",
       "      <th>is_major_event</th>\n",
       "      <th>is_event</th>\n",
       "      <th>ty_regular_retail</th>\n",
       "      <th>ty_effective_retail</th>\n",
       "      <th>markdown</th>\n",
       "      <th>ty_promo_gross_demand</th>\n",
       "      <th>promo_pen</th>\n",
       "      <th>ty_gross_demand</th>\n",
       "    </tr>\n",
       "    <tr>\n",
       "      <th>cal_dt</th>\n",
       "      <th></th>\n",
       "      <th></th>\n",
       "      <th></th>\n",
       "      <th></th>\n",
       "      <th></th>\n",
       "      <th></th>\n",
       "      <th></th>\n",
       "      <th></th>\n",
       "      <th></th>\n",
       "      <th></th>\n",
       "      <th></th>\n",
       "      <th></th>\n",
       "      <th></th>\n",
       "      <th></th>\n",
       "      <th></th>\n",
       "      <th></th>\n",
       "      <th></th>\n",
       "    </tr>\n",
       "  </thead>\n",
       "  <tbody>\n",
       "    <tr>\n",
       "      <th>2018-01-01</th>\n",
       "      <td>25H-HARDWARE (25H)</td>\n",
       "      <td>025-012</td>\n",
       "      <td>PNEUMATIC FASTENERS</td>\n",
       "      <td>RYOBI</td>\n",
       "      <td>203810823</td>\n",
       "      <td>203810823-ONE  18V Cordless AirStrike 18 Gauge...</td>\n",
       "      <td>0.0</td>\n",
       "      <td>0.0</td>\n",
       "      <td>0.0</td>\n",
       "      <td>0.0</td>\n",
       "      <td>0.0</td>\n",
       "      <td>129.0</td>\n",
       "      <td>114.67</td>\n",
       "      <td>14.33</td>\n",
       "      <td>0.0</td>\n",
       "      <td>0.0</td>\n",
       "      <td>1140.0</td>\n",
       "    </tr>\n",
       "    <tr>\n",
       "      <th>2018-01-02</th>\n",
       "      <td>25H-HARDWARE (25H)</td>\n",
       "      <td>025-012</td>\n",
       "      <td>PNEUMATIC FASTENERS</td>\n",
       "      <td>RYOBI</td>\n",
       "      <td>203810823</td>\n",
       "      <td>203810823-ONE  18V Cordless AirStrike 18 Gauge...</td>\n",
       "      <td>0.0</td>\n",
       "      <td>0.0</td>\n",
       "      <td>0.0</td>\n",
       "      <td>0.0</td>\n",
       "      <td>0.0</td>\n",
       "      <td>129.0</td>\n",
       "      <td>129.00</td>\n",
       "      <td>0.00</td>\n",
       "      <td>0.0</td>\n",
       "      <td>0.0</td>\n",
       "      <td>2064.0</td>\n",
       "    </tr>\n",
       "    <tr>\n",
       "      <th>2018-01-03</th>\n",
       "      <td>25H-HARDWARE (25H)</td>\n",
       "      <td>025-012</td>\n",
       "      <td>PNEUMATIC FASTENERS</td>\n",
       "      <td>RYOBI</td>\n",
       "      <td>203810823</td>\n",
       "      <td>203810823-ONE  18V Cordless AirStrike 18 Gauge...</td>\n",
       "      <td>0.0</td>\n",
       "      <td>0.0</td>\n",
       "      <td>0.0</td>\n",
       "      <td>0.0</td>\n",
       "      <td>0.0</td>\n",
       "      <td>129.0</td>\n",
       "      <td>129.00</td>\n",
       "      <td>0.00</td>\n",
       "      <td>0.0</td>\n",
       "      <td>0.0</td>\n",
       "      <td>1776.0</td>\n",
       "    </tr>\n",
       "    <tr>\n",
       "      <th>2018-01-04</th>\n",
       "      <td>25H-HARDWARE (25H)</td>\n",
       "      <td>025-012</td>\n",
       "      <td>PNEUMATIC FASTENERS</td>\n",
       "      <td>RYOBI</td>\n",
       "      <td>203810823</td>\n",
       "      <td>203810823-ONE  18V Cordless AirStrike 18 Gauge...</td>\n",
       "      <td>0.0</td>\n",
       "      <td>0.0</td>\n",
       "      <td>0.0</td>\n",
       "      <td>0.0</td>\n",
       "      <td>0.0</td>\n",
       "      <td>129.0</td>\n",
       "      <td>127.83</td>\n",
       "      <td>1.17</td>\n",
       "      <td>0.0</td>\n",
       "      <td>0.0</td>\n",
       "      <td>1406.0</td>\n",
       "    </tr>\n",
       "    <tr>\n",
       "      <th>2018-01-05</th>\n",
       "      <td>25H-HARDWARE (25H)</td>\n",
       "      <td>025-012</td>\n",
       "      <td>PNEUMATIC FASTENERS</td>\n",
       "      <td>RYOBI</td>\n",
       "      <td>203810823</td>\n",
       "      <td>203810823-ONE  18V Cordless AirStrike 18 Gauge...</td>\n",
       "      <td>0.0</td>\n",
       "      <td>0.0</td>\n",
       "      <td>0.0</td>\n",
       "      <td>0.0</td>\n",
       "      <td>0.0</td>\n",
       "      <td>129.0</td>\n",
       "      <td>124.81</td>\n",
       "      <td>4.19</td>\n",
       "      <td>0.0</td>\n",
       "      <td>0.0</td>\n",
       "      <td>1494.0</td>\n",
       "    </tr>\n",
       "  </tbody>\n",
       "</table>\n",
       "</div>"
      ],
      "text/plain": [
       "                    merch_dept class_nbr           class_name mfg_brand_name  \\\n",
       "cal_dt                                                                         \n",
       "2018-01-01  25H-HARDWARE (25H)   025-012  PNEUMATIC FASTENERS          RYOBI   \n",
       "2018-01-02  25H-HARDWARE (25H)   025-012  PNEUMATIC FASTENERS          RYOBI   \n",
       "2018-01-03  25H-HARDWARE (25H)   025-012  PNEUMATIC FASTENERS          RYOBI   \n",
       "2018-01-04  25H-HARDWARE (25H)   025-012  PNEUMATIC FASTENERS          RYOBI   \n",
       "2018-01-05  25H-HARDWARE (25H)   025-012  PNEUMATIC FASTENERS          RYOBI   \n",
       "\n",
       "               oms_id                                  internet_sku_name  \\\n",
       "cal_dt                                                                     \n",
       "2018-01-01  203810823  203810823-ONE  18V Cordless AirStrike 18 Gauge...   \n",
       "2018-01-02  203810823  203810823-ONE  18V Cordless AirStrike 18 Gauge...   \n",
       "2018-01-03  203810823  203810823-ONE  18V Cordless AirStrike 18 Gauge...   \n",
       "2018-01-04  203810823  203810823-ONE  18V Cordless AirStrike 18 Gauge...   \n",
       "2018-01-05  203810823  203810823-ONE  18V Cordless AirStrike 18 Gauge...   \n",
       "\n",
       "            is_incart  is_special_buy  is_bau  is_major_event  is_event  \\\n",
       "cal_dt                                                                    \n",
       "2018-01-01        0.0             0.0     0.0             0.0       0.0   \n",
       "2018-01-02        0.0             0.0     0.0             0.0       0.0   \n",
       "2018-01-03        0.0             0.0     0.0             0.0       0.0   \n",
       "2018-01-04        0.0             0.0     0.0             0.0       0.0   \n",
       "2018-01-05        0.0             0.0     0.0             0.0       0.0   \n",
       "\n",
       "            ty_regular_retail  ty_effective_retail  markdown  \\\n",
       "cal_dt                                                         \n",
       "2018-01-01              129.0               114.67     14.33   \n",
       "2018-01-02              129.0               129.00      0.00   \n",
       "2018-01-03              129.0               129.00      0.00   \n",
       "2018-01-04              129.0               127.83      1.17   \n",
       "2018-01-05              129.0               124.81      4.19   \n",
       "\n",
       "            ty_promo_gross_demand  promo_pen  ty_gross_demand  \n",
       "cal_dt                                                         \n",
       "2018-01-01                    0.0        0.0           1140.0  \n",
       "2018-01-02                    0.0        0.0           2064.0  \n",
       "2018-01-03                    0.0        0.0           1776.0  \n",
       "2018-01-04                    0.0        0.0           1406.0  \n",
       "2018-01-05                    0.0        0.0           1494.0  "
      ]
     },
     "execution_count": 5,
     "metadata": {},
     "output_type": "execute_result"
    }
   ],
   "source": [
    "# Fill in missing values with median\n",
    "df= df.fillna((df.median())) # see if there is a huge difference between mean and median\n",
    "df.head()"
   ]
  },
  {
   "cell_type": "code",
   "execution_count": 6,
   "id": "6682b12e-67ee-45e7-86e5-c30574f0a1e5",
   "metadata": {},
   "outputs": [],
   "source": [
    "df2 = df[['ty_gross_demand']]"
   ]
  },
  {
   "cell_type": "code",
   "execution_count": 7,
   "id": "6f991305-8b59-4254-b527-d04df38e144b",
   "metadata": {},
   "outputs": [
    {
     "data": {
      "image/png": "[encoded data removed]",
      "text/plain": [
       "<Figure size 576x432 with 1 Axes>"
      ]
     },
     "metadata": {
      "needs_background": "light"
     },
     "output_type": "display_data"
    }
   ],
   "source": [
    "from matplotlib import pyplot\n",
    "from statsmodels.graphics.tsaplots import plot_acf\n",
    "plot_acf(df2)\n",
    "pyplot.show()"
   ]
  },
  {
   "cell_type": "code",
   "execution_count": 8,
   "id": "205cd9a7-b47b-4ddd-bb5d-3219a1a5cb43",
   "metadata": {},
   "outputs": [
    {
     "name": "stderr",
     "output_type": "stream",
     "text": [
      "/opt/conda/lib/python3.7/site-packages/statsmodels/graphics/tsaplots.py:353: FutureWarning: The default method 'yw' can produce PACF values outside of the [-1,1] interval. After 0.13, the default will change tounadjusted Yule-Walker ('ywm'). You can use this method now by setting method='ywm'.\n",
      "  FutureWarning,\n"
     ]
    },
    {
     "data": {
      "image/png": "[encoded data removed]",
      "text/plain": [
       "<Figure size 576x432 with 1 Axes>"
      ]
     },
     "metadata": {
      "needs_background": "light"
     },
     "output_type": "display_data"
    }
   ],
   "source": [
    "from statsmodels.graphics.tsaplots import plot_pacf\n",
    "plot_pacf(df2, lags=50)\n",
    "pyplot.show()"
   ]
  },
  {
   "cell_type": "code",
   "execution_count": 9,
   "id": "99fb40e0-7e54-4a7a-9bdd-86c0bf7caa98",
   "metadata": {},
   "outputs": [],
   "source": [
    "df['lagprice1'] = df['ty_gross_demand'].shift(1)\n",
    "df['lagprice2'] = df['ty_gross_demand'].shift(2)\n",
    "df['lagprice3'] = df['ty_gross_demand'].shift(3)\n",
    "df['lagprice4'] = df['ty_gross_demand'].shift(4)\n",
    "df['lagprice5'] = df['ty_gross_demand'].shift(5)\n",
    "df['lagprice7'] = df['ty_gross_demand'].shift(7)\n",
    "df['lagprice11'] = df['ty_gross_demand'].shift(11)"
   ]
  },
  {
   "cell_type": "code",
   "execution_count": 10,
   "id": "dd7b0a4b-0f4d-4434-a79c-bff45b797251",
   "metadata": {},
   "outputs": [],
   "source": [
    "df = df.reset_index(level=0)\n",
    "df = df.rename(columns={\"index\": \"cal_dt\"})"
   ]
  },
  {
   "cell_type": "code",
   "execution_count": 11,
   "id": "ea2a6cea-1d82-49d2-afcc-ab3e07ff3a96",
   "metadata": {},
   "outputs": [],
   "source": [
    "df = df.drop([0, 1,2,3,4,5,6,7,8,9,10,11])"
   ]
  },
  {
   "cell_type": "code",
   "execution_count": 12,
   "id": "0bd90a45-b8ec-44ac-90e2-650cb7464968",
   "metadata": {},
   "outputs": [
    {
     "data": {
      "text/html": [
       "<div>\n",
       "<style scoped>\n",
       "    .dataframe tbody tr th:only-of-type {\n",
       "        vertical-align: middle;\n",
       "    }\n",
       "\n",
       "    .dataframe tbody tr th {\n",
       "        vertical-align: top;\n",
       "    }\n",
       "\n",
       "    .dataframe thead th {\n",
       "        text-align: right;\n",
       "    }\n",
       "</style>\n",
       "<table border=\"1\" class=\"dataframe\">\n",
       "  <thead>\n",
       "    <tr style=\"text-align: right;\">\n",
       "      <th></th>\n",
       "      <th>cal_dt</th>\n",
       "      <th>merch_dept</th>\n",
       "      <th>class_nbr</th>\n",
       "      <th>class_name</th>\n",
       "      <th>mfg_brand_name</th>\n",
       "      <th>oms_id</th>\n",
       "      <th>internet_sku_name</th>\n",
       "      <th>is_incart</th>\n",
       "      <th>is_special_buy</th>\n",
       "      <th>is_bau</th>\n",
       "      <th>...</th>\n",
       "      <th>ty_promo_gross_demand</th>\n",
       "      <th>promo_pen</th>\n",
       "      <th>ty_gross_demand</th>\n",
       "      <th>lagprice1</th>\n",
       "      <th>lagprice2</th>\n",
       "      <th>lagprice3</th>\n",
       "      <th>lagprice4</th>\n",
       "      <th>lagprice5</th>\n",
       "      <th>lagprice7</th>\n",
       "      <th>lagprice11</th>\n",
       "    </tr>\n",
       "  </thead>\n",
       "  <tbody>\n",
       "    <tr>\n",
       "      <th>12</th>\n",
       "      <td>2018-01-13</td>\n",
       "      <td>25H-HARDWARE (25H)</td>\n",
       "      <td>025-012</td>\n",
       "      <td>PNEUMATIC FASTENERS</td>\n",
       "      <td>RYOBI</td>\n",
       "      <td>203810823</td>\n",
       "      <td>203810823-ONE  18V Cordless AirStrike 18 Gauge...</td>\n",
       "      <td>0.0</td>\n",
       "      <td>0.0</td>\n",
       "      <td>0.0</td>\n",
       "      <td>...</td>\n",
       "      <td>0.0</td>\n",
       "      <td>0.0</td>\n",
       "      <td>1793.0</td>\n",
       "      <td>1548.0</td>\n",
       "      <td>1935.0</td>\n",
       "      <td>1032.0</td>\n",
       "      <td>1793.0</td>\n",
       "      <td>1548.0</td>\n",
       "      <td>1032.0</td>\n",
       "      <td>2064.0</td>\n",
       "    </tr>\n",
       "    <tr>\n",
       "      <th>13</th>\n",
       "      <td>2018-01-14</td>\n",
       "      <td>25H-HARDWARE (25H)</td>\n",
       "      <td>025-012</td>\n",
       "      <td>PNEUMATIC FASTENERS</td>\n",
       "      <td>RYOBI</td>\n",
       "      <td>203810823</td>\n",
       "      <td>203810823-ONE  18V Cordless AirStrike 18 Gauge...</td>\n",
       "      <td>0.0</td>\n",
       "      <td>0.0</td>\n",
       "      <td>0.0</td>\n",
       "      <td>...</td>\n",
       "      <td>0.0</td>\n",
       "      <td>0.0</td>\n",
       "      <td>1161.0</td>\n",
       "      <td>1793.0</td>\n",
       "      <td>1548.0</td>\n",
       "      <td>1935.0</td>\n",
       "      <td>1032.0</td>\n",
       "      <td>1793.0</td>\n",
       "      <td>1161.0</td>\n",
       "      <td>1776.0</td>\n",
       "    </tr>\n",
       "    <tr>\n",
       "      <th>14</th>\n",
       "      <td>2018-01-15</td>\n",
       "      <td>25H-HARDWARE (25H)</td>\n",
       "      <td>025-012</td>\n",
       "      <td>PNEUMATIC FASTENERS</td>\n",
       "      <td>RYOBI</td>\n",
       "      <td>203810823</td>\n",
       "      <td>203810823-ONE  18V Cordless AirStrike 18 Gauge...</td>\n",
       "      <td>0.0</td>\n",
       "      <td>0.0</td>\n",
       "      <td>0.0</td>\n",
       "      <td>...</td>\n",
       "      <td>0.0</td>\n",
       "      <td>0.0</td>\n",
       "      <td>1419.0</td>\n",
       "      <td>1161.0</td>\n",
       "      <td>1793.0</td>\n",
       "      <td>1548.0</td>\n",
       "      <td>1935.0</td>\n",
       "      <td>1032.0</td>\n",
       "      <td>1548.0</td>\n",
       "      <td>1406.0</td>\n",
       "    </tr>\n",
       "    <tr>\n",
       "      <th>15</th>\n",
       "      <td>2018-01-16</td>\n",
       "      <td>25H-HARDWARE (25H)</td>\n",
       "      <td>025-012</td>\n",
       "      <td>PNEUMATIC FASTENERS</td>\n",
       "      <td>RYOBI</td>\n",
       "      <td>203810823</td>\n",
       "      <td>203810823-ONE  18V Cordless AirStrike 18 Gauge...</td>\n",
       "      <td>0.0</td>\n",
       "      <td>0.0</td>\n",
       "      <td>0.0</td>\n",
       "      <td>...</td>\n",
       "      <td>0.0</td>\n",
       "      <td>0.0</td>\n",
       "      <td>1032.0</td>\n",
       "      <td>1419.0</td>\n",
       "      <td>1161.0</td>\n",
       "      <td>1793.0</td>\n",
       "      <td>1548.0</td>\n",
       "      <td>1935.0</td>\n",
       "      <td>1793.0</td>\n",
       "      <td>1494.0</td>\n",
       "    </tr>\n",
       "    <tr>\n",
       "      <th>16</th>\n",
       "      <td>2018-01-17</td>\n",
       "      <td>25H-HARDWARE (25H)</td>\n",
       "      <td>025-012</td>\n",
       "      <td>PNEUMATIC FASTENERS</td>\n",
       "      <td>RYOBI</td>\n",
       "      <td>203810823</td>\n",
       "      <td>203810823-ONE  18V Cordless AirStrike 18 Gauge...</td>\n",
       "      <td>0.0</td>\n",
       "      <td>0.0</td>\n",
       "      <td>0.0</td>\n",
       "      <td>...</td>\n",
       "      <td>0.0</td>\n",
       "      <td>0.0</td>\n",
       "      <td>1905.0</td>\n",
       "      <td>1032.0</td>\n",
       "      <td>1419.0</td>\n",
       "      <td>1161.0</td>\n",
       "      <td>1793.0</td>\n",
       "      <td>1548.0</td>\n",
       "      <td>1032.0</td>\n",
       "      <td>1032.0</td>\n",
       "    </tr>\n",
       "  </tbody>\n",
       "</table>\n",
       "<p>5 rows × 25 columns</p>\n",
       "</div>"
      ],
      "text/plain": [
       "       cal_dt          merch_dept class_nbr           class_name  \\\n",
       "12 2018-01-13  25H-HARDWARE (25H)   025-012  PNEUMATIC FASTENERS   \n",
       "13 2018-01-14  25H-HARDWARE (25H)   025-012  PNEUMATIC FASTENERS   \n",
       "14 2018-01-15  25H-HARDWARE (25H)   025-012  PNEUMATIC FASTENERS   \n",
       "15 2018-01-16  25H-HARDWARE (25H)   025-012  PNEUMATIC FASTENERS   \n",
       "16 2018-01-17  25H-HARDWARE (25H)   025-012  PNEUMATIC FASTENERS   \n",
       "\n",
       "   mfg_brand_name     oms_id  \\\n",
       "12          RYOBI  203810823   \n",
       "13          RYOBI  203810823   \n",
       "14          RYOBI  203810823   \n",
       "15          RYOBI  203810823   \n",
       "16          RYOBI  203810823   \n",
       "\n",
       "                                    internet_sku_name  is_incart  \\\n",
       "12  203810823-ONE  18V Cordless AirStrike 18 Gauge...        0.0   \n",
       "13  203810823-ONE  18V Cordless AirStrike 18 Gauge...        0.0   \n",
       "14  203810823-ONE  18V Cordless AirStrike 18 Gauge...        0.0   \n",
       "15  203810823-ONE  18V Cordless AirStrike 18 Gauge...        0.0   \n",
       "16  203810823-ONE  18V Cordless AirStrike 18 Gauge...        0.0   \n",
       "\n",
       "    is_special_buy  is_bau  ...  ty_promo_gross_demand  promo_pen  \\\n",
       "12             0.0     0.0  ...                    0.0        0.0   \n",
       "13             0.0     0.0  ...                    0.0        0.0   \n",
       "14             0.0     0.0  ...                    0.0        0.0   \n",
       "15             0.0     0.0  ...                    0.0        0.0   \n",
       "16             0.0     0.0  ...                    0.0        0.0   \n",
       "\n",
       "    ty_gross_demand  lagprice1  lagprice2  lagprice3  lagprice4  lagprice5  \\\n",
       "12           1793.0     1548.0     1935.0     1032.0     1793.0     1548.0   \n",
       "13           1161.0     1793.0     1548.0     1935.0     1032.0     1793.0   \n",
       "14           1419.0     1161.0     1793.0     1548.0     1935.0     1032.0   \n",
       "15           1032.0     1419.0     1161.0     1793.0     1548.0     1935.0   \n",
       "16           1905.0     1032.0     1419.0     1161.0     1793.0     1548.0   \n",
       "\n",
       "    lagprice7  lagprice11  \n",
       "12     1032.0      2064.0  \n",
       "13     1161.0      1776.0  \n",
       "14     1548.0      1406.0  \n",
       "15     1793.0      1494.0  \n",
       "16     1032.0      1032.0  \n",
       "\n",
       "[5 rows x 25 columns]"
      ]
     },
     "execution_count": 12,
     "metadata": {},
     "output_type": "execute_result"
    }
   ],
   "source": [
    "df.head(5)"
   ]
  },
  {
   "cell_type": "code",
   "execution_count": 13,
   "id": "62d55dfd-d563-4c88-947a-aa4960673830",
   "metadata": {},
   "outputs": [
    {
     "data": {
      "text/html": [
       "<div>\n",
       "<style scoped>\n",
       "    .dataframe tbody tr th:only-of-type {\n",
       "        vertical-align: middle;\n",
       "    }\n",
       "\n",
       "    .dataframe tbody tr th {\n",
       "        vertical-align: top;\n",
       "    }\n",
       "\n",
       "    .dataframe thead th {\n",
       "        text-align: right;\n",
       "    }\n",
       "</style>\n",
       "<table border=\"1\" class=\"dataframe\">\n",
       "  <thead>\n",
       "    <tr style=\"text-align: right;\">\n",
       "      <th></th>\n",
       "      <th>merch_dept</th>\n",
       "      <th>class_nbr</th>\n",
       "      <th>class_name</th>\n",
       "      <th>mfg_brand_name</th>\n",
       "      <th>oms_id</th>\n",
       "      <th>internet_sku_name</th>\n",
       "      <th>is_incart</th>\n",
       "      <th>is_special_buy</th>\n",
       "      <th>is_bau</th>\n",
       "      <th>is_major_event</th>\n",
       "      <th>...</th>\n",
       "      <th>ty_promo_gross_demand</th>\n",
       "      <th>promo_pen</th>\n",
       "      <th>ty_gross_demand</th>\n",
       "      <th>lagprice1</th>\n",
       "      <th>lagprice2</th>\n",
       "      <th>lagprice3</th>\n",
       "      <th>lagprice4</th>\n",
       "      <th>lagprice5</th>\n",
       "      <th>lagprice7</th>\n",
       "      <th>lagprice11</th>\n",
       "    </tr>\n",
       "    <tr>\n",
       "      <th>cal_dt</th>\n",
       "      <th></th>\n",
       "      <th></th>\n",
       "      <th></th>\n",
       "      <th></th>\n",
       "      <th></th>\n",
       "      <th></th>\n",
       "      <th></th>\n",
       "      <th></th>\n",
       "      <th></th>\n",
       "      <th></th>\n",
       "      <th></th>\n",
       "      <th></th>\n",
       "      <th></th>\n",
       "      <th></th>\n",
       "      <th></th>\n",
       "      <th></th>\n",
       "      <th></th>\n",
       "      <th></th>\n",
       "      <th></th>\n",
       "      <th></th>\n",
       "      <th></th>\n",
       "    </tr>\n",
       "  </thead>\n",
       "  <tbody>\n",
       "    <tr>\n",
       "      <th>2018-01-13</th>\n",
       "      <td>25H-HARDWARE (25H)</td>\n",
       "      <td>025-012</td>\n",
       "      <td>PNEUMATIC FASTENERS</td>\n",
       "      <td>RYOBI</td>\n",
       "      <td>203810823</td>\n",
       "      <td>203810823-ONE  18V Cordless AirStrike 18 Gauge...</td>\n",
       "      <td>0.0</td>\n",
       "      <td>0.0</td>\n",
       "      <td>0.0</td>\n",
       "      <td>0.0</td>\n",
       "      <td>...</td>\n",
       "      <td>0.0</td>\n",
       "      <td>0.0</td>\n",
       "      <td>1793.0</td>\n",
       "      <td>1548.0</td>\n",
       "      <td>1935.0</td>\n",
       "      <td>1032.0</td>\n",
       "      <td>1793.0</td>\n",
       "      <td>1548.0</td>\n",
       "      <td>1032.0</td>\n",
       "      <td>2064.0</td>\n",
       "    </tr>\n",
       "    <tr>\n",
       "      <th>2018-01-14</th>\n",
       "      <td>25H-HARDWARE (25H)</td>\n",
       "      <td>025-012</td>\n",
       "      <td>PNEUMATIC FASTENERS</td>\n",
       "      <td>RYOBI</td>\n",
       "      <td>203810823</td>\n",
       "      <td>203810823-ONE  18V Cordless AirStrike 18 Gauge...</td>\n",
       "      <td>0.0</td>\n",
       "      <td>0.0</td>\n",
       "      <td>0.0</td>\n",
       "      <td>0.0</td>\n",
       "      <td>...</td>\n",
       "      <td>0.0</td>\n",
       "      <td>0.0</td>\n",
       "      <td>1161.0</td>\n",
       "      <td>1793.0</td>\n",
       "      <td>1548.0</td>\n",
       "      <td>1935.0</td>\n",
       "      <td>1032.0</td>\n",
       "      <td>1793.0</td>\n",
       "      <td>1161.0</td>\n",
       "      <td>1776.0</td>\n",
       "    </tr>\n",
       "    <tr>\n",
       "      <th>2018-01-15</th>\n",
       "      <td>25H-HARDWARE (25H)</td>\n",
       "      <td>025-012</td>\n",
       "      <td>PNEUMATIC FASTENERS</td>\n",
       "      <td>RYOBI</td>\n",
       "      <td>203810823</td>\n",
       "      <td>203810823-ONE  18V Cordless AirStrike 18 Gauge...</td>\n",
       "      <td>0.0</td>\n",
       "      <td>0.0</td>\n",
       "      <td>0.0</td>\n",
       "      <td>0.0</td>\n",
       "      <td>...</td>\n",
       "      <td>0.0</td>\n",
       "      <td>0.0</td>\n",
       "      <td>1419.0</td>\n",
       "      <td>1161.0</td>\n",
       "      <td>1793.0</td>\n",
       "      <td>1548.0</td>\n",
       "      <td>1935.0</td>\n",
       "      <td>1032.0</td>\n",
       "      <td>1548.0</td>\n",
       "      <td>1406.0</td>\n",
       "    </tr>\n",
       "    <tr>\n",
       "      <th>2018-01-16</th>\n",
       "      <td>25H-HARDWARE (25H)</td>\n",
       "      <td>025-012</td>\n",
       "      <td>PNEUMATIC FASTENERS</td>\n",
       "      <td>RYOBI</td>\n",
       "      <td>203810823</td>\n",
       "      <td>203810823-ONE  18V Cordless AirStrike 18 Gauge...</td>\n",
       "      <td>0.0</td>\n",
       "      <td>0.0</td>\n",
       "      <td>0.0</td>\n",
       "      <td>0.0</td>\n",
       "      <td>...</td>\n",
       "      <td>0.0</td>\n",
       "      <td>0.0</td>\n",
       "      <td>1032.0</td>\n",
       "      <td>1419.0</td>\n",
       "      <td>1161.0</td>\n",
       "      <td>1793.0</td>\n",
       "      <td>1548.0</td>\n",
       "      <td>1935.0</td>\n",
       "      <td>1793.0</td>\n",
       "      <td>1494.0</td>\n",
       "    </tr>\n",
       "    <tr>\n",
       "      <th>2018-01-17</th>\n",
       "      <td>25H-HARDWARE (25H)</td>\n",
       "      <td>025-012</td>\n",
       "      <td>PNEUMATIC FASTENERS</td>\n",
       "      <td>RYOBI</td>\n",
       "      <td>203810823</td>\n",
       "      <td>203810823-ONE  18V Cordless AirStrike 18 Gauge...</td>\n",
       "      <td>0.0</td>\n",
       "      <td>0.0</td>\n",
       "      <td>0.0</td>\n",
       "      <td>0.0</td>\n",
       "      <td>...</td>\n",
       "      <td>0.0</td>\n",
       "      <td>0.0</td>\n",
       "      <td>1905.0</td>\n",
       "      <td>1032.0</td>\n",
       "      <td>1419.0</td>\n",
       "      <td>1161.0</td>\n",
       "      <td>1793.0</td>\n",
       "      <td>1548.0</td>\n",
       "      <td>1032.0</td>\n",
       "      <td>1032.0</td>\n",
       "    </tr>\n",
       "  </tbody>\n",
       "</table>\n",
       "<p>5 rows × 24 columns</p>\n",
       "</div>"
      ],
      "text/plain": [
       "                    merch_dept class_nbr           class_name mfg_brand_name  \\\n",
       "cal_dt                                                                         \n",
       "2018-01-13  25H-HARDWARE (25H)   025-012  PNEUMATIC FASTENERS          RYOBI   \n",
       "2018-01-14  25H-HARDWARE (25H)   025-012  PNEUMATIC FASTENERS          RYOBI   \n",
       "2018-01-15  25H-HARDWARE (25H)   025-012  PNEUMATIC FASTENERS          RYOBI   \n",
       "2018-01-16  25H-HARDWARE (25H)   025-012  PNEUMATIC FASTENERS          RYOBI   \n",
       "2018-01-17  25H-HARDWARE (25H)   025-012  PNEUMATIC FASTENERS          RYOBI   \n",
       "\n",
       "               oms_id                                  internet_sku_name  \\\n",
       "cal_dt                                                                     \n",
       "2018-01-13  203810823  203810823-ONE  18V Cordless AirStrike 18 Gauge...   \n",
       "2018-01-14  203810823  203810823-ONE  18V Cordless AirStrike 18 Gauge...   \n",
       "2018-01-15  203810823  203810823-ONE  18V Cordless AirStrike 18 Gauge...   \n",
       "2018-01-16  203810823  203810823-ONE  18V Cordless AirStrike 18 Gauge...   \n",
       "2018-01-17  203810823  203810823-ONE  18V Cordless AirStrike 18 Gauge...   \n",
       "\n",
       "            is_incart  is_special_buy  is_bau  is_major_event  ...  \\\n",
       "cal_dt                                                         ...   \n",
       "2018-01-13        0.0             0.0     0.0             0.0  ...   \n",
       "2018-01-14        0.0             0.0     0.0             0.0  ...   \n",
       "2018-01-15        0.0             0.0     0.0             0.0  ...   \n",
       "2018-01-16        0.0             0.0     0.0             0.0  ...   \n",
       "2018-01-17        0.0             0.0     0.0             0.0  ...   \n",
       "\n",
       "            ty_promo_gross_demand  promo_pen  ty_gross_demand  lagprice1  \\\n",
       "cal_dt                                                                     \n",
       "2018-01-13                    0.0        0.0           1793.0     1548.0   \n",
       "2018-01-14                    0.0        0.0           1161.0     1793.0   \n",
       "2018-01-15                    0.0        0.0           1419.0     1161.0   \n",
       "2018-01-16                    0.0        0.0           1032.0     1419.0   \n",
       "2018-01-17                    0.0        0.0           1905.0     1032.0   \n",
       "\n",
       "            lagprice2  lagprice3  lagprice4  lagprice5  lagprice7  lagprice11  \n",
       "cal_dt                                                                         \n",
       "2018-01-13     1935.0     1032.0     1793.0     1548.0     1032.0      2064.0  \n",
       "2018-01-14     1548.0     1935.0     1032.0     1793.0     1161.0      1776.0  \n",
       "2018-01-15     1793.0     1548.0     1935.0     1032.0     1548.0      1406.0  \n",
       "2018-01-16     1161.0     1793.0     1548.0     1935.0     1793.0      1494.0  \n",
       "2018-01-17     1419.0     1161.0     1793.0     1548.0     1032.0      1032.0  \n",
       "\n",
       "[5 rows x 24 columns]"
      ]
     },
     "execution_count": 13,
     "metadata": {},
     "output_type": "execute_result"
    }
   ],
   "source": [
    "# Create data as an index\n",
    "df = df.set_index(\"cal_dt\")\n",
    "df = df.set_index(pd.to_datetime(df.index))\n",
    "df.head()"
   ]
  },
  {
   "cell_type": "code",
   "execution_count": 14,
   "id": "bef124e8-b945-431f-9afc-bc888275ca09",
   "metadata": {},
   "outputs": [
    {
     "name": "stderr",
     "output_type": "stream",
     "text": [
      "/opt/conda/lib/python3.7/site-packages/ipykernel_launcher.py:2: FutureWarning: Dropping of nuisance columns in DataFrame reductions (with 'numeric_only=None') is deprecated; in a future version this will raise TypeError.  Select only valid columns before calling the reduction.\n",
      "  \n"
     ]
    },
    {
     "data": {
      "text/html": [
       "<div>\n",
       "<style scoped>\n",
       "    .dataframe tbody tr th:only-of-type {\n",
       "        vertical-align: middle;\n",
       "    }\n",
       "\n",
       "    .dataframe tbody tr th {\n",
       "        vertical-align: top;\n",
       "    }\n",
       "\n",
       "    .dataframe thead th {\n",
       "        text-align: right;\n",
       "    }\n",
       "</style>\n",
       "<table border=\"1\" class=\"dataframe\">\n",
       "  <thead>\n",
       "    <tr style=\"text-align: right;\">\n",
       "      <th></th>\n",
       "      <th>merch_dept</th>\n",
       "      <th>class_nbr</th>\n",
       "      <th>class_name</th>\n",
       "      <th>mfg_brand_name</th>\n",
       "      <th>oms_id</th>\n",
       "      <th>internet_sku_name</th>\n",
       "      <th>is_incart</th>\n",
       "      <th>is_special_buy</th>\n",
       "      <th>is_bau</th>\n",
       "      <th>is_major_event</th>\n",
       "      <th>...</th>\n",
       "      <th>ty_promo_gross_demand</th>\n",
       "      <th>promo_pen</th>\n",
       "      <th>ty_gross_demand</th>\n",
       "      <th>lagprice1</th>\n",
       "      <th>lagprice2</th>\n",
       "      <th>lagprice3</th>\n",
       "      <th>lagprice4</th>\n",
       "      <th>lagprice5</th>\n",
       "      <th>lagprice7</th>\n",
       "      <th>lagprice11</th>\n",
       "    </tr>\n",
       "    <tr>\n",
       "      <th>cal_dt</th>\n",
       "      <th></th>\n",
       "      <th></th>\n",
       "      <th></th>\n",
       "      <th></th>\n",
       "      <th></th>\n",
       "      <th></th>\n",
       "      <th></th>\n",
       "      <th></th>\n",
       "      <th></th>\n",
       "      <th></th>\n",
       "      <th></th>\n",
       "      <th></th>\n",
       "      <th></th>\n",
       "      <th></th>\n",
       "      <th></th>\n",
       "      <th></th>\n",
       "      <th></th>\n",
       "      <th></th>\n",
       "      <th></th>\n",
       "      <th></th>\n",
       "      <th></th>\n",
       "    </tr>\n",
       "  </thead>\n",
       "  <tbody>\n",
       "    <tr>\n",
       "      <th>2018-01-13</th>\n",
       "      <td>25H-HARDWARE (25H)</td>\n",
       "      <td>025-012</td>\n",
       "      <td>PNEUMATIC FASTENERS</td>\n",
       "      <td>RYOBI</td>\n",
       "      <td>203810823</td>\n",
       "      <td>203810823-ONE  18V Cordless AirStrike 18 Gauge...</td>\n",
       "      <td>0.0</td>\n",
       "      <td>0.0</td>\n",
       "      <td>0.0</td>\n",
       "      <td>0.0</td>\n",
       "      <td>...</td>\n",
       "      <td>0.0</td>\n",
       "      <td>0.0</td>\n",
       "      <td>1793.0</td>\n",
       "      <td>1548.0</td>\n",
       "      <td>1935.0</td>\n",
       "      <td>1032.0</td>\n",
       "      <td>1793.0</td>\n",
       "      <td>1548.0</td>\n",
       "      <td>1032.0</td>\n",
       "      <td>2064.0</td>\n",
       "    </tr>\n",
       "    <tr>\n",
       "      <th>2018-01-14</th>\n",
       "      <td>25H-HARDWARE (25H)</td>\n",
       "      <td>025-012</td>\n",
       "      <td>PNEUMATIC FASTENERS</td>\n",
       "      <td>RYOBI</td>\n",
       "      <td>203810823</td>\n",
       "      <td>203810823-ONE  18V Cordless AirStrike 18 Gauge...</td>\n",
       "      <td>0.0</td>\n",
       "      <td>0.0</td>\n",
       "      <td>0.0</td>\n",
       "      <td>0.0</td>\n",
       "      <td>...</td>\n",
       "      <td>0.0</td>\n",
       "      <td>0.0</td>\n",
       "      <td>1161.0</td>\n",
       "      <td>1793.0</td>\n",
       "      <td>1548.0</td>\n",
       "      <td>1935.0</td>\n",
       "      <td>1032.0</td>\n",
       "      <td>1793.0</td>\n",
       "      <td>1161.0</td>\n",
       "      <td>1776.0</td>\n",
       "    </tr>\n",
       "    <tr>\n",
       "      <th>2018-01-15</th>\n",
       "      <td>25H-HARDWARE (25H)</td>\n",
       "      <td>025-012</td>\n",
       "      <td>PNEUMATIC FASTENERS</td>\n",
       "      <td>RYOBI</td>\n",
       "      <td>203810823</td>\n",
       "      <td>203810823-ONE  18V Cordless AirStrike 18 Gauge...</td>\n",
       "      <td>0.0</td>\n",
       "      <td>0.0</td>\n",
       "      <td>0.0</td>\n",
       "      <td>0.0</td>\n",
       "      <td>...</td>\n",
       "      <td>0.0</td>\n",
       "      <td>0.0</td>\n",
       "      <td>1419.0</td>\n",
       "      <td>1161.0</td>\n",
       "      <td>1793.0</td>\n",
       "      <td>1548.0</td>\n",
       "      <td>1935.0</td>\n",
       "      <td>1032.0</td>\n",
       "      <td>1548.0</td>\n",
       "      <td>1406.0</td>\n",
       "    </tr>\n",
       "    <tr>\n",
       "      <th>2018-01-16</th>\n",
       "      <td>25H-HARDWARE (25H)</td>\n",
       "      <td>025-012</td>\n",
       "      <td>PNEUMATIC FASTENERS</td>\n",
       "      <td>RYOBI</td>\n",
       "      <td>203810823</td>\n",
       "      <td>203810823-ONE  18V Cordless AirStrike 18 Gauge...</td>\n",
       "      <td>0.0</td>\n",
       "      <td>0.0</td>\n",
       "      <td>0.0</td>\n",
       "      <td>0.0</td>\n",
       "      <td>...</td>\n",
       "      <td>0.0</td>\n",
       "      <td>0.0</td>\n",
       "      <td>1032.0</td>\n",
       "      <td>1419.0</td>\n",
       "      <td>1161.0</td>\n",
       "      <td>1793.0</td>\n",
       "      <td>1548.0</td>\n",
       "      <td>1935.0</td>\n",
       "      <td>1793.0</td>\n",
       "      <td>1494.0</td>\n",
       "    </tr>\n",
       "    <tr>\n",
       "      <th>2018-01-17</th>\n",
       "      <td>25H-HARDWARE (25H)</td>\n",
       "      <td>025-012</td>\n",
       "      <td>PNEUMATIC FASTENERS</td>\n",
       "      <td>RYOBI</td>\n",
       "      <td>203810823</td>\n",
       "      <td>203810823-ONE  18V Cordless AirStrike 18 Gauge...</td>\n",
       "      <td>0.0</td>\n",
       "      <td>0.0</td>\n",
       "      <td>0.0</td>\n",
       "      <td>0.0</td>\n",
       "      <td>...</td>\n",
       "      <td>0.0</td>\n",
       "      <td>0.0</td>\n",
       "      <td>1905.0</td>\n",
       "      <td>1032.0</td>\n",
       "      <td>1419.0</td>\n",
       "      <td>1161.0</td>\n",
       "      <td>1793.0</td>\n",
       "      <td>1548.0</td>\n",
       "      <td>1032.0</td>\n",
       "      <td>1032.0</td>\n",
       "    </tr>\n",
       "  </tbody>\n",
       "</table>\n",
       "<p>5 rows × 24 columns</p>\n",
       "</div>"
      ],
      "text/plain": [
       "                    merch_dept class_nbr           class_name mfg_brand_name  \\\n",
       "cal_dt                                                                         \n",
       "2018-01-13  25H-HARDWARE (25H)   025-012  PNEUMATIC FASTENERS          RYOBI   \n",
       "2018-01-14  25H-HARDWARE (25H)   025-012  PNEUMATIC FASTENERS          RYOBI   \n",
       "2018-01-15  25H-HARDWARE (25H)   025-012  PNEUMATIC FASTENERS          RYOBI   \n",
       "2018-01-16  25H-HARDWARE (25H)   025-012  PNEUMATIC FASTENERS          RYOBI   \n",
       "2018-01-17  25H-HARDWARE (25H)   025-012  PNEUMATIC FASTENERS          RYOBI   \n",
       "\n",
       "               oms_id                                  internet_sku_name  \\\n",
       "cal_dt                                                                     \n",
       "2018-01-13  203810823  203810823-ONE  18V Cordless AirStrike 18 Gauge...   \n",
       "2018-01-14  203810823  203810823-ONE  18V Cordless AirStrike 18 Gauge...   \n",
       "2018-01-15  203810823  203810823-ONE  18V Cordless AirStrike 18 Gauge...   \n",
       "2018-01-16  203810823  203810823-ONE  18V Cordless AirStrike 18 Gauge...   \n",
       "2018-01-17  203810823  203810823-ONE  18V Cordless AirStrike 18 Gauge...   \n",
       "\n",
       "            is_incart  is_special_buy  is_bau  is_major_event  ...  \\\n",
       "cal_dt                                                         ...   \n",
       "2018-01-13        0.0             0.0     0.0             0.0  ...   \n",
       "2018-01-14        0.0             0.0     0.0             0.0  ...   \n",
       "2018-01-15        0.0             0.0     0.0             0.0  ...   \n",
       "2018-01-16        0.0             0.0     0.0             0.0  ...   \n",
       "2018-01-17        0.0             0.0     0.0             0.0  ...   \n",
       "\n",
       "            ty_promo_gross_demand  promo_pen  ty_gross_demand  lagprice1  \\\n",
       "cal_dt                                                                     \n",
       "2018-01-13                    0.0        0.0           1793.0     1548.0   \n",
       "2018-01-14                    0.0        0.0           1161.0     1793.0   \n",
       "2018-01-15                    0.0        0.0           1419.0     1161.0   \n",
       "2018-01-16                    0.0        0.0           1032.0     1419.0   \n",
       "2018-01-17                    0.0        0.0           1905.0     1032.0   \n",
       "\n",
       "            lagprice2  lagprice3  lagprice4  lagprice5  lagprice7  lagprice11  \n",
       "cal_dt                                                                         \n",
       "2018-01-13     1935.0     1032.0     1793.0     1548.0     1032.0      2064.0  \n",
       "2018-01-14     1548.0     1935.0     1032.0     1793.0     1161.0      1776.0  \n",
       "2018-01-15     1793.0     1548.0     1935.0     1032.0     1548.0      1406.0  \n",
       "2018-01-16     1161.0     1793.0     1548.0     1935.0     1793.0      1494.0  \n",
       "2018-01-17     1419.0     1161.0     1793.0     1548.0     1032.0      1032.0  \n",
       "\n",
       "[5 rows x 24 columns]"
      ]
     },
     "execution_count": 14,
     "metadata": {},
     "output_type": "execute_result"
    }
   ],
   "source": [
    "# Fill in missing values with mean\n",
    "df= df.fillna((df.median())) # see if there is a huge difference between mean and median\n",
    "df.head()"
   ]
  },
  {
   "cell_type": "code",
   "execution_count": 15,
   "id": "10210438-bee5-4b2d-934c-e4a4f43642e9",
   "metadata": {},
   "outputs": [
    {
     "data": {
      "text/html": [
       "<div>\n",
       "<style scoped>\n",
       "    .dataframe tbody tr th:only-of-type {\n",
       "        vertical-align: middle;\n",
       "    }\n",
       "\n",
       "    .dataframe tbody tr th {\n",
       "        vertical-align: top;\n",
       "    }\n",
       "\n",
       "    .dataframe thead th {\n",
       "        text-align: right;\n",
       "    }\n",
       "</style>\n",
       "<table border=\"1\" class=\"dataframe\">\n",
       "  <thead>\n",
       "    <tr style=\"text-align: right;\">\n",
       "      <th></th>\n",
       "      <th>merch_dept</th>\n",
       "      <th>class_nbr</th>\n",
       "      <th>class_name</th>\n",
       "      <th>mfg_brand_name</th>\n",
       "      <th>oms_id</th>\n",
       "      <th>internet_sku_name</th>\n",
       "      <th>is_incart</th>\n",
       "      <th>is_special_buy</th>\n",
       "      <th>is_bau</th>\n",
       "      <th>is_major_event</th>\n",
       "      <th>...</th>\n",
       "      <th>ty_gross_demand</th>\n",
       "      <th>lagprice1</th>\n",
       "      <th>lagprice2</th>\n",
       "      <th>lagprice3</th>\n",
       "      <th>lagprice4</th>\n",
       "      <th>lagprice5</th>\n",
       "      <th>lagprice7</th>\n",
       "      <th>lagprice11</th>\n",
       "      <th>month</th>\n",
       "      <th>dayofweek</th>\n",
       "    </tr>\n",
       "    <tr>\n",
       "      <th>cal_dt</th>\n",
       "      <th></th>\n",
       "      <th></th>\n",
       "      <th></th>\n",
       "      <th></th>\n",
       "      <th></th>\n",
       "      <th></th>\n",
       "      <th></th>\n",
       "      <th></th>\n",
       "      <th></th>\n",
       "      <th></th>\n",
       "      <th></th>\n",
       "      <th></th>\n",
       "      <th></th>\n",
       "      <th></th>\n",
       "      <th></th>\n",
       "      <th></th>\n",
       "      <th></th>\n",
       "      <th></th>\n",
       "      <th></th>\n",
       "      <th></th>\n",
       "      <th></th>\n",
       "    </tr>\n",
       "  </thead>\n",
       "  <tbody>\n",
       "    <tr>\n",
       "      <th>2018-01-13</th>\n",
       "      <td>25H-HARDWARE (25H)</td>\n",
       "      <td>025-012</td>\n",
       "      <td>PNEUMATIC FASTENERS</td>\n",
       "      <td>RYOBI</td>\n",
       "      <td>203810823</td>\n",
       "      <td>203810823-ONE  18V Cordless AirStrike 18 Gauge...</td>\n",
       "      <td>0.0</td>\n",
       "      <td>0.0</td>\n",
       "      <td>0.0</td>\n",
       "      <td>0.0</td>\n",
       "      <td>...</td>\n",
       "      <td>1793.0</td>\n",
       "      <td>1548.0</td>\n",
       "      <td>1935.0</td>\n",
       "      <td>1032.0</td>\n",
       "      <td>1793.0</td>\n",
       "      <td>1548.0</td>\n",
       "      <td>1032.0</td>\n",
       "      <td>2064.0</td>\n",
       "      <td>1</td>\n",
       "      <td>13</td>\n",
       "    </tr>\n",
       "    <tr>\n",
       "      <th>2018-01-14</th>\n",
       "      <td>25H-HARDWARE (25H)</td>\n",
       "      <td>025-012</td>\n",
       "      <td>PNEUMATIC FASTENERS</td>\n",
       "      <td>RYOBI</td>\n",
       "      <td>203810823</td>\n",
       "      <td>203810823-ONE  18V Cordless AirStrike 18 Gauge...</td>\n",
       "      <td>0.0</td>\n",
       "      <td>0.0</td>\n",
       "      <td>0.0</td>\n",
       "      <td>0.0</td>\n",
       "      <td>...</td>\n",
       "      <td>1161.0</td>\n",
       "      <td>1793.0</td>\n",
       "      <td>1548.0</td>\n",
       "      <td>1935.0</td>\n",
       "      <td>1032.0</td>\n",
       "      <td>1793.0</td>\n",
       "      <td>1161.0</td>\n",
       "      <td>1776.0</td>\n",
       "      <td>1</td>\n",
       "      <td>14</td>\n",
       "    </tr>\n",
       "    <tr>\n",
       "      <th>2018-01-15</th>\n",
       "      <td>25H-HARDWARE (25H)</td>\n",
       "      <td>025-012</td>\n",
       "      <td>PNEUMATIC FASTENERS</td>\n",
       "      <td>RYOBI</td>\n",
       "      <td>203810823</td>\n",
       "      <td>203810823-ONE  18V Cordless AirStrike 18 Gauge...</td>\n",
       "      <td>0.0</td>\n",
       "      <td>0.0</td>\n",
       "      <td>0.0</td>\n",
       "      <td>0.0</td>\n",
       "      <td>...</td>\n",
       "      <td>1419.0</td>\n",
       "      <td>1161.0</td>\n",
       "      <td>1793.0</td>\n",
       "      <td>1548.0</td>\n",
       "      <td>1935.0</td>\n",
       "      <td>1032.0</td>\n",
       "      <td>1548.0</td>\n",
       "      <td>1406.0</td>\n",
       "      <td>1</td>\n",
       "      <td>15</td>\n",
       "    </tr>\n",
       "    <tr>\n",
       "      <th>2018-01-16</th>\n",
       "      <td>25H-HARDWARE (25H)</td>\n",
       "      <td>025-012</td>\n",
       "      <td>PNEUMATIC FASTENERS</td>\n",
       "      <td>RYOBI</td>\n",
       "      <td>203810823</td>\n",
       "      <td>203810823-ONE  18V Cordless AirStrike 18 Gauge...</td>\n",
       "      <td>0.0</td>\n",
       "      <td>0.0</td>\n",
       "      <td>0.0</td>\n",
       "      <td>0.0</td>\n",
       "      <td>...</td>\n",
       "      <td>1032.0</td>\n",
       "      <td>1419.0</td>\n",
       "      <td>1161.0</td>\n",
       "      <td>1793.0</td>\n",
       "      <td>1548.0</td>\n",
       "      <td>1935.0</td>\n",
       "      <td>1793.0</td>\n",
       "      <td>1494.0</td>\n",
       "      <td>1</td>\n",
       "      <td>16</td>\n",
       "    </tr>\n",
       "    <tr>\n",
       "      <th>2018-01-17</th>\n",
       "      <td>25H-HARDWARE (25H)</td>\n",
       "      <td>025-012</td>\n",
       "      <td>PNEUMATIC FASTENERS</td>\n",
       "      <td>RYOBI</td>\n",
       "      <td>203810823</td>\n",
       "      <td>203810823-ONE  18V Cordless AirStrike 18 Gauge...</td>\n",
       "      <td>0.0</td>\n",
       "      <td>0.0</td>\n",
       "      <td>0.0</td>\n",
       "      <td>0.0</td>\n",
       "      <td>...</td>\n",
       "      <td>1905.0</td>\n",
       "      <td>1032.0</td>\n",
       "      <td>1419.0</td>\n",
       "      <td>1161.0</td>\n",
       "      <td>1793.0</td>\n",
       "      <td>1548.0</td>\n",
       "      <td>1032.0</td>\n",
       "      <td>1032.0</td>\n",
       "      <td>1</td>\n",
       "      <td>17</td>\n",
       "    </tr>\n",
       "    <tr>\n",
       "      <th>2018-01-18</th>\n",
       "      <td>25H-HARDWARE (25H)</td>\n",
       "      <td>025-012</td>\n",
       "      <td>PNEUMATIC FASTENERS</td>\n",
       "      <td>RYOBI</td>\n",
       "      <td>203810823</td>\n",
       "      <td>203810823-ONE  18V Cordless AirStrike 18 Gauge...</td>\n",
       "      <td>0.0</td>\n",
       "      <td>0.0</td>\n",
       "      <td>0.0</td>\n",
       "      <td>0.0</td>\n",
       "      <td>...</td>\n",
       "      <td>2039.0</td>\n",
       "      <td>1905.0</td>\n",
       "      <td>1032.0</td>\n",
       "      <td>1419.0</td>\n",
       "      <td>1161.0</td>\n",
       "      <td>1793.0</td>\n",
       "      <td>1935.0</td>\n",
       "      <td>1161.0</td>\n",
       "      <td>1</td>\n",
       "      <td>18</td>\n",
       "    </tr>\n",
       "    <tr>\n",
       "      <th>2018-01-19</th>\n",
       "      <td>25H-HARDWARE (25H)</td>\n",
       "      <td>025-012</td>\n",
       "      <td>PNEUMATIC FASTENERS</td>\n",
       "      <td>RYOBI</td>\n",
       "      <td>203810823</td>\n",
       "      <td>203810823-ONE  18V Cordless AirStrike 18 Gauge...</td>\n",
       "      <td>0.0</td>\n",
       "      <td>0.0</td>\n",
       "      <td>0.0</td>\n",
       "      <td>0.0</td>\n",
       "      <td>...</td>\n",
       "      <td>2180.0</td>\n",
       "      <td>2039.0</td>\n",
       "      <td>1905.0</td>\n",
       "      <td>1032.0</td>\n",
       "      <td>1419.0</td>\n",
       "      <td>1161.0</td>\n",
       "      <td>1548.0</td>\n",
       "      <td>1548.0</td>\n",
       "      <td>1</td>\n",
       "      <td>19</td>\n",
       "    </tr>\n",
       "    <tr>\n",
       "      <th>2018-01-20</th>\n",
       "      <td>25H-HARDWARE (25H)</td>\n",
       "      <td>025-012</td>\n",
       "      <td>PNEUMATIC FASTENERS</td>\n",
       "      <td>RYOBI</td>\n",
       "      <td>203810823</td>\n",
       "      <td>203810823-ONE  18V Cordless AirStrike 18 Gauge...</td>\n",
       "      <td>0.0</td>\n",
       "      <td>0.0</td>\n",
       "      <td>0.0</td>\n",
       "      <td>0.0</td>\n",
       "      <td>...</td>\n",
       "      <td>1935.0</td>\n",
       "      <td>2180.0</td>\n",
       "      <td>2039.0</td>\n",
       "      <td>1905.0</td>\n",
       "      <td>1032.0</td>\n",
       "      <td>1419.0</td>\n",
       "      <td>1793.0</td>\n",
       "      <td>1793.0</td>\n",
       "      <td>1</td>\n",
       "      <td>20</td>\n",
       "    </tr>\n",
       "    <tr>\n",
       "      <th>2018-01-21</th>\n",
       "      <td>25H-HARDWARE (25H)</td>\n",
       "      <td>025-012</td>\n",
       "      <td>PNEUMATIC FASTENERS</td>\n",
       "      <td>RYOBI</td>\n",
       "      <td>203810823</td>\n",
       "      <td>203810823-ONE  18V Cordless AirStrike 18 Gauge...</td>\n",
       "      <td>0.0</td>\n",
       "      <td>0.0</td>\n",
       "      <td>0.0</td>\n",
       "      <td>0.0</td>\n",
       "      <td>...</td>\n",
       "      <td>1935.0</td>\n",
       "      <td>1935.0</td>\n",
       "      <td>2180.0</td>\n",
       "      <td>2039.0</td>\n",
       "      <td>1905.0</td>\n",
       "      <td>1032.0</td>\n",
       "      <td>1161.0</td>\n",
       "      <td>1032.0</td>\n",
       "      <td>1</td>\n",
       "      <td>21</td>\n",
       "    </tr>\n",
       "    <tr>\n",
       "      <th>2018-01-22</th>\n",
       "      <td>25H-HARDWARE (25H)</td>\n",
       "      <td>025-012</td>\n",
       "      <td>PNEUMATIC FASTENERS</td>\n",
       "      <td>RYOBI</td>\n",
       "      <td>203810823</td>\n",
       "      <td>203810823-ONE  18V Cordless AirStrike 18 Gauge...</td>\n",
       "      <td>0.0</td>\n",
       "      <td>0.0</td>\n",
       "      <td>0.0</td>\n",
       "      <td>0.0</td>\n",
       "      <td>...</td>\n",
       "      <td>2567.0</td>\n",
       "      <td>1935.0</td>\n",
       "      <td>1935.0</td>\n",
       "      <td>2180.0</td>\n",
       "      <td>2039.0</td>\n",
       "      <td>1905.0</td>\n",
       "      <td>1419.0</td>\n",
       "      <td>1935.0</td>\n",
       "      <td>1</td>\n",
       "      <td>22</td>\n",
       "    </tr>\n",
       "    <tr>\n",
       "      <th>2018-01-23</th>\n",
       "      <td>25H-HARDWARE (25H)</td>\n",
       "      <td>025-012</td>\n",
       "      <td>PNEUMATIC FASTENERS</td>\n",
       "      <td>RYOBI</td>\n",
       "      <td>203810823</td>\n",
       "      <td>203810823-ONE  18V Cordless AirStrike 18 Gauge...</td>\n",
       "      <td>0.0</td>\n",
       "      <td>0.0</td>\n",
       "      <td>0.0</td>\n",
       "      <td>0.0</td>\n",
       "      <td>...</td>\n",
       "      <td>2838.0</td>\n",
       "      <td>2567.0</td>\n",
       "      <td>1935.0</td>\n",
       "      <td>1935.0</td>\n",
       "      <td>2180.0</td>\n",
       "      <td>2039.0</td>\n",
       "      <td>1032.0</td>\n",
       "      <td>1548.0</td>\n",
       "      <td>1</td>\n",
       "      <td>23</td>\n",
       "    </tr>\n",
       "    <tr>\n",
       "      <th>2018-01-24</th>\n",
       "      <td>25H-HARDWARE (25H)</td>\n",
       "      <td>025-012</td>\n",
       "      <td>PNEUMATIC FASTENERS</td>\n",
       "      <td>RYOBI</td>\n",
       "      <td>203810823</td>\n",
       "      <td>203810823-ONE  18V Cordless AirStrike 18 Gauge...</td>\n",
       "      <td>0.0</td>\n",
       "      <td>0.0</td>\n",
       "      <td>0.0</td>\n",
       "      <td>0.0</td>\n",
       "      <td>...</td>\n",
       "      <td>2322.0</td>\n",
       "      <td>2838.0</td>\n",
       "      <td>2567.0</td>\n",
       "      <td>1935.0</td>\n",
       "      <td>1935.0</td>\n",
       "      <td>2180.0</td>\n",
       "      <td>1905.0</td>\n",
       "      <td>1793.0</td>\n",
       "      <td>1</td>\n",
       "      <td>24</td>\n",
       "    </tr>\n",
       "    <tr>\n",
       "      <th>2018-01-25</th>\n",
       "      <td>25H-HARDWARE (25H)</td>\n",
       "      <td>025-012</td>\n",
       "      <td>PNEUMATIC FASTENERS</td>\n",
       "      <td>RYOBI</td>\n",
       "      <td>203810823</td>\n",
       "      <td>203810823-ONE  18V Cordless AirStrike 18 Gauge...</td>\n",
       "      <td>0.0</td>\n",
       "      <td>0.0</td>\n",
       "      <td>0.0</td>\n",
       "      <td>0.0</td>\n",
       "      <td>...</td>\n",
       "      <td>1677.0</td>\n",
       "      <td>2322.0</td>\n",
       "      <td>2838.0</td>\n",
       "      <td>2567.0</td>\n",
       "      <td>1935.0</td>\n",
       "      <td>1935.0</td>\n",
       "      <td>2039.0</td>\n",
       "      <td>1161.0</td>\n",
       "      <td>1</td>\n",
       "      <td>25</td>\n",
       "    </tr>\n",
       "    <tr>\n",
       "      <th>2018-01-26</th>\n",
       "      <td>25H-HARDWARE (25H)</td>\n",
       "      <td>025-012</td>\n",
       "      <td>PNEUMATIC FASTENERS</td>\n",
       "      <td>RYOBI</td>\n",
       "      <td>203810823</td>\n",
       "      <td>203810823-ONE  18V Cordless AirStrike 18 Gauge...</td>\n",
       "      <td>0.0</td>\n",
       "      <td>0.0</td>\n",
       "      <td>0.0</td>\n",
       "      <td>0.0</td>\n",
       "      <td>...</td>\n",
       "      <td>2955.0</td>\n",
       "      <td>1677.0</td>\n",
       "      <td>2322.0</td>\n",
       "      <td>2838.0</td>\n",
       "      <td>2567.0</td>\n",
       "      <td>1935.0</td>\n",
       "      <td>2180.0</td>\n",
       "      <td>1419.0</td>\n",
       "      <td>1</td>\n",
       "      <td>26</td>\n",
       "    </tr>\n",
       "    <tr>\n",
       "      <th>2018-01-27</th>\n",
       "      <td>25H-HARDWARE (25H)</td>\n",
       "      <td>025-012</td>\n",
       "      <td>PNEUMATIC FASTENERS</td>\n",
       "      <td>RYOBI</td>\n",
       "      <td>203810823</td>\n",
       "      <td>203810823-ONE  18V Cordless AirStrike 18 Gauge...</td>\n",
       "      <td>0.0</td>\n",
       "      <td>0.0</td>\n",
       "      <td>0.0</td>\n",
       "      <td>0.0</td>\n",
       "      <td>...</td>\n",
       "      <td>2180.0</td>\n",
       "      <td>2955.0</td>\n",
       "      <td>1677.0</td>\n",
       "      <td>2322.0</td>\n",
       "      <td>2838.0</td>\n",
       "      <td>2567.0</td>\n",
       "      <td>1935.0</td>\n",
       "      <td>1032.0</td>\n",
       "      <td>1</td>\n",
       "      <td>27</td>\n",
       "    </tr>\n",
       "  </tbody>\n",
       "</table>\n",
       "<p>15 rows × 26 columns</p>\n",
       "</div>"
      ],
      "text/plain": [
       "                    merch_dept class_nbr           class_name mfg_brand_name  \\\n",
       "cal_dt                                                                         \n",
       "2018-01-13  25H-HARDWARE (25H)   025-012  PNEUMATIC FASTENERS          RYOBI   \n",
       "2018-01-14  25H-HARDWARE (25H)   025-012  PNEUMATIC FASTENERS          RYOBI   \n",
       "2018-01-15  25H-HARDWARE (25H)   025-012  PNEUMATIC FASTENERS          RYOBI   \n",
       "2018-01-16  25H-HARDWARE (25H)   025-012  PNEUMATIC FASTENERS          RYOBI   \n",
       "2018-01-17  25H-HARDWARE (25H)   025-012  PNEUMATIC FASTENERS          RYOBI   \n",
       "2018-01-18  25H-HARDWARE (25H)   025-012  PNEUMATIC FASTENERS          RYOBI   \n",
       "2018-01-19  25H-HARDWARE (25H)   025-012  PNEUMATIC FASTENERS          RYOBI   \n",
       "2018-01-20  25H-HARDWARE (25H)   025-012  PNEUMATIC FASTENERS          RYOBI   \n",
       "2018-01-21  25H-HARDWARE (25H)   025-012  PNEUMATIC FASTENERS          RYOBI   \n",
       "2018-01-22  25H-HARDWARE (25H)   025-012  PNEUMATIC FASTENERS          RYOBI   \n",
       "2018-01-23  25H-HARDWARE (25H)   025-012  PNEUMATIC FASTENERS          RYOBI   \n",
       "2018-01-24  25H-HARDWARE (25H)   025-012  PNEUMATIC FASTENERS          RYOBI   \n",
       "2018-01-25  25H-HARDWARE (25H)   025-012  PNEUMATIC FASTENERS          RYOBI   \n",
       "2018-01-26  25H-HARDWARE (25H)   025-012  PNEUMATIC FASTENERS          RYOBI   \n",
       "2018-01-27  25H-HARDWARE (25H)   025-012  PNEUMATIC FASTENERS          RYOBI   \n",
       "\n",
       "               oms_id                                  internet_sku_name  \\\n",
       "cal_dt                                                                     \n",
       "2018-01-13  203810823  203810823-ONE  18V Cordless AirStrike 18 Gauge...   \n",
       "2018-01-14  203810823  203810823-ONE  18V Cordless AirStrike 18 Gauge...   \n",
       "2018-01-15  203810823  203810823-ONE  18V Cordless AirStrike 18 Gauge...   \n",
       "2018-01-16  203810823  203810823-ONE  18V Cordless AirStrike 18 Gauge...   \n",
       "2018-01-17  203810823  203810823-ONE  18V Cordless AirStrike 18 Gauge...   \n",
       "2018-01-18  203810823  203810823-ONE  18V Cordless AirStrike 18 Gauge...   \n",
       "2018-01-19  203810823  203810823-ONE  18V Cordless AirStrike 18 Gauge...   \n",
       "2018-01-20  203810823  203810823-ONE  18V Cordless AirStrike 18 Gauge...   \n",
       "2018-01-21  203810823  203810823-ONE  18V Cordless AirStrike 18 Gauge...   \n",
       "2018-01-22  203810823  203810823-ONE  18V Cordless AirStrike 18 Gauge...   \n",
       "2018-01-23  203810823  203810823-ONE  18V Cordless AirStrike 18 Gauge...   \n",
       "2018-01-24  203810823  203810823-ONE  18V Cordless AirStrike 18 Gauge...   \n",
       "2018-01-25  203810823  203810823-ONE  18V Cordless AirStrike 18 Gauge...   \n",
       "2018-01-26  203810823  203810823-ONE  18V Cordless AirStrike 18 Gauge...   \n",
       "2018-01-27  203810823  203810823-ONE  18V Cordless AirStrike 18 Gauge...   \n",
       "\n",
       "            is_incart  is_special_buy  is_bau  is_major_event  ...  \\\n",
       "cal_dt                                                         ...   \n",
       "2018-01-13        0.0             0.0     0.0             0.0  ...   \n",
       "2018-01-14        0.0             0.0     0.0             0.0  ...   \n",
       "2018-01-15        0.0             0.0     0.0             0.0  ...   \n",
       "2018-01-16        0.0             0.0     0.0             0.0  ...   \n",
       "2018-01-17        0.0             0.0     0.0             0.0  ...   \n",
       "2018-01-18        0.0             0.0     0.0             0.0  ...   \n",
       "2018-01-19        0.0             0.0     0.0             0.0  ...   \n",
       "2018-01-20        0.0             0.0     0.0             0.0  ...   \n",
       "2018-01-21        0.0             0.0     0.0             0.0  ...   \n",
       "2018-01-22        0.0             0.0     0.0             0.0  ...   \n",
       "2018-01-23        0.0             0.0     0.0             0.0  ...   \n",
       "2018-01-24        0.0             0.0     0.0             0.0  ...   \n",
       "2018-01-25        0.0             0.0     0.0             0.0  ...   \n",
       "2018-01-26        0.0             0.0     0.0             0.0  ...   \n",
       "2018-01-27        0.0             0.0     0.0             0.0  ...   \n",
       "\n",
       "            ty_gross_demand  lagprice1  lagprice2  lagprice3  lagprice4  \\\n",
       "cal_dt                                                                    \n",
       "2018-01-13           1793.0     1548.0     1935.0     1032.0     1793.0   \n",
       "2018-01-14           1161.0     1793.0     1548.0     1935.0     1032.0   \n",
       "2018-01-15           1419.0     1161.0     1793.0     1548.0     1935.0   \n",
       "2018-01-16           1032.0     1419.0     1161.0     1793.0     1548.0   \n",
       "2018-01-17           1905.0     1032.0     1419.0     1161.0     1793.0   \n",
       "2018-01-18           2039.0     1905.0     1032.0     1419.0     1161.0   \n",
       "2018-01-19           2180.0     2039.0     1905.0     1032.0     1419.0   \n",
       "2018-01-20           1935.0     2180.0     2039.0     1905.0     1032.0   \n",
       "2018-01-21           1935.0     1935.0     2180.0     2039.0     1905.0   \n",
       "2018-01-22           2567.0     1935.0     1935.0     2180.0     2039.0   \n",
       "2018-01-23           2838.0     2567.0     1935.0     1935.0     2180.0   \n",
       "2018-01-24           2322.0     2838.0     2567.0     1935.0     1935.0   \n",
       "2018-01-25           1677.0     2322.0     2838.0     2567.0     1935.0   \n",
       "2018-01-26           2955.0     1677.0     2322.0     2838.0     2567.0   \n",
       "2018-01-27           2180.0     2955.0     1677.0     2322.0     2838.0   \n",
       "\n",
       "            lagprice5  lagprice7  lagprice11  month  dayofweek  \n",
       "cal_dt                                                          \n",
       "2018-01-13     1548.0     1032.0      2064.0      1         13  \n",
       "2018-01-14     1793.0     1161.0      1776.0      1         14  \n",
       "2018-01-15     1032.0     1548.0      1406.0      1         15  \n",
       "2018-01-16     1935.0     1793.0      1494.0      1         16  \n",
       "2018-01-17     1548.0     1032.0      1032.0      1         17  \n",
       "2018-01-18     1793.0     1935.0      1161.0      1         18  \n",
       "2018-01-19     1161.0     1548.0      1548.0      1         19  \n",
       "2018-01-20     1419.0     1793.0      1793.0      1         20  \n",
       "2018-01-21     1032.0     1161.0      1032.0      1         21  \n",
       "2018-01-22     1905.0     1419.0      1935.0      1         22  \n",
       "2018-01-23     2039.0     1032.0      1548.0      1         23  \n",
       "2018-01-24     2180.0     1905.0      1793.0      1         24  \n",
       "2018-01-25     1935.0     2039.0      1161.0      1         25  \n",
       "2018-01-26     1935.0     2180.0      1419.0      1         26  \n",
       "2018-01-27     2567.0     1935.0      1032.0      1         27  \n",
       "\n",
       "[15 rows x 26 columns]"
      ]
     },
     "execution_count": 15,
     "metadata": {},
     "output_type": "execute_result"
    }
   ],
   "source": [
    "# Add Month and Day of Week\n",
    "df['month'] = [df.index[i].month for i in range(len(df))]\n",
    "df['dayofweek'] = [df.index[i].day for i in range(len(df))]\n",
    "df.head(15)"
   ]
  },
  {
   "cell_type": "code",
   "execution_count": 16,
   "id": "0b5e78bc-2d3a-4a04-92e4-623eac328d05",
   "metadata": {},
   "outputs": [
    {
     "data": {
      "text/plain": [
       "0"
      ]
     },
     "execution_count": 16,
     "metadata": {},
     "output_type": "execute_result"
    }
   ],
   "source": [
    "df.isna().sum().sum()"
   ]
  },
  {
   "cell_type": "code",
   "execution_count": 17,
   "id": "02205c15-a94a-493e-ab6d-83dd184035b7",
   "metadata": {},
   "outputs": [],
   "source": [
    "# Add Weekend Indicator\n",
    "df['Weekday'] = [df.index[i].dayofweek for i in range(len(df))]  # monday = 0, sunday = 6\n",
    "df['weekend_indi'] = 0\n",
    "df.loc[df['Weekday'].isin([4, 5, 6]), 'weekend_indi'] = 1 "
   ]
  },
  {
   "cell_type": "code",
   "execution_count": 18,
   "id": "c087498b-7497-4f92-aa22-17b5c946c0b4",
   "metadata": {},
   "outputs": [
    {
     "data": {
      "text/html": [
       "<div>\n",
       "<style scoped>\n",
       "    .dataframe tbody tr th:only-of-type {\n",
       "        vertical-align: middle;\n",
       "    }\n",
       "\n",
       "    .dataframe tbody tr th {\n",
       "        vertical-align: top;\n",
       "    }\n",
       "\n",
       "    .dataframe thead th {\n",
       "        text-align: right;\n",
       "    }\n",
       "</style>\n",
       "<table border=\"1\" class=\"dataframe\">\n",
       "  <thead>\n",
       "    <tr style=\"text-align: right;\">\n",
       "      <th></th>\n",
       "      <th>merch_dept</th>\n",
       "      <th>class_nbr</th>\n",
       "      <th>class_name</th>\n",
       "      <th>mfg_brand_name</th>\n",
       "      <th>oms_id</th>\n",
       "      <th>internet_sku_name</th>\n",
       "      <th>is_incart</th>\n",
       "      <th>is_special_buy</th>\n",
       "      <th>is_bau</th>\n",
       "      <th>is_major_event</th>\n",
       "      <th>...</th>\n",
       "      <th>lagprice3</th>\n",
       "      <th>lagprice4</th>\n",
       "      <th>lagprice5</th>\n",
       "      <th>lagprice7</th>\n",
       "      <th>lagprice11</th>\n",
       "      <th>month</th>\n",
       "      <th>dayofweek</th>\n",
       "      <th>Weekday</th>\n",
       "      <th>weekend_indi</th>\n",
       "      <th>isLeapYear</th>\n",
       "    </tr>\n",
       "    <tr>\n",
       "      <th>cal_dt</th>\n",
       "      <th></th>\n",
       "      <th></th>\n",
       "      <th></th>\n",
       "      <th></th>\n",
       "      <th></th>\n",
       "      <th></th>\n",
       "      <th></th>\n",
       "      <th></th>\n",
       "      <th></th>\n",
       "      <th></th>\n",
       "      <th></th>\n",
       "      <th></th>\n",
       "      <th></th>\n",
       "      <th></th>\n",
       "      <th></th>\n",
       "      <th></th>\n",
       "      <th></th>\n",
       "      <th></th>\n",
       "      <th></th>\n",
       "      <th></th>\n",
       "      <th></th>\n",
       "    </tr>\n",
       "  </thead>\n",
       "  <tbody>\n",
       "    <tr>\n",
       "      <th>2018-01-13</th>\n",
       "      <td>25H-HARDWARE (25H)</td>\n",
       "      <td>025-012</td>\n",
       "      <td>PNEUMATIC FASTENERS</td>\n",
       "      <td>RYOBI</td>\n",
       "      <td>203810823</td>\n",
       "      <td>203810823-ONE  18V Cordless AirStrike 18 Gauge...</td>\n",
       "      <td>0.0</td>\n",
       "      <td>0.0</td>\n",
       "      <td>0.0</td>\n",
       "      <td>0.0</td>\n",
       "      <td>...</td>\n",
       "      <td>1032.0</td>\n",
       "      <td>1793.0</td>\n",
       "      <td>1548.0</td>\n",
       "      <td>1032.0</td>\n",
       "      <td>2064.0</td>\n",
       "      <td>1</td>\n",
       "      <td>13</td>\n",
       "      <td>5</td>\n",
       "      <td>1</td>\n",
       "      <td>0</td>\n",
       "    </tr>\n",
       "    <tr>\n",
       "      <th>2018-01-14</th>\n",
       "      <td>25H-HARDWARE (25H)</td>\n",
       "      <td>025-012</td>\n",
       "      <td>PNEUMATIC FASTENERS</td>\n",
       "      <td>RYOBI</td>\n",
       "      <td>203810823</td>\n",
       "      <td>203810823-ONE  18V Cordless AirStrike 18 Gauge...</td>\n",
       "      <td>0.0</td>\n",
       "      <td>0.0</td>\n",
       "      <td>0.0</td>\n",
       "      <td>0.0</td>\n",
       "      <td>...</td>\n",
       "      <td>1935.0</td>\n",
       "      <td>1032.0</td>\n",
       "      <td>1793.0</td>\n",
       "      <td>1161.0</td>\n",
       "      <td>1776.0</td>\n",
       "      <td>1</td>\n",
       "      <td>14</td>\n",
       "      <td>6</td>\n",
       "      <td>1</td>\n",
       "      <td>0</td>\n",
       "    </tr>\n",
       "    <tr>\n",
       "      <th>2018-01-15</th>\n",
       "      <td>25H-HARDWARE (25H)</td>\n",
       "      <td>025-012</td>\n",
       "      <td>PNEUMATIC FASTENERS</td>\n",
       "      <td>RYOBI</td>\n",
       "      <td>203810823</td>\n",
       "      <td>203810823-ONE  18V Cordless AirStrike 18 Gauge...</td>\n",
       "      <td>0.0</td>\n",
       "      <td>0.0</td>\n",
       "      <td>0.0</td>\n",
       "      <td>0.0</td>\n",
       "      <td>...</td>\n",
       "      <td>1548.0</td>\n",
       "      <td>1935.0</td>\n",
       "      <td>1032.0</td>\n",
       "      <td>1548.0</td>\n",
       "      <td>1406.0</td>\n",
       "      <td>1</td>\n",
       "      <td>15</td>\n",
       "      <td>0</td>\n",
       "      <td>0</td>\n",
       "      <td>0</td>\n",
       "    </tr>\n",
       "    <tr>\n",
       "      <th>2018-01-16</th>\n",
       "      <td>25H-HARDWARE (25H)</td>\n",
       "      <td>025-012</td>\n",
       "      <td>PNEUMATIC FASTENERS</td>\n",
       "      <td>RYOBI</td>\n",
       "      <td>203810823</td>\n",
       "      <td>203810823-ONE  18V Cordless AirStrike 18 Gauge...</td>\n",
       "      <td>0.0</td>\n",
       "      <td>0.0</td>\n",
       "      <td>0.0</td>\n",
       "      <td>0.0</td>\n",
       "      <td>...</td>\n",
       "      <td>1793.0</td>\n",
       "      <td>1548.0</td>\n",
       "      <td>1935.0</td>\n",
       "      <td>1793.0</td>\n",
       "      <td>1494.0</td>\n",
       "      <td>1</td>\n",
       "      <td>16</td>\n",
       "      <td>1</td>\n",
       "      <td>0</td>\n",
       "      <td>0</td>\n",
       "    </tr>\n",
       "    <tr>\n",
       "      <th>2018-01-17</th>\n",
       "      <td>25H-HARDWARE (25H)</td>\n",
       "      <td>025-012</td>\n",
       "      <td>PNEUMATIC FASTENERS</td>\n",
       "      <td>RYOBI</td>\n",
       "      <td>203810823</td>\n",
       "      <td>203810823-ONE  18V Cordless AirStrike 18 Gauge...</td>\n",
       "      <td>0.0</td>\n",
       "      <td>0.0</td>\n",
       "      <td>0.0</td>\n",
       "      <td>0.0</td>\n",
       "      <td>...</td>\n",
       "      <td>1161.0</td>\n",
       "      <td>1793.0</td>\n",
       "      <td>1548.0</td>\n",
       "      <td>1032.0</td>\n",
       "      <td>1032.0</td>\n",
       "      <td>1</td>\n",
       "      <td>17</td>\n",
       "      <td>2</td>\n",
       "      <td>0</td>\n",
       "      <td>0</td>\n",
       "    </tr>\n",
       "  </tbody>\n",
       "</table>\n",
       "<p>5 rows × 29 columns</p>\n",
       "</div>"
      ],
      "text/plain": [
       "                    merch_dept class_nbr           class_name mfg_brand_name  \\\n",
       "cal_dt                                                                         \n",
       "2018-01-13  25H-HARDWARE (25H)   025-012  PNEUMATIC FASTENERS          RYOBI   \n",
       "2018-01-14  25H-HARDWARE (25H)   025-012  PNEUMATIC FASTENERS          RYOBI   \n",
       "2018-01-15  25H-HARDWARE (25H)   025-012  PNEUMATIC FASTENERS          RYOBI   \n",
       "2018-01-16  25H-HARDWARE (25H)   025-012  PNEUMATIC FASTENERS          RYOBI   \n",
       "2018-01-17  25H-HARDWARE (25H)   025-012  PNEUMATIC FASTENERS          RYOBI   \n",
       "\n",
       "               oms_id                                  internet_sku_name  \\\n",
       "cal_dt                                                                     \n",
       "2018-01-13  203810823  203810823-ONE  18V Cordless AirStrike 18 Gauge...   \n",
       "2018-01-14  203810823  203810823-ONE  18V Cordless AirStrike 18 Gauge...   \n",
       "2018-01-15  203810823  203810823-ONE  18V Cordless AirStrike 18 Gauge...   \n",
       "2018-01-16  203810823  203810823-ONE  18V Cordless AirStrike 18 Gauge...   \n",
       "2018-01-17  203810823  203810823-ONE  18V Cordless AirStrike 18 Gauge...   \n",
       "\n",
       "            is_incart  is_special_buy  is_bau  is_major_event  ...  lagprice3  \\\n",
       "cal_dt                                                         ...              \n",
       "2018-01-13        0.0             0.0     0.0             0.0  ...     1032.0   \n",
       "2018-01-14        0.0             0.0     0.0             0.0  ...     1935.0   \n",
       "2018-01-15        0.0             0.0     0.0             0.0  ...     1548.0   \n",
       "2018-01-16        0.0             0.0     0.0             0.0  ...     1793.0   \n",
       "2018-01-17        0.0             0.0     0.0             0.0  ...     1161.0   \n",
       "\n",
       "            lagprice4  lagprice5  lagprice7  lagprice11  month  dayofweek  \\\n",
       "cal_dt                                                                      \n",
       "2018-01-13     1793.0     1548.0     1032.0      2064.0      1         13   \n",
       "2018-01-14     1032.0     1793.0     1161.0      1776.0      1         14   \n",
       "2018-01-15     1935.0     1032.0     1548.0      1406.0      1         15   \n",
       "2018-01-16     1548.0     1935.0     1793.0      1494.0      1         16   \n",
       "2018-01-17     1793.0     1548.0     1032.0      1032.0      1         17   \n",
       "\n",
       "            Weekday  weekend_indi  isLeapYear  \n",
       "cal_dt                                         \n",
       "2018-01-13        5             1           0  \n",
       "2018-01-14        6             1           0  \n",
       "2018-01-15        0             0           0  \n",
       "2018-01-16        1             0           0  \n",
       "2018-01-17        2             0           0  \n",
       "\n",
       "[5 rows x 29 columns]"
      ]
     },
     "execution_count": 18,
     "metadata": {},
     "output_type": "execute_result"
    }
   ],
   "source": [
    "# Add is Leap Year\n",
    "df['isLeapYear'] = [df.index[i].is_leap_year for i in range(len(df))]\n",
    "df[['isLeapYear']] = df[['isLeapYear']].astype(int)\n",
    "df.head()"
   ]
  },
  {
   "cell_type": "code",
   "execution_count": 19,
   "id": "64a56890-aece-4a3c-b139-c2dc370e0a3f",
   "metadata": {},
   "outputs": [
    {
     "data": {
      "text/html": [
       "<div>\n",
       "<style scoped>\n",
       "    .dataframe tbody tr th:only-of-type {\n",
       "        vertical-align: middle;\n",
       "    }\n",
       "\n",
       "    .dataframe tbody tr th {\n",
       "        vertical-align: top;\n",
       "    }\n",
       "\n",
       "    .dataframe thead th {\n",
       "        text-align: right;\n",
       "    }\n",
       "</style>\n",
       "<table border=\"1\" class=\"dataframe\">\n",
       "  <thead>\n",
       "    <tr style=\"text-align: right;\">\n",
       "      <th></th>\n",
       "      <th>merch_dept</th>\n",
       "      <th>class_nbr</th>\n",
       "      <th>class_name</th>\n",
       "      <th>mfg_brand_name</th>\n",
       "      <th>oms_id</th>\n",
       "      <th>internet_sku_name</th>\n",
       "      <th>is_incart</th>\n",
       "      <th>is_special_buy</th>\n",
       "      <th>is_bau</th>\n",
       "      <th>is_major_event</th>\n",
       "      <th>...</th>\n",
       "      <th>lagprice4</th>\n",
       "      <th>lagprice5</th>\n",
       "      <th>lagprice7</th>\n",
       "      <th>lagprice11</th>\n",
       "      <th>month</th>\n",
       "      <th>dayofweek</th>\n",
       "      <th>Weekday</th>\n",
       "      <th>weekend_indi</th>\n",
       "      <th>isLeapYear</th>\n",
       "      <th>quarter</th>\n",
       "    </tr>\n",
       "    <tr>\n",
       "      <th>cal_dt</th>\n",
       "      <th></th>\n",
       "      <th></th>\n",
       "      <th></th>\n",
       "      <th></th>\n",
       "      <th></th>\n",
       "      <th></th>\n",
       "      <th></th>\n",
       "      <th></th>\n",
       "      <th></th>\n",
       "      <th></th>\n",
       "      <th></th>\n",
       "      <th></th>\n",
       "      <th></th>\n",
       "      <th></th>\n",
       "      <th></th>\n",
       "      <th></th>\n",
       "      <th></th>\n",
       "      <th></th>\n",
       "      <th></th>\n",
       "      <th></th>\n",
       "      <th></th>\n",
       "    </tr>\n",
       "  </thead>\n",
       "  <tbody>\n",
       "    <tr>\n",
       "      <th>2018-01-13</th>\n",
       "      <td>25H-HARDWARE (25H)</td>\n",
       "      <td>025-012</td>\n",
       "      <td>PNEUMATIC FASTENERS</td>\n",
       "      <td>RYOBI</td>\n",
       "      <td>203810823</td>\n",
       "      <td>203810823-ONE  18V Cordless AirStrike 18 Gauge...</td>\n",
       "      <td>0.0</td>\n",
       "      <td>0.0</td>\n",
       "      <td>0.0</td>\n",
       "      <td>0.0</td>\n",
       "      <td>...</td>\n",
       "      <td>1793.0</td>\n",
       "      <td>1548.0</td>\n",
       "      <td>1032.0</td>\n",
       "      <td>2064.0</td>\n",
       "      <td>1</td>\n",
       "      <td>13</td>\n",
       "      <td>5</td>\n",
       "      <td>1</td>\n",
       "      <td>0</td>\n",
       "      <td>1</td>\n",
       "    </tr>\n",
       "    <tr>\n",
       "      <th>2018-01-14</th>\n",
       "      <td>25H-HARDWARE (25H)</td>\n",
       "      <td>025-012</td>\n",
       "      <td>PNEUMATIC FASTENERS</td>\n",
       "      <td>RYOBI</td>\n",
       "      <td>203810823</td>\n",
       "      <td>203810823-ONE  18V Cordless AirStrike 18 Gauge...</td>\n",
       "      <td>0.0</td>\n",
       "      <td>0.0</td>\n",
       "      <td>0.0</td>\n",
       "      <td>0.0</td>\n",
       "      <td>...</td>\n",
       "      <td>1032.0</td>\n",
       "      <td>1793.0</td>\n",
       "      <td>1161.0</td>\n",
       "      <td>1776.0</td>\n",
       "      <td>1</td>\n",
       "      <td>14</td>\n",
       "      <td>6</td>\n",
       "      <td>1</td>\n",
       "      <td>0</td>\n",
       "      <td>1</td>\n",
       "    </tr>\n",
       "    <tr>\n",
       "      <th>2018-01-15</th>\n",
       "      <td>25H-HARDWARE (25H)</td>\n",
       "      <td>025-012</td>\n",
       "      <td>PNEUMATIC FASTENERS</td>\n",
       "      <td>RYOBI</td>\n",
       "      <td>203810823</td>\n",
       "      <td>203810823-ONE  18V Cordless AirStrike 18 Gauge...</td>\n",
       "      <td>0.0</td>\n",
       "      <td>0.0</td>\n",
       "      <td>0.0</td>\n",
       "      <td>0.0</td>\n",
       "      <td>...</td>\n",
       "      <td>1935.0</td>\n",
       "      <td>1032.0</td>\n",
       "      <td>1548.0</td>\n",
       "      <td>1406.0</td>\n",
       "      <td>1</td>\n",
       "      <td>15</td>\n",
       "      <td>0</td>\n",
       "      <td>0</td>\n",
       "      <td>0</td>\n",
       "      <td>1</td>\n",
       "    </tr>\n",
       "    <tr>\n",
       "      <th>2018-01-16</th>\n",
       "      <td>25H-HARDWARE (25H)</td>\n",
       "      <td>025-012</td>\n",
       "      <td>PNEUMATIC FASTENERS</td>\n",
       "      <td>RYOBI</td>\n",
       "      <td>203810823</td>\n",
       "      <td>203810823-ONE  18V Cordless AirStrike 18 Gauge...</td>\n",
       "      <td>0.0</td>\n",
       "      <td>0.0</td>\n",
       "      <td>0.0</td>\n",
       "      <td>0.0</td>\n",
       "      <td>...</td>\n",
       "      <td>1548.0</td>\n",
       "      <td>1935.0</td>\n",
       "      <td>1793.0</td>\n",
       "      <td>1494.0</td>\n",
       "      <td>1</td>\n",
       "      <td>16</td>\n",
       "      <td>1</td>\n",
       "      <td>0</td>\n",
       "      <td>0</td>\n",
       "      <td>1</td>\n",
       "    </tr>\n",
       "    <tr>\n",
       "      <th>2018-01-17</th>\n",
       "      <td>25H-HARDWARE (25H)</td>\n",
       "      <td>025-012</td>\n",
       "      <td>PNEUMATIC FASTENERS</td>\n",
       "      <td>RYOBI</td>\n",
       "      <td>203810823</td>\n",
       "      <td>203810823-ONE  18V Cordless AirStrike 18 Gauge...</td>\n",
       "      <td>0.0</td>\n",
       "      <td>0.0</td>\n",
       "      <td>0.0</td>\n",
       "      <td>0.0</td>\n",
       "      <td>...</td>\n",
       "      <td>1793.0</td>\n",
       "      <td>1548.0</td>\n",
       "      <td>1032.0</td>\n",
       "      <td>1032.0</td>\n",
       "      <td>1</td>\n",
       "      <td>17</td>\n",
       "      <td>2</td>\n",
       "      <td>0</td>\n",
       "      <td>0</td>\n",
       "      <td>1</td>\n",
       "    </tr>\n",
       "  </tbody>\n",
       "</table>\n",
       "<p>5 rows × 30 columns</p>\n",
       "</div>"
      ],
      "text/plain": [
       "                    merch_dept class_nbr           class_name mfg_brand_name  \\\n",
       "cal_dt                                                                         \n",
       "2018-01-13  25H-HARDWARE (25H)   025-012  PNEUMATIC FASTENERS          RYOBI   \n",
       "2018-01-14  25H-HARDWARE (25H)   025-012  PNEUMATIC FASTENERS          RYOBI   \n",
       "2018-01-15  25H-HARDWARE (25H)   025-012  PNEUMATIC FASTENERS          RYOBI   \n",
       "2018-01-16  25H-HARDWARE (25H)   025-012  PNEUMATIC FASTENERS          RYOBI   \n",
       "2018-01-17  25H-HARDWARE (25H)   025-012  PNEUMATIC FASTENERS          RYOBI   \n",
       "\n",
       "               oms_id                                  internet_sku_name  \\\n",
       "cal_dt                                                                     \n",
       "2018-01-13  203810823  203810823-ONE  18V Cordless AirStrike 18 Gauge...   \n",
       "2018-01-14  203810823  203810823-ONE  18V Cordless AirStrike 18 Gauge...   \n",
       "2018-01-15  203810823  203810823-ONE  18V Cordless AirStrike 18 Gauge...   \n",
       "2018-01-16  203810823  203810823-ONE  18V Cordless AirStrike 18 Gauge...   \n",
       "2018-01-17  203810823  203810823-ONE  18V Cordless AirStrike 18 Gauge...   \n",
       "\n",
       "            is_incart  is_special_buy  is_bau  is_major_event  ...  lagprice4  \\\n",
       "cal_dt                                                         ...              \n",
       "2018-01-13        0.0             0.0     0.0             0.0  ...     1793.0   \n",
       "2018-01-14        0.0             0.0     0.0             0.0  ...     1032.0   \n",
       "2018-01-15        0.0             0.0     0.0             0.0  ...     1935.0   \n",
       "2018-01-16        0.0             0.0     0.0             0.0  ...     1548.0   \n",
       "2018-01-17        0.0             0.0     0.0             0.0  ...     1793.0   \n",
       "\n",
       "            lagprice5  lagprice7  lagprice11  month  dayofweek  Weekday  \\\n",
       "cal_dt                                                                    \n",
       "2018-01-13     1548.0     1032.0      2064.0      1         13        5   \n",
       "2018-01-14     1793.0     1161.0      1776.0      1         14        6   \n",
       "2018-01-15     1032.0     1548.0      1406.0      1         15        0   \n",
       "2018-01-16     1935.0     1793.0      1494.0      1         16        1   \n",
       "2018-01-17     1548.0     1032.0      1032.0      1         17        2   \n",
       "\n",
       "            weekend_indi  isLeapYear  quarter  \n",
       "cal_dt                                         \n",
       "2018-01-13             1           0        1  \n",
       "2018-01-14             1           0        1  \n",
       "2018-01-15             0           0        1  \n",
       "2018-01-16             0           0        1  \n",
       "2018-01-17             0           0        1  \n",
       "\n",
       "[5 rows x 30 columns]"
      ]
     },
     "execution_count": 19,
     "metadata": {},
     "output_type": "execute_result"
    }
   ],
   "source": [
    "# Add Quarter\n",
    "df['quarter'] = [df.index[i].quarter for i in range(len(df))]\n",
    "df.head()"
   ]
  },
  {
   "cell_type": "code",
   "execution_count": 20,
   "id": "1790ab5f-d1ea-4959-a276-554e3bd0f2ec",
   "metadata": {},
   "outputs": [],
   "source": [
    "# Add US Holidays\n",
    "import pandas as pd\n",
    "from pandas.tseries.holiday import *\n",
    "from pandas.tseries.offsets import CustomBusinessDay\n",
    "import numpy as np\n",
    "import pandas as pd\n",
    "import holidays\n",
    "import datetime\n",
    "\n",
    "class GothamBusinessCalendar(AbstractHolidayCalendar):\n",
    "   rules = [\n",
    "     Holiday('New Year', month=1, day=1, observance=sunday_to_monday),\n",
    "     Holiday('Groundhog Day', month=1, day=6, observance=sunday_to_monday),\n",
    "     Holiday('St. Patricks Day', month=3, day=17, observance=sunday_to_monday),\n",
    "     Holiday('April Fools Day', month=4, day=1),\n",
    "     Holiday('Good Friday', month=1, day=1, offset=[Easter(), Day(-2)]),\n",
    "     Holiday('Labor Day', month=5, day=1, observance=sunday_to_monday),\n",
    "     Holiday('Canada Day', month=7, day=1, observance=sunday_to_monday),\n",
    "     Holiday('July 4th', month=7, day=4, observance=nearest_workday),\n",
    "     Holiday('All Saints Day', month=11, day=1, observance=sunday_to_monday),\n",
    "     Holiday('Christmas', month=12, day=25, observance=nearest_workday),\n",
    "   ]"
   ]
  },
  {
   "cell_type": "code",
   "execution_count": 21,
   "id": "484b05f5-f332-4087-b609-18980283fafc",
   "metadata": {},
   "outputs": [
    {
     "name": "stdout",
     "output_type": "stream",
     "text": [
      "(datetime.date(2018, 1, 1), \"New Year's Day\")\n",
      "(datetime.date(2018, 1, 15), 'Martin Luther King Jr. Day')\n",
      "(datetime.date(2018, 2, 19), \"Washington's Birthday\")\n",
      "(datetime.date(2018, 5, 28), 'Memorial Day')\n",
      "(datetime.date(2018, 7, 4), 'Independence Day')\n",
      "(datetime.date(2018, 9, 3), 'Labor Day')\n",
      "(datetime.date(2018, 10, 8), 'Columbus Day')\n",
      "(datetime.date(2018, 11, 11), 'Veterans Day')\n",
      "(datetime.date(2018, 11, 12), 'Veterans Day (Observed)')\n",
      "(datetime.date(2018, 11, 22), 'Thanksgiving')\n",
      "(datetime.date(2018, 12, 25), 'Christmas Day')\n",
      "(datetime.date(2019, 1, 1), \"New Year's Day\")\n",
      "(datetime.date(2019, 1, 21), 'Martin Luther King Jr. Day')\n",
      "(datetime.date(2019, 2, 18), \"Washington's Birthday\")\n",
      "(datetime.date(2019, 5, 27), 'Memorial Day')\n",
      "(datetime.date(2019, 7, 4), 'Independence Day')\n",
      "(datetime.date(2019, 9, 2), 'Labor Day')\n",
      "(datetime.date(2019, 10, 14), 'Columbus Day')\n",
      "(datetime.date(2019, 11, 11), 'Veterans Day')\n",
      "(datetime.date(2019, 11, 28), 'Thanksgiving')\n",
      "(datetime.date(2019, 12, 25), 'Christmas Day')\n",
      "(datetime.date(2020, 1, 1), \"New Year's Day\")\n",
      "(datetime.date(2020, 1, 20), 'Martin Luther King Jr. Day')\n",
      "(datetime.date(2020, 2, 17), \"Washington's Birthday\")\n",
      "(datetime.date(2020, 5, 25), 'Memorial Day')\n",
      "(datetime.date(2020, 7, 4), 'Independence Day')\n",
      "(datetime.date(2020, 7, 3), 'Independence Day (Observed)')\n",
      "(datetime.date(2020, 9, 7), 'Labor Day')\n",
      "(datetime.date(2020, 10, 12), 'Columbus Day')\n",
      "(datetime.date(2020, 11, 11), 'Veterans Day')\n",
      "(datetime.date(2020, 11, 26), 'Thanksgiving')\n",
      "(datetime.date(2020, 12, 25), 'Christmas Day')\n",
      "(datetime.date(2021, 1, 1), \"New Year's Day\")\n",
      "(datetime.date(2021, 12, 31), \"New Year's Day (Observed)\")\n",
      "(datetime.date(2021, 1, 18), 'Martin Luther King Jr. Day')\n",
      "(datetime.date(2021, 2, 15), \"Washington's Birthday\")\n",
      "(datetime.date(2021, 5, 31), 'Memorial Day')\n",
      "(datetime.date(2021, 6, 19), 'Juneteenth National Independence Day')\n",
      "(datetime.date(2021, 7, 4), 'Independence Day')\n",
      "(datetime.date(2021, 7, 5), 'Independence Day (Observed)')\n",
      "(datetime.date(2021, 9, 6), 'Labor Day')\n",
      "(datetime.date(2021, 10, 11), 'Columbus Day')\n",
      "(datetime.date(2021, 11, 11), 'Veterans Day')\n",
      "(datetime.date(2021, 11, 25), 'Thanksgiving')\n",
      "(datetime.date(2021, 12, 25), 'Christmas Day')\n",
      "(datetime.date(2021, 12, 24), 'Christmas Day (Observed)')\n"
     ]
    }
   ],
   "source": [
    "for date in holidays.UnitedStates(years = [2018,2019,2020,2021]).items():\n",
    "  print(date)"
   ]
  },
  {
   "cell_type": "code",
   "execution_count": 22,
   "id": "42313c2a-8fcb-495e-9b81-adc6b5b6bb35",
   "metadata": {},
   "outputs": [],
   "source": [
    "us_holiday = []\n",
    "for date in holidays.UnitedStates(years = [2018,2019,2020,2021]).items():\n",
    "  us_holiday.append(str(date[0]))"
   ]
  },
  {
   "cell_type": "code",
   "execution_count": 23,
   "id": "93ae5b53-d5af-4d6e-a47d-b642638937aa",
   "metadata": {},
   "outputs": [
    {
     "data": {
      "text/html": [
       "<div>\n",
       "<style scoped>\n",
       "    .dataframe tbody tr th:only-of-type {\n",
       "        vertical-align: middle;\n",
       "    }\n",
       "\n",
       "    .dataframe tbody tr th {\n",
       "        vertical-align: top;\n",
       "    }\n",
       "\n",
       "    .dataframe thead th {\n",
       "        text-align: right;\n",
       "    }\n",
       "</style>\n",
       "<table border=\"1\" class=\"dataframe\">\n",
       "  <thead>\n",
       "    <tr style=\"text-align: right;\">\n",
       "      <th></th>\n",
       "      <th>merch_dept</th>\n",
       "      <th>class_nbr</th>\n",
       "      <th>class_name</th>\n",
       "      <th>mfg_brand_name</th>\n",
       "      <th>oms_id</th>\n",
       "      <th>internet_sku_name</th>\n",
       "      <th>is_incart</th>\n",
       "      <th>is_special_buy</th>\n",
       "      <th>is_bau</th>\n",
       "      <th>is_major_event</th>\n",
       "      <th>...</th>\n",
       "      <th>lagprice4</th>\n",
       "      <th>lagprice5</th>\n",
       "      <th>lagprice7</th>\n",
       "      <th>lagprice11</th>\n",
       "      <th>month</th>\n",
       "      <th>dayofweek</th>\n",
       "      <th>Weekday</th>\n",
       "      <th>weekend_indi</th>\n",
       "      <th>isLeapYear</th>\n",
       "      <th>quarter</th>\n",
       "    </tr>\n",
       "    <tr>\n",
       "      <th>cal_dt</th>\n",
       "      <th></th>\n",
       "      <th></th>\n",
       "      <th></th>\n",
       "      <th></th>\n",
       "      <th></th>\n",
       "      <th></th>\n",
       "      <th></th>\n",
       "      <th></th>\n",
       "      <th></th>\n",
       "      <th></th>\n",
       "      <th></th>\n",
       "      <th></th>\n",
       "      <th></th>\n",
       "      <th></th>\n",
       "      <th></th>\n",
       "      <th></th>\n",
       "      <th></th>\n",
       "      <th></th>\n",
       "      <th></th>\n",
       "      <th></th>\n",
       "      <th></th>\n",
       "    </tr>\n",
       "  </thead>\n",
       "  <tbody>\n",
       "    <tr>\n",
       "      <th>2018-01-13</th>\n",
       "      <td>25H-HARDWARE (25H)</td>\n",
       "      <td>025-012</td>\n",
       "      <td>PNEUMATIC FASTENERS</td>\n",
       "      <td>RYOBI</td>\n",
       "      <td>203810823</td>\n",
       "      <td>203810823-ONE  18V Cordless AirStrike 18 Gauge...</td>\n",
       "      <td>0.0</td>\n",
       "      <td>0.0</td>\n",
       "      <td>0.0</td>\n",
       "      <td>0.0</td>\n",
       "      <td>...</td>\n",
       "      <td>1793.0</td>\n",
       "      <td>1548.0</td>\n",
       "      <td>1032.0</td>\n",
       "      <td>2064.0</td>\n",
       "      <td>1</td>\n",
       "      <td>13</td>\n",
       "      <td>5</td>\n",
       "      <td>1</td>\n",
       "      <td>0</td>\n",
       "      <td>1</td>\n",
       "    </tr>\n",
       "    <tr>\n",
       "      <th>2018-01-14</th>\n",
       "      <td>25H-HARDWARE (25H)</td>\n",
       "      <td>025-012</td>\n",
       "      <td>PNEUMATIC FASTENERS</td>\n",
       "      <td>RYOBI</td>\n",
       "      <td>203810823</td>\n",
       "      <td>203810823-ONE  18V Cordless AirStrike 18 Gauge...</td>\n",
       "      <td>0.0</td>\n",
       "      <td>0.0</td>\n",
       "      <td>0.0</td>\n",
       "      <td>0.0</td>\n",
       "      <td>...</td>\n",
       "      <td>1032.0</td>\n",
       "      <td>1793.0</td>\n",
       "      <td>1161.0</td>\n",
       "      <td>1776.0</td>\n",
       "      <td>1</td>\n",
       "      <td>14</td>\n",
       "      <td>6</td>\n",
       "      <td>1</td>\n",
       "      <td>0</td>\n",
       "      <td>1</td>\n",
       "    </tr>\n",
       "    <tr>\n",
       "      <th>2018-01-15</th>\n",
       "      <td>25H-HARDWARE (25H)</td>\n",
       "      <td>025-012</td>\n",
       "      <td>PNEUMATIC FASTENERS</td>\n",
       "      <td>RYOBI</td>\n",
       "      <td>203810823</td>\n",
       "      <td>203810823-ONE  18V Cordless AirStrike 18 Gauge...</td>\n",
       "      <td>0.0</td>\n",
       "      <td>0.0</td>\n",
       "      <td>0.0</td>\n",
       "      <td>0.0</td>\n",
       "      <td>...</td>\n",
       "      <td>1935.0</td>\n",
       "      <td>1032.0</td>\n",
       "      <td>1548.0</td>\n",
       "      <td>1406.0</td>\n",
       "      <td>1</td>\n",
       "      <td>15</td>\n",
       "      <td>0</td>\n",
       "      <td>0</td>\n",
       "      <td>0</td>\n",
       "      <td>1</td>\n",
       "    </tr>\n",
       "    <tr>\n",
       "      <th>2018-01-16</th>\n",
       "      <td>25H-HARDWARE (25H)</td>\n",
       "      <td>025-012</td>\n",
       "      <td>PNEUMATIC FASTENERS</td>\n",
       "      <td>RYOBI</td>\n",
       "      <td>203810823</td>\n",
       "      <td>203810823-ONE  18V Cordless AirStrike 18 Gauge...</td>\n",
       "      <td>0.0</td>\n",
       "      <td>0.0</td>\n",
       "      <td>0.0</td>\n",
       "      <td>0.0</td>\n",
       "      <td>...</td>\n",
       "      <td>1548.0</td>\n",
       "      <td>1935.0</td>\n",
       "      <td>1793.0</td>\n",
       "      <td>1494.0</td>\n",
       "      <td>1</td>\n",
       "      <td>16</td>\n",
       "      <td>1</td>\n",
       "      <td>0</td>\n",
       "      <td>0</td>\n",
       "      <td>1</td>\n",
       "    </tr>\n",
       "    <tr>\n",
       "      <th>2018-01-17</th>\n",
       "      <td>25H-HARDWARE (25H)</td>\n",
       "      <td>025-012</td>\n",
       "      <td>PNEUMATIC FASTENERS</td>\n",
       "      <td>RYOBI</td>\n",
       "      <td>203810823</td>\n",
       "      <td>203810823-ONE  18V Cordless AirStrike 18 Gauge...</td>\n",
       "      <td>0.0</td>\n",
       "      <td>0.0</td>\n",
       "      <td>0.0</td>\n",
       "      <td>0.0</td>\n",
       "      <td>...</td>\n",
       "      <td>1793.0</td>\n",
       "      <td>1548.0</td>\n",
       "      <td>1032.0</td>\n",
       "      <td>1032.0</td>\n",
       "      <td>1</td>\n",
       "      <td>17</td>\n",
       "      <td>2</td>\n",
       "      <td>0</td>\n",
       "      <td>0</td>\n",
       "      <td>1</td>\n",
       "    </tr>\n",
       "  </tbody>\n",
       "</table>\n",
       "<p>5 rows × 30 columns</p>\n",
       "</div>"
      ],
      "text/plain": [
       "                    merch_dept class_nbr           class_name mfg_brand_name  \\\n",
       "cal_dt                                                                         \n",
       "2018-01-13  25H-HARDWARE (25H)   025-012  PNEUMATIC FASTENERS          RYOBI   \n",
       "2018-01-14  25H-HARDWARE (25H)   025-012  PNEUMATIC FASTENERS          RYOBI   \n",
       "2018-01-15  25H-HARDWARE (25H)   025-012  PNEUMATIC FASTENERS          RYOBI   \n",
       "2018-01-16  25H-HARDWARE (25H)   025-012  PNEUMATIC FASTENERS          RYOBI   \n",
       "2018-01-17  25H-HARDWARE (25H)   025-012  PNEUMATIC FASTENERS          RYOBI   \n",
       "\n",
       "               oms_id                                  internet_sku_name  \\\n",
       "cal_dt                                                                     \n",
       "2018-01-13  203810823  203810823-ONE  18V Cordless AirStrike 18 Gauge...   \n",
       "2018-01-14  203810823  203810823-ONE  18V Cordless AirStrike 18 Gauge...   \n",
       "2018-01-15  203810823  203810823-ONE  18V Cordless AirStrike 18 Gauge...   \n",
       "2018-01-16  203810823  203810823-ONE  18V Cordless AirStrike 18 Gauge...   \n",
       "2018-01-17  203810823  203810823-ONE  18V Cordless AirStrike 18 Gauge...   \n",
       "\n",
       "            is_incart  is_special_buy  is_bau  is_major_event  ...  lagprice4  \\\n",
       "cal_dt                                                         ...              \n",
       "2018-01-13        0.0             0.0     0.0             0.0  ...     1793.0   \n",
       "2018-01-14        0.0             0.0     0.0             0.0  ...     1032.0   \n",
       "2018-01-15        0.0             0.0     0.0             0.0  ...     1935.0   \n",
       "2018-01-16        0.0             0.0     0.0             0.0  ...     1548.0   \n",
       "2018-01-17        0.0             0.0     0.0             0.0  ...     1793.0   \n",
       "\n",
       "            lagprice5  lagprice7  lagprice11  month  dayofweek  Weekday  \\\n",
       "cal_dt                                                                    \n",
       "2018-01-13     1548.0     1032.0      2064.0      1         13        5   \n",
       "2018-01-14     1793.0     1161.0      1776.0      1         14        6   \n",
       "2018-01-15     1032.0     1548.0      1406.0      1         15        0   \n",
       "2018-01-16     1935.0     1793.0      1494.0      1         16        1   \n",
       "2018-01-17     1548.0     1032.0      1032.0      1         17        2   \n",
       "\n",
       "            weekend_indi  isLeapYear  quarter  \n",
       "cal_dt                                         \n",
       "2018-01-13             1           0        1  \n",
       "2018-01-14             1           0        1  \n",
       "2018-01-15             0           0        1  \n",
       "2018-01-16             0           0        1  \n",
       "2018-01-17             0           0        1  \n",
       "\n",
       "[5 rows x 30 columns]"
      ]
     },
     "execution_count": 23,
     "metadata": {},
     "output_type": "execute_result"
    }
   ],
   "source": [
    "df.head()"
   ]
  },
  {
   "cell_type": "code",
   "execution_count": 24,
   "id": "9bfd43f4-c741-4b46-b6be-31dc11fe0318",
   "metadata": {},
   "outputs": [
    {
     "data": {
      "text/html": [
       "<div>\n",
       "<style scoped>\n",
       "    .dataframe tbody tr th:only-of-type {\n",
       "        vertical-align: middle;\n",
       "    }\n",
       "\n",
       "    .dataframe tbody tr th {\n",
       "        vertical-align: top;\n",
       "    }\n",
       "\n",
       "    .dataframe thead th {\n",
       "        text-align: right;\n",
       "    }\n",
       "</style>\n",
       "<table border=\"1\" class=\"dataframe\">\n",
       "  <thead>\n",
       "    <tr style=\"text-align: right;\">\n",
       "      <th></th>\n",
       "      <th>merch_dept</th>\n",
       "      <th>class_nbr</th>\n",
       "      <th>class_name</th>\n",
       "      <th>mfg_brand_name</th>\n",
       "      <th>oms_id</th>\n",
       "      <th>internet_sku_name</th>\n",
       "      <th>is_incart</th>\n",
       "      <th>is_special_buy</th>\n",
       "      <th>is_bau</th>\n",
       "      <th>is_major_event</th>\n",
       "      <th>...</th>\n",
       "      <th>lagprice4</th>\n",
       "      <th>lagprice5</th>\n",
       "      <th>lagprice7</th>\n",
       "      <th>lagprice11</th>\n",
       "      <th>month</th>\n",
       "      <th>dayofweek</th>\n",
       "      <th>Weekday</th>\n",
       "      <th>weekend_indi</th>\n",
       "      <th>isLeapYear</th>\n",
       "      <th>quarter</th>\n",
       "    </tr>\n",
       "    <tr>\n",
       "      <th>cal_dt</th>\n",
       "      <th></th>\n",
       "      <th></th>\n",
       "      <th></th>\n",
       "      <th></th>\n",
       "      <th></th>\n",
       "      <th></th>\n",
       "      <th></th>\n",
       "      <th></th>\n",
       "      <th></th>\n",
       "      <th></th>\n",
       "      <th></th>\n",
       "      <th></th>\n",
       "      <th></th>\n",
       "      <th></th>\n",
       "      <th></th>\n",
       "      <th></th>\n",
       "      <th></th>\n",
       "      <th></th>\n",
       "      <th></th>\n",
       "      <th></th>\n",
       "      <th></th>\n",
       "    </tr>\n",
       "  </thead>\n",
       "  <tbody>\n",
       "    <tr>\n",
       "      <th>2021-10-14</th>\n",
       "      <td>25H-HARDWARE (25H)</td>\n",
       "      <td>025-012</td>\n",
       "      <td>PNEUMATIC FASTENERS</td>\n",
       "      <td>RYOBI</td>\n",
       "      <td>203810823</td>\n",
       "      <td>203810823-ONE  18V Cordless AirStrike 18 Gauge...</td>\n",
       "      <td>0.0</td>\n",
       "      <td>0.0</td>\n",
       "      <td>1.0</td>\n",
       "      <td>0.0</td>\n",
       "      <td>...</td>\n",
       "      <td>5838.0</td>\n",
       "      <td>5453.0</td>\n",
       "      <td>6193.0</td>\n",
       "      <td>4645.0</td>\n",
       "      <td>10</td>\n",
       "      <td>14</td>\n",
       "      <td>3</td>\n",
       "      <td>0</td>\n",
       "      <td>0</td>\n",
       "      <td>4</td>\n",
       "    </tr>\n",
       "    <tr>\n",
       "      <th>2021-10-15</th>\n",
       "      <td>25H-HARDWARE (25H)</td>\n",
       "      <td>025-012</td>\n",
       "      <td>PNEUMATIC FASTENERS</td>\n",
       "      <td>RYOBI</td>\n",
       "      <td>203810823</td>\n",
       "      <td>203810823-ONE  18V Cordless AirStrike 18 Gauge...</td>\n",
       "      <td>0.0</td>\n",
       "      <td>0.0</td>\n",
       "      <td>1.0</td>\n",
       "      <td>0.0</td>\n",
       "      <td>...</td>\n",
       "      <td>6933.0</td>\n",
       "      <td>5838.0</td>\n",
       "      <td>6738.0</td>\n",
       "      <td>7155.0</td>\n",
       "      <td>10</td>\n",
       "      <td>15</td>\n",
       "      <td>4</td>\n",
       "      <td>1</td>\n",
       "      <td>0</td>\n",
       "      <td>4</td>\n",
       "    </tr>\n",
       "    <tr>\n",
       "      <th>2021-10-16</th>\n",
       "      <td>25H-HARDWARE (25H)</td>\n",
       "      <td>025-012</td>\n",
       "      <td>PNEUMATIC FASTENERS</td>\n",
       "      <td>RYOBI</td>\n",
       "      <td>203810823</td>\n",
       "      <td>203810823-ONE  18V Cordless AirStrike 18 Gauge...</td>\n",
       "      <td>0.0</td>\n",
       "      <td>0.0</td>\n",
       "      <td>1.0</td>\n",
       "      <td>0.0</td>\n",
       "      <td>...</td>\n",
       "      <td>6034.0</td>\n",
       "      <td>6933.0</td>\n",
       "      <td>5453.0</td>\n",
       "      <td>6530.0</td>\n",
       "      <td>10</td>\n",
       "      <td>16</td>\n",
       "      <td>5</td>\n",
       "      <td>1</td>\n",
       "      <td>0</td>\n",
       "      <td>4</td>\n",
       "    </tr>\n",
       "    <tr>\n",
       "      <th>2021-10-17</th>\n",
       "      <td>25H-HARDWARE (25H)</td>\n",
       "      <td>025-012</td>\n",
       "      <td>PNEUMATIC FASTENERS</td>\n",
       "      <td>RYOBI</td>\n",
       "      <td>203810823</td>\n",
       "      <td>203810823-ONE  18V Cordless AirStrike 18 Gauge...</td>\n",
       "      <td>0.0</td>\n",
       "      <td>0.0</td>\n",
       "      <td>1.0</td>\n",
       "      <td>0.0</td>\n",
       "      <td>...</td>\n",
       "      <td>6797.0</td>\n",
       "      <td>6034.0</td>\n",
       "      <td>5838.0</td>\n",
       "      <td>6637.0</td>\n",
       "      <td>10</td>\n",
       "      <td>17</td>\n",
       "      <td>6</td>\n",
       "      <td>1</td>\n",
       "      <td>0</td>\n",
       "      <td>4</td>\n",
       "    </tr>\n",
       "    <tr>\n",
       "      <th>2021-10-18</th>\n",
       "      <td>25H-HARDWARE (25H)</td>\n",
       "      <td>025-012</td>\n",
       "      <td>PNEUMATIC FASTENERS</td>\n",
       "      <td>RYOBI</td>\n",
       "      <td>203810823</td>\n",
       "      <td>203810823-ONE  18V Cordless AirStrike 18 Gauge...</td>\n",
       "      <td>0.0</td>\n",
       "      <td>0.0</td>\n",
       "      <td>1.0</td>\n",
       "      <td>0.0</td>\n",
       "      <td>...</td>\n",
       "      <td>9140.0</td>\n",
       "      <td>6797.0</td>\n",
       "      <td>6933.0</td>\n",
       "      <td>6193.0</td>\n",
       "      <td>10</td>\n",
       "      <td>18</td>\n",
       "      <td>0</td>\n",
       "      <td>0</td>\n",
       "      <td>0</td>\n",
       "      <td>4</td>\n",
       "    </tr>\n",
       "  </tbody>\n",
       "</table>\n",
       "<p>5 rows × 30 columns</p>\n",
       "</div>"
      ],
      "text/plain": [
       "                    merch_dept class_nbr           class_name mfg_brand_name  \\\n",
       "cal_dt                                                                         \n",
       "2021-10-14  25H-HARDWARE (25H)   025-012  PNEUMATIC FASTENERS          RYOBI   \n",
       "2021-10-15  25H-HARDWARE (25H)   025-012  PNEUMATIC FASTENERS          RYOBI   \n",
       "2021-10-16  25H-HARDWARE (25H)   025-012  PNEUMATIC FASTENERS          RYOBI   \n",
       "2021-10-17  25H-HARDWARE (25H)   025-012  PNEUMATIC FASTENERS          RYOBI   \n",
       "2021-10-18  25H-HARDWARE (25H)   025-012  PNEUMATIC FASTENERS          RYOBI   \n",
       "\n",
       "               oms_id                                  internet_sku_name  \\\n",
       "cal_dt                                                                     \n",
       "2021-10-14  203810823  203810823-ONE  18V Cordless AirStrike 18 Gauge...   \n",
       "2021-10-15  203810823  203810823-ONE  18V Cordless AirStrike 18 Gauge...   \n",
       "2021-10-16  203810823  203810823-ONE  18V Cordless AirStrike 18 Gauge...   \n",
       "2021-10-17  203810823  203810823-ONE  18V Cordless AirStrike 18 Gauge...   \n",
       "2021-10-18  203810823  203810823-ONE  18V Cordless AirStrike 18 Gauge...   \n",
       "\n",
       "            is_incart  is_special_buy  is_bau  is_major_event  ...  lagprice4  \\\n",
       "cal_dt                                                         ...              \n",
       "2021-10-14        0.0             0.0     1.0             0.0  ...     5838.0   \n",
       "2021-10-15        0.0             0.0     1.0             0.0  ...     6933.0   \n",
       "2021-10-16        0.0             0.0     1.0             0.0  ...     6034.0   \n",
       "2021-10-17        0.0             0.0     1.0             0.0  ...     6797.0   \n",
       "2021-10-18        0.0             0.0     1.0             0.0  ...     9140.0   \n",
       "\n",
       "            lagprice5  lagprice7  lagprice11  month  dayofweek  Weekday  \\\n",
       "cal_dt                                                                    \n",
       "2021-10-14     5453.0     6193.0      4645.0     10         14        3   \n",
       "2021-10-15     5838.0     6738.0      7155.0     10         15        4   \n",
       "2021-10-16     6933.0     5453.0      6530.0     10         16        5   \n",
       "2021-10-17     6034.0     5838.0      6637.0     10         17        6   \n",
       "2021-10-18     6797.0     6933.0      6193.0     10         18        0   \n",
       "\n",
       "            weekend_indi  isLeapYear  quarter  \n",
       "cal_dt                                         \n",
       "2021-10-14             0           0        4  \n",
       "2021-10-15             1           0        4  \n",
       "2021-10-16             1           0        4  \n",
       "2021-10-17             1           0        4  \n",
       "2021-10-18             0           0        4  \n",
       "\n",
       "[5 rows x 30 columns]"
      ]
     },
     "execution_count": 24,
     "metadata": {},
     "output_type": "execute_result"
    }
   ],
   "source": [
    "df.tail()"
   ]
  },
  {
   "cell_type": "code",
   "execution_count": 25,
   "id": "94f3850e-1f82-402b-9e6e-536a3e236725",
   "metadata": {},
   "outputs": [
    {
     "data": {
      "text/plain": [
       "DatetimeIndex(['2018-01-13', '2018-01-14', '2018-01-15', '2018-01-16',\n",
       "               '2018-01-17', '2018-01-18', '2018-01-19', '2018-01-20',\n",
       "               '2018-01-21', '2018-01-22',\n",
       "               ...\n",
       "               '2021-10-09', '2021-10-10', '2021-10-11', '2021-10-12',\n",
       "               '2021-10-13', '2021-10-14', '2021-10-15', '2021-10-16',\n",
       "               '2021-10-17', '2021-10-18'],\n",
       "              dtype='datetime64[ns]', length=1375, freq='D')"
      ]
     },
     "execution_count": 25,
     "metadata": {},
     "output_type": "execute_result"
    }
   ],
   "source": [
    "import datetime\n",
    "start_date = datetime.datetime(year = 2018, month = 1, day=13)\n",
    "end_date = datetime.datetime(year = 2021, month = 10, day = 18)\n",
    "pd.date_range(start_date, end_date)"
   ]
  },
  {
   "cell_type": "code",
   "execution_count": 26,
   "id": "9590ce25-c2e7-4b3f-97cf-efe8f7d9f3ce",
   "metadata": {},
   "outputs": [],
   "source": [
    "df_date = pd.DataFrame()# Convert categorical data to One Hot Encoding\n",
    "df = pd.get_dummies(df, columns=[\"month\", \"dayofweek\",\"Weekday\",\"quarter\",\"merch_dept\",\"class_nbr\",\"class_name\",\"mfg_brand_name\",\"internet_sku_name\",\"oms_id\"], prefix=[\"month\", \"dayofweek\",\"Weekday\",\"quarter\",\"merch_dept\",\"class_nbr\",\"class_name\",\"mfg_brand_name\",\"internet_sku_name\",\"oms_id\"])\n",
    "df_date['Dates'] = pd.date_range(start_date, end_date)"
   ]
  },
  {
   "cell_type": "code",
   "execution_count": 27,
   "id": "069dd2ce-9bc8-447a-8e39-232a8eead458",
   "metadata": {},
   "outputs": [],
   "source": [
    "df['Is_Holiday'] = [\n",
    "                    1 if str(val).split()[0] in us_holiday else 0 for val in df_date['Dates']\n",
    "]"
   ]
  },
  {
   "cell_type": "code",
   "execution_count": 28,
   "id": "8d7e9706-5a1d-4ba1-bc39-45c80f9fd170",
   "metadata": {},
   "outputs": [
    {
     "data": {
      "text/html": [
       "<div>\n",
       "<style scoped>\n",
       "    .dataframe tbody tr th:only-of-type {\n",
       "        vertical-align: middle;\n",
       "    }\n",
       "\n",
       "    .dataframe tbody tr th {\n",
       "        vertical-align: top;\n",
       "    }\n",
       "\n",
       "    .dataframe thead th {\n",
       "        text-align: right;\n",
       "    }\n",
       "</style>\n",
       "<table border=\"1\" class=\"dataframe\">\n",
       "  <thead>\n",
       "    <tr style=\"text-align: right;\">\n",
       "      <th></th>\n",
       "      <th>is_incart</th>\n",
       "      <th>is_special_buy</th>\n",
       "      <th>is_bau</th>\n",
       "      <th>is_major_event</th>\n",
       "      <th>is_event</th>\n",
       "      <th>ty_regular_retail</th>\n",
       "      <th>ty_effective_retail</th>\n",
       "      <th>markdown</th>\n",
       "      <th>ty_promo_gross_demand</th>\n",
       "      <th>promo_pen</th>\n",
       "      <th>...</th>\n",
       "      <th>quarter_2</th>\n",
       "      <th>quarter_3</th>\n",
       "      <th>quarter_4</th>\n",
       "      <th>merch_dept_25H-HARDWARE (25H)</th>\n",
       "      <th>class_nbr_025-012</th>\n",
       "      <th>class_name_PNEUMATIC FASTENERS</th>\n",
       "      <th>mfg_brand_name_RYOBI</th>\n",
       "      <th>internet_sku_name_203810823-ONE  18V Cordless AirStrike 18 Gauge Brad Nailer  Tool Only  with Sample Nails</th>\n",
       "      <th>oms_id_203810823</th>\n",
       "      <th>Is_Holiday</th>\n",
       "    </tr>\n",
       "    <tr>\n",
       "      <th>cal_dt</th>\n",
       "      <th></th>\n",
       "      <th></th>\n",
       "      <th></th>\n",
       "      <th></th>\n",
       "      <th></th>\n",
       "      <th></th>\n",
       "      <th></th>\n",
       "      <th></th>\n",
       "      <th></th>\n",
       "      <th></th>\n",
       "      <th></th>\n",
       "      <th></th>\n",
       "      <th></th>\n",
       "      <th></th>\n",
       "      <th></th>\n",
       "      <th></th>\n",
       "      <th></th>\n",
       "      <th></th>\n",
       "      <th></th>\n",
       "      <th></th>\n",
       "      <th></th>\n",
       "    </tr>\n",
       "  </thead>\n",
       "  <tbody>\n",
       "    <tr>\n",
       "      <th>2018-01-13</th>\n",
       "      <td>0.0</td>\n",
       "      <td>0.0</td>\n",
       "      <td>0.0</td>\n",
       "      <td>0.0</td>\n",
       "      <td>0.0</td>\n",
       "      <td>129.0</td>\n",
       "      <td>128.14</td>\n",
       "      <td>0.86</td>\n",
       "      <td>0.0</td>\n",
       "      <td>0.0</td>\n",
       "      <td>...</td>\n",
       "      <td>0</td>\n",
       "      <td>0</td>\n",
       "      <td>0</td>\n",
       "      <td>1</td>\n",
       "      <td>1</td>\n",
       "      <td>1</td>\n",
       "      <td>1</td>\n",
       "      <td>1</td>\n",
       "      <td>1</td>\n",
       "      <td>0</td>\n",
       "    </tr>\n",
       "    <tr>\n",
       "      <th>2018-01-14</th>\n",
       "      <td>0.0</td>\n",
       "      <td>0.0</td>\n",
       "      <td>0.0</td>\n",
       "      <td>0.0</td>\n",
       "      <td>0.0</td>\n",
       "      <td>129.0</td>\n",
       "      <td>129.00</td>\n",
       "      <td>0.00</td>\n",
       "      <td>0.0</td>\n",
       "      <td>0.0</td>\n",
       "      <td>...</td>\n",
       "      <td>0</td>\n",
       "      <td>0</td>\n",
       "      <td>0</td>\n",
       "      <td>1</td>\n",
       "      <td>1</td>\n",
       "      <td>1</td>\n",
       "      <td>1</td>\n",
       "      <td>1</td>\n",
       "      <td>1</td>\n",
       "      <td>0</td>\n",
       "    </tr>\n",
       "    <tr>\n",
       "      <th>2018-01-15</th>\n",
       "      <td>0.0</td>\n",
       "      <td>0.0</td>\n",
       "      <td>0.0</td>\n",
       "      <td>0.0</td>\n",
       "      <td>0.0</td>\n",
       "      <td>129.0</td>\n",
       "      <td>129.00</td>\n",
       "      <td>0.00</td>\n",
       "      <td>0.0</td>\n",
       "      <td>0.0</td>\n",
       "      <td>...</td>\n",
       "      <td>0</td>\n",
       "      <td>0</td>\n",
       "      <td>0</td>\n",
       "      <td>1</td>\n",
       "      <td>1</td>\n",
       "      <td>1</td>\n",
       "      <td>1</td>\n",
       "      <td>1</td>\n",
       "      <td>1</td>\n",
       "      <td>1</td>\n",
       "    </tr>\n",
       "    <tr>\n",
       "      <th>2018-01-16</th>\n",
       "      <td>0.0</td>\n",
       "      <td>0.0</td>\n",
       "      <td>0.0</td>\n",
       "      <td>0.0</td>\n",
       "      <td>0.0</td>\n",
       "      <td>129.0</td>\n",
       "      <td>129.00</td>\n",
       "      <td>0.00</td>\n",
       "      <td>0.0</td>\n",
       "      <td>0.0</td>\n",
       "      <td>...</td>\n",
       "      <td>0</td>\n",
       "      <td>0</td>\n",
       "      <td>0</td>\n",
       "      <td>1</td>\n",
       "      <td>1</td>\n",
       "      <td>1</td>\n",
       "      <td>1</td>\n",
       "      <td>1</td>\n",
       "      <td>1</td>\n",
       "      <td>0</td>\n",
       "    </tr>\n",
       "    <tr>\n",
       "      <th>2018-01-17</th>\n",
       "      <td>0.0</td>\n",
       "      <td>0.0</td>\n",
       "      <td>0.0</td>\n",
       "      <td>0.0</td>\n",
       "      <td>0.0</td>\n",
       "      <td>129.0</td>\n",
       "      <td>129.00</td>\n",
       "      <td>0.00</td>\n",
       "      <td>0.0</td>\n",
       "      <td>0.0</td>\n",
       "      <td>...</td>\n",
       "      <td>0</td>\n",
       "      <td>0</td>\n",
       "      <td>0</td>\n",
       "      <td>1</td>\n",
       "      <td>1</td>\n",
       "      <td>1</td>\n",
       "      <td>1</td>\n",
       "      <td>1</td>\n",
       "      <td>1</td>\n",
       "      <td>0</td>\n",
       "    </tr>\n",
       "  </tbody>\n",
       "</table>\n",
       "<p>5 rows × 81 columns</p>\n",
       "</div>"
      ],
      "text/plain": [
       "            is_incart  is_special_buy  is_bau  is_major_event  is_event  \\\n",
       "cal_dt                                                                    \n",
       "2018-01-13        0.0             0.0     0.0             0.0       0.0   \n",
       "2018-01-14        0.0             0.0     0.0             0.0       0.0   \n",
       "2018-01-15        0.0             0.0     0.0             0.0       0.0   \n",
       "2018-01-16        0.0             0.0     0.0             0.0       0.0   \n",
       "2018-01-17        0.0             0.0     0.0             0.0       0.0   \n",
       "\n",
       "            ty_regular_retail  ty_effective_retail  markdown  \\\n",
       "cal_dt                                                         \n",
       "2018-01-13              129.0               128.14      0.86   \n",
       "2018-01-14              129.0               129.00      0.00   \n",
       "2018-01-15              129.0               129.00      0.00   \n",
       "2018-01-16              129.0               129.00      0.00   \n",
       "2018-01-17              129.0               129.00      0.00   \n",
       "\n",
       "            ty_promo_gross_demand  promo_pen  ...  quarter_2  quarter_3  \\\n",
       "cal_dt                                        ...                         \n",
       "2018-01-13                    0.0        0.0  ...          0          0   \n",
       "2018-01-14                    0.0        0.0  ...          0          0   \n",
       "2018-01-15                    0.0        0.0  ...          0          0   \n",
       "2018-01-16                    0.0        0.0  ...          0          0   \n",
       "2018-01-17                    0.0        0.0  ...          0          0   \n",
       "\n",
       "            quarter_4  merch_dept_25H-HARDWARE (25H)  class_nbr_025-012  \\\n",
       "cal_dt                                                                    \n",
       "2018-01-13          0                              1                  1   \n",
       "2018-01-14          0                              1                  1   \n",
       "2018-01-15          0                              1                  1   \n",
       "2018-01-16          0                              1                  1   \n",
       "2018-01-17          0                              1                  1   \n",
       "\n",
       "            class_name_PNEUMATIC FASTENERS  mfg_brand_name_RYOBI  \\\n",
       "cal_dt                                                             \n",
       "2018-01-13                               1                     1   \n",
       "2018-01-14                               1                     1   \n",
       "2018-01-15                               1                     1   \n",
       "2018-01-16                               1                     1   \n",
       "2018-01-17                               1                     1   \n",
       "\n",
       "            internet_sku_name_203810823-ONE  18V Cordless AirStrike 18 Gauge Brad Nailer  Tool Only  with Sample Nails  \\\n",
       "cal_dt                                                                                                                   \n",
       "2018-01-13                                                  1                                                            \n",
       "2018-01-14                                                  1                                                            \n",
       "2018-01-15                                                  1                                                            \n",
       "2018-01-16                                                  1                                                            \n",
       "2018-01-17                                                  1                                                            \n",
       "\n",
       "            oms_id_203810823  Is_Holiday  \n",
       "cal_dt                                    \n",
       "2018-01-13                 1           0  \n",
       "2018-01-14                 1           0  \n",
       "2018-01-15                 1           1  \n",
       "2018-01-16                 1           0  \n",
       "2018-01-17                 1           0  \n",
       "\n",
       "[5 rows x 81 columns]"
      ]
     },
     "execution_count": 28,
     "metadata": {},
     "output_type": "execute_result"
    }
   ],
   "source": [
    "df.head()"
   ]
  },
  {
   "cell_type": "code",
   "execution_count": 29,
   "id": "f25d6cc4-1cfd-4c4c-ac0c-e467795ec51d",
   "metadata": {},
   "outputs": [],
   "source": [
    "# Thanksgiving\n",
    "df.loc['2018-11-22', 'Is_Holiday'] = 1\n",
    "df.loc['2019-11-28', 'Is_Holiday'] = 1\n",
    "df.loc['2020-11-26', 'Is_Holiday'] = 1\n",
    "\n",
    "# Black Friday\n",
    "df.loc['2018-11-23', 'Is_Holiday'] = 1\n",
    "df.loc['2019-11-29', 'Is_Holiday'] = 1\n",
    "df.loc['2020-11-27', 'Is_Holiday'] = 1\n",
    "\n",
    "# Cyber Monday\n",
    "df.loc['2018-11-26', 'Is_Holiday'] = 1\n",
    "df.loc['2019-12-2', 'Is_Holiday'] = 1\n",
    "df.loc['2020-11-30', 'Is_Holiday'] = 1\n",
    "\n",
    "# Valentines Day\n",
    "df.loc['2018-02-14', 'Is_Holiday'] = 1\n",
    "df.loc['2019-02-14', 'Is_Holiday'] = 1\n",
    "df.loc['2020-02-14', 'Is_Holiday'] = 1\n",
    "df.loc['2021-02-14', 'Is_Holiday'] = 1\n",
    "\n",
    "# Martin Luther King\n",
    "df.loc['2018-01-15', 'Is_Holiday'] = 1\n",
    "df.loc['2019-01-21', 'Is_Holiday'] = 1\n",
    "df.loc['2020-01-20', 'Is_Holiday'] = 1\n",
    "df.loc['2021-01-18', 'Is_Holiday'] = 1\n",
    "\n",
    "# Washington's Birthday\n",
    "df.loc['2018-02-19', 'Is_Holiday'] = 1\n",
    "df.loc['2019-02-18', 'Is_Holiday'] = 1\n",
    "df.loc['2020-02-17', 'Is_Holiday'] = 1\n",
    "df.loc['2021-02-15', 'Is_Holiday'] = 1\n",
    "\n",
    "# Memorial Day\n",
    "df.loc['2018-05-28', 'Is_Holiday'] = 1\n",
    "df.loc['2019-05-27', 'Is_Holiday'] = 1\n",
    "df.loc['2020-05-25', 'Is_Holiday'] = 1\n",
    "df.loc['2021-05-31', 'Is_Holiday'] = 1\n",
    "\n",
    "# Veterans Days\n",
    "df.loc['2018-11-11', 'Is_Holiday'] = 1\n",
    "df.loc['2019-11-11', 'Is_Holiday'] = 1\n",
    "df.loc['2020-11-11', 'Is_Holiday'] = 1\n",
    "\n",
    "# Easter\n",
    "df.loc['2018-04-01', 'Is_Holiday'] = 1\n",
    "df.loc['2019-04-21', 'Is_Holiday'] = 1\n",
    "df.loc['2020-04-12', 'Is_Holiday'] = 1\n",
    "df.loc['2021-04-04', 'Is_Holiday'] = 1"
   ]
  },
  {
   "cell_type": "code",
   "execution_count": 30,
   "id": "aecc3972-fb96-4ae3-98f2-c75d3807bb1a",
   "metadata": {},
   "outputs": [
    {
     "data": {
      "text/html": [
       "<div>\n",
       "<style scoped>\n",
       "    .dataframe tbody tr th:only-of-type {\n",
       "        vertical-align: middle;\n",
       "    }\n",
       "\n",
       "    .dataframe tbody tr th {\n",
       "        vertical-align: top;\n",
       "    }\n",
       "\n",
       "    .dataframe thead th {\n",
       "        text-align: right;\n",
       "    }\n",
       "</style>\n",
       "<table border=\"1\" class=\"dataframe\">\n",
       "  <thead>\n",
       "    <tr style=\"text-align: right;\">\n",
       "      <th></th>\n",
       "      <th>is_incart</th>\n",
       "      <th>is_special_buy</th>\n",
       "      <th>is_bau</th>\n",
       "      <th>is_major_event</th>\n",
       "      <th>is_event</th>\n",
       "      <th>ty_regular_retail</th>\n",
       "      <th>ty_effective_retail</th>\n",
       "      <th>markdown</th>\n",
       "      <th>ty_promo_gross_demand</th>\n",
       "      <th>promo_pen</th>\n",
       "      <th>...</th>\n",
       "      <th>quarter_2</th>\n",
       "      <th>quarter_3</th>\n",
       "      <th>quarter_4</th>\n",
       "      <th>merch_dept_25H-HARDWARE (25H)</th>\n",
       "      <th>class_nbr_025-012</th>\n",
       "      <th>class_name_PNEUMATIC FASTENERS</th>\n",
       "      <th>mfg_brand_name_RYOBI</th>\n",
       "      <th>internet_sku_name_203810823-ONE  18V Cordless AirStrike 18 Gauge Brad Nailer  Tool Only  with Sample Nails</th>\n",
       "      <th>oms_id_203810823</th>\n",
       "      <th>Is_Holiday</th>\n",
       "    </tr>\n",
       "    <tr>\n",
       "      <th>cal_dt</th>\n",
       "      <th></th>\n",
       "      <th></th>\n",
       "      <th></th>\n",
       "      <th></th>\n",
       "      <th></th>\n",
       "      <th></th>\n",
       "      <th></th>\n",
       "      <th></th>\n",
       "      <th></th>\n",
       "      <th></th>\n",
       "      <th></th>\n",
       "      <th></th>\n",
       "      <th></th>\n",
       "      <th></th>\n",
       "      <th></th>\n",
       "      <th></th>\n",
       "      <th></th>\n",
       "      <th></th>\n",
       "      <th></th>\n",
       "      <th></th>\n",
       "      <th></th>\n",
       "    </tr>\n",
       "  </thead>\n",
       "  <tbody>\n",
       "    <tr>\n",
       "      <th>2018-01-13</th>\n",
       "      <td>0.0</td>\n",
       "      <td>0.0</td>\n",
       "      <td>0.0</td>\n",
       "      <td>0.0</td>\n",
       "      <td>0.0</td>\n",
       "      <td>129.0</td>\n",
       "      <td>128.14</td>\n",
       "      <td>0.86</td>\n",
       "      <td>0.0</td>\n",
       "      <td>0.0</td>\n",
       "      <td>...</td>\n",
       "      <td>0</td>\n",
       "      <td>0</td>\n",
       "      <td>0</td>\n",
       "      <td>1</td>\n",
       "      <td>1</td>\n",
       "      <td>1</td>\n",
       "      <td>1</td>\n",
       "      <td>1</td>\n",
       "      <td>1</td>\n",
       "      <td>0</td>\n",
       "    </tr>\n",
       "    <tr>\n",
       "      <th>2018-01-14</th>\n",
       "      <td>0.0</td>\n",
       "      <td>0.0</td>\n",
       "      <td>0.0</td>\n",
       "      <td>0.0</td>\n",
       "      <td>0.0</td>\n",
       "      <td>129.0</td>\n",
       "      <td>129.00</td>\n",
       "      <td>0.00</td>\n",
       "      <td>0.0</td>\n",
       "      <td>0.0</td>\n",
       "      <td>...</td>\n",
       "      <td>0</td>\n",
       "      <td>0</td>\n",
       "      <td>0</td>\n",
       "      <td>1</td>\n",
       "      <td>1</td>\n",
       "      <td>1</td>\n",
       "      <td>1</td>\n",
       "      <td>1</td>\n",
       "      <td>1</td>\n",
       "      <td>0</td>\n",
       "    </tr>\n",
       "    <tr>\n",
       "      <th>2018-01-15</th>\n",
       "      <td>0.0</td>\n",
       "      <td>0.0</td>\n",
       "      <td>0.0</td>\n",
       "      <td>0.0</td>\n",
       "      <td>0.0</td>\n",
       "      <td>129.0</td>\n",
       "      <td>129.00</td>\n",
       "      <td>0.00</td>\n",
       "      <td>0.0</td>\n",
       "      <td>0.0</td>\n",
       "      <td>...</td>\n",
       "      <td>0</td>\n",
       "      <td>0</td>\n",
       "      <td>0</td>\n",
       "      <td>1</td>\n",
       "      <td>1</td>\n",
       "      <td>1</td>\n",
       "      <td>1</td>\n",
       "      <td>1</td>\n",
       "      <td>1</td>\n",
       "      <td>1</td>\n",
       "    </tr>\n",
       "    <tr>\n",
       "      <th>2018-01-16</th>\n",
       "      <td>0.0</td>\n",
       "      <td>0.0</td>\n",
       "      <td>0.0</td>\n",
       "      <td>0.0</td>\n",
       "      <td>0.0</td>\n",
       "      <td>129.0</td>\n",
       "      <td>129.00</td>\n",
       "      <td>0.00</td>\n",
       "      <td>0.0</td>\n",
       "      <td>0.0</td>\n",
       "      <td>...</td>\n",
       "      <td>0</td>\n",
       "      <td>0</td>\n",
       "      <td>0</td>\n",
       "      <td>1</td>\n",
       "      <td>1</td>\n",
       "      <td>1</td>\n",
       "      <td>1</td>\n",
       "      <td>1</td>\n",
       "      <td>1</td>\n",
       "      <td>0</td>\n",
       "    </tr>\n",
       "    <tr>\n",
       "      <th>2018-01-17</th>\n",
       "      <td>0.0</td>\n",
       "      <td>0.0</td>\n",
       "      <td>0.0</td>\n",
       "      <td>0.0</td>\n",
       "      <td>0.0</td>\n",
       "      <td>129.0</td>\n",
       "      <td>129.00</td>\n",
       "      <td>0.00</td>\n",
       "      <td>0.0</td>\n",
       "      <td>0.0</td>\n",
       "      <td>...</td>\n",
       "      <td>0</td>\n",
       "      <td>0</td>\n",
       "      <td>0</td>\n",
       "      <td>1</td>\n",
       "      <td>1</td>\n",
       "      <td>1</td>\n",
       "      <td>1</td>\n",
       "      <td>1</td>\n",
       "      <td>1</td>\n",
       "      <td>0</td>\n",
       "    </tr>\n",
       "  </tbody>\n",
       "</table>\n",
       "<p>5 rows × 81 columns</p>\n",
       "</div>"
      ],
      "text/plain": [
       "            is_incart  is_special_buy  is_bau  is_major_event  is_event  \\\n",
       "cal_dt                                                                    \n",
       "2018-01-13        0.0             0.0     0.0             0.0       0.0   \n",
       "2018-01-14        0.0             0.0     0.0             0.0       0.0   \n",
       "2018-01-15        0.0             0.0     0.0             0.0       0.0   \n",
       "2018-01-16        0.0             0.0     0.0             0.0       0.0   \n",
       "2018-01-17        0.0             0.0     0.0             0.0       0.0   \n",
       "\n",
       "            ty_regular_retail  ty_effective_retail  markdown  \\\n",
       "cal_dt                                                         \n",
       "2018-01-13              129.0               128.14      0.86   \n",
       "2018-01-14              129.0               129.00      0.00   \n",
       "2018-01-15              129.0               129.00      0.00   \n",
       "2018-01-16              129.0               129.00      0.00   \n",
       "2018-01-17              129.0               129.00      0.00   \n",
       "\n",
       "            ty_promo_gross_demand  promo_pen  ...  quarter_2  quarter_3  \\\n",
       "cal_dt                                        ...                         \n",
       "2018-01-13                    0.0        0.0  ...          0          0   \n",
       "2018-01-14                    0.0        0.0  ...          0          0   \n",
       "2018-01-15                    0.0        0.0  ...          0          0   \n",
       "2018-01-16                    0.0        0.0  ...          0          0   \n",
       "2018-01-17                    0.0        0.0  ...          0          0   \n",
       "\n",
       "            quarter_4  merch_dept_25H-HARDWARE (25H)  class_nbr_025-012  \\\n",
       "cal_dt                                                                    \n",
       "2018-01-13          0                              1                  1   \n",
       "2018-01-14          0                              1                  1   \n",
       "2018-01-15          0                              1                  1   \n",
       "2018-01-16          0                              1                  1   \n",
       "2018-01-17          0                              1                  1   \n",
       "\n",
       "            class_name_PNEUMATIC FASTENERS  mfg_brand_name_RYOBI  \\\n",
       "cal_dt                                                             \n",
       "2018-01-13                               1                     1   \n",
       "2018-01-14                               1                     1   \n",
       "2018-01-15                               1                     1   \n",
       "2018-01-16                               1                     1   \n",
       "2018-01-17                               1                     1   \n",
       "\n",
       "            internet_sku_name_203810823-ONE  18V Cordless AirStrike 18 Gauge Brad Nailer  Tool Only  with Sample Nails  \\\n",
       "cal_dt                                                                                                                   \n",
       "2018-01-13                                                  1                                                            \n",
       "2018-01-14                                                  1                                                            \n",
       "2018-01-15                                                  1                                                            \n",
       "2018-01-16                                                  1                                                            \n",
       "2018-01-17                                                  1                                                            \n",
       "\n",
       "            oms_id_203810823  Is_Holiday  \n",
       "cal_dt                                    \n",
       "2018-01-13                 1           0  \n",
       "2018-01-14                 1           0  \n",
       "2018-01-15                 1           1  \n",
       "2018-01-16                 1           0  \n",
       "2018-01-17                 1           0  \n",
       "\n",
       "[5 rows x 81 columns]"
      ]
     },
     "execution_count": 30,
     "metadata": {},
     "output_type": "execute_result"
    }
   ],
   "source": [
    "df.head()"
   ]
  },
  {
   "cell_type": "code",
   "execution_count": 31,
   "id": "383756fe-07e5-4aab-8744-dbced6018b8c",
   "metadata": {},
   "outputs": [],
   "source": [
    "def filter_df_corr(inp_data, corr_val):\n",
    "    '''\n",
    "    Returns an array or dataframe (based on type(inp_data) adjusted to drop \\\n",
    "        columns with high correlation to one another. Takes second arg corr_val\n",
    "        that defines the cutoff\n",
    "\n",
    "    ----------\n",
    "    inp_data : np.array, pd.DataFrame\n",
    "        Values to consider\n",
    "    corr_val : float\n",
    "        Value [0, 1] on which to base the correlation cutoff\n",
    "    '''\n",
    "    # Creates Correlation Matrix\n",
    "    if isinstance(inp_data, np.ndarray):\n",
    "        inp_data = pd.DataFrame(data=inp_data)\n",
    "        array_flag = True\n",
    "    else:\n",
    "        array_flag = False\n",
    "    corr_matrix = inp_data.corr()\n",
    "\n",
    "    # Iterates through Correlation Matrix Table to find correlated columns\n",
    "    drop_cols = []\n",
    "    n_cols = len(corr_matrix.columns)\n",
    "\n",
    "    for i in range(n_cols):\n",
    "        for k in range(i+1, n_cols):\n",
    "            val = corr_matrix.iloc[k, i]\n",
    "            col = corr_matrix.columns[i]\n",
    "            row = corr_matrix.index[k]\n",
    "            if abs(val) >= corr_val:\n",
    "                # Prints the correlated feature set and the corr val\n",
    "                print(col, \"|\", row, \"|\", round(val, 2))\n",
    "                drop_cols.append(col)\n",
    "\n",
    "    # Drops the correlated columns\n",
    "    drop_cols = set(drop_cols)\n",
    "    inp_data = inp_data.drop(columns=drop_cols)\n",
    "    # Return same type as inp\n",
    "    if array_flag:\n",
    "        return inp_data.values\n",
    "    else:\n",
    "        return inp_data"
   ]
  },
  {
   "cell_type": "code",
   "execution_count": 32,
   "id": "c665623b-4fd2-41a6-a4b8-e1acd69b3f01",
   "metadata": {},
   "outputs": [
    {
     "name": "stdout",
     "output_type": "stream",
     "text": [
      "ty_effective_retail | markdown | -0.96\n"
     ]
    }
   ],
   "source": [
    "new_df = filter_df_corr(df, 0.90)"
   ]
  },
  {
   "cell_type": "code",
   "execution_count": 33,
   "id": "8133e123-61c9-4391-817f-9ab5fb340f14",
   "metadata": {},
   "outputs": [
    {
     "data": {
      "text/html": [
       "<div>\n",
       "<style scoped>\n",
       "    .dataframe tbody tr th:only-of-type {\n",
       "        vertical-align: middle;\n",
       "    }\n",
       "\n",
       "    .dataframe tbody tr th {\n",
       "        vertical-align: top;\n",
       "    }\n",
       "\n",
       "    .dataframe thead th {\n",
       "        text-align: right;\n",
       "    }\n",
       "</style>\n",
       "<table border=\"1\" class=\"dataframe\">\n",
       "  <thead>\n",
       "    <tr style=\"text-align: right;\">\n",
       "      <th></th>\n",
       "      <th>is_incart</th>\n",
       "      <th>is_special_buy</th>\n",
       "      <th>is_bau</th>\n",
       "      <th>is_major_event</th>\n",
       "      <th>is_event</th>\n",
       "      <th>ty_regular_retail</th>\n",
       "      <th>markdown</th>\n",
       "      <th>ty_promo_gross_demand</th>\n",
       "      <th>promo_pen</th>\n",
       "      <th>ty_gross_demand</th>\n",
       "      <th>...</th>\n",
       "      <th>quarter_2</th>\n",
       "      <th>quarter_3</th>\n",
       "      <th>quarter_4</th>\n",
       "      <th>merch_dept_25H-HARDWARE (25H)</th>\n",
       "      <th>class_nbr_025-012</th>\n",
       "      <th>class_name_PNEUMATIC FASTENERS</th>\n",
       "      <th>mfg_brand_name_RYOBI</th>\n",
       "      <th>internet_sku_name_203810823-ONE  18V Cordless AirStrike 18 Gauge Brad Nailer  Tool Only  with Sample Nails</th>\n",
       "      <th>oms_id_203810823</th>\n",
       "      <th>Is_Holiday</th>\n",
       "    </tr>\n",
       "    <tr>\n",
       "      <th>cal_dt</th>\n",
       "      <th></th>\n",
       "      <th></th>\n",
       "      <th></th>\n",
       "      <th></th>\n",
       "      <th></th>\n",
       "      <th></th>\n",
       "      <th></th>\n",
       "      <th></th>\n",
       "      <th></th>\n",
       "      <th></th>\n",
       "      <th></th>\n",
       "      <th></th>\n",
       "      <th></th>\n",
       "      <th></th>\n",
       "      <th></th>\n",
       "      <th></th>\n",
       "      <th></th>\n",
       "      <th></th>\n",
       "      <th></th>\n",
       "      <th></th>\n",
       "      <th></th>\n",
       "    </tr>\n",
       "  </thead>\n",
       "  <tbody>\n",
       "    <tr>\n",
       "      <th>2018-01-13</th>\n",
       "      <td>0.0</td>\n",
       "      <td>0.0</td>\n",
       "      <td>0.0</td>\n",
       "      <td>0.0</td>\n",
       "      <td>0.0</td>\n",
       "      <td>129.0</td>\n",
       "      <td>0.86</td>\n",
       "      <td>0.00</td>\n",
       "      <td>0.00</td>\n",
       "      <td>1793.0</td>\n",
       "      <td>...</td>\n",
       "      <td>0</td>\n",
       "      <td>0</td>\n",
       "      <td>0</td>\n",
       "      <td>1</td>\n",
       "      <td>1</td>\n",
       "      <td>1</td>\n",
       "      <td>1</td>\n",
       "      <td>1</td>\n",
       "      <td>1</td>\n",
       "      <td>0</td>\n",
       "    </tr>\n",
       "    <tr>\n",
       "      <th>2018-01-14</th>\n",
       "      <td>0.0</td>\n",
       "      <td>0.0</td>\n",
       "      <td>0.0</td>\n",
       "      <td>0.0</td>\n",
       "      <td>0.0</td>\n",
       "      <td>129.0</td>\n",
       "      <td>0.00</td>\n",
       "      <td>0.00</td>\n",
       "      <td>0.00</td>\n",
       "      <td>1161.0</td>\n",
       "      <td>...</td>\n",
       "      <td>0</td>\n",
       "      <td>0</td>\n",
       "      <td>0</td>\n",
       "      <td>1</td>\n",
       "      <td>1</td>\n",
       "      <td>1</td>\n",
       "      <td>1</td>\n",
       "      <td>1</td>\n",
       "      <td>1</td>\n",
       "      <td>0</td>\n",
       "    </tr>\n",
       "    <tr>\n",
       "      <th>2018-01-15</th>\n",
       "      <td>0.0</td>\n",
       "      <td>0.0</td>\n",
       "      <td>0.0</td>\n",
       "      <td>0.0</td>\n",
       "      <td>0.0</td>\n",
       "      <td>129.0</td>\n",
       "      <td>0.00</td>\n",
       "      <td>0.00</td>\n",
       "      <td>0.00</td>\n",
       "      <td>1419.0</td>\n",
       "      <td>...</td>\n",
       "      <td>0</td>\n",
       "      <td>0</td>\n",
       "      <td>0</td>\n",
       "      <td>1</td>\n",
       "      <td>1</td>\n",
       "      <td>1</td>\n",
       "      <td>1</td>\n",
       "      <td>1</td>\n",
       "      <td>1</td>\n",
       "      <td>1</td>\n",
       "    </tr>\n",
       "    <tr>\n",
       "      <th>2018-01-16</th>\n",
       "      <td>0.0</td>\n",
       "      <td>0.0</td>\n",
       "      <td>0.0</td>\n",
       "      <td>0.0</td>\n",
       "      <td>0.0</td>\n",
       "      <td>129.0</td>\n",
       "      <td>0.00</td>\n",
       "      <td>0.00</td>\n",
       "      <td>0.00</td>\n",
       "      <td>1032.0</td>\n",
       "      <td>...</td>\n",
       "      <td>0</td>\n",
       "      <td>0</td>\n",
       "      <td>0</td>\n",
       "      <td>1</td>\n",
       "      <td>1</td>\n",
       "      <td>1</td>\n",
       "      <td>1</td>\n",
       "      <td>1</td>\n",
       "      <td>1</td>\n",
       "      <td>0</td>\n",
       "    </tr>\n",
       "    <tr>\n",
       "      <th>2018-01-17</th>\n",
       "      <td>0.0</td>\n",
       "      <td>0.0</td>\n",
       "      <td>0.0</td>\n",
       "      <td>0.0</td>\n",
       "      <td>0.0</td>\n",
       "      <td>129.0</td>\n",
       "      <td>0.00</td>\n",
       "      <td>0.00</td>\n",
       "      <td>0.00</td>\n",
       "      <td>1905.0</td>\n",
       "      <td>...</td>\n",
       "      <td>0</td>\n",
       "      <td>0</td>\n",
       "      <td>0</td>\n",
       "      <td>1</td>\n",
       "      <td>1</td>\n",
       "      <td>1</td>\n",
       "      <td>1</td>\n",
       "      <td>1</td>\n",
       "      <td>1</td>\n",
       "      <td>0</td>\n",
       "    </tr>\n",
       "    <tr>\n",
       "      <th>...</th>\n",
       "      <td>...</td>\n",
       "      <td>...</td>\n",
       "      <td>...</td>\n",
       "      <td>...</td>\n",
       "      <td>...</td>\n",
       "      <td>...</td>\n",
       "      <td>...</td>\n",
       "      <td>...</td>\n",
       "      <td>...</td>\n",
       "      <td>...</td>\n",
       "      <td>...</td>\n",
       "      <td>...</td>\n",
       "      <td>...</td>\n",
       "      <td>...</td>\n",
       "      <td>...</td>\n",
       "      <td>...</td>\n",
       "      <td>...</td>\n",
       "      <td>...</td>\n",
       "      <td>...</td>\n",
       "      <td>...</td>\n",
       "      <td>...</td>\n",
       "    </tr>\n",
       "    <tr>\n",
       "      <th>2021-10-14</th>\n",
       "      <td>0.0</td>\n",
       "      <td>0.0</td>\n",
       "      <td>1.0</td>\n",
       "      <td>0.0</td>\n",
       "      <td>1.0</td>\n",
       "      <td>129.0</td>\n",
       "      <td>18.58</td>\n",
       "      <td>1695.16</td>\n",
       "      <td>0.19</td>\n",
       "      <td>9140.0</td>\n",
       "      <td>...</td>\n",
       "      <td>0</td>\n",
       "      <td>0</td>\n",
       "      <td>1</td>\n",
       "      <td>1</td>\n",
       "      <td>1</td>\n",
       "      <td>1</td>\n",
       "      <td>1</td>\n",
       "      <td>1</td>\n",
       "      <td>1</td>\n",
       "      <td>0</td>\n",
       "    </tr>\n",
       "    <tr>\n",
       "      <th>2021-10-15</th>\n",
       "      <td>0.0</td>\n",
       "      <td>0.0</td>\n",
       "      <td>1.0</td>\n",
       "      <td>0.0</td>\n",
       "      <td>1.0</td>\n",
       "      <td>129.0</td>\n",
       "      <td>18.75</td>\n",
       "      <td>537.76</td>\n",
       "      <td>0.06</td>\n",
       "      <td>8647.0</td>\n",
       "      <td>...</td>\n",
       "      <td>0</td>\n",
       "      <td>0</td>\n",
       "      <td>1</td>\n",
       "      <td>1</td>\n",
       "      <td>1</td>\n",
       "      <td>1</td>\n",
       "      <td>1</td>\n",
       "      <td>1</td>\n",
       "      <td>1</td>\n",
       "      <td>0</td>\n",
       "    </tr>\n",
       "    <tr>\n",
       "      <th>2021-10-16</th>\n",
       "      <td>0.0</td>\n",
       "      <td>0.0</td>\n",
       "      <td>1.0</td>\n",
       "      <td>0.0</td>\n",
       "      <td>1.0</td>\n",
       "      <td>129.0</td>\n",
       "      <td>14.92</td>\n",
       "      <td>377.72</td>\n",
       "      <td>0.05</td>\n",
       "      <td>7041.0</td>\n",
       "      <td>...</td>\n",
       "      <td>0</td>\n",
       "      <td>0</td>\n",
       "      <td>1</td>\n",
       "      <td>1</td>\n",
       "      <td>1</td>\n",
       "      <td>1</td>\n",
       "      <td>1</td>\n",
       "      <td>1</td>\n",
       "      <td>1</td>\n",
       "      <td>0</td>\n",
       "    </tr>\n",
       "    <tr>\n",
       "      <th>2021-10-17</th>\n",
       "      <td>0.0</td>\n",
       "      <td>0.0</td>\n",
       "      <td>1.0</td>\n",
       "      <td>0.0</td>\n",
       "      <td>1.0</td>\n",
       "      <td>129.0</td>\n",
       "      <td>9.03</td>\n",
       "      <td>179.95</td>\n",
       "      <td>0.03</td>\n",
       "      <td>5691.0</td>\n",
       "      <td>...</td>\n",
       "      <td>0</td>\n",
       "      <td>0</td>\n",
       "      <td>1</td>\n",
       "      <td>1</td>\n",
       "      <td>1</td>\n",
       "      <td>1</td>\n",
       "      <td>1</td>\n",
       "      <td>1</td>\n",
       "      <td>1</td>\n",
       "      <td>0</td>\n",
       "    </tr>\n",
       "    <tr>\n",
       "      <th>2021-10-18</th>\n",
       "      <td>0.0</td>\n",
       "      <td>0.0</td>\n",
       "      <td>1.0</td>\n",
       "      <td>0.0</td>\n",
       "      <td>1.0</td>\n",
       "      <td>129.0</td>\n",
       "      <td>8.65</td>\n",
       "      <td>180.70</td>\n",
       "      <td>0.03</td>\n",
       "      <td>6266.0</td>\n",
       "      <td>...</td>\n",
       "      <td>0</td>\n",
       "      <td>0</td>\n",
       "      <td>1</td>\n",
       "      <td>1</td>\n",
       "      <td>1</td>\n",
       "      <td>1</td>\n",
       "      <td>1</td>\n",
       "      <td>1</td>\n",
       "      <td>1</td>\n",
       "      <td>0</td>\n",
       "    </tr>\n",
       "  </tbody>\n",
       "</table>\n",
       "<p>1375 rows × 80 columns</p>\n",
       "</div>"
      ],
      "text/plain": [
       "            is_incart  is_special_buy  is_bau  is_major_event  is_event  \\\n",
       "cal_dt                                                                    \n",
       "2018-01-13        0.0             0.0     0.0             0.0       0.0   \n",
       "2018-01-14        0.0             0.0     0.0             0.0       0.0   \n",
       "2018-01-15        0.0             0.0     0.0             0.0       0.0   \n",
       "2018-01-16        0.0             0.0     0.0             0.0       0.0   \n",
       "2018-01-17        0.0             0.0     0.0             0.0       0.0   \n",
       "...               ...             ...     ...             ...       ...   \n",
       "2021-10-14        0.0             0.0     1.0             0.0       1.0   \n",
       "2021-10-15        0.0             0.0     1.0             0.0       1.0   \n",
       "2021-10-16        0.0             0.0     1.0             0.0       1.0   \n",
       "2021-10-17        0.0             0.0     1.0             0.0       1.0   \n",
       "2021-10-18        0.0             0.0     1.0             0.0       1.0   \n",
       "\n",
       "            ty_regular_retail  markdown  ty_promo_gross_demand  promo_pen  \\\n",
       "cal_dt                                                                      \n",
       "2018-01-13              129.0      0.86                   0.00       0.00   \n",
       "2018-01-14              129.0      0.00                   0.00       0.00   \n",
       "2018-01-15              129.0      0.00                   0.00       0.00   \n",
       "2018-01-16              129.0      0.00                   0.00       0.00   \n",
       "2018-01-17              129.0      0.00                   0.00       0.00   \n",
       "...                       ...       ...                    ...        ...   \n",
       "2021-10-14              129.0     18.58                1695.16       0.19   \n",
       "2021-10-15              129.0     18.75                 537.76       0.06   \n",
       "2021-10-16              129.0     14.92                 377.72       0.05   \n",
       "2021-10-17              129.0      9.03                 179.95       0.03   \n",
       "2021-10-18              129.0      8.65                 180.70       0.03   \n",
       "\n",
       "            ty_gross_demand  ...  quarter_2  quarter_3  quarter_4  \\\n",
       "cal_dt                       ...                                    \n",
       "2018-01-13           1793.0  ...          0          0          0   \n",
       "2018-01-14           1161.0  ...          0          0          0   \n",
       "2018-01-15           1419.0  ...          0          0          0   \n",
       "2018-01-16           1032.0  ...          0          0          0   \n",
       "2018-01-17           1905.0  ...          0          0          0   \n",
       "...                     ...  ...        ...        ...        ...   \n",
       "2021-10-14           9140.0  ...          0          0          1   \n",
       "2021-10-15           8647.0  ...          0          0          1   \n",
       "2021-10-16           7041.0  ...          0          0          1   \n",
       "2021-10-17           5691.0  ...          0          0          1   \n",
       "2021-10-18           6266.0  ...          0          0          1   \n",
       "\n",
       "            merch_dept_25H-HARDWARE (25H)  class_nbr_025-012  \\\n",
       "cal_dt                                                         \n",
       "2018-01-13                              1                  1   \n",
       "2018-01-14                              1                  1   \n",
       "2018-01-15                              1                  1   \n",
       "2018-01-16                              1                  1   \n",
       "2018-01-17                              1                  1   \n",
       "...                                   ...                ...   \n",
       "2021-10-14                              1                  1   \n",
       "2021-10-15                              1                  1   \n",
       "2021-10-16                              1                  1   \n",
       "2021-10-17                              1                  1   \n",
       "2021-10-18                              1                  1   \n",
       "\n",
       "            class_name_PNEUMATIC FASTENERS  mfg_brand_name_RYOBI  \\\n",
       "cal_dt                                                             \n",
       "2018-01-13                               1                     1   \n",
       "2018-01-14                               1                     1   \n",
       "2018-01-15                               1                     1   \n",
       "2018-01-16                               1                     1   \n",
       "2018-01-17                               1                     1   \n",
       "...                                    ...                   ...   \n",
       "2021-10-14                               1                     1   \n",
       "2021-10-15                               1                     1   \n",
       "2021-10-16                               1                     1   \n",
       "2021-10-17                               1                     1   \n",
       "2021-10-18                               1                     1   \n",
       "\n",
       "            internet_sku_name_203810823-ONE  18V Cordless AirStrike 18 Gauge Brad Nailer  Tool Only  with Sample Nails  \\\n",
       "cal_dt                                                                                                                   \n",
       "2018-01-13                                                  1                                                            \n",
       "2018-01-14                                                  1                                                            \n",
       "2018-01-15                                                  1                                                            \n",
       "2018-01-16                                                  1                                                            \n",
       "2018-01-17                                                  1                                                            \n",
       "...                                                       ...                                                            \n",
       "2021-10-14                                                  1                                                            \n",
       "2021-10-15                                                  1                                                            \n",
       "2021-10-16                                                  1                                                            \n",
       "2021-10-17                                                  1                                                            \n",
       "2021-10-18                                                  1                                                            \n",
       "\n",
       "            oms_id_203810823  Is_Holiday  \n",
       "cal_dt                                    \n",
       "2018-01-13                 1           0  \n",
       "2018-01-14                 1           0  \n",
       "2018-01-15                 1           1  \n",
       "2018-01-16                 1           0  \n",
       "2018-01-17                 1           0  \n",
       "...                      ...         ...  \n",
       "2021-10-14                 1           0  \n",
       "2021-10-15                 1           0  \n",
       "2021-10-16                 1           0  \n",
       "2021-10-17                 1           0  \n",
       "2021-10-18                 1           0  \n",
       "\n",
       "[1375 rows x 80 columns]"
      ]
     },
     "execution_count": 33,
     "metadata": {},
     "output_type": "execute_result"
    }
   ],
   "source": [
    "new_df"
   ]
  },
  {
   "cell_type": "code",
   "execution_count": 34,
   "id": "939ea030-ce0d-42b4-9858-e8d7b9676f39",
   "metadata": {},
   "outputs": [],
   "source": [
    "df1 = df.copy()"
   ]
  },
  {
   "cell_type": "code",
   "execution_count": 35,
   "id": "675e7e62-ebd4-4cf7-8e24-a93fd8caf922",
   "metadata": {},
   "outputs": [
    {
     "data": {
      "text/html": [
       "<div>\n",
       "<style scoped>\n",
       "    .dataframe tbody tr th:only-of-type {\n",
       "        vertical-align: middle;\n",
       "    }\n",
       "\n",
       "    .dataframe tbody tr th {\n",
       "        vertical-align: top;\n",
       "    }\n",
       "\n",
       "    .dataframe thead th {\n",
       "        text-align: right;\n",
       "    }\n",
       "</style>\n",
       "<table border=\"1\" class=\"dataframe\">\n",
       "  <thead>\n",
       "    <tr style=\"text-align: right;\">\n",
       "      <th></th>\n",
       "      <th>count</th>\n",
       "      <th>mean</th>\n",
       "      <th>std</th>\n",
       "      <th>min</th>\n",
       "      <th>25%</th>\n",
       "      <th>50%</th>\n",
       "      <th>75%</th>\n",
       "      <th>max</th>\n",
       "    </tr>\n",
       "  </thead>\n",
       "  <tbody>\n",
       "    <tr>\n",
       "      <th>is_incart</th>\n",
       "      <td>1375.0</td>\n",
       "      <td>0.111273</td>\n",
       "      <td>0.314584</td>\n",
       "      <td>0.0</td>\n",
       "      <td>0.0</td>\n",
       "      <td>0.0</td>\n",
       "      <td>0.0</td>\n",
       "      <td>1.0</td>\n",
       "    </tr>\n",
       "    <tr>\n",
       "      <th>is_special_buy</th>\n",
       "      <td>1375.0</td>\n",
       "      <td>0.000000</td>\n",
       "      <td>0.000000</td>\n",
       "      <td>0.0</td>\n",
       "      <td>0.0</td>\n",
       "      <td>0.0</td>\n",
       "      <td>0.0</td>\n",
       "      <td>0.0</td>\n",
       "    </tr>\n",
       "    <tr>\n",
       "      <th>is_bau</th>\n",
       "      <td>1375.0</td>\n",
       "      <td>0.533091</td>\n",
       "      <td>0.499085</td>\n",
       "      <td>0.0</td>\n",
       "      <td>0.0</td>\n",
       "      <td>1.0</td>\n",
       "      <td>1.0</td>\n",
       "      <td>1.0</td>\n",
       "    </tr>\n",
       "    <tr>\n",
       "      <th>is_major_event</th>\n",
       "      <td>1375.0</td>\n",
       "      <td>0.009455</td>\n",
       "      <td>0.096809</td>\n",
       "      <td>0.0</td>\n",
       "      <td>0.0</td>\n",
       "      <td>0.0</td>\n",
       "      <td>0.0</td>\n",
       "      <td>1.0</td>\n",
       "    </tr>\n",
       "    <tr>\n",
       "      <th>is_event</th>\n",
       "      <td>1375.0</td>\n",
       "      <td>0.525091</td>\n",
       "      <td>0.499552</td>\n",
       "      <td>0.0</td>\n",
       "      <td>0.0</td>\n",
       "      <td>1.0</td>\n",
       "      <td>1.0</td>\n",
       "      <td>1.0</td>\n",
       "    </tr>\n",
       "    <tr>\n",
       "      <th>...</th>\n",
       "      <td>...</td>\n",
       "      <td>...</td>\n",
       "      <td>...</td>\n",
       "      <td>...</td>\n",
       "      <td>...</td>\n",
       "      <td>...</td>\n",
       "      <td>...</td>\n",
       "      <td>...</td>\n",
       "    </tr>\n",
       "    <tr>\n",
       "      <th>class_name_PNEUMATIC FASTENERS</th>\n",
       "      <td>1375.0</td>\n",
       "      <td>1.000000</td>\n",
       "      <td>0.000000</td>\n",
       "      <td>1.0</td>\n",
       "      <td>1.0</td>\n",
       "      <td>1.0</td>\n",
       "      <td>1.0</td>\n",
       "      <td>1.0</td>\n",
       "    </tr>\n",
       "    <tr>\n",
       "      <th>mfg_brand_name_RYOBI</th>\n",
       "      <td>1375.0</td>\n",
       "      <td>1.000000</td>\n",
       "      <td>0.000000</td>\n",
       "      <td>1.0</td>\n",
       "      <td>1.0</td>\n",
       "      <td>1.0</td>\n",
       "      <td>1.0</td>\n",
       "      <td>1.0</td>\n",
       "    </tr>\n",
       "    <tr>\n",
       "      <th>internet_sku_name_203810823-ONE  18V Cordless AirStrike 18 Gauge Brad Nailer  Tool Only  with Sample Nails</th>\n",
       "      <td>1375.0</td>\n",
       "      <td>1.000000</td>\n",
       "      <td>0.000000</td>\n",
       "      <td>1.0</td>\n",
       "      <td>1.0</td>\n",
       "      <td>1.0</td>\n",
       "      <td>1.0</td>\n",
       "      <td>1.0</td>\n",
       "    </tr>\n",
       "    <tr>\n",
       "      <th>oms_id_203810823</th>\n",
       "      <td>1375.0</td>\n",
       "      <td>1.000000</td>\n",
       "      <td>0.000000</td>\n",
       "      <td>1.0</td>\n",
       "      <td>1.0</td>\n",
       "      <td>1.0</td>\n",
       "      <td>1.0</td>\n",
       "      <td>1.0</td>\n",
       "    </tr>\n",
       "    <tr>\n",
       "      <th>Is_Holiday</th>\n",
       "      <td>1375.0</td>\n",
       "      <td>0.039273</td>\n",
       "      <td>0.194314</td>\n",
       "      <td>0.0</td>\n",
       "      <td>0.0</td>\n",
       "      <td>0.0</td>\n",
       "      <td>0.0</td>\n",
       "      <td>1.0</td>\n",
       "    </tr>\n",
       "  </tbody>\n",
       "</table>\n",
       "<p>81 rows × 8 columns</p>\n",
       "</div>"
      ],
      "text/plain": [
       "                                                     count      mean  \\\n",
       "is_incart                                           1375.0  0.111273   \n",
       "is_special_buy                                      1375.0  0.000000   \n",
       "is_bau                                              1375.0  0.533091   \n",
       "is_major_event                                      1375.0  0.009455   \n",
       "is_event                                            1375.0  0.525091   \n",
       "...                                                    ...       ...   \n",
       "class_name_PNEUMATIC FASTENERS                      1375.0  1.000000   \n",
       "mfg_brand_name_RYOBI                                1375.0  1.000000   \n",
       "internet_sku_name_203810823-ONE  18V Cordless A...  1375.0  1.000000   \n",
       "oms_id_203810823                                    1375.0  1.000000   \n",
       "Is_Holiday                                          1375.0  0.039273   \n",
       "\n",
       "                                                         std  min  25%  50%  \\\n",
       "is_incart                                           0.314584  0.0  0.0  0.0   \n",
       "is_special_buy                                      0.000000  0.0  0.0  0.0   \n",
       "is_bau                                              0.499085  0.0  0.0  1.0   \n",
       "is_major_event                                      0.096809  0.0  0.0  0.0   \n",
       "is_event                                            0.499552  0.0  0.0  1.0   \n",
       "...                                                      ...  ...  ...  ...   \n",
       "class_name_PNEUMATIC FASTENERS                      0.000000  1.0  1.0  1.0   \n",
       "mfg_brand_name_RYOBI                                0.000000  1.0  1.0  1.0   \n",
       "internet_sku_name_203810823-ONE  18V Cordless A...  0.000000  1.0  1.0  1.0   \n",
       "oms_id_203810823                                    0.000000  1.0  1.0  1.0   \n",
       "Is_Holiday                                          0.194314  0.0  0.0  0.0   \n",
       "\n",
       "                                                    75%  max  \n",
       "is_incart                                           0.0  1.0  \n",
       "is_special_buy                                      0.0  0.0  \n",
       "is_bau                                              1.0  1.0  \n",
       "is_major_event                                      0.0  1.0  \n",
       "is_event                                            1.0  1.0  \n",
       "...                                                 ...  ...  \n",
       "class_name_PNEUMATIC FASTENERS                      1.0  1.0  \n",
       "mfg_brand_name_RYOBI                                1.0  1.0  \n",
       "internet_sku_name_203810823-ONE  18V Cordless A...  1.0  1.0  \n",
       "oms_id_203810823                                    1.0  1.0  \n",
       "Is_Holiday                                          0.0  1.0  \n",
       "\n",
       "[81 rows x 8 columns]"
      ]
     },
     "execution_count": 35,
     "metadata": {},
     "output_type": "execute_result"
    }
   ],
   "source": [
    "df1.describe().transpose()"
   ]
  },
  {
   "cell_type": "code",
   "execution_count": 36,
   "id": "10d2f51a-6dc5-4c15-a2bb-6625540b6405",
   "metadata": {},
   "outputs": [],
   "source": [
    "data = df1.copy()\n",
    "model1 = df1.copy()\n",
    "model2 = df1.copy()\n",
    "model3 = df1.copy()\n",
    "model4 = df1.copy()\n",
    "model5 = df1.copy()\n",
    "model6 = df1.copy()\n",
    "model7 = df1.copy()\n",
    "model8 = df1.copy()\n",
    "model9 = df1.copy()\n",
    "model10 = df1.copy()"
   ]
  },
  {
   "cell_type": "code",
   "execution_count": 37,
   "id": "0f399153-e75b-4cc7-bd3d-cf02b6b9cf23",
   "metadata": {},
   "outputs": [
    {
     "name": "stdout",
     "output_type": "stream",
     "text": [
      "Index(['is_incart', 'is_special_buy', 'is_bau', 'is_major_event', 'is_event',\n",
      "       'ty_regular_retail', 'ty_effective_retail', 'markdown',\n",
      "       'ty_promo_gross_demand', 'promo_pen', 'ty_gross_demand', 'lagprice1',\n",
      "       'lagprice2', 'lagprice3', 'lagprice4', 'lagprice5', 'lagprice7',\n",
      "       'lagprice11', 'weekend_indi', 'isLeapYear', 'month_1', 'month_2',\n",
      "       'month_3', 'month_4', 'month_5', 'month_6', 'month_7', 'month_8',\n",
      "       'month_9', 'month_10', 'month_11', 'month_12', 'dayofweek_1',\n",
      "       'dayofweek_2', 'dayofweek_3', 'dayofweek_4', 'dayofweek_5',\n",
      "       'dayofweek_6', 'dayofweek_7', 'dayofweek_8', 'dayofweek_9',\n",
      "       'dayofweek_10', 'dayofweek_11', 'dayofweek_12', 'dayofweek_13',\n",
      "       'dayofweek_14', 'dayofweek_15', 'dayofweek_16', 'dayofweek_17',\n",
      "       'dayofweek_18', 'dayofweek_19', 'dayofweek_20', 'dayofweek_21',\n",
      "       'dayofweek_22', 'dayofweek_23', 'dayofweek_24', 'dayofweek_25',\n",
      "       'dayofweek_26', 'dayofweek_27', 'dayofweek_28', 'dayofweek_29',\n",
      "       'dayofweek_30', 'dayofweek_31', 'Weekday_0', 'Weekday_1', 'Weekday_2',\n",
      "       'Weekday_3', 'Weekday_4', 'Weekday_5', 'Weekday_6', 'quarter_1',\n",
      "       'quarter_2', 'quarter_3', 'quarter_4', 'merch_dept_25H-HARDWARE (25H)',\n",
      "       'class_nbr_025-012', 'class_name_PNEUMATIC FASTENERS',\n",
      "       'mfg_brand_name_RYOBI',\n",
      "       'internet_sku_name_203810823-ONE  18V Cordless AirStrike 18 Gauge Brad Nailer  Tool Only  with Sample Nails',\n",
      "       'oms_id_203810823', 'Is_Holiday'],\n",
      "      dtype='object')\n"
     ]
    }
   ],
   "source": [
    "pd.options.display.max_seq_items = None\n",
    "print(df1.columns)"
   ]
  },
  {
   "cell_type": "code",
   "execution_count": 38,
   "id": "c0c34188-6d00-47f1-a14a-e70c6bb57c68",
   "metadata": {},
   "outputs": [
    {
     "data": {
      "text/plain": [
       "XGBRegressor(base_score=0.5, booster='gbtree', colsample_bylevel=1,\n",
       "             colsample_bynode=1, colsample_bytree=1, enable_categorical=False,\n",
       "             gamma=0, gpu_id=-1, importance_type=None,\n",
       "             interaction_constraints='', learning_rate=0.300000012,\n",
       "             max_delta_step=0, max_depth=6, min_child_weight=1, missing=nan,\n",
       "             monotone_constraints='()', n_estimators=100, n_jobs=16,\n",
       "             num_parallel_tree=1, predictor='auto', random_state=0, reg_alpha=0,\n",
       "             reg_lambda=1, scale_pos_weight=1, subsample=1, tree_method='exact',\n",
       "             validate_parameters=1, verbosity=None)"
      ]
     },
     "execution_count": 38,
     "metadata": {},
     "output_type": "execute_result"
    }
   ],
   "source": [
    "# Identify Top Features\n",
    "from numpy import loadtxt \n",
    "from xgboost import XGBRegressor\n",
    "from matplotlib import pyplot\n",
    "\n",
    "model = XGBRegressor()\n",
    "model.fit(df1[['is_incart', 'is_special_buy', 'is_bau', 'is_major_event', 'is_event',\n",
    "       'ty_regular_retail', 'ty_effective_retail', 'markdown',\n",
    "       'ty_promo_gross_demand', 'promo_pen', 'lagprice1',\n",
    "       'lagprice2', 'lagprice3', 'lagprice4', 'lagprice5', 'lagprice7',\n",
    "       'lagprice11', 'weekend_indi', 'isLeapYear', 'month_1', 'month_2',\n",
    "       'month_3', 'month_4', 'month_5', 'month_6', 'month_7', 'month_8',\n",
    "       'month_9', 'month_10', 'month_11', 'month_12', 'dayofweek_1',\n",
    "       'dayofweek_2', 'dayofweek_3', 'dayofweek_4', 'dayofweek_5',\n",
    "       'dayofweek_6', 'dayofweek_7', 'dayofweek_8', 'dayofweek_9',\n",
    "       'dayofweek_10', 'dayofweek_11', 'dayofweek_12', 'dayofweek_13',\n",
    "       'dayofweek_14', 'dayofweek_15', 'dayofweek_16', 'dayofweek_17',\n",
    "       'dayofweek_18', 'dayofweek_19', 'dayofweek_20', 'dayofweek_21',\n",
    "       'dayofweek_22', 'dayofweek_23', 'dayofweek_24', 'dayofweek_25',\n",
    "       'dayofweek_26', 'dayofweek_27', 'dayofweek_28', 'dayofweek_29',\n",
    "       'dayofweek_30', 'dayofweek_31', 'Weekday_0', 'Weekday_1', 'Weekday_2',\n",
    "       'Weekday_3', 'Weekday_4', 'Weekday_5', 'Weekday_6', 'quarter_1',\n",
    "       'quarter_2', 'quarter_3', 'quarter_4', 'merch_dept_25H-HARDWARE (25H)',\n",
    "       'class_nbr_025-012', 'class_name_PNEUMATIC FASTENERS',\n",
    "       'mfg_brand_name_RYOBI',\n",
    "       'internet_sku_name_203810823-ONE  18V Cordless AirStrike 18 Gauge Brad Nailer  Tool Only  with Sample Nails',\n",
    "       'oms_id_203810823', 'Is_Holiday']], df1[['ty_gross_demand']])"
   ]
  },
  {
   "cell_type": "code",
   "execution_count": 39,
   "id": "205ae85a-140d-47bd-8eb8-87b513ba6030",
   "metadata": {},
   "outputs": [
    {
     "data": {
      "text/plain": [
       "<AxesSubplot:>"
      ]
     },
     "execution_count": 39,
     "metadata": {},
     "output_type": "execute_result"
    },
    {
     "data": {
      "image/png": "[encoded data removed]",
      "text/plain": [
       "<Figure size 576x432 with 1 Axes>"
      ]
     },
     "metadata": {
      "needs_background": "light"
     },
     "output_type": "display_data"
    }
   ],
   "source": [
    "(pd.Series(model.feature_importances_, index = df1[['is_incart', 'is_special_buy', 'is_bau', 'is_major_event', 'is_event',\n",
    "       'ty_regular_retail', 'ty_effective_retail', 'markdown',\n",
    "       'ty_promo_gross_demand', 'promo_pen', 'lagprice1',\n",
    "       'lagprice2', 'lagprice3', 'lagprice4', 'lagprice5', 'lagprice7',\n",
    "       'lagprice11', 'weekend_indi', 'isLeapYear', 'month_1', 'month_2',\n",
    "       'month_3', 'month_4', 'month_5', 'month_6', 'month_7', 'month_8',\n",
    "       'month_9', 'month_10', 'month_11', 'month_12', 'dayofweek_1',\n",
    "       'dayofweek_2', 'dayofweek_3', 'dayofweek_4', 'dayofweek_5',\n",
    "       'dayofweek_6', 'dayofweek_7', 'dayofweek_8', 'dayofweek_9',\n",
    "       'dayofweek_10', 'dayofweek_11', 'dayofweek_12', 'dayofweek_13',\n",
    "       'dayofweek_14', 'dayofweek_15', 'dayofweek_16', 'dayofweek_17',\n",
    "       'dayofweek_18', 'dayofweek_19', 'dayofweek_20', 'dayofweek_21',\n",
    "       'dayofweek_22', 'dayofweek_23', 'dayofweek_24', 'dayofweek_25',\n",
    "       'dayofweek_26', 'dayofweek_27', 'dayofweek_28', 'dayofweek_29',\n",
    "       'dayofweek_30', 'dayofweek_31', 'Weekday_0', 'Weekday_1', 'Weekday_2',\n",
    "       'Weekday_3', 'Weekday_4', 'Weekday_5', 'Weekday_6', 'quarter_1',\n",
    "       'quarter_2', 'quarter_3', 'quarter_4', 'merch_dept_25H-HARDWARE (25H)',\n",
    "       'class_nbr_025-012', 'class_name_PNEUMATIC FASTENERS',\n",
    "       'mfg_brand_name_RYOBI',\n",
    "       'internet_sku_name_203810823-ONE  18V Cordless AirStrike 18 Gauge Brad Nailer  Tool Only  with Sample Nails',\n",
    "       'oms_id_203810823', 'Is_Holiday']].columns).nlargest(10).plot(kind = 'barh'))"
   ]
  },
  {
   "cell_type": "code",
   "execution_count": 40,
   "id": "1d0adc25-e1e9-4842-a4a6-4438ce1c529d",
   "metadata": {},
   "outputs": [],
   "source": [
    "#df1 = df1[['lagprice1', 'Is_Holiday','month_11','ty_promo_gross_demand','promo_pen','lagprice2','quarter_3','month_1','quarter_4','Weekday_5', 'ty_gross_demand']]"
   ]
  },
  {
   "cell_type": "code",
   "execution_count": 41,
   "id": "7ace69e7-c0fa-4734-9ca8-94a7a1816d08",
   "metadata": {},
   "outputs": [
    {
     "data": {
      "text/html": [
       "<div>\n",
       "<style scoped>\n",
       "    .dataframe tbody tr th:only-of-type {\n",
       "        vertical-align: middle;\n",
       "    }\n",
       "\n",
       "    .dataframe tbody tr th {\n",
       "        vertical-align: top;\n",
       "    }\n",
       "\n",
       "    .dataframe thead th {\n",
       "        text-align: right;\n",
       "    }\n",
       "</style>\n",
       "<table border=\"1\" class=\"dataframe\">\n",
       "  <thead>\n",
       "    <tr style=\"text-align: right;\">\n",
       "      <th></th>\n",
       "      <th>is_incart</th>\n",
       "      <th>is_special_buy</th>\n",
       "      <th>is_bau</th>\n",
       "      <th>is_major_event</th>\n",
       "      <th>is_event</th>\n",
       "      <th>ty_regular_retail</th>\n",
       "      <th>ty_effective_retail</th>\n",
       "      <th>markdown</th>\n",
       "      <th>ty_promo_gross_demand</th>\n",
       "      <th>promo_pen</th>\n",
       "      <th>...</th>\n",
       "      <th>quarter_2</th>\n",
       "      <th>quarter_3</th>\n",
       "      <th>quarter_4</th>\n",
       "      <th>merch_dept_25H-HARDWARE (25H)</th>\n",
       "      <th>class_nbr_025-012</th>\n",
       "      <th>class_name_PNEUMATIC FASTENERS</th>\n",
       "      <th>mfg_brand_name_RYOBI</th>\n",
       "      <th>internet_sku_name_203810823-ONE  18V Cordless AirStrike 18 Gauge Brad Nailer  Tool Only  with Sample Nails</th>\n",
       "      <th>oms_id_203810823</th>\n",
       "      <th>Is_Holiday</th>\n",
       "    </tr>\n",
       "    <tr>\n",
       "      <th>cal_dt</th>\n",
       "      <th></th>\n",
       "      <th></th>\n",
       "      <th></th>\n",
       "      <th></th>\n",
       "      <th></th>\n",
       "      <th></th>\n",
       "      <th></th>\n",
       "      <th></th>\n",
       "      <th></th>\n",
       "      <th></th>\n",
       "      <th></th>\n",
       "      <th></th>\n",
       "      <th></th>\n",
       "      <th></th>\n",
       "      <th></th>\n",
       "      <th></th>\n",
       "      <th></th>\n",
       "      <th></th>\n",
       "      <th></th>\n",
       "      <th></th>\n",
       "      <th></th>\n",
       "    </tr>\n",
       "  </thead>\n",
       "  <tbody>\n",
       "    <tr>\n",
       "      <th>2018-01-13</th>\n",
       "      <td>0.0</td>\n",
       "      <td>0.0</td>\n",
       "      <td>0.0</td>\n",
       "      <td>0.0</td>\n",
       "      <td>0.0</td>\n",
       "      <td>129.0</td>\n",
       "      <td>128.14</td>\n",
       "      <td>0.86</td>\n",
       "      <td>0.0</td>\n",
       "      <td>0.0</td>\n",
       "      <td>...</td>\n",
       "      <td>0</td>\n",
       "      <td>0</td>\n",
       "      <td>0</td>\n",
       "      <td>1</td>\n",
       "      <td>1</td>\n",
       "      <td>1</td>\n",
       "      <td>1</td>\n",
       "      <td>1</td>\n",
       "      <td>1</td>\n",
       "      <td>0</td>\n",
       "    </tr>\n",
       "    <tr>\n",
       "      <th>2018-01-14</th>\n",
       "      <td>0.0</td>\n",
       "      <td>0.0</td>\n",
       "      <td>0.0</td>\n",
       "      <td>0.0</td>\n",
       "      <td>0.0</td>\n",
       "      <td>129.0</td>\n",
       "      <td>129.00</td>\n",
       "      <td>0.00</td>\n",
       "      <td>0.0</td>\n",
       "      <td>0.0</td>\n",
       "      <td>...</td>\n",
       "      <td>0</td>\n",
       "      <td>0</td>\n",
       "      <td>0</td>\n",
       "      <td>1</td>\n",
       "      <td>1</td>\n",
       "      <td>1</td>\n",
       "      <td>1</td>\n",
       "      <td>1</td>\n",
       "      <td>1</td>\n",
       "      <td>0</td>\n",
       "    </tr>\n",
       "    <tr>\n",
       "      <th>2018-01-15</th>\n",
       "      <td>0.0</td>\n",
       "      <td>0.0</td>\n",
       "      <td>0.0</td>\n",
       "      <td>0.0</td>\n",
       "      <td>0.0</td>\n",
       "      <td>129.0</td>\n",
       "      <td>129.00</td>\n",
       "      <td>0.00</td>\n",
       "      <td>0.0</td>\n",
       "      <td>0.0</td>\n",
       "      <td>...</td>\n",
       "      <td>0</td>\n",
       "      <td>0</td>\n",
       "      <td>0</td>\n",
       "      <td>1</td>\n",
       "      <td>1</td>\n",
       "      <td>1</td>\n",
       "      <td>1</td>\n",
       "      <td>1</td>\n",
       "      <td>1</td>\n",
       "      <td>1</td>\n",
       "    </tr>\n",
       "    <tr>\n",
       "      <th>2018-01-16</th>\n",
       "      <td>0.0</td>\n",
       "      <td>0.0</td>\n",
       "      <td>0.0</td>\n",
       "      <td>0.0</td>\n",
       "      <td>0.0</td>\n",
       "      <td>129.0</td>\n",
       "      <td>129.00</td>\n",
       "      <td>0.00</td>\n",
       "      <td>0.0</td>\n",
       "      <td>0.0</td>\n",
       "      <td>...</td>\n",
       "      <td>0</td>\n",
       "      <td>0</td>\n",
       "      <td>0</td>\n",
       "      <td>1</td>\n",
       "      <td>1</td>\n",
       "      <td>1</td>\n",
       "      <td>1</td>\n",
       "      <td>1</td>\n",
       "      <td>1</td>\n",
       "      <td>0</td>\n",
       "    </tr>\n",
       "    <tr>\n",
       "      <th>2018-01-17</th>\n",
       "      <td>0.0</td>\n",
       "      <td>0.0</td>\n",
       "      <td>0.0</td>\n",
       "      <td>0.0</td>\n",
       "      <td>0.0</td>\n",
       "      <td>129.0</td>\n",
       "      <td>129.00</td>\n",
       "      <td>0.00</td>\n",
       "      <td>0.0</td>\n",
       "      <td>0.0</td>\n",
       "      <td>...</td>\n",
       "      <td>0</td>\n",
       "      <td>0</td>\n",
       "      <td>0</td>\n",
       "      <td>1</td>\n",
       "      <td>1</td>\n",
       "      <td>1</td>\n",
       "      <td>1</td>\n",
       "      <td>1</td>\n",
       "      <td>1</td>\n",
       "      <td>0</td>\n",
       "    </tr>\n",
       "  </tbody>\n",
       "</table>\n",
       "<p>5 rows × 81 columns</p>\n",
       "</div>"
      ],
      "text/plain": [
       "            is_incart  is_special_buy  is_bau  is_major_event  is_event  \\\n",
       "cal_dt                                                                    \n",
       "2018-01-13        0.0             0.0     0.0             0.0       0.0   \n",
       "2018-01-14        0.0             0.0     0.0             0.0       0.0   \n",
       "2018-01-15        0.0             0.0     0.0             0.0       0.0   \n",
       "2018-01-16        0.0             0.0     0.0             0.0       0.0   \n",
       "2018-01-17        0.0             0.0     0.0             0.0       0.0   \n",
       "\n",
       "            ty_regular_retail  ty_effective_retail  markdown  \\\n",
       "cal_dt                                                         \n",
       "2018-01-13              129.0               128.14      0.86   \n",
       "2018-01-14              129.0               129.00      0.00   \n",
       "2018-01-15              129.0               129.00      0.00   \n",
       "2018-01-16              129.0               129.00      0.00   \n",
       "2018-01-17              129.0               129.00      0.00   \n",
       "\n",
       "            ty_promo_gross_demand  promo_pen  ...  quarter_2  quarter_3  \\\n",
       "cal_dt                                        ...                         \n",
       "2018-01-13                    0.0        0.0  ...          0          0   \n",
       "2018-01-14                    0.0        0.0  ...          0          0   \n",
       "2018-01-15                    0.0        0.0  ...          0          0   \n",
       "2018-01-16                    0.0        0.0  ...          0          0   \n",
       "2018-01-17                    0.0        0.0  ...          0          0   \n",
       "\n",
       "            quarter_4  merch_dept_25H-HARDWARE (25H)  class_nbr_025-012  \\\n",
       "cal_dt                                                                    \n",
       "2018-01-13          0                              1                  1   \n",
       "2018-01-14          0                              1                  1   \n",
       "2018-01-15          0                              1                  1   \n",
       "2018-01-16          0                              1                  1   \n",
       "2018-01-17          0                              1                  1   \n",
       "\n",
       "            class_name_PNEUMATIC FASTENERS  mfg_brand_name_RYOBI  \\\n",
       "cal_dt                                                             \n",
       "2018-01-13                               1                     1   \n",
       "2018-01-14                               1                     1   \n",
       "2018-01-15                               1                     1   \n",
       "2018-01-16                               1                     1   \n",
       "2018-01-17                               1                     1   \n",
       "\n",
       "            internet_sku_name_203810823-ONE  18V Cordless AirStrike 18 Gauge Brad Nailer  Tool Only  with Sample Nails  \\\n",
       "cal_dt                                                                                                                   \n",
       "2018-01-13                                                  1                                                            \n",
       "2018-01-14                                                  1                                                            \n",
       "2018-01-15                                                  1                                                            \n",
       "2018-01-16                                                  1                                                            \n",
       "2018-01-17                                                  1                                                            \n",
       "\n",
       "            oms_id_203810823  Is_Holiday  \n",
       "cal_dt                                    \n",
       "2018-01-13                 1           0  \n",
       "2018-01-14                 1           0  \n",
       "2018-01-15                 1           1  \n",
       "2018-01-16                 1           0  \n",
       "2018-01-17                 1           0  \n",
       "\n",
       "[5 rows x 81 columns]"
      ]
     },
     "execution_count": 41,
     "metadata": {},
     "output_type": "execute_result"
    }
   ],
   "source": [
    "df1.head()"
   ]
  },
  {
   "cell_type": "code",
   "execution_count": 42,
   "id": "4ddb14b1-c18f-4867-8123-515a8937cf0f",
   "metadata": {},
   "outputs": [
    {
     "name": "stdout",
     "output_type": "stream",
     "text": [
      "Index(['is_incart', 'is_special_buy', 'is_bau', 'is_major_event', 'is_event',\n",
      "       'ty_regular_retail', 'ty_effective_retail', 'markdown',\n",
      "       'ty_promo_gross_demand', 'promo_pen', 'ty_gross_demand', 'lagprice1',\n",
      "       'lagprice2', 'lagprice3', 'lagprice4', 'lagprice5', 'lagprice7',\n",
      "       'lagprice11', 'weekend_indi', 'isLeapYear', 'month_1', 'month_2',\n",
      "       'month_3', 'month_4', 'month_5', 'month_6', 'month_7', 'month_8',\n",
      "       'month_9', 'month_10', 'month_11', 'month_12', 'dayofweek_1',\n",
      "       'dayofweek_2', 'dayofweek_3', 'dayofweek_4', 'dayofweek_5',\n",
      "       'dayofweek_6', 'dayofweek_7', 'dayofweek_8', 'dayofweek_9',\n",
      "       'dayofweek_10', 'dayofweek_11', 'dayofweek_12', 'dayofweek_13',\n",
      "       'dayofweek_14', 'dayofweek_15', 'dayofweek_16', 'dayofweek_17',\n",
      "       'dayofweek_18', 'dayofweek_19', 'dayofweek_20', 'dayofweek_21',\n",
      "       'dayofweek_22', 'dayofweek_23', 'dayofweek_24', 'dayofweek_25',\n",
      "       'dayofweek_26', 'dayofweek_27', 'dayofweek_28', 'dayofweek_29',\n",
      "       'dayofweek_30', 'dayofweek_31', 'Weekday_0', 'Weekday_1', 'Weekday_2',\n",
      "       'Weekday_3', 'Weekday_4', 'Weekday_5', 'Weekday_6', 'quarter_1',\n",
      "       'quarter_2', 'quarter_3', 'quarter_4', 'merch_dept_25H-HARDWARE (25H)',\n",
      "       'class_nbr_025-012', 'class_name_PNEUMATIC FASTENERS',\n",
      "       'mfg_brand_name_RYOBI',\n",
      "       'internet_sku_name_203810823-ONE  18V Cordless AirStrike 18 Gauge Brad Nailer  Tool Only  with Sample Nails',\n",
      "       'oms_id_203810823', 'Is_Holiday'],\n",
      "      dtype='object')\n"
     ]
    }
   ],
   "source": [
    "pd.options.display.max_seq_items = None\n",
    "print(df1.columns)"
   ]
  },
  {
   "cell_type": "code",
   "execution_count": 43,
   "id": "81d39de6-9892-41de-82df-e0cc860d86fa",
   "metadata": {},
   "outputs": [],
   "source": [
    "def custom_ts_multi_data_prep(dataset, target, start, end, window, horizon):\n",
    "  X = []\n",
    "  y = []\n",
    "  start = start + window\n",
    "  if end is None:\n",
    "    end = len(dataset) - horizon\n",
    "  for i in range(start, end):\n",
    "    indices = range(i-window,i)\n",
    "    X.append(dataset[indices])\n",
    "    indicey = range(i+1, i+1+horizon)\n",
    "    y.append(target[indicey])\n",
    "  return np.array(X), np.array(y)\n",
    "\n",
    "def timeseries_evaluation_metrics_func(y_true, y_pred):\n",
    "  def mean_absolute_percentage_error(y_true, y_pred):\n",
    "    y_true, y_pred = np.array(y_true), np.array(y_pred)\n",
    "    return np.mean(np.abs((y_true-y_pred)/y_true))*100\n",
    "  print('Evaluation metric results:-')\n",
    "  print(f'MSE is: {metrics.mean_squared_error(y_true, y_pred)}')\n",
    "  print(f'MAE is: {metrics.mean_absolute_error(y_true, y_pred)}')\n",
    "  print(f'RMSE is: {np.sqrt(metrics.mean_squared_error(y_true, y_pred))}')\n",
    "  print(f'MAPE is: {mean_absolute_percentage_error(y_true, y_pred)}')\n",
    "  print(f'R2 is : {metrics.r2_score(y_true, y_pred)}', end = '\\n\\n')"
   ]
  },
  {
   "cell_type": "code",
   "execution_count": 44,
   "id": "41f56039-a6e4-42ea-ac97-a78d97b1bbe1",
   "metadata": {},
   "outputs": [],
   "source": [
    "validate = model1[['is_incart', 'is_special_buy', 'is_bau', 'is_major_event', 'is_event',\n",
    "       'ty_regular_retail', 'ty_effective_retail', 'markdown',\n",
    "       'ty_promo_gross_demand', 'promo_pen','lagprice1',\n",
    "       'lagprice2', 'lagprice3', 'lagprice4', 'lagprice5', 'lagprice7',\n",
    "       'lagprice11', 'weekend_indi', 'isLeapYear', 'month_1', 'month_2',\n",
    "       'month_3', 'month_4', 'month_5', 'month_6', 'month_7', 'month_8',\n",
    "       'month_9', 'month_10', 'month_11', 'month_12', 'dayofweek_1',\n",
    "       'dayofweek_2', 'dayofweek_3', 'dayofweek_4', 'dayofweek_5',\n",
    "       'dayofweek_6', 'dayofweek_7', 'dayofweek_8', 'dayofweek_9',\n",
    "       'dayofweek_10', 'dayofweek_11', 'dayofweek_12', 'dayofweek_13',\n",
    "       'dayofweek_14', 'dayofweek_15', 'dayofweek_16', 'dayofweek_17',\n",
    "       'dayofweek_18', 'dayofweek_19', 'dayofweek_20', 'dayofweek_21',\n",
    "       'dayofweek_22', 'dayofweek_23', 'dayofweek_24', 'dayofweek_25',\n",
    "       'dayofweek_26', 'dayofweek_27', 'dayofweek_28', 'dayofweek_29',\n",
    "       'dayofweek_30', 'dayofweek_31', 'Weekday_0', 'Weekday_1', 'Weekday_2',\n",
    "       'Weekday_3', 'Weekday_4', 'Weekday_5', 'Weekday_6', 'quarter_1',\n",
    "       'quarter_2', 'quarter_3', 'quarter_4', 'merch_dept_25H-HARDWARE (25H)',\n",
    "       'class_nbr_025-012', 'class_name_PNEUMATIC FASTENERS',\n",
    "       'mfg_brand_name_RYOBI',\n",
    "       'internet_sku_name_203810823-ONE  18V Cordless AirStrike 18 Gauge Brad Nailer  Tool Only  with Sample Nails',\n",
    "       'oms_id_203810823', 'Is_Holiday', 'ty_gross_demand']].tail(15)\n",
    "\n",
    "model1.drop(model1.tail(15).index, inplace = True)"
   ]
  },
  {
   "cell_type": "code",
   "execution_count": 45,
   "id": "7c5d3047-1015-466c-8340-23f4e73c07f2",
   "metadata": {},
   "outputs": [],
   "source": [
    "from sklearn import preprocessing\n",
    "\n",
    "x_scaler = preprocessing.MinMaxScaler()\n",
    "y_scaler = preprocessing.MinMaxScaler()\n",
    "dataX = x_scaler.fit_transform(model1[['is_incart', 'is_special_buy', 'is_bau', 'is_major_event', 'is_event',\n",
    "       'ty_regular_retail', 'ty_effective_retail', 'markdown',\n",
    "       'ty_promo_gross_demand', 'promo_pen','lagprice1',\n",
    "       'lagprice2', 'lagprice3', 'lagprice4', 'lagprice5', 'lagprice7',\n",
    "       'lagprice11', 'weekend_indi', 'isLeapYear', 'month_1', 'month_2',\n",
    "       'month_3', 'month_4', 'month_5', 'month_6', 'month_7', 'month_8',\n",
    "       'month_9', 'month_10', 'month_11', 'month_12', 'dayofweek_1',\n",
    "       'dayofweek_2', 'dayofweek_3', 'dayofweek_4', 'dayofweek_5',\n",
    "       'dayofweek_6', 'dayofweek_7', 'dayofweek_8', 'dayofweek_9',\n",
    "       'dayofweek_10', 'dayofweek_11', 'dayofweek_12', 'dayofweek_13',\n",
    "       'dayofweek_14', 'dayofweek_15', 'dayofweek_16', 'dayofweek_17',\n",
    "       'dayofweek_18', 'dayofweek_19', 'dayofweek_20', 'dayofweek_21',\n",
    "       'dayofweek_22', 'dayofweek_23', 'dayofweek_24', 'dayofweek_25',\n",
    "       'dayofweek_26', 'dayofweek_27', 'dayofweek_28', 'dayofweek_29',\n",
    "       'dayofweek_30', 'dayofweek_31', 'Weekday_0', 'Weekday_1', 'Weekday_2',\n",
    "       'Weekday_3', 'Weekday_4', 'Weekday_5', 'Weekday_6', 'quarter_1',\n",
    "       'quarter_2', 'quarter_3', 'quarter_4', 'merch_dept_25H-HARDWARE (25H)',\n",
    "       'class_nbr_025-012', 'class_name_PNEUMATIC FASTENERS',\n",
    "       'mfg_brand_name_RYOBI',\n",
    "       'internet_sku_name_203810823-ONE  18V Cordless AirStrike 18 Gauge Brad Nailer  Tool Only  with Sample Nails',\n",
    "       'oms_id_203810823', 'Is_Holiday', 'ty_gross_demand']])\n",
    "\n",
    "dataY = y_scaler.fit_transform(model1[['ty_gross_demand']])"
   ]
  },
  {
   "cell_type": "code",
   "execution_count": 46,
   "id": "02b5fca9-a7cb-4784-821e-cf6729ba8e87",
   "metadata": {},
   "outputs": [
    {
     "name": "stderr",
     "output_type": "stream",
     "text": [
      "2022-01-09 23:47:03.260744: I tensorflow/stream_executor/platform/default/dso_loader.cc:48] Successfully opened dynamic library libcuda.so.1\n",
      "2022-01-09 23:47:03.260967: I tensorflow/stream_executor/cuda/cuda_gpu_executor.cc:982] successful NUMA node read from SysFS had negative value (-1), but there must be at least one NUMA node, so returning NUMA node zero\n",
      "2022-01-09 23:47:03.261613: I tensorflow/core/common_runtime/gpu/gpu_device.cc:1716] Found device 0 with properties: \n",
      "pciBusID: 0000:00:04.0 name: Tesla T4 computeCapability: 7.5\n",
      "coreClock: 1.59GHz coreCount: 40 deviceMemorySize: 14.75GiB deviceMemoryBandwidth: 298.08GiB/s\n",
      "2022-01-09 23:47:03.261661: I tensorflow/stream_executor/platform/default/dso_loader.cc:48] Successfully opened dynamic library libcudart.so.11.0\n",
      "2022-01-09 23:47:03.264052: I tensorflow/stream_executor/platform/default/dso_loader.cc:48] Successfully opened dynamic library libcublas.so.11\n",
      "2022-01-09 23:47:03.265241: I tensorflow/stream_executor/platform/default/dso_loader.cc:48] Successfully opened dynamic library libcufft.so.10\n",
      "2022-01-09 23:47:03.265623: I tensorflow/stream_executor/platform/default/dso_loader.cc:48] Successfully opened dynamic library libcurand.so.10\n",
      "2022-01-09 23:47:03.267782: I tensorflow/stream_executor/platform/default/dso_loader.cc:48] Successfully opened dynamic library libcusolver.so.10\n",
      "2022-01-09 23:47:03.268390: I tensorflow/stream_executor/platform/default/dso_loader.cc:48] Successfully opened dynamic library libcusparse.so.11\n",
      "2022-01-09 23:47:03.268610: I tensorflow/stream_executor/platform/default/dso_loader.cc:48] Successfully opened dynamic library libcudnn.so.8\n",
      "2022-01-09 23:47:03.268744: I tensorflow/stream_executor/cuda/cuda_gpu_executor.cc:982] successful NUMA node read from SysFS had negative value (-1), but there must be at least one NUMA node, so returning NUMA node zero\n",
      "2022-01-09 23:47:03.269473: I tensorflow/stream_executor/cuda/cuda_gpu_executor.cc:982] successful NUMA node read from SysFS had negative value (-1), but there must be at least one NUMA node, so returning NUMA node zero\n",
      "2022-01-09 23:47:03.270056: I tensorflow/core/common_runtime/gpu/gpu_device.cc:1858] Adding visible gpu devices: 0\n",
      "2022-01-09 23:47:03.278623: I tensorflow/core/platform/profile_utils/cpu_utils.cc:104] CPU Frequency: 2199995000 Hz\n",
      "2022-01-09 23:47:03.280627: I tensorflow/compiler/xla/service/service.cc:168] XLA service 0x55f6055f8290 initialized for platform Host (this does not guarantee that XLA will be used). Devices:\n",
      "2022-01-09 23:47:03.280655: I tensorflow/compiler/xla/service/service.cc:176]   StreamExecutor device (0): Host, Default Version\n",
      "2022-01-09 23:47:03.394722: I tensorflow/stream_executor/cuda/cuda_gpu_executor.cc:982] successful NUMA node read from SysFS had negative value (-1), but there must be at least one NUMA node, so returning NUMA node zero\n",
      "2022-01-09 23:47:03.395451: I tensorflow/compiler/xla/service/service.cc:168] XLA service 0x55f6055f7a40 initialized for platform CUDA (this does not guarantee that XLA will be used). Devices:\n",
      "2022-01-09 23:47:03.395483: I tensorflow/compiler/xla/service/service.cc:176]   StreamExecutor device (0): Tesla T4, Compute Capability 7.5\n",
      "2022-01-09 23:47:03.395813: I tensorflow/stream_executor/cuda/cuda_gpu_executor.cc:982] successful NUMA node read from SysFS had negative value (-1), but there must be at least one NUMA node, so returning NUMA node zero\n",
      "2022-01-09 23:47:03.396416: I tensorflow/core/common_runtime/gpu/gpu_device.cc:1716] Found device 0 with properties: \n",
      "pciBusID: 0000:00:04.0 name: Tesla T4 computeCapability: 7.5\n",
      "coreClock: 1.59GHz coreCount: 40 deviceMemorySize: 14.75GiB deviceMemoryBandwidth: 298.08GiB/s\n",
      "2022-01-09 23:47:03.396494: I tensorflow/stream_executor/platform/default/dso_loader.cc:48] Successfully opened dynamic library libcudart.so.11.0\n",
      "2022-01-09 23:47:03.396539: I tensorflow/stream_executor/platform/default/dso_loader.cc:48] Successfully opened dynamic library libcublas.so.11\n",
      "2022-01-09 23:47:03.396560: I tensorflow/stream_executor/platform/default/dso_loader.cc:48] Successfully opened dynamic library libcufft.so.10\n",
      "2022-01-09 23:47:03.396579: I tensorflow/stream_executor/platform/default/dso_loader.cc:48] Successfully opened dynamic library libcurand.so.10\n",
      "2022-01-09 23:47:03.396600: I tensorflow/stream_executor/platform/default/dso_loader.cc:48] Successfully opened dynamic library libcusolver.so.10\n",
      "2022-01-09 23:47:03.396618: I tensorflow/stream_executor/platform/default/dso_loader.cc:48] Successfully opened dynamic library libcusparse.so.11\n",
      "2022-01-09 23:47:03.396637: I tensorflow/stream_executor/platform/default/dso_loader.cc:48] Successfully opened dynamic library libcudnn.so.8\n",
      "2022-01-09 23:47:03.396739: I tensorflow/stream_executor/cuda/cuda_gpu_executor.cc:982] successful NUMA node read from SysFS had negative value (-1), but there must be at least one NUMA node, so returning NUMA node zero\n",
      "2022-01-09 23:47:03.397529: I tensorflow/stream_executor/cuda/cuda_gpu_executor.cc:982] successful NUMA node read from SysFS had negative value (-1), but there must be at least one NUMA node, so returning NUMA node zero\n",
      "2022-01-09 23:47:03.398079: I tensorflow/core/common_runtime/gpu/gpu_device.cc:1858] Adding visible gpu devices: 0\n",
      "2022-01-09 23:47:03.398156: I tensorflow/stream_executor/platform/default/dso_loader.cc:48] Successfully opened dynamic library libcudart.so.11.0\n",
      "2022-01-09 23:47:03.791501: I tensorflow/core/common_runtime/gpu/gpu_device.cc:1257] Device interconnect StreamExecutor with strength 1 edge matrix:\n",
      "2022-01-09 23:47:03.791541: I tensorflow/core/common_runtime/gpu/gpu_device.cc:1263]      0 \n",
      "2022-01-09 23:47:03.791550: I tensorflow/core/common_runtime/gpu/gpu_device.cc:1276] 0:   N \n",
      "2022-01-09 23:47:03.791820: I tensorflow/stream_executor/cuda/cuda_gpu_executor.cc:982] successful NUMA node read from SysFS had negative value (-1), but there must be at least one NUMA node, so returning NUMA node zero\n",
      "2022-01-09 23:47:03.792664: I tensorflow/stream_executor/cuda/cuda_gpu_executor.cc:982] successful NUMA node read from SysFS had negative value (-1), but there must be at least one NUMA node, so returning NUMA node zero\n",
      "2022-01-09 23:47:03.793290: I tensorflow/core/common_runtime/gpu/gpu_device.cc:1402] Created TensorFlow device (/job:localhost/replica:0/task:0/device:GPU:0 with 13996 MB memory) -> physical GPU (device: 0, name: Tesla T4, pci bus id: 0000:00:04.0, compute capability: 7.5)\n"
     ]
    }
   ],
   "source": [
    "hist_window = 5\n",
    "horizon = 15\n",
    "TRAIN_SPLIT = 1250\n",
    "x_train_multi, y_train_multi = custom_ts_multi_data_prep(dataX, dataY, 0, TRAIN_SPLIT, hist_window, horizon)\n",
    "x_val_multi, y_val_multi = custom_ts_multi_data_prep(dataX, dataY, TRAIN_SPLIT, None, hist_window, horizon)\n",
    "\n",
    "BATCH_SIZE = 32\n",
    "BUFFER_SIZE = 32\n",
    "train_data_multi = tf.data.Dataset.from_tensor_slices((x_train_multi, y_train_multi))\n",
    "train_data_multi = train_data_multi.cache().shuffle(BUFFER_SIZE).batch(BATCH_SIZE).repeat()\n",
    "val_data_multi = tf.data.Dataset.from_tensor_slices((x_val_multi, y_val_multi))\n",
    "val_data_multi = val_data_multi.batch(BATCH_SIZE).repeat()"
   ]
  },
  {
   "cell_type": "code",
   "execution_count": 47,
   "id": "2974b882-3d5b-4194-8ed4-317c4214ed53",
   "metadata": {},
   "outputs": [
    {
     "data": {
      "text/plain": [
       "1245"
      ]
     },
     "execution_count": 47,
     "metadata": {},
     "output_type": "execute_result"
    }
   ],
   "source": [
    "x_train_multi.shape[0]"
   ]
  },
  {
   "cell_type": "code",
   "execution_count": 48,
   "id": "a9e5b6ce-3684-4d31-8f59-745f981766fa",
   "metadata": {},
   "outputs": [
    {
     "data": {
      "text/plain": [
       "5"
      ]
     },
     "execution_count": 48,
     "metadata": {},
     "output_type": "execute_result"
    }
   ],
   "source": [
    "x_train_multi.shape[1]"
   ]
  },
  {
   "cell_type": "code",
   "execution_count": 49,
   "id": "6ff78d70-8782-42d5-ad89-061e50ec1781",
   "metadata": {},
   "outputs": [
    {
     "data": {
      "text/plain": [
       "81"
      ]
     },
     "execution_count": 49,
     "metadata": {},
     "output_type": "execute_result"
    }
   ],
   "source": [
    "x_train_multi.shape[2]"
   ]
  },
  {
   "cell_type": "code",
   "execution_count": 50,
   "id": "a536a772-1b7f-45cb-b99d-62091daf71aa",
   "metadata": {},
   "outputs": [
    {
     "data": {
      "text/plain": [
       "(1245, 5, 81)"
      ]
     },
     "execution_count": 50,
     "metadata": {},
     "output_type": "execute_result"
    }
   ],
   "source": [
    "x_train_multi.shape"
   ]
  },
  {
   "cell_type": "code",
   "execution_count": 51,
   "id": "a136c2e5-577a-4e99-8338-73c6d18f710e",
   "metadata": {},
   "outputs": [],
   "source": [
    "from keras.backend import sigmoid\n",
    "def swish(x, beta = 1):\n",
    "    return (x * sigmoid(beta * x))"
   ]
  },
  {
   "cell_type": "code",
   "execution_count": 52,
   "id": "c7b9dab9-694e-4c3e-a3b6-a99feafa40af",
   "metadata": {},
   "outputs": [],
   "source": [
    "from keras.utils.generic_utils import get_custom_objects\n",
    "from keras.layers import Activation\n",
    "get_custom_objects().update({'swish': Activation(swish)})"
   ]
  },
  {
   "cell_type": "code",
   "execution_count": 53,
   "id": "9330105e-8a7e-43fe-a8f8-a1572fc0a06e",
   "metadata": {},
   "outputs": [],
   "source": [
    "from keras.layers import LeakyReLU"
   ]
  },
  {
   "cell_type": "code",
   "execution_count": 54,
   "id": "0db14913-21a3-446f-a55e-167d00909323",
   "metadata": {},
   "outputs": [],
   "source": [
    "from kerastuner import HyperModel"
   ]
  },
  {
   "cell_type": "code",
   "execution_count": 55,
   "id": "46cdc6e5-1aa9-48e6-abba-37b683228dc1",
   "metadata": {},
   "outputs": [],
   "source": [
    "from tensorflow import keras\n",
    "from tensorflow.keras.layers import (\n",
    "    Conv1D,\n",
    "    Dense,\n",
    "    Dropout,\n",
    "    Flatten,\n",
    "    MaxPool1D,\n",
    "    TimeDistributed,\n",
    "    BatchNormalization,\n",
    "    LSTM,\n",
    "    GRU,\n",
    "    SimpleRNN\n",
    ")\n",
    "\n",
    "INPUT_SHAPE = (x_train_multi.shape[1], x_train_multi.shape[2])\n",
    "NUM_CLASSES = 1\n",
    "input_shape = (x_train_multi.shape[1], x_train_multi.shape[2])\n",
    "num_classes = 1"
   ]
  },
  {
   "cell_type": "code",
   "execution_count": 56,
   "id": "4fe03abb-4de7-4936-aee8-eb43e28dbc86",
   "metadata": {},
   "outputs": [],
   "source": [
    "from tensorflow.keras import layers\n",
    "from tensorflow.keras import regularizers\n",
    "\n",
    "\n",
    "leaky_relu_alpha = 0.1\n",
    "filter_num = 25\n",
    "activation_conv = 'tanh'\n",
    "LSTM_act = 'tanh'\n",
    "dense_act = 'softmax'\n",
    "conv_dropout = .15\n",
    "convLSTM = tf.keras.models.Sequential([ \n",
    "                                        # Conv1, 500 filters\n",
    "                                        tf.keras.layers.Conv1D(activation = 'elu', filters=500, strides=1, padding = \"causal\", kernel_size = 3, input_shape = (x_train_multi.shape[1], x_train_multi.shape[2])),\n",
    "                                        tf.keras.layers.BatchNormalization(),\n",
    "                                        tf.keras.layers.LeakyReLU(alpha=leaky_relu_alpha),\n",
    "                                        tf.keras.layers.PReLU(),\n",
    "                                        tf.keras.layers.Dropout(conv_dropout),\n",
    "    \n",
    "                                        # Conv2, 250 filters\n",
    "                                        tf.keras.layers.Conv1D(activation = 'elu',filters=250, strides=1, kernel_size = 3, padding = \"causal\"),\n",
    "                                        tf.keras.layers.BatchNormalization(),\n",
    "                                        tf.keras.layers.LeakyReLU(alpha=leaky_relu_alpha),\n",
    "                                        tf.keras.layers.PReLU(),\n",
    "                                        tf.keras.layers.Dropout(conv_dropout),\n",
    "    \n",
    "                                        # Pool 1\n",
    "                                        tf.keras.layers.MaxPooling1D(pool_size=1, strides=1, padding='same'),\n",
    "    \n",
    "                                        # Conv3, 125 filters\n",
    "                                        tf.keras.layers.Conv1D(activation = 'elu',filters=125, strides=1, kernel_size = 3,padding = \"causal\"),\n",
    "                                        tf.keras.layers.BatchNormalization(),\n",
    "                                        tf.keras.layers.LeakyReLU(alpha=leaky_relu_alpha),\n",
    "                                        tf.keras.layers.PReLU(),\n",
    "                                        tf.keras.layers.Dropout(conv_dropout),\n",
    "                                        \n",
    "                                        # Pool 2\n",
    "                                        tf.keras.layers.MaxPooling1D(pool_size=1, strides=1, padding='same'),\n",
    "    \n",
    "                                        # Conv4, 100 filters\n",
    "                                        tf.keras.layers.Conv1D(activation = 'elu',filters=100, strides=1, kernel_size = 3, padding = \"causal\"),\n",
    "                                        tf.keras.layers.BatchNormalization(),\n",
    "                                        tf.keras.layers.LeakyReLU(alpha=leaky_relu_alpha),\n",
    "                                        tf.keras.layers.PReLU(),\n",
    "                                        tf.keras.layers.Dropout(conv_dropout),\n",
    "    \n",
    "                                        # Pool 3\n",
    "                                        tf.keras.layers.MaxPooling1D(pool_size=1, strides=1, padding='same'),\n",
    "    \n",
    "                                        # Conv5, 50 filters\n",
    "                                        tf.keras.layers.Conv1D(activation = 'elu',filters=50, strides=1, kernel_size = 3, padding = \"causal\"),\n",
    "                                        tf.keras.layers.BatchNormalization(),\n",
    "                                        tf.keras.layers.LeakyReLU(alpha=leaky_relu_alpha),\n",
    "                                        tf.keras.layers.PReLU(),\n",
    "                                        tf.keras.layers.Dropout(conv_dropout),\n",
    "    \n",
    "                                        # Pool 4\n",
    "                                        tf.keras.layers.MaxPooling1D(pool_size=1, strides=1, padding='same'),\n",
    "    \n",
    "                                        # Conv6, 25 filters\n",
    "                                        tf.keras.layers.Conv1D(activation = 'elu',filters=25, strides=1, kernel_size = 3, padding = \"causal\"),\n",
    "                                        tf.keras.layers.BatchNormalization(),\n",
    "                                        tf.keras.layers.LeakyReLU(alpha=leaky_relu_alpha),\n",
    "                                        tf.keras.layers.PReLU(),\n",
    "                                        tf.keras.layers.Dropout(conv_dropout),\n",
    "    \n",
    "                                        # Pool 5\n",
    "                                        tf.keras.layers.MaxPooling1D(pool_size=1, strides=1, padding='same'),\n",
    "    \n",
    "                                        # Time Distributed #1\n",
    "                                        tf.keras.layers.TimeDistributed(Dense(2, activation = 'tanh')),\n",
    "    \n",
    "                                        tf.keras.layers.Dropout(conv_dropout),\n",
    "                                        \n",
    "                                        # Bidirectional #1\n",
    "                                        tf.keras.layers.Bidirectional(LSTM(2,activation = 'tanh', return_sequences = True, go_backwards=True)),\n",
    "    \n",
    "                                        tf.keras.layers.Dropout(conv_dropout),\n",
    "\n",
    "                                        # Output Layer\n",
    "                                        #tf.keras.layers.MaxPool1D(pool_size = 1),\n",
    "                                        #tf.keras.layers.PReLU(),\n",
    "                                        tf.keras.layers.Flatten(),\n",
    "                                        tf.keras.layers.Dense(horizon, activation = 'softmax',\n",
    "                                        kernel_regularizer=regularizers.l2(0.01),\n",
    "                                        bias_regularizer=regularizers.l2(0.01),\n",
    "                                        activity_regularizer=regularizers.l2(0.01)),\n",
    "])"
   ]
  },
  {
   "cell_type": "code",
   "execution_count": 57,
   "id": "75a8cf7a-1aac-4410-b61d-7d02ed5f86bd",
   "metadata": {},
   "outputs": [
    {
     "data": {
      "text/plain": [
       "\"\\n                                        tf.keras.layers.Dense(horizon, activation = 'softmax',\\n                                        kernel_regularizer=regularizers.l2(0.01),\\n                                        bias_regularizer=regularizers.l2(0.01),\\n                                        activity_regularizer=regularizers.l2(0.01)),\\n\""
      ]
     },
     "execution_count": 57,
     "metadata": {},
     "output_type": "execute_result"
    }
   ],
   "source": [
    "'''\n",
    "                                        tf.keras.layers.Dense(horizon, activation = 'softmax',\n",
    "                                        kernel_regularizer=regularizers.l2(0.01),\n",
    "                                        bias_regularizer=regularizers.l2(0.01),\n",
    "                                        activity_regularizer=regularizers.l2(0.01)),\n",
    "'''"
   ]
  },
  {
   "cell_type": "code",
   "execution_count": 58,
   "id": "a393c722-1a8b-4bd9-bac8-0614a6522223",
   "metadata": {},
   "outputs": [],
   "source": [
    "optimizer=tf.optimizers.Adam(learning_rate=0.00001) #0.00001\n",
    "convLSTM.compile(optimizer=optimizer, loss='mse')"
   ]
  },
  {
   "cell_type": "code",
   "execution_count": 59,
   "id": "e60079f5-a46e-4490-94d6-0ca336d51bd7",
   "metadata": {},
   "outputs": [
    {
     "name": "stdout",
     "output_type": "stream",
     "text": [
      "Epoch 1/450\n"
     ]
    },
    {
     "name": "stderr",
     "output_type": "stream",
     "text": [
      "2022-01-09 23:47:09.016783: I tensorflow/stream_executor/platform/default/dso_loader.cc:48] Successfully opened dynamic library libcublas.so.11\n",
      "2022-01-09 23:47:09.495859: I tensorflow/stream_executor/platform/default/dso_loader.cc:48] Successfully opened dynamic library libcudnn.so.8\n"
     ]
    },
    {
     "name": "stdout",
     "output_type": "stream",
     "text": [
      "50/50 [==============================] - ETA: 0s - loss: 0.177 - ETA: 0s - loss: 0.176 - ETA: 0s - loss: 0.178 - ETA: 0s - loss: 0.178 - ETA: 0s - loss: 0.178 - ETA: 0s - loss: 0.179 - ETA: 0s - loss: 0.181 - ETA: 0s - loss: 0.185 - ETA: 0s - loss: 0.185 - ETA: 0s - loss: 0.184 - ETA: 0s - loss: 0.184 - 2s 33ms/step - loss: 0.1839 - val_loss: 0.1749\n",
      "Epoch 2/450\n",
      "50/50 [==============================] - ETA: 0s - loss: 0.176 - ETA: 0s - loss: 0.175 - ETA: 0s - loss: 0.177 - ETA: 0s - loss: 0.180 - ETA: 0s - loss: 0.184 - ETA: 0s - loss: 0.187 - ETA: 0s - loss: 0.186 - ETA: 0s - loss: 0.184 - ETA: 0s - loss: 0.184 - ETA: 0s - loss: 0.183 - 1s 14ms/step - loss: 0.1831 - val_loss: 0.1743\n",
      "Epoch 3/450\n",
      "50/50 [==============================] - ETA: 0s - loss: 0.174 - ETA: 0s - loss: 0.189 - ETA: 0s - loss: 0.195 - ETA: 0s - loss: 0.194 - ETA: 0s - loss: 0.190 - ETA: 0s - loss: 0.187 - ETA: 0s - loss: 0.186 - ETA: 0s - loss: 0.184 - ETA: 0s - loss: 0.183 - ETA: 0s - loss: 0.184 - 1s 14ms/step - loss: 0.1866 - val_loss: 0.1737\n",
      "Epoch 4/450\n",
      "50/50 [==============================] - ETA: 0s - loss: 0.198 - ETA: 0s - loss: 0.189 - ETA: 0s - loss: 0.182 - ETA: 0s - loss: 0.181 - ETA: 0s - loss: 0.180 - ETA: 0s - loss: 0.179 - ETA: 0s - loss: 0.178 - ETA: 0s - loss: 0.180 - ETA: 0s - loss: 0.184 - ETA: 0s - loss: 0.184 - 1s 14ms/step - loss: 0.1833 - val_loss: 0.1731\n",
      "Epoch 5/450\n",
      "50/50 [==============================] - ETA: 0s - loss: 0.174 - ETA: 0s - loss: 0.177 - ETA: 0s - loss: 0.176 - ETA: 0s - loss: 0.176 - ETA: 0s - loss: 0.177 - ETA: 0s - loss: 0.179 - ETA: 0s - loss: 0.184 - ETA: 0s - loss: 0.183 - ETA: 0s - loss: 0.182 - ETA: 0s - loss: 0.182 - 1s 15ms/step - loss: 0.1814 - val_loss: 0.1724\n",
      "Epoch 6/450\n",
      "50/50 [==============================] - ETA: 0s - loss: 0.173 - ETA: 0s - loss: 0.175 - ETA: 0s - loss: 0.180 - ETA: 0s - loss: 0.184 - ETA: 0s - loss: 0.188 - ETA: 0s - loss: 0.186 - ETA: 0s - loss: 0.183 - ETA: 0s - loss: 0.183 - ETA: 0s - loss: 0.181 - ETA: 0s - loss: 0.181 - 1s 14ms/step - loss: 0.1819 - val_loss: 0.1718\n",
      "Epoch 7/450\n",
      "50/50 [==============================] - ETA: 0s - loss: 0.194 - ETA: 0s - loss: 0.199 - ETA: 0s - loss: 0.194 - ETA: 0s - loss: 0.188 - ETA: 0s - loss: 0.185 - ETA: 0s - loss: 0.183 - ETA: 0s - loss: 0.181 - ETA: 0s - loss: 0.180 - ETA: 0s - loss: 0.182 - ETA: 0s - loss: 0.184 - 1s 14ms/step - loss: 0.1845 - val_loss: 0.1712\n",
      "Epoch 8/450\n",
      "50/50 [==============================] - ETA: 0s - loss: 0.181 - ETA: 0s - loss: 0.173 - ETA: 0s - loss: 0.174 - ETA: 0s - loss: 0.174 - ETA: 0s - loss: 0.173 - ETA: 0s - loss: 0.174 - ETA: 0s - loss: 0.177 - ETA: 0s - loss: 0.180 - ETA: 0s - loss: 0.180 - ETA: 0s - loss: 0.179 - 1s 14ms/step - loss: 0.1796 - val_loss: 0.1706\n",
      "Epoch 9/450\n",
      "50/50 [==============================] - ETA: 0s - loss: 0.176 - ETA: 0s - loss: 0.173 - ETA: 0s - loss: 0.173 - ETA: 0s - loss: 0.174 - ETA: 0s - loss: 0.177 - ETA: 0s - loss: 0.183 - ETA: 0s - loss: 0.182 - ETA: 0s - loss: 0.180 - ETA: 0s - loss: 0.180 - ETA: 0s - loss: 0.179 - 1s 14ms/step - loss: 0.1789 - val_loss: 0.1700\n",
      "Epoch 10/450\n",
      "50/50 [==============================] - ETA: 0s - loss: 0.171 - ETA: 0s - loss: 0.181 - ETA: 0s - loss: 0.184 - ETA: 0s - loss: 0.189 - ETA: 0s - loss: 0.186 - ETA: 0s - loss: 0.183 - ETA: 0s - loss: 0.181 - ETA: 0s - loss: 0.180 - ETA: 0s - loss: 0.179 - ETA: 0s - loss: 0.180 - 1s 14ms/step - loss: 0.1806 - val_loss: 0.1694\n",
      "Epoch 11/450\n",
      "50/50 [==============================] - ETA: 0s - loss: 0.232 - ETA: 0s - loss: 0.198 - ETA: 0s - loss: 0.186 - ETA: 0s - loss: 0.182 - ETA: 0s - loss: 0.180 - ETA: 0s - loss: 0.178 - ETA: 0s - loss: 0.177 - ETA: 0s - loss: 0.179 - ETA: 0s - loss: 0.181 - ETA: 0s - loss: 0.181 - 1s 14ms/step - loss: 0.1808 - val_loss: 0.1688\n",
      "Epoch 12/450\n",
      "50/50 [==============================] - ETA: 0s - loss: 0.169 - ETA: 0s - loss: 0.172 - ETA: 0s - loss: 0.172 - ETA: 0s - loss: 0.171 - ETA: 0s - loss: 0.171 - ETA: 0s - loss: 0.175 - ETA: 0s - loss: 0.179 - ETA: 0s - loss: 0.179 - ETA: 0s - loss: 0.178 - ETA: 0s - loss: 0.177 - 1s 14ms/step - loss: 0.1771 - val_loss: 0.1682\n",
      "Epoch 13/450\n",
      "50/50 [==============================] - ETA: 0s - loss: 0.168 - ETA: 0s - loss: 0.170 - ETA: 0s - loss: 0.172 - ETA: 0s - loss: 0.176 - ETA: 0s - loss: 0.183 - ETA: 0s - loss: 0.181 - ETA: 0s - loss: 0.179 - ETA: 0s - loss: 0.178 - ETA: 0s - loss: 0.177 - ETA: 0s - loss: 0.177 - 1s 14ms/step - loss: 0.1769 - val_loss: 0.1676\n",
      "Epoch 14/450\n",
      "50/50 [==============================] - ETA: 0s - loss: 0.200 - ETA: 0s - loss: 0.187 - ETA: 0s - loss: 0.192 - ETA: 0s - loss: 0.186 - ETA: 0s - loss: 0.182 - ETA: 0s - loss: 0.180 - ETA: 0s - loss: 0.178 - ETA: 0s - loss: 0.177 - ETA: 0s - loss: 0.178 - ETA: 0s - loss: 0.180 - 1s 14ms/step - loss: 0.1807 - val_loss: 0.1670\n",
      "Epoch 15/450\n",
      "50/50 [==============================] - ETA: 0s - loss: 0.177 - ETA: 0s - loss: 0.171 - ETA: 0s - loss: 0.171 - ETA: 0s - loss: 0.170 - ETA: 0s - loss: 0.170 - ETA: 0s - loss: 0.170 - ETA: 0s - loss: 0.172 - ETA: 0s - loss: 0.176 - ETA: 0s - loss: 0.176 - ETA: 0s - loss: 0.175 - 1s 14ms/step - loss: 0.1755 - val_loss: 0.1664\n",
      "Epoch 16/450\n",
      "50/50 [==============================] - ETA: 0s - loss: 0.174 - ETA: 0s - loss: 0.170 - ETA: 0s - loss: 0.168 - ETA: 0s - loss: 0.169 - ETA: 0s - loss: 0.173 - ETA: 0s - loss: 0.178 - ETA: 0s - loss: 0.178 - ETA: 0s - loss: 0.176 - ETA: 0s - loss: 0.176 - ETA: 0s - loss: 0.175 - 1s 14ms/step - loss: 0.1746 - val_loss: 0.1658\n",
      "Epoch 17/450\n",
      "50/50 [==============================] - ETA: 0s - loss: 0.174 - ETA: 0s - loss: 0.174 - ETA: 0s - loss: 0.177 - ETA: 0s - loss: 0.185 - ETA: 0s - loss: 0.182 - ETA: 0s - loss: 0.179 - ETA: 0s - loss: 0.178 - ETA: 0s - loss: 0.176 - ETA: 0s - loss: 0.175 - ETA: 0s - loss: 0.176 - 1s 14ms/step - loss: 0.1761 - val_loss: 0.1652\n",
      "Epoch 18/450\n",
      "50/50 [==============================] - ETA: 0s - loss: 0.213 - ETA: 0s - loss: 0.196 - ETA: 0s - loss: 0.184 - ETA: 0s - loss: 0.178 - ETA: 0s - loss: 0.177 - ETA: 0s - loss: 0.174 - ETA: 0s - loss: 0.174 - ETA: 0s - loss: 0.175 - ETA: 0s - loss: 0.177 - ETA: 0s - loss: 0.177 - 1s 14ms/step - loss: 0.1771 - val_loss: 0.1646\n",
      "Epoch 19/450\n",
      "50/50 [==============================] - ETA: 0s - loss: 0.165 - ETA: 0s - loss: 0.167 - ETA: 0s - loss: 0.167 - ETA: 0s - loss: 0.167 - ETA: 0s - loss: 0.167 - ETA: 0s - loss: 0.170 - ETA: 0s - loss: 0.174 - ETA: 0s - loss: 0.175 - ETA: 0s - loss: 0.174 - ETA: 0s - loss: 0.173 - 1s 14ms/step - loss: 0.1730 - val_loss: 0.1640\n",
      "Epoch 20/450\n",
      "50/50 [==============================] - ETA: 0s - loss: 0.164 - ETA: 0s - loss: 0.165 - ETA: 0s - loss: 0.166 - ETA: 0s - loss: 0.172 - ETA: 0s - loss: 0.178 - ETA: 0s - loss: 0.177 - ETA: 0s - loss: 0.175 - ETA: 0s - loss: 0.174 - ETA: 0s - loss: 0.173 - ETA: 0s - loss: 0.172 - 1s 14ms/step - loss: 0.1722 - val_loss: 0.1635\n",
      "Epoch 21/450\n",
      "50/50 [==============================] - ETA: 0s - loss: 0.190 - ETA: 0s - loss: 0.182 - ETA: 0s - loss: 0.189 - ETA: 0s - loss: 0.183 - ETA: 0s - loss: 0.179 - ETA: 0s - loss: 0.177 - ETA: 0s - loss: 0.175 - ETA: 0s - loss: 0.174 - ETA: 0s - loss: 0.174 - ETA: 0s - loss: 0.175 - 1s 14ms/step - loss: 0.1768 - val_loss: 0.1629\n",
      "Epoch 22/450\n",
      "50/50 [==============================] - ETA: 0s - loss: 0.173 - ETA: 0s - loss: 0.169 - ETA: 0s - loss: 0.166 - ETA: 0s - loss: 0.167 - ETA: 0s - loss: 0.166 - ETA: 0s - loss: 0.166 - ETA: 0s - loss: 0.168 - ETA: 0s - loss: 0.172 - ETA: 0s - loss: 0.172 - ETA: 0s - loss: 0.172 - 1s 14ms/step - loss: 0.1713 - val_loss: 0.1623\n",
      "Epoch 23/450\n",
      "50/50 [==============================] - ETA: 0s - loss: 0.173 - ETA: 0s - loss: 0.167 - ETA: 0s - loss: 0.165 - ETA: 0s - loss: 0.165 - ETA: 0s - loss: 0.169 - ETA: 0s - loss: 0.174 - ETA: 0s - loss: 0.174 - ETA: 0s - loss: 0.172 - ETA: 0s - loss: 0.172 - ETA: 0s - loss: 0.171 - 1s 14ms/step - loss: 0.1706 - val_loss: 0.1617\n",
      "Epoch 24/450\n",
      "50/50 [==============================] - ETA: 0s - loss: 0.163 - ETA: 0s - loss: 0.166 - ETA: 0s - loss: 0.173 - ETA: 0s - loss: 0.180 - ETA: 0s - loss: 0.178 - ETA: 0s - loss: 0.175 - ETA: 0s - loss: 0.173 - ETA: 0s - loss: 0.172 - ETA: 0s - loss: 0.171 - ETA: 0s - loss: 0.171 - 1s 14ms/step - loss: 0.1718 - val_loss: 0.1611\n",
      "Epoch 25/450\n",
      "50/50 [==============================] - ETA: 0s - loss: 0.171 - ETA: 0s - loss: 0.192 - ETA: 0s - loss: 0.181 - ETA: 0s - loss: 0.175 - ETA: 0s - loss: 0.173 - ETA: 0s - loss: 0.171 - ETA: 0s - loss: 0.170 - ETA: 0s - loss: 0.170 - ETA: 0s - loss: 0.172 - ETA: 0s - loss: 0.173 - 1s 14ms/step - loss: 0.1733 - val_loss: 0.1606\n",
      "Epoch 26/450\n",
      "50/50 [==============================] - ETA: 0s - loss: 0.161 - ETA: 0s - loss: 0.161 - ETA: 0s - loss: 0.163 - ETA: 0s - loss: 0.163 - ETA: 0s - loss: 0.163 - ETA: 0s - loss: 0.166 - ETA: 0s - loss: 0.169 - ETA: 0s - loss: 0.170 - ETA: 0s - loss: 0.170 - ETA: 0s - loss: 0.169 - 1s 14ms/step - loss: 0.1689 - val_loss: 0.1600\n",
      "Epoch 27/450\n",
      "50/50 [==============================] - ETA: 0s - loss: 0.161 - ETA: 0s - loss: 0.161 - ETA: 0s - loss: 0.162 - ETA: 0s - loss: 0.167 - ETA: 0s - loss: 0.173 - ETA: 0s - loss: 0.173 - ETA: 0s - loss: 0.171 - ETA: 0s - loss: 0.170 - ETA: 0s - loss: 0.169 - ETA: 0s - loss: 0.168 - 1s 14ms/step - loss: 0.1682 - val_loss: 0.1594\n",
      "Epoch 28/450\n",
      "50/50 [==============================] - ETA: 0s - loss: 0.162 - ETA: 0s - loss: 0.177 - ETA: 0s - loss: 0.184 - ETA: 0s - loss: 0.179 - ETA: 0s - loss: 0.175 - ETA: 0s - loss: 0.173 - ETA: 0s - loss: 0.171 - ETA: 0s - loss: 0.169 - ETA: 0s - loss: 0.169 - ETA: 0s - loss: 0.170 - 1s 14ms/step - loss: 0.1726 - val_loss: 0.1588\n",
      "Epoch 29/450\n",
      "50/50 [==============================] - ETA: 0s - loss: 0.170 - ETA: 0s - loss: 0.167 - ETA: 0s - loss: 0.163 - ETA: 0s - loss: 0.164 - ETA: 0s - loss: 0.163 - ETA: 0s - loss: 0.162 - ETA: 0s - loss: 0.164 - ETA: 0s - loss: 0.166 - ETA: 0s - loss: 0.168 - ETA: 0s - loss: 0.168 - 1s 14ms/step - loss: 0.1675 - val_loss: 0.1583\n",
      "Epoch 30/450\n",
      "50/50 [==============================] - ETA: 0s - loss: 0.159 - ETA: 0s - loss: 0.163 - ETA: 0s - loss: 0.161 - ETA: 0s - loss: 0.161 - ETA: 0s - loss: 0.165 - ETA: 0s - loss: 0.169 - ETA: 0s - loss: 0.170 - ETA: 0s - loss: 0.169 - ETA: 0s - loss: 0.168 - ETA: 0s - loss: 0.167 - 1s 14ms/step - loss: 0.1666 - val_loss: 0.1577\n",
      "Epoch 31/450\n",
      "50/50 [==============================] - ETA: 0s - loss: 0.159 - ETA: 0s - loss: 0.161 - ETA: 0s - loss: 0.169 - ETA: 0s - loss: 0.175 - ETA: 0s - loss: 0.174 - ETA: 0s - loss: 0.171 - ETA: 0s - loss: 0.169 - ETA: 0s - loss: 0.168 - ETA: 0s - loss: 0.167 - ETA: 0s - loss: 0.166 - 1s 14ms/step - loss: 0.1678 - val_loss: 0.1571\n",
      "Epoch 32/450\n",
      "50/50 [==============================] - ETA: 0s - loss: 0.164 - ETA: 0s - loss: 0.187 - ETA: 0s - loss: 0.178 - ETA: 0s - loss: 0.171 - ETA: 0s - loss: 0.169 - ETA: 0s - loss: 0.167 - ETA: 0s - loss: 0.166 - ETA: 0s - loss: 0.165 - ETA: 0s - loss: 0.166 - ETA: 0s - loss: 0.169 - 1s 14ms/step - loss: 0.1693 - val_loss: 0.1566\n",
      "Epoch 33/450\n",
      "50/50 [==============================] - ETA: 0s - loss: 0.158 - ETA: 0s - loss: 0.157 - ETA: 0s - loss: 0.159 - ETA: 0s - loss: 0.159 - ETA: 0s - loss: 0.159 - ETA: 0s - loss: 0.161 - ETA: 0s - loss: 0.163 - ETA: 0s - loss: 0.166 - ETA: 0s - loss: 0.166 - ETA: 0s - loss: 0.165 - 1s 14ms/step - loss: 0.1649 - val_loss: 0.1560\n",
      "Epoch 34/450\n",
      "50/50 [==============================] - ETA: 0s - loss: 0.157 - ETA: 0s - loss: 0.156 - ETA: 0s - loss: 0.158 - ETA: 0s - loss: 0.163 - ETA: 0s - loss: 0.168 - ETA: 0s - loss: 0.169 - ETA: 0s - loss: 0.167 - ETA: 0s - loss: 0.166 - ETA: 0s - loss: 0.165 - ETA: 0s - loss: 0.164 - 1s 14ms/step - loss: 0.1642 - val_loss: 0.1554\n",
      "Epoch 35/450\n",
      "50/50 [==============================] - ETA: 0s - loss: 0.155 - ETA: 0s - loss: 0.172 - ETA: 0s - loss: 0.179 - ETA: 0s - loss: 0.175 - ETA: 0s - loss: 0.171 - ETA: 0s - loss: 0.169 - ETA: 0s - loss: 0.167 - ETA: 0s - loss: 0.165 - ETA: 0s - loss: 0.164 - ETA: 0s - loss: 0.166 - 1s 14ms/step - loss: 0.1683 - val_loss: 0.1549\n",
      "Epoch 36/450\n",
      "50/50 [==============================] - ETA: 0s - loss: 0.173 - ETA: 0s - loss: 0.165 - ETA: 0s - loss: 0.161 - ETA: 0s - loss: 0.161 - ETA: 0s - loss: 0.159 - ETA: 0s - loss: 0.159 - ETA: 0s - loss: 0.159 - ETA: 0s - loss: 0.161 - ETA: 0s - loss: 0.165 - ETA: 0s - loss: 0.164 - 1s 14ms/step - loss: 0.1639 - val_loss: 0.1543\n",
      "Epoch 37/450\n",
      "50/50 [==============================] - ETA: 0s - loss: 0.155 - ETA: 0s - loss: 0.159 - ETA: 0s - loss: 0.157 - ETA: 0s - loss: 0.158 - ETA: 0s - loss: 0.160 - ETA: 0s - loss: 0.163 - ETA: 0s - loss: 0.166 - ETA: 0s - loss: 0.165 - ETA: 0s - loss: 0.163 - ETA: 0s - loss: 0.163 - 1s 14ms/step - loss: 0.1627 - val_loss: 0.1538\n",
      "Epoch 38/450\n",
      "50/50 [==============================] - ETA: 0s - loss: 0.155 - ETA: 0s - loss: 0.157 - ETA: 0s - loss: 0.164 - ETA: 0s - loss: 0.170 - ETA: 0s - loss: 0.169 - ETA: 0s - loss: 0.167 - ETA: 0s - loss: 0.165 - ETA: 0s - loss: 0.164 - ETA: 0s - loss: 0.163 - ETA: 0s - loss: 0.162 - 1s 14ms/step - loss: 0.1637 - val_loss: 0.1532\n",
      "Epoch 39/450\n",
      "50/50 [==============================] - ETA: 0s - loss: 0.164 - ETA: 0s - loss: 0.182 - ETA: 0s - loss: 0.174 - ETA: 0s - loss: 0.168 - ETA: 0s - loss: 0.165 - ETA: 0s - loss: 0.163 - ETA: 0s - loss: 0.162 - ETA: 0s - loss: 0.161 - ETA: 0s - loss: 0.162 - ETA: 0s - loss: 0.165 - 1s 14ms/step - loss: 0.1655 - val_loss: 0.1527\n",
      "Epoch 40/450\n",
      "50/50 [==============================] - ETA: 0s - loss: 0.154 - ETA: 0s - loss: 0.153 - ETA: 0s - loss: 0.155 - ETA: 0s - loss: 0.155 - ETA: 0s - loss: 0.155 - ETA: 0s - loss: 0.156 - ETA: 0s - loss: 0.158 - ETA: 0s - loss: 0.162 - ETA: 0s - loss: 0.162 - ETA: 0s - loss: 0.161 - 1s 14ms/step - loss: 0.1610 - val_loss: 0.1521\n",
      "Epoch 41/450\n",
      "50/50 [==============================] - ETA: 0s - loss: 0.155 - ETA: 0s - loss: 0.153 - ETA: 0s - loss: 0.154 - ETA: 0s - loss: 0.158 - ETA: 0s - loss: 0.160 - ETA: 0s - loss: 0.164 - ETA: 0s - loss: 0.163 - ETA: 0s - loss: 0.162 - ETA: 0s - loss: 0.161 - ETA: 0s - loss: 0.160 - 1s 14ms/step - loss: 0.1603 - val_loss: 0.1516\n",
      "Epoch 42/450\n",
      "50/50 [==============================] - ETA: 0s - loss: 0.153 - ETA: 0s - loss: 0.166 - ETA: 0s - loss: 0.172 - ETA: 0s - loss: 0.171 - ETA: 0s - loss: 0.167 - ETA: 0s - loss: 0.165 - ETA: 0s - loss: 0.163 - ETA: 0s - loss: 0.161 - ETA: 0s - loss: 0.161 - ETA: 0s - loss: 0.162 - 1s 14ms/step - loss: 0.1636 - val_loss: 0.1510\n",
      "Epoch 43/450\n",
      "50/50 [==============================] - ETA: 0s - loss: 0.195 - ETA: 0s - loss: 0.168 - ETA: 0s - loss: 0.161 - ETA: 0s - loss: 0.159 - ETA: 0s - loss: 0.158 - ETA: 0s - loss: 0.156 - ETA: 0s - loss: 0.156 - ETA: 0s - loss: 0.158 - ETA: 0s - loss: 0.161 - ETA: 0s - loss: 0.161 - 1s 14ms/step - loss: 0.1609 - val_loss: 0.1505\n",
      "Epoch 44/450\n",
      "50/50 [==============================] - ETA: 0s - loss: 0.151 - ETA: 0s - loss: 0.155 - ETA: 0s - loss: 0.153 - ETA: 0s - loss: 0.154 - ETA: 0s - loss: 0.154 - ETA: 0s - loss: 0.157 - ETA: 0s - loss: 0.161 - ETA: 0s - loss: 0.161 - ETA: 0s - loss: 0.159 - ETA: 0s - loss: 0.159 - 1s 14ms/step - loss: 0.1588 - val_loss: 0.1499\n",
      "Epoch 45/450\n",
      "50/50 [==============================] - ETA: 0s - loss: 0.150 - ETA: 0s - loss: 0.154 - ETA: 0s - loss: 0.158 - ETA: 0s - loss: 0.161 - ETA: 0s - loss: 0.165 - ETA: 0s - loss: 0.163 - ETA: 0s - loss: 0.161 - ETA: 0s - loss: 0.160 - ETA: 0s - loss: 0.159 - ETA: 0s - loss: 0.158 - 1s 14ms/step - loss: 0.1594 - val_loss: 0.1494\n",
      "Epoch 46/450\n",
      "50/50 [==============================] - ETA: 0s - loss: 0.168 - ETA: 0s - loss: 0.174 - ETA: 0s - loss: 0.171 - ETA: 0s - loss: 0.165 - ETA: 0s - loss: 0.162 - ETA: 0s - loss: 0.160 - ETA: 0s - loss: 0.159 - ETA: 0s - loss: 0.158 - ETA: 0s - loss: 0.159 - ETA: 0s - loss: 0.161 - 1s 14ms/step - loss: 0.1619 - val_loss: 0.1488\n",
      "Epoch 47/450\n",
      "50/50 [==============================] - ETA: 0s - loss: 0.160 - ETA: 0s - loss: 0.151 - ETA: 0s - loss: 0.152 - ETA: 0s - loss: 0.152 - ETA: 0s - loss: 0.151 - ETA: 0s - loss: 0.151 - ETA: 0s - loss: 0.154 - ETA: 0s - loss: 0.158 - ETA: 0s - loss: 0.158 - ETA: 0s - loss: 0.157 - 1s 14ms/step - loss: 0.1573 - val_loss: 0.1483\n",
      "Epoch 48/450\n",
      "50/50 [==============================] - ETA: 0s - loss: 0.153 - ETA: 0s - loss: 0.150 - ETA: 0s - loss: 0.151 - ETA: 0s - loss: 0.152 - ETA: 0s - loss: 0.155 - ETA: 0s - loss: 0.160 - ETA: 0s - loss: 0.160 - ETA: 0s - loss: 0.158 - ETA: 0s - loss: 0.157 - ETA: 0s - loss: 0.156 - 1s 14ms/step - loss: 0.1565 - val_loss: 0.1478\n",
      "Epoch 49/450\n",
      "50/50 [==============================] - ETA: 0s - loss: 0.152 - ETA: 0s - loss: 0.160 - ETA: 0s - loss: 0.164 - ETA: 0s - loss: 0.167 - ETA: 0s - loss: 0.163 - ETA: 0s - loss: 0.160 - ETA: 0s - loss: 0.159 - ETA: 0s - loss: 0.158 - ETA: 0s - loss: 0.157 - ETA: 0s - loss: 0.158 - 1s 14ms/step - loss: 0.1588 - val_loss: 0.1472\n",
      "Epoch 50/450\n",
      "50/50 [==============================] - ETA: 0s - loss: 0.205 - ETA: 0s - loss: 0.172 - ETA: 0s - loss: 0.162 - ETA: 0s - loss: 0.158 - ETA: 0s - loss: 0.157 - ETA: 0s - loss: 0.155 - ETA: 0s - loss: 0.154 - ETA: 0s - loss: 0.156 - ETA: 0s - loss: 0.159 - ETA: 0s - loss: 0.159 - 1s 14ms/step - loss: 0.1583 - val_loss: 0.1467\n",
      "Epoch 51/450\n",
      "50/50 [==============================] - ETA: 0s - loss: 0.147 - ETA: 0s - loss: 0.150 - ETA: 0s - loss: 0.150 - ETA: 0s - loss: 0.149 - ETA: 0s - loss: 0.149 - ETA: 0s - loss: 0.153 - ETA: 0s - loss: 0.157 - ETA: 0s - loss: 0.157 - ETA: 0s - loss: 0.156 - ETA: 0s - loss: 0.155 - 1s 14ms/step - loss: 0.1551 - val_loss: 0.1462\n",
      "Epoch 52/450\n",
      "50/50 [==============================] - ETA: 0s - loss: 0.146 - ETA: 0s - loss: 0.149 - ETA: 0s - loss: 0.151 - ETA: 0s - loss: 0.154 - ETA: 0s - loss: 0.161 - ETA: 0s - loss: 0.159 - ETA: 0s - loss: 0.157 - ETA: 0s - loss: 0.156 - ETA: 0s - loss: 0.155 - ETA: 0s - loss: 0.154 - 1s 14ms/step - loss: 0.1550 - val_loss: 0.1456\n",
      "Epoch 53/450\n",
      "50/50 [==============================] - ETA: 0s - loss: 0.181 - ETA: 0s - loss: 0.169 - ETA: 0s - loss: 0.170 - ETA: 0s - loss: 0.164 - ETA: 0s - loss: 0.159 - ETA: 0s - loss: 0.158 - ETA: 0s - loss: 0.156 - ETA: 0s - loss: 0.155 - ETA: 0s - loss: 0.156 - ETA: 0s - loss: 0.158 - 1s 14ms/step - loss: 0.1586 - val_loss: 0.1451\n",
      "Epoch 54/450\n",
      "50/50 [==============================] - ETA: 0s - loss: 0.156 - ETA: 0s - loss: 0.149 - ETA: 0s - loss: 0.148 - ETA: 0s - loss: 0.149 - ETA: 0s - loss: 0.148 - ETA: 0s - loss: 0.148 - ETA: 0s - loss: 0.151 - ETA: 0s - loss: 0.154 - ETA: 0s - loss: 0.155 - ETA: 0s - loss: 0.154 - 1s 14ms/step - loss: 0.1536 - val_loss: 0.1446\n",
      "Epoch 55/450\n",
      "50/50 [==============================] - ETA: 0s - loss: 0.154 - ETA: 0s - loss: 0.147 - ETA: 0s - loss: 0.146 - ETA: 0s - loss: 0.147 - ETA: 0s - loss: 0.151 - ETA: 0s - loss: 0.156 - ETA: 0s - loss: 0.156 - ETA: 0s - loss: 0.154 - ETA: 0s - loss: 0.154 - ETA: 0s - loss: 0.153 - 1s 14ms/step - loss: 0.1527 - val_loss: 0.1440\n",
      "Epoch 56/450\n",
      "50/50 [==============================] - ETA: 0s - loss: 0.155 - ETA: 0s - loss: 0.152 - ETA: 0s - loss: 0.156 - ETA: 0s - loss: 0.163 - ETA: 0s - loss: 0.160 - ETA: 0s - loss: 0.157 - ETA: 0s - loss: 0.156 - ETA: 0s - loss: 0.154 - ETA: 0s - loss: 0.153 - ETA: 0s - loss: 0.154 - 1s 14ms/step - loss: 0.1544 - val_loss: 0.1435\n",
      "Epoch 57/450\n",
      "50/50 [==============================] - ETA: 0s - loss: 0.190 - ETA: 0s - loss: 0.174 - ETA: 0s - loss: 0.163 - ETA: 0s - loss: 0.157 - ETA: 0s - loss: 0.155 - ETA: 0s - loss: 0.153 - ETA: 0s - loss: 0.152 - ETA: 0s - loss: 0.153 - ETA: 0s - loss: 0.155 - ETA: 0s - loss: 0.156 - 1s 14ms/step - loss: 0.1554 - val_loss: 0.1430\n",
      "Epoch 58/450\n",
      "50/50 [==============================] - ETA: 0s - loss: 0.143 - ETA: 0s - loss: 0.145 - ETA: 0s - loss: 0.146 - ETA: 0s - loss: 0.145 - ETA: 0s - loss: 0.145 - ETA: 0s - loss: 0.149 - ETA: 0s - loss: 0.153 - ETA: 0s - loss: 0.153 - ETA: 0s - loss: 0.152 - ETA: 0s - loss: 0.151 - 1s 14ms/step - loss: 0.1513 - val_loss: 0.1425\n",
      "Epoch 59/450\n",
      "50/50 [==============================] - ETA: 0s - loss: 0.142 - ETA: 0s - loss: 0.143 - ETA: 0s - loss: 0.145 - ETA: 0s - loss: 0.150 - ETA: 0s - loss: 0.156 - ETA: 0s - loss: 0.156 - ETA: 0s - loss: 0.153 - ETA: 0s - loss: 0.153 - ETA: 0s - loss: 0.151 - ETA: 0s - loss: 0.151 - 1s 14ms/step - loss: 0.1507 - val_loss: 0.1419\n",
      "Epoch 60/450\n",
      "50/50 [==============================] - ETA: 0s - loss: 0.167 - ETA: 0s - loss: 0.160 - ETA: 0s - loss: 0.167 - ETA: 0s - loss: 0.162 - ETA: 0s - loss: 0.157 - ETA: 0s - loss: 0.155 - ETA: 0s - loss: 0.153 - ETA: 0s - loss: 0.152 - ETA: 0s - loss: 0.152 - ETA: 0s - loss: 0.154 - 1s 14ms/step - loss: 0.1554 - val_loss: 0.1414\n",
      "Epoch 61/450\n",
      "50/50 [==============================] - ETA: 0s - loss: 0.152 - ETA: 0s - loss: 0.147 - ETA: 0s - loss: 0.145 - ETA: 0s - loss: 0.145 - ETA: 0s - loss: 0.145 - ETA: 0s - loss: 0.145 - ETA: 0s - loss: 0.147 - ETA: 0s - loss: 0.150 - ETA: 0s - loss: 0.151 - ETA: 0s - loss: 0.150 - 1s 14ms/step - loss: 0.1499 - val_loss: 0.1409\n",
      "Epoch 62/450\n",
      "50/50 [==============================] - ETA: 0s - loss: 0.150 - ETA: 0s - loss: 0.146 - ETA: 0s - loss: 0.144 - ETA: 0s - loss: 0.144 - ETA: 0s - loss: 0.148 - ETA: 0s - loss: 0.153 - ETA: 0s - loss: 0.153 - ETA: 0s - loss: 0.151 - ETA: 0s - loss: 0.150 - ETA: 0s - loss: 0.149 - 1s 14ms/step - loss: 0.1493 - val_loss: 0.1404\n",
      "Epoch 63/450\n",
      "50/50 [==============================] - ETA: 0s - loss: 0.141 - ETA: 0s - loss: 0.144 - ETA: 0s - loss: 0.151 - ETA: 0s - loss: 0.158 - ETA: 0s - loss: 0.157 - ETA: 0s - loss: 0.153 - ETA: 0s - loss: 0.152 - ETA: 0s - loss: 0.151 - ETA: 0s - loss: 0.150 - ETA: 0s - loss: 0.149 - 1s 14ms/step - loss: 0.1506 - val_loss: 0.1399\n",
      "Epoch 64/450\n",
      "50/50 [==============================] - ETA: 0s - loss: 0.149 - ETA: 0s - loss: 0.171 - ETA: 0s - loss: 0.160 - ETA: 0s - loss: 0.154 - ETA: 0s - loss: 0.152 - ETA: 0s - loss: 0.149 - ETA: 0s - loss: 0.148 - ETA: 0s - loss: 0.149 - ETA: 0s - loss: 0.150 - ETA: 0s - loss: 0.152 - 1s 14ms/step - loss: 0.1520 - val_loss: 0.1393\n",
      "Epoch 65/450\n",
      "50/50 [==============================] - ETA: 0s - loss: 0.140 - ETA: 0s - loss: 0.140 - ETA: 0s - loss: 0.142 - ETA: 0s - loss: 0.141 - ETA: 0s - loss: 0.142 - ETA: 0s - loss: 0.145 - ETA: 0s - loss: 0.148 - ETA: 0s - loss: 0.149 - ETA: 0s - loss: 0.148 - ETA: 0s - loss: 0.148 - 1s 14ms/step - loss: 0.1477 - val_loss: 0.1388\n",
      "Epoch 66/450\n",
      "50/50 [==============================] - ETA: 0s - loss: 0.140 - ETA: 0s - loss: 0.139 - ETA: 0s - loss: 0.141 - ETA: 0s - loss: 0.147 - ETA: 0s - loss: 0.152 - ETA: 0s - loss: 0.152 - ETA: 0s - loss: 0.150 - ETA: 0s - loss: 0.149 - ETA: 0s - loss: 0.148 - ETA: 0s - loss: 0.147 - 1s 14ms/step - loss: 0.1470 - val_loss: 0.1383\n",
      "Epoch 67/450\n",
      "50/50 [==============================] - ETA: 0s - loss: 0.141 - ETA: 0s - loss: 0.156 - ETA: 0s - loss: 0.164 - ETA: 0s - loss: 0.158 - ETA: 0s - loss: 0.154 - ETA: 0s - loss: 0.152 - ETA: 0s - loss: 0.150 - ETA: 0s - loss: 0.148 - ETA: 0s - loss: 0.148 - ETA: 0s - loss: 0.149 - 1s 14ms/step - loss: 0.1515 - val_loss: 0.1378\n",
      "Epoch 68/450\n",
      "50/50 [==============================] - ETA: 0s - loss: 0.156 - ETA: 0s - loss: 0.146 - ETA: 0s - loss: 0.143 - ETA: 0s - loss: 0.143 - ETA: 0s - loss: 0.142 - ETA: 0s - loss: 0.142 - ETA: 0s - loss: 0.143 - ETA: 0s - loss: 0.145 - ETA: 0s - loss: 0.147 - ETA: 0s - loss: 0.147 - 1s 14ms/step - loss: 0.1466 - val_loss: 0.1373\n",
      "Epoch 69/450\n",
      "50/50 [==============================] - ETA: 0s - loss: 0.138 - ETA: 0s - loss: 0.142 - ETA: 0s - loss: 0.140 - ETA: 0s - loss: 0.140 - ETA: 0s - loss: 0.144 - ETA: 0s - loss: 0.148 - ETA: 0s - loss: 0.149 - ETA: 0s - loss: 0.148 - ETA: 0s - loss: 0.147 - ETA: 0s - loss: 0.146 - 1s 14ms/step - loss: 0.1457 - val_loss: 0.1368\n",
      "Epoch 70/450\n",
      "50/50 [==============================] - ETA: 0s - loss: 0.138 - ETA: 0s - loss: 0.140 - ETA: 0s - loss: 0.147 - ETA: 0s - loss: 0.154 - ETA: 0s - loss: 0.153 - ETA: 0s - loss: 0.150 - ETA: 0s - loss: 0.149 - ETA: 0s - loss: 0.147 - ETA: 0s - loss: 0.146 - ETA: 0s - loss: 0.145 - 1s 14ms/step - loss: 0.1469 - val_loss: 0.1363\n",
      "Epoch 71/450\n",
      "50/50 [==============================] - ETA: 0s - loss: 0.142 - ETA: 0s - loss: 0.165 - ETA: 0s - loss: 0.157 - ETA: 0s - loss: 0.150 - ETA: 0s - loss: 0.148 - ETA: 0s - loss: 0.146 - ETA: 0s - loss: 0.145 - ETA: 0s - loss: 0.145 - ETA: 0s - loss: 0.146 - ETA: 0s - loss: 0.148 - 1s 14ms/step - loss: 0.1485 - val_loss: 0.1358\n",
      "Epoch 72/450\n",
      "50/50 [==============================] - ETA: 0s - loss: 0.137 - ETA: 0s - loss: 0.136 - ETA: 0s - loss: 0.139 - ETA: 0s - loss: 0.138 - ETA: 0s - loss: 0.138 - ETA: 0s - loss: 0.140 - ETA: 0s - loss: 0.142 - ETA: 0s - loss: 0.145 - ETA: 0s - loss: 0.145 - ETA: 0s - loss: 0.144 - 1s 14ms/step - loss: 0.1441 - val_loss: 0.1353\n",
      "Epoch 73/450\n",
      "50/50 [==============================] - ETA: 0s - loss: 0.137 - ETA: 0s - loss: 0.136 - ETA: 0s - loss: 0.137 - ETA: 0s - loss: 0.142 - ETA: 0s - loss: 0.146 - ETA: 0s - loss: 0.148 - ETA: 0s - loss: 0.146 - ETA: 0s - loss: 0.145 - ETA: 0s - loss: 0.144 - ETA: 0s - loss: 0.143 - 1s 14ms/step - loss: 0.1435 - val_loss: 0.1348\n",
      "Epoch 74/450\n",
      "50/50 [==============================] - ETA: 0s - loss: 0.136 - ETA: 0s - loss: 0.151 - ETA: 0s - loss: 0.157 - ETA: 0s - loss: 0.155 - ETA: 0s - loss: 0.150 - ETA: 0s - loss: 0.148 - ETA: 0s - loss: 0.146 - ETA: 0s - loss: 0.145 - ETA: 0s - loss: 0.144 - ETA: 0s - loss: 0.145 - 1s 14ms/step - loss: 0.1477 - val_loss: 0.1343\n",
      "Epoch 75/450\n",
      "50/50 [==============================] - ETA: 0s - loss: 0.149 - ETA: 0s - loss: 0.144 - ETA: 0s - loss: 0.140 - ETA: 0s - loss: 0.140 - ETA: 0s - loss: 0.139 - ETA: 0s - loss: 0.138 - ETA: 0s - loss: 0.139 - ETA: 0s - loss: 0.140 - ETA: 0s - loss: 0.144 - ETA: 0s - loss: 0.144 - 1s 14ms/step - loss: 0.1433 - val_loss: 0.1338\n",
      "Epoch 76/450\n",
      "50/50 [==============================] - ETA: 0s - loss: 0.134 - ETA: 0s - loss: 0.139 - ETA: 0s - loss: 0.137 - ETA: 0s - loss: 0.137 - ETA: 0s - loss: 0.139 - ETA: 0s - loss: 0.142 - ETA: 0s - loss: 0.145 - ETA: 0s - loss: 0.144 - ETA: 0s - loss: 0.143 - ETA: 0s - loss: 0.142 - 1s 14ms/step - loss: 0.1421 - val_loss: 0.1333\n",
      "Epoch 77/450\n",
      "50/50 [==============================] - ETA: 0s - loss: 0.134 - ETA: 0s - loss: 0.137 - ETA: 0s - loss: 0.143 - ETA: 0s - loss: 0.149 - ETA: 0s - loss: 0.149 - ETA: 0s - loss: 0.146 - ETA: 0s - loss: 0.145 - ETA: 0s - loss: 0.144 - ETA: 0s - loss: 0.142 - ETA: 0s - loss: 0.142 - 1s 14ms/step - loss: 0.1432 - val_loss: 0.1328\n",
      "Epoch 78/450\n",
      "50/50 [==============================] - ETA: 0s - loss: 0.146 - ETA: 0s - loss: 0.159 - ETA: 0s - loss: 0.154 - ETA: 0s - loss: 0.147 - ETA: 0s - loss: 0.145 - ETA: 0s - loss: 0.143 - ETA: 0s - loss: 0.141 - ETA: 0s - loss: 0.141 - ETA: 0s - loss: 0.142 - ETA: 0s - loss: 0.145 - 1s 14ms/step - loss: 0.1451 - val_loss: 0.1323\n",
      "Epoch 79/450\n",
      "50/50 [==============================] - ETA: 0s - loss: 0.134 - ETA: 0s - loss: 0.133 - ETA: 0s - loss: 0.135 - ETA: 0s - loss: 0.134 - ETA: 0s - loss: 0.135 - ETA: 0s - loss: 0.135 - ETA: 0s - loss: 0.138 - ETA: 0s - loss: 0.142 - ETA: 0s - loss: 0.141 - ETA: 0s - loss: 0.140 - 1s 14ms/step - loss: 0.1406 - val_loss: 0.1318\n",
      "Epoch 80/450\n",
      "50/50 [==============================] - ETA: 0s - loss: 0.134 - ETA: 0s - loss: 0.133 - ETA: 0s - loss: 0.133 - ETA: 0s - loss: 0.135 - ETA: 0s - loss: 0.139 - ETA: 0s - loss: 0.144 - ETA: 0s - loss: 0.143 - ETA: 0s - loss: 0.142 - ETA: 0s - loss: 0.141 - ETA: 0s - loss: 0.140 - ETA: 0s - loss: 0.140 - 1s 14ms/step - loss: 0.1400 - val_loss: 0.1313\n",
      "Epoch 81/450\n",
      "50/50 [==============================] - ETA: 0s - loss: 0.131 - ETA: 0s - loss: 0.146 - ETA: 0s - loss: 0.152 - ETA: 0s - loss: 0.151 - ETA: 0s - loss: 0.147 - ETA: 0s - loss: 0.144 - ETA: 0s - loss: 0.143 - ETA: 0s - loss: 0.141 - ETA: 0s - loss: 0.140 - ETA: 0s - loss: 0.141 - 1s 14ms/step - loss: 0.1436 - val_loss: 0.1308\n",
      "Epoch 82/450\n",
      "50/50 [==============================] - ETA: 0s - loss: 0.158 - ETA: 0s - loss: 0.146 - ETA: 0s - loss: 0.139 - ETA: 0s - loss: 0.138 - ETA: 0s - loss: 0.137 - ETA: 0s - loss: 0.136 - ETA: 0s - loss: 0.136 - ETA: 0s - loss: 0.138 - ETA: 0s - loss: 0.141 - ETA: 0s - loss: 0.141 - 1s 14ms/step - loss: 0.1404 - val_loss: 0.1303\n",
      "Epoch 83/450\n",
      "50/50 [==============================] - ETA: 0s - loss: 0.131 - ETA: 0s - loss: 0.135 - ETA: 0s - loss: 0.133 - ETA: 0s - loss: 0.133 - ETA: 0s - loss: 0.134 - ETA: 0s - loss: 0.137 - ETA: 0s - loss: 0.141 - ETA: 0s - loss: 0.141 - ETA: 0s - loss: 0.139 - ETA: 0s - loss: 0.139 - 1s 14ms/step - loss: 0.1387 - val_loss: 0.1298\n",
      "Epoch 84/450\n",
      "50/50 [==============================] - ETA: 0s - loss: 0.130 - ETA: 0s - loss: 0.133 - ETA: 0s - loss: 0.138 - ETA: 0s - loss: 0.141 - ETA: 0s - loss: 0.145 - ETA: 0s - loss: 0.143 - ETA: 0s - loss: 0.141 - ETA: 0s - loss: 0.140 - ETA: 0s - loss: 0.139 - ETA: 0s - loss: 0.138 - 1s 14ms/step - loss: 0.1393 - val_loss: 0.1293\n",
      "Epoch 85/450\n",
      "50/50 [==============================] - ETA: 0s - loss: 0.148 - ETA: 0s - loss: 0.153 - ETA: 0s - loss: 0.151 - ETA: 0s - loss: 0.145 - ETA: 0s - loss: 0.142 - ETA: 0s - loss: 0.140 - ETA: 0s - loss: 0.139 - ETA: 0s - loss: 0.138 - ETA: 0s - loss: 0.139 - ETA: 0s - loss: 0.141 - 1s 14ms/step - loss: 0.1419 - val_loss: 0.1288\n",
      "Epoch 86/450\n",
      "50/50 [==============================] - ETA: 0s - loss: 0.141 - ETA: 0s - loss: 0.131 - ETA: 0s - loss: 0.132 - ETA: 0s - loss: 0.132 - ETA: 0s - loss: 0.131 - ETA: 0s - loss: 0.131 - ETA: 0s - loss: 0.134 - ETA: 0s - loss: 0.138 - ETA: 0s - loss: 0.138 - ETA: 0s - loss: 0.137 - 1s 14ms/step - loss: 0.1374 - val_loss: 0.1284\n",
      "Epoch 87/450\n",
      "50/50 [==============================] - ETA: 0s - loss: 0.131 - ETA: 0s - loss: 0.130 - ETA: 0s - loss: 0.130 - ETA: 0s - loss: 0.132 - ETA: 0s - loss: 0.135 - ETA: 0s - loss: 0.140 - ETA: 0s - loss: 0.140 - ETA: 0s - loss: 0.138 - ETA: 0s - loss: 0.137 - ETA: 0s - loss: 0.136 - 1s 14ms/step - loss: 0.1365 - val_loss: 0.1279\n",
      "Epoch 88/450\n",
      "50/50 [==============================] - ETA: 0s - loss: 0.135 - ETA: 0s - loss: 0.141 - ETA: 0s - loss: 0.142 - ETA: 0s - loss: 0.147 - ETA: 0s - loss: 0.144 - ETA: 0s - loss: 0.141 - ETA: 0s - loss: 0.139 - ETA: 0s - loss: 0.138 - ETA: 0s - loss: 0.137 - ETA: 0s - loss: 0.138 - 1s 14ms/step - loss: 0.1388 - val_loss: 0.1274\n",
      "Epoch 89/450\n",
      "50/50 [==============================] - ETA: 0s - loss: 0.197 - ETA: 0s - loss: 0.153 - ETA: 0s - loss: 0.143 - ETA: 0s - loss: 0.139 - ETA: 0s - loss: 0.137 - ETA: 0s - loss: 0.135 - ETA: 0s - loss: 0.134 - ETA: 0s - loss: 0.136 - ETA: 0s - loss: 0.139 - ETA: 0s - loss: 0.139 - 1s 14ms/step - loss: 0.1385 - val_loss: 0.1269\n",
      "Epoch 90/450\n",
      "50/50 [==============================] - ETA: 0s - loss: 0.127 - ETA: 0s - loss: 0.130 - ETA: 0s - loss: 0.130 - ETA: 0s - loss: 0.129 - ETA: 0s - loss: 0.129 - ETA: 0s - loss: 0.133 - ETA: 0s - loss: 0.137 - ETA: 0s - loss: 0.137 - ETA: 0s - loss: 0.136 - ETA: 0s - loss: 0.135 - 1s 14ms/step - loss: 0.1353 - val_loss: 0.1264\n",
      "Epoch 91/450\n",
      "50/50 [==============================] - ETA: 0s - loss: 0.126 - ETA: 0s - loss: 0.129 - ETA: 0s - loss: 0.131 - ETA: 0s - loss: 0.135 - ETA: 0s - loss: 0.141 - ETA: 0s - loss: 0.140 - ETA: 0s - loss: 0.138 - ETA: 0s - loss: 0.137 - ETA: 0s - loss: 0.136 - ETA: 0s - loss: 0.135 - ETA: 0s - loss: 0.135 - 1s 14ms/step - loss: 0.1352 - val_loss: 0.1260\n",
      "Epoch 92/450\n",
      "50/50 [==============================] - ETA: 0s - loss: 0.159 - ETA: 0s - loss: 0.146 - ETA: 0s - loss: 0.150 - ETA: 0s - loss: 0.144 - ETA: 0s - loss: 0.140 - ETA: 0s - loss: 0.138 - ETA: 0s - loss: 0.136 - ETA: 0s - loss: 0.135 - ETA: 0s - loss: 0.136 - ETA: 0s - loss: 0.138 - 1s 14ms/step - loss: 0.1391 - val_loss: 0.1255\n",
      "Epoch 93/450\n",
      "50/50 [==============================] - ETA: 0s - loss: 0.136 - ETA: 0s - loss: 0.130 - ETA: 0s - loss: 0.129 - ETA: 0s - loss: 0.129 - ETA: 0s - loss: 0.128 - ETA: 0s - loss: 0.128 - ETA: 0s - loss: 0.131 - ETA: 0s - loss: 0.135 - ETA: 0s - loss: 0.135 - ETA: 0s - loss: 0.134 - 1s 14ms/step - loss: 0.1340 - val_loss: 0.1250\n",
      "Epoch 94/450\n",
      "50/50 [==============================] - ETA: 0s - loss: 0.136 - ETA: 0s - loss: 0.128 - ETA: 0s - loss: 0.127 - ETA: 0s - loss: 0.128 - ETA: 0s - loss: 0.132 - ETA: 0s - loss: 0.137 - ETA: 0s - loss: 0.136 - ETA: 0s - loss: 0.135 - ETA: 0s - loss: 0.134 - ETA: 0s - loss: 0.133 - 1s 14ms/step - loss: 0.1332 - val_loss: 0.1245\n",
      "Epoch 95/450\n",
      "50/50 [==============================] - ETA: 0s - loss: 0.134 - ETA: 0s - loss: 0.133 - ETA: 0s - loss: 0.136 - ETA: 0s - loss: 0.144 - ETA: 0s - loss: 0.141 - ETA: 0s - loss: 0.138 - ETA: 0s - loss: 0.136 - ETA: 0s - loss: 0.135 - ETA: 0s - loss: 0.134 - ETA: 0s - loss: 0.134 - 1s 14ms/step - loss: 0.1349 - val_loss: 0.1240\n",
      "Epoch 96/450\n",
      "50/50 [==============================] - ETA: 0s - loss: 0.184 - ETA: 0s - loss: 0.155 - ETA: 0s - loss: 0.143 - ETA: 0s - loss: 0.137 - ETA: 0s - loss: 0.135 - ETA: 0s - loss: 0.133 - ETA: 0s - loss: 0.132 - ETA: 0s - loss: 0.134 - ETA: 0s - loss: 0.136 - ETA: 0s - loss: 0.136 - 1s 14ms/step - loss: 0.1360 - val_loss: 0.1236\n",
      "Epoch 97/450\n",
      "50/50 [==============================] - ETA: 0s - loss: 0.124 - ETA: 0s - loss: 0.126 - ETA: 0s - loss: 0.126 - ETA: 0s - loss: 0.126 - ETA: 0s - loss: 0.126 - ETA: 0s - loss: 0.129 - ETA: 0s - loss: 0.133 - ETA: 0s - loss: 0.134 - ETA: 0s - loss: 0.133 - ETA: 0s - loss: 0.132 - 1s 14ms/step - loss: 0.1319 - val_loss: 0.1231\n",
      "Epoch 98/450\n",
      "50/50 [==============================] - ETA: 0s - loss: 0.124 - ETA: 0s - loss: 0.124 - ETA: 0s - loss: 0.125 - ETA: 0s - loss: 0.131 - ETA: 0s - loss: 0.137 - ETA: 0s - loss: 0.136 - ETA: 0s - loss: 0.134 - ETA: 0s - loss: 0.133 - ETA: 0s - loss: 0.132 - ETA: 0s - loss: 0.131 - 1s 14ms/step - loss: 0.1313 - val_loss: 0.1226\n",
      "Epoch 99/450\n",
      "50/50 [==============================] - ETA: 0s - loss: 0.153 - ETA: 0s - loss: 0.141 - ETA: 0s - loss: 0.148 - ETA: 0s - loss: 0.143 - ETA: 0s - loss: 0.138 - ETA: 0s - loss: 0.136 - ETA: 0s - loss: 0.134 - ETA: 0s - loss: 0.133 - ETA: 0s - loss: 0.133 - ETA: 0s - loss: 0.134 - 1s 14ms/step - loss: 0.1360 - val_loss: 0.1222\n",
      "Epoch 100/450\n",
      "50/50 [==============================] - ETA: 0s - loss: 0.132 - ETA: 0s - loss: 0.128 - ETA: 0s - loss: 0.126 - ETA: 0s - loss: 0.126 - ETA: 0s - loss: 0.125 - ETA: 0s - loss: 0.125 - ETA: 0s - loss: 0.128 - ETA: 0s - loss: 0.130 - ETA: 0s - loss: 0.132 - ETA: 0s - loss: 0.131 - 1s 14ms/step - loss: 0.1307 - val_loss: 0.1217\n",
      "Epoch 101/450\n",
      "50/50 [==============================] - ETA: 0s - loss: 0.133 - ETA: 0s - loss: 0.127 - ETA: 0s - loss: 0.125 - ETA: 0s - loss: 0.125 - ETA: 0s - loss: 0.129 - ETA: 0s - loss: 0.133 - ETA: 0s - loss: 0.133 - ETA: 0s - loss: 0.132 - ETA: 0s - loss: 0.131 - ETA: 0s - loss: 0.130 - 1s 14ms/step - loss: 0.1301 - val_loss: 0.1212\n",
      "Epoch 102/450\n",
      "50/50 [==============================] - ETA: 0s - loss: 0.122 - ETA: 0s - loss: 0.125 - ETA: 0s - loss: 0.132 - ETA: 0s - loss: 0.139 - ETA: 0s - loss: 0.137 - ETA: 0s - loss: 0.134 - ETA: 0s - loss: 0.133 - ETA: 0s - loss: 0.131 - ETA: 0s - loss: 0.130 - ETA: 0s - loss: 0.130 - 1s 14ms/step - loss: 0.1314 - val_loss: 0.1208\n",
      "Epoch 103/450\n",
      "50/50 [==============================] - ETA: 0s - loss: 0.129 - ETA: 0s - loss: 0.152 - ETA: 0s - loss: 0.141 - ETA: 0s - loss: 0.135 - ETA: 0s - loss: 0.133 - ETA: 0s - loss: 0.130 - ETA: 0s - loss: 0.129 - ETA: 0s - loss: 0.130 - ETA: 0s - loss: 0.131 - ETA: 0s - loss: 0.133 - 1s 14ms/step - loss: 0.1329 - val_loss: 0.1203\n",
      "Epoch 104/450\n",
      "50/50 [==============================] - ETA: 0s - loss: 0.121 - ETA: 0s - loss: 0.121 - ETA: 0s - loss: 0.123 - ETA: 0s - loss: 0.122 - ETA: 0s - loss: 0.123 - ETA: 0s - loss: 0.126 - ETA: 0s - loss: 0.129 - ETA: 0s - loss: 0.130 - ETA: 0s - loss: 0.129 - ETA: 0s - loss: 0.129 - 1s 14ms/step - loss: 0.1287 - val_loss: 0.1198\n",
      "Epoch 105/450\n",
      "50/50 [==============================] - ETA: 0s - loss: 0.121 - ETA: 0s - loss: 0.120 - ETA: 0s - loss: 0.122 - ETA: 0s - loss: 0.127 - ETA: 0s - loss: 0.133 - ETA: 0s - loss: 0.133 - ETA: 0s - loss: 0.131 - ETA: 0s - loss: 0.130 - ETA: 0s - loss: 0.129 - ETA: 0s - loss: 0.128 - 1s 14ms/step - loss: 0.1280 - val_loss: 0.1194\n",
      "Epoch 106/450\n",
      "50/50 [==============================] - ETA: 0s - loss: 0.123 - ETA: 0s - loss: 0.137 - ETA: 0s - loss: 0.144 - ETA: 0s - loss: 0.139 - ETA: 0s - loss: 0.135 - ETA: 0s - loss: 0.133 - ETA: 0s - loss: 0.131 - ETA: 0s - loss: 0.130 - ETA: 0s - loss: 0.129 - ETA: 0s - loss: 0.130 - 1s 14ms/step - loss: 0.1326 - val_loss: 0.1189\n",
      "Epoch 107/450\n",
      "50/50 [==============================] - ETA: 0s - loss: 0.135 - ETA: 0s - loss: 0.127 - ETA: 0s - loss: 0.124 - ETA: 0s - loss: 0.124 - ETA: 0s - loss: 0.123 - ETA: 0s - loss: 0.123 - ETA: 0s - loss: 0.124 - ETA: 0s - loss: 0.126 - ETA: 0s - loss: 0.129 - ETA: 0s - loss: 0.128 - 1s 14ms/step - loss: 0.1277 - val_loss: 0.1185\n",
      "Epoch 108/450\n",
      "50/50 [==============================] - ETA: 0s - loss: 0.120 - ETA: 0s - loss: 0.123 - ETA: 0s - loss: 0.121 - ETA: 0s - loss: 0.122 - ETA: 0s - loss: 0.125 - ETA: 0s - loss: 0.129 - ETA: 0s - loss: 0.130 - ETA: 0s - loss: 0.129 - ETA: 0s - loss: 0.128 - ETA: 0s - loss: 0.127 - 1s 14ms/step - loss: 0.1268 - val_loss: 0.1180\n",
      "Epoch 109/450\n",
      "50/50 [==============================] - ETA: 0s - loss: 0.119 - ETA: 0s - loss: 0.121 - ETA: 0s - loss: 0.128 - ETA: 0s - loss: 0.136 - ETA: 0s - loss: 0.134 - ETA: 0s - loss: 0.131 - ETA: 0s - loss: 0.130 - ETA: 0s - loss: 0.128 - ETA: 0s - loss: 0.127 - ETA: 0s - loss: 0.126 - 1s 14ms/step - loss: 0.1281 - val_loss: 0.1175\n",
      "Epoch 110/450\n",
      "50/50 [==============================] - ETA: 0s - loss: 0.125 - ETA: 0s - loss: 0.146 - ETA: 0s - loss: 0.138 - ETA: 0s - loss: 0.132 - ETA: 0s - loss: 0.130 - ETA: 0s - loss: 0.127 - ETA: 0s - loss: 0.126 - ETA: 0s - loss: 0.126 - ETA: 0s - loss: 0.127 - ETA: 0s - loss: 0.130 - 1s 14ms/step - loss: 0.1298 - val_loss: 0.1171\n",
      "Epoch 111/450\n",
      "50/50 [==============================] - ETA: 0s - loss: 0.119 - ETA: 0s - loss: 0.118 - ETA: 0s - loss: 0.120 - ETA: 0s - loss: 0.119 - ETA: 0s - loss: 0.120 - ETA: 0s - loss: 0.122 - ETA: 0s - loss: 0.124 - ETA: 0s - loss: 0.127 - ETA: 0s - loss: 0.126 - ETA: 0s - loss: 0.125 - 1s 14ms/step - loss: 0.1255 - val_loss: 0.1166\n",
      "Epoch 112/450\n",
      "50/50 [==============================] - ETA: 0s - loss: 0.118 - ETA: 0s - loss: 0.117 - ETA: 0s - loss: 0.119 - ETA: 0s - loss: 0.123 - ETA: 0s - loss: 0.128 - ETA: 0s - loss: 0.129 - ETA: 0s - loss: 0.128 - ETA: 0s - loss: 0.126 - ETA: 0s - loss: 0.126 - ETA: 0s - loss: 0.125 - 1s 14ms/step - loss: 0.1249 - val_loss: 0.1162\n",
      "Epoch 113/450\n",
      "50/50 [==============================] - ETA: 0s - loss: 0.116 - ETA: 0s - loss: 0.132 - ETA: 0s - loss: 0.139 - ETA: 0s - loss: 0.136 - ETA: 0s - loss: 0.131 - ETA: 0s - loss: 0.129 - ETA: 0s - loss: 0.127 - ETA: 0s - loss: 0.126 - ETA: 0s - loss: 0.125 - ETA: 0s - loss: 0.126 - 1s 14ms/step - loss: 0.1290 - val_loss: 0.1157\n",
      "Epoch 114/450\n",
      "50/50 [==============================] - ETA: 0s - loss: 0.134 - ETA: 0s - loss: 0.127 - ETA: 0s - loss: 0.122 - ETA: 0s - loss: 0.122 - ETA: 0s - loss: 0.120 - ETA: 0s - loss: 0.120 - ETA: 0s - loss: 0.121 - ETA: 0s - loss: 0.122 - ETA: 0s - loss: 0.126 - ETA: 0s - loss: 0.125 - 1s 14ms/step - loss: 0.1249 - val_loss: 0.1153\n",
      "Epoch 115/450\n",
      "50/50 [==============================] - ETA: 0s - loss: 0.116 - ETA: 0s - loss: 0.120 - ETA: 0s - loss: 0.118 - ETA: 0s - loss: 0.118 - ETA: 0s - loss: 0.121 - ETA: 0s - loss: 0.123 - ETA: 0s - loss: 0.126 - ETA: 0s - loss: 0.126 - ETA: 0s - loss: 0.124 - ETA: 0s - loss: 0.124 - 1s 14ms/step - loss: 0.1236 - val_loss: 0.1148\n",
      "Epoch 116/450\n",
      "50/50 [==============================] - ETA: 0s - loss: 0.116 - ETA: 0s - loss: 0.119 - ETA: 0s - loss: 0.125 - ETA: 0s - loss: 0.129 - ETA: 0s - loss: 0.130 - ETA: 0s - loss: 0.128 - ETA: 0s - loss: 0.126 - ETA: 0s - loss: 0.125 - ETA: 0s - loss: 0.124 - ETA: 0s - loss: 0.123 - 1s 14ms/step - loss: 0.1248 - val_loss: 0.1144\n",
      "Epoch 117/450\n",
      "50/50 [==============================] - ETA: 0s - loss: 0.125 - ETA: 0s - loss: 0.142 - ETA: 0s - loss: 0.135 - ETA: 0s - loss: 0.129 - ETA: 0s - loss: 0.127 - ETA: 0s - loss: 0.125 - ETA: 0s - loss: 0.123 - ETA: 0s - loss: 0.122 - ETA: 0s - loss: 0.124 - ETA: 0s - loss: 0.126 - 1s 14ms/step - loss: 0.1268 - val_loss: 0.1139\n",
      "Epoch 118/450\n",
      "50/50 [==============================] - ETA: 0s - loss: 0.115 - ETA: 0s - loss: 0.115 - ETA: 0s - loss: 0.117 - ETA: 0s - loss: 0.116 - ETA: 0s - loss: 0.116 - ETA: 0s - loss: 0.117 - ETA: 0s - loss: 0.119 - ETA: 0s - loss: 0.123 - ETA: 0s - loss: 0.123 - ETA: 0s - loss: 0.122 - 1s 14ms/step - loss: 0.1223 - val_loss: 0.1135\n",
      "Epoch 119/450\n",
      "50/50 [==============================] - ETA: 0s - loss: 0.117 - ETA: 0s - loss: 0.115 - ETA: 0s - loss: 0.116 - ETA: 0s - loss: 0.119 - ETA: 0s - loss: 0.123 - ETA: 0s - loss: 0.126 - ETA: 0s - loss: 0.125 - ETA: 0s - loss: 0.123 - ETA: 0s - loss: 0.123 - ETA: 0s - loss: 0.122 - 1s 14ms/step - loss: 0.1218 - val_loss: 0.1131\n",
      "Epoch 120/450\n",
      "50/50 [==============================] - ETA: 0s - loss: 0.114 - ETA: 0s - loss: 0.128 - ETA: 0s - loss: 0.133 - ETA: 0s - loss: 0.132 - ETA: 0s - loss: 0.128 - ETA: 0s - loss: 0.126 - ETA: 0s - loss: 0.124 - ETA: 0s - loss: 0.123 - ETA: 0s - loss: 0.122 - ETA: 0s - loss: 0.123 - 1s 14ms/step - loss: 0.1253 - val_loss: 0.1126\n",
      "Epoch 121/450\n",
      "50/50 [==============================] - ETA: 0s - loss: 0.151 - ETA: 0s - loss: 0.129 - ETA: 0s - loss: 0.122 - ETA: 0s - loss: 0.120 - ETA: 0s - loss: 0.119 - ETA: 0s - loss: 0.118 - ETA: 0s - loss: 0.118 - ETA: 0s - loss: 0.120 - ETA: 0s - loss: 0.123 - ETA: 0s - loss: 0.123 - 1s 14ms/step - loss: 0.1223 - val_loss: 0.1122\n",
      "Epoch 122/450\n",
      "50/50 [==============================] - ETA: 0s - loss: 0.113 - ETA: 0s - loss: 0.116 - ETA: 0s - loss: 0.115 - ETA: 0s - loss: 0.115 - ETA: 0s - loss: 0.116 - ETA: 0s - loss: 0.118 - ETA: 0s - loss: 0.123 - ETA: 0s - loss: 0.122 - ETA: 0s - loss: 0.121 - ETA: 0s - loss: 0.121 - 1s 14ms/step - loss: 0.1205 - val_loss: 0.1117\n",
      "Epoch 123/450\n",
      "50/50 [==============================] - ETA: 0s - loss: 0.112 - ETA: 0s - loss: 0.115 - ETA: 0s - loss: 0.119 - ETA: 0s - loss: 0.122 - ETA: 0s - loss: 0.127 - ETA: 0s - loss: 0.125 - ETA: 0s - loss: 0.123 - ETA: 0s - loss: 0.122 - ETA: 0s - loss: 0.121 - ETA: 0s - loss: 0.120 - 1s 14ms/step - loss: 0.1213 - val_loss: 0.1113\n",
      "Epoch 124/450\n",
      "50/50 [==============================] - ETA: 0s - loss: 0.130 - ETA: 0s - loss: 0.135 - ETA: 0s - loss: 0.133 - ETA: 0s - loss: 0.127 - ETA: 0s - loss: 0.124 - ETA: 0s - loss: 0.122 - ETA: 0s - loss: 0.120 - ETA: 0s - loss: 0.120 - ETA: 0s - loss: 0.121 - ETA: 0s - loss: 0.123 - 1s 14ms/step - loss: 0.1238 - val_loss: 0.1108\n",
      "Epoch 125/450\n",
      "50/50 [==============================] - ETA: 0s - loss: 0.122 - ETA: 0s - loss: 0.113 - ETA: 0s - loss: 0.114 - ETA: 0s - loss: 0.114 - ETA: 0s - loss: 0.113 - ETA: 0s - loss: 0.113 - ETA: 0s - loss: 0.116 - ETA: 0s - loss: 0.120 - ETA: 0s - loss: 0.120 - ETA: 0s - loss: 0.119 - 1s 14ms/step - loss: 0.1194 - val_loss: 0.1104\n",
      "Epoch 126/450\n",
      "50/50 [==============================] - ETA: 0s - loss: 0.113 - ETA: 0s - loss: 0.112 - ETA: 0s - loss: 0.113 - ETA: 0s - loss: 0.114 - ETA: 0s - loss: 0.117 - ETA: 0s - loss: 0.122 - ETA: 0s - loss: 0.122 - ETA: 0s - loss: 0.120 - ETA: 0s - loss: 0.120 - ETA: 0s - loss: 0.119 - 1s 14ms/step - loss: 0.1186 - val_loss: 0.1100\n",
      "Epoch 127/450\n",
      "50/50 [==============================] - ETA: 0s - loss: 0.115 - ETA: 0s - loss: 0.121 - ETA: 0s - loss: 0.126 - ETA: 0s - loss: 0.129 - ETA: 0s - loss: 0.126 - ETA: 0s - loss: 0.123 - ETA: 0s - loss: 0.121 - ETA: 0s - loss: 0.120 - ETA: 0s - loss: 0.119 - ETA: 0s - loss: 0.120 - 1s 14ms/step - loss: 0.1210 - val_loss: 0.1095\n",
      "Epoch 128/450\n",
      "50/50 [==============================] - ETA: 0s - loss: 0.166 - ETA: 0s - loss: 0.134 - ETA: 0s - loss: 0.124 - ETA: 0s - loss: 0.120 - ETA: 0s - loss: 0.119 - ETA: 0s - loss: 0.117 - ETA: 0s - loss: 0.116 - ETA: 0s - loss: 0.118 - ETA: 0s - loss: 0.121 - ETA: 0s - loss: 0.121 - 1s 14ms/step - loss: 0.1206 - val_loss: 0.1091\n",
      "Epoch 129/450\n",
      "50/50 [==============================] - ETA: 0s - loss: 0.109 - ETA: 0s - loss: 0.112 - ETA: 0s - loss: 0.112 - ETA: 0s - loss: 0.111 - ETA: 0s - loss: 0.112 - ETA: 0s - loss: 0.115 - ETA: 0s - loss: 0.120 - ETA: 0s - loss: 0.119 - ETA: 0s - loss: 0.118 - ETA: 0s - loss: 0.118 - 1s 14ms/step - loss: 0.1175 - val_loss: 0.1087\n",
      "Epoch 130/450\n",
      "50/50 [==============================] - ETA: 0s - loss: 0.108 - ETA: 0s - loss: 0.112 - ETA: 0s - loss: 0.113 - ETA: 0s - loss: 0.117 - ETA: 0s - loss: 0.123 - ETA: 0s - loss: 0.122 - ETA: 0s - loss: 0.120 - ETA: 0s - loss: 0.119 - ETA: 0s - loss: 0.118 - ETA: 0s - loss: 0.117 - 1s 14ms/step - loss: 0.1174 - val_loss: 0.1082\n",
      "Epoch 131/450\n",
      "50/50 [==============================] - ETA: 0s - loss: 0.146 - ETA: 0s - loss: 0.130 - ETA: 0s - loss: 0.132 - ETA: 0s - loss: 0.127 - ETA: 0s - loss: 0.122 - ETA: 0s - loss: 0.121 - ETA: 0s - loss: 0.119 - ETA: 0s - loss: 0.118 - ETA: 0s - loss: 0.119 - ETA: 0s - loss: 0.120 - 1s 14ms/step - loss: 0.1214 - val_loss: 0.1078\n",
      "Epoch 132/450\n",
      "50/50 [==============================] - ETA: 0s - loss: 0.118 - ETA: 0s - loss: 0.112 - ETA: 0s - loss: 0.111 - ETA: 0s - loss: 0.111 - ETA: 0s - loss: 0.110 - ETA: 0s - loss: 0.111 - ETA: 0s - loss: 0.113 - ETA: 0s - loss: 0.117 - ETA: 0s - loss: 0.117 - ETA: 0s - loss: 0.116 - 1s 14ms/step - loss: 0.1163 - val_loss: 0.1074\n",
      "Epoch 133/450\n",
      "50/50 [==============================] - ETA: 0s - loss: 0.116 - ETA: 0s - loss: 0.111 - ETA: 0s - loss: 0.109 - ETA: 0s - loss: 0.110 - ETA: 0s - loss: 0.114 - ETA: 0s - loss: 0.119 - ETA: 0s - loss: 0.119 - ETA: 0s - loss: 0.117 - ETA: 0s - loss: 0.117 - ETA: 0s - loss: 0.116 - 1s 15ms/step - loss: 0.1156 - val_loss: 0.1070\n",
      "Epoch 134/450\n",
      "50/50 [==============================] - ETA: 0s - loss: 0.117 - ETA: 0s - loss: 0.115 - ETA: 0s - loss: 0.119 - ETA: 0s - loss: 0.126 - ETA: 0s - loss: 0.123 - ETA: 0s - loss: 0.120 - ETA: 0s - loss: 0.119 - ETA: 0s - loss: 0.117 - ETA: 0s - loss: 0.116 - ETA: 0s - loss: 0.117 - 1s 14ms/step - loss: 0.1173 - val_loss: 0.1065\n",
      "Epoch 135/450\n",
      "50/50 [==============================] - ETA: 0s - loss: 0.160 - ETA: 0s - loss: 0.137 - ETA: 0s - loss: 0.126 - ETA: 0s - loss: 0.120 - ETA: 0s - loss: 0.118 - ETA: 0s - loss: 0.116 - ETA: 0s - loss: 0.115 - ETA: 0s - loss: 0.116 - ETA: 0s - loss: 0.118 - ETA: 0s - loss: 0.119 - 1s 14ms/step - loss: 0.1185 - val_loss: 0.1061\n",
      "Epoch 136/450\n",
      "50/50 [==============================] - ETA: 0s - loss: 0.106 - ETA: 0s - loss: 0.108 - ETA: 0s - loss: 0.109 - ETA: 0s - loss: 0.108 - ETA: 0s - loss: 0.109 - ETA: 0s - loss: 0.112 - ETA: 0s - loss: 0.116 - ETA: 0s - loss: 0.116 - ETA: 0s - loss: 0.115 - ETA: 0s - loss: 0.115 - 1s 14ms/step - loss: 0.1145 - val_loss: 0.1057\n",
      "Epoch 137/450\n",
      "50/50 [==============================] - ETA: 0s - loss: 0.106 - ETA: 0s - loss: 0.106 - ETA: 0s - loss: 0.108 - ETA: 0s - loss: 0.113 - ETA: 0s - loss: 0.120 - ETA: 0s - loss: 0.119 - ETA: 0s - loss: 0.117 - ETA: 0s - loss: 0.116 - ETA: 0s - loss: 0.115 - ETA: 0s - loss: 0.114 - 1s 14ms/step - loss: 0.1139 - val_loss: 0.1053\n",
      "Epoch 138/450\n",
      "50/50 [==============================] - ETA: 0s - loss: 0.133 - ETA: 0s - loss: 0.123 - ETA: 0s - loss: 0.130 - ETA: 0s - loss: 0.125 - ETA: 0s - loss: 0.120 - ETA: 0s - loss: 0.118 - ETA: 0s - loss: 0.116 - ETA: 0s - loss: 0.115 - ETA: 0s - loss: 0.116 - ETA: 0s - loss: 0.117 - 1s 14ms/step - loss: 0.1187 - val_loss: 0.1048\n",
      "Epoch 139/450\n",
      "50/50 [==============================] - ETA: 0s - loss: 0.115 - ETA: 0s - loss: 0.111 - ETA: 0s - loss: 0.108 - ETA: 0s - loss: 0.109 - ETA: 0s - loss: 0.108 - ETA: 0s - loss: 0.108 - ETA: 0s - loss: 0.110 - ETA: 0s - loss: 0.113 - ETA: 0s - loss: 0.114 - ETA: 0s - loss: 0.114 - 1s 14ms/step - loss: 0.1133 - val_loss: 0.1044\n",
      "Epoch 140/450\n",
      "50/50 [==============================] - ETA: 0s - loss: 0.121 - ETA: 0s - loss: 0.109 - ETA: 0s - loss: 0.107 - ETA: 0s - loss: 0.107 - ETA: 0s - loss: 0.111 - ETA: 0s - loss: 0.116 - ETA: 0s - loss: 0.116 - ETA: 0s - loss: 0.115 - ETA: 0s - loss: 0.114 - ETA: 0s - loss: 0.113 - 1s 14ms/step - loss: 0.1128 - val_loss: 0.1040\n",
      "Epoch 141/450\n",
      "50/50 [==============================] - ETA: 0s - loss: 0.106 - ETA: 0s - loss: 0.108 - ETA: 0s - loss: 0.115 - ETA: 0s - loss: 0.122 - ETA: 0s - loss: 0.120 - ETA: 0s - loss: 0.117 - ETA: 0s - loss: 0.116 - ETA: 0s - loss: 0.114 - ETA: 0s - loss: 0.113 - ETA: 0s - loss: 0.113 - 1s 14ms/step - loss: 0.1142 - val_loss: 0.1036\n",
      "Epoch 142/450\n",
      "50/50 [==============================] - ETA: 0s - loss: 0.115 - ETA: 0s - loss: 0.135 - ETA: 0s - loss: 0.124 - ETA: 0s - loss: 0.118 - ETA: 0s - loss: 0.115 - ETA: 0s - loss: 0.113 - ETA: 0s - loss: 0.112 - ETA: 0s - loss: 0.113 - ETA: 0s - loss: 0.115 - ETA: 0s - loss: 0.116 - 1s 14ms/step - loss: 0.1158 - val_loss: 0.1032\n",
      "Epoch 143/450\n",
      "50/50 [==============================] - ETA: 0s - loss: 0.104 - ETA: 0s - loss: 0.104 - ETA: 0s - loss: 0.106 - ETA: 0s - loss: 0.105 - ETA: 0s - loss: 0.106 - ETA: 0s - loss: 0.108 - ETA: 0s - loss: 0.112 - ETA: 0s - loss: 0.113 - ETA: 0s - loss: 0.112 - ETA: 0s - loss: 0.111 - 1s 14ms/step - loss: 0.1115 - val_loss: 0.1028\n",
      "Epoch 144/450\n",
      "50/50 [==============================] - ETA: 0s - loss: 0.104 - ETA: 0s - loss: 0.103 - ETA: 0s - loss: 0.105 - ETA: 0s - loss: 0.110 - ETA: 0s - loss: 0.116 - ETA: 0s - loss: 0.116 - ETA: 0s - loss: 0.114 - ETA: 0s - loss: 0.113 - ETA: 0s - loss: 0.112 - ETA: 0s - loss: 0.111 - 1s 14ms/step - loss: 0.1110 - val_loss: 0.1023\n",
      "Epoch 145/450\n",
      "50/50 [==============================] - ETA: 0s - loss: 0.105 - ETA: 0s - loss: 0.119 - ETA: 0s - loss: 0.127 - ETA: 0s - loss: 0.122 - ETA: 0s - loss: 0.118 - ETA: 0s - loss: 0.116 - ETA: 0s - loss: 0.114 - ETA: 0s - loss: 0.112 - ETA: 0s - loss: 0.112 - ETA: 0s - loss: 0.113 - 1s 14ms/step - loss: 0.1154 - val_loss: 0.1019\n",
      "Epoch 146/450\n",
      "50/50 [==============================] - ETA: 0s - loss: 0.121 - ETA: 0s - loss: 0.112 - ETA: 0s - loss: 0.107 - ETA: 0s - loss: 0.107 - ETA: 0s - loss: 0.106 - ETA: 0s - loss: 0.106 - ETA: 0s - loss: 0.108 - ETA: 0s - loss: 0.109 - ETA: 0s - loss: 0.112 - ETA: 0s - loss: 0.111 - 1s 14ms/step - loss: 0.1109 - val_loss: 0.1015\n",
      "Epoch 147/450\n",
      "50/50 [==============================] - ETA: 0s - loss: 0.103 - ETA: 0s - loss: 0.106 - ETA: 0s - loss: 0.104 - ETA: 0s - loss: 0.105 - ETA: 0s - loss: 0.108 - ETA: 0s - loss: 0.112 - ETA: 0s - loss: 0.113 - ETA: 0s - loss: 0.112 - ETA: 0s - loss: 0.111 - ETA: 0s - loss: 0.110 - 1s 14ms/step - loss: 0.1099 - val_loss: 0.1011\n",
      "Epoch 148/450\n",
      "50/50 [==============================] - ETA: 0s - loss: 0.102 - ETA: 0s - loss: 0.104 - ETA: 0s - loss: 0.112 - ETA: 0s - loss: 0.118 - ETA: 0s - loss: 0.117 - ETA: 0s - loss: 0.114 - ETA: 0s - loss: 0.113 - ETA: 0s - loss: 0.111 - ETA: 0s - loss: 0.110 - ETA: 0s - loss: 0.110 - 1s 14ms/step - loss: 0.1112 - val_loss: 0.1007\n",
      "Epoch 149/450\n",
      "50/50 [==============================] - ETA: 0s - loss: 0.105 - ETA: 0s - loss: 0.130 - ETA: 0s - loss: 0.121 - ETA: 0s - loss: 0.115 - ETA: 0s - loss: 0.113 - ETA: 0s - loss: 0.110 - ETA: 0s - loss: 0.109 - ETA: 0s - loss: 0.109 - ETA: 0s - loss: 0.110 - ETA: 0s - loss: 0.113 - 1s 14ms/step - loss: 0.1129 - val_loss: 0.1003\n",
      "Epoch 150/450\n",
      "50/50 [==============================] - ETA: 0s - loss: 0.102 - ETA: 0s - loss: 0.101 - ETA: 0s - loss: 0.103 - ETA: 0s - loss: 0.102 - ETA: 0s - loss: 0.103 - ETA: 0s - loss: 0.105 - ETA: 0s - loss: 0.107 - ETA: 0s - loss: 0.110 - ETA: 0s - loss: 0.109 - ETA: 0s - loss: 0.108 - 1s 14ms/step - loss: 0.1087 - val_loss: 0.0999\n",
      "Epoch 151/450\n",
      "50/50 [==============================] - ETA: 0s - loss: 0.101 - ETA: 0s - loss: 0.100 - ETA: 0s - loss: 0.102 - ETA: 0s - loss: 0.107 - ETA: 0s - loss: 0.111 - ETA: 0s - loss: 0.113 - ETA: 0s - loss: 0.111 - ETA: 0s - loss: 0.110 - ETA: 0s - loss: 0.109 - ETA: 0s - loss: 0.108 - 1s 14ms/step - loss: 0.1081 - val_loss: 0.0995\n",
      "Epoch 152/450\n",
      "50/50 [==============================] - ETA: 0s - loss: 0.099 - ETA: 0s - loss: 0.116 - ETA: 0s - loss: 0.123 - ETA: 0s - loss: 0.119 - ETA: 0s - loss: 0.115 - ETA: 0s - loss: 0.113 - ETA: 0s - loss: 0.111 - ETA: 0s - loss: 0.109 - ETA: 0s - loss: 0.108 - ETA: 0s - loss: 0.110 - 1s 14ms/step - loss: 0.1123 - val_loss: 0.0991\n",
      "Epoch 153/450\n",
      "50/50 [==============================] - ETA: 0s - loss: 0.118 - ETA: 0s - loss: 0.110 - ETA: 0s - loss: 0.105 - ETA: 0s - loss: 0.105 - ETA: 0s - loss: 0.104 - ETA: 0s - loss: 0.103 - ETA: 0s - loss: 0.104 - ETA: 0s - loss: 0.105 - ETA: 0s - loss: 0.109 - ETA: 0s - loss: 0.108 - 1s 14ms/step - loss: 0.1082 - val_loss: 0.0987\n",
      "Epoch 154/450\n",
      "50/50 [==============================] - ETA: 0s - loss: 0.099 - ETA: 0s - loss: 0.103 - ETA: 0s - loss: 0.101 - ETA: 0s - loss: 0.102 - ETA: 0s - loss: 0.104 - ETA: 0s - loss: 0.107 - ETA: 0s - loss: 0.110 - ETA: 0s - loss: 0.109 - ETA: 0s - loss: 0.108 - ETA: 0s - loss: 0.107 - 1s 14ms/step - loss: 0.1070 - val_loss: 0.0983\n",
      "Epoch 155/450\n",
      "50/50 [==============================] - ETA: 0s - loss: 0.099 - ETA: 0s - loss: 0.102 - ETA: 0s - loss: 0.108 - ETA: 0s - loss: 0.113 - ETA: 0s - loss: 0.114 - ETA: 0s - loss: 0.111 - ETA: 0s - loss: 0.110 - ETA: 0s - loss: 0.109 - ETA: 0s - loss: 0.107 - ETA: 0s - loss: 0.107 - 1s 14ms/step - loss: 0.1081 - val_loss: 0.0979\n",
      "Epoch 156/450\n",
      "50/50 [==============================] - ETA: 0s - loss: 0.109 - ETA: 0s - loss: 0.126 - ETA: 0s - loss: 0.119 - ETA: 0s - loss: 0.113 - ETA: 0s - loss: 0.110 - ETA: 0s - loss: 0.108 - ETA: 0s - loss: 0.107 - ETA: 0s - loss: 0.106 - ETA: 0s - loss: 0.107 - ETA: 0s - loss: 0.110 - 1s 14ms/step - loss: 0.1103 - val_loss: 0.0975\n",
      "Epoch 157/450\n",
      "50/50 [==============================] - ETA: 0s - loss: 0.099 - ETA: 0s - loss: 0.098 - ETA: 0s - loss: 0.100 - ETA: 0s - loss: 0.100 - ETA: 0s - loss: 0.100 - ETA: 0s - loss: 0.101 - ETA: 0s - loss: 0.103 - ETA: 0s - loss: 0.107 - ETA: 0s - loss: 0.107 - ETA: 0s - loss: 0.106 - 1s 14ms/step - loss: 0.1058 - val_loss: 0.0971\n",
      "Epoch 158/450\n",
      "50/50 [==============================] - ETA: 0s - loss: 0.099 - ETA: 0s - loss: 0.098 - ETA: 0s - loss: 0.099 - ETA: 0s - loss: 0.103 - ETA: 0s - loss: 0.106 - ETA: 0s - loss: 0.109 - ETA: 0s - loss: 0.108 - ETA: 0s - loss: 0.107 - ETA: 0s - loss: 0.106 - ETA: 0s - loss: 0.105 - 1s 14ms/step - loss: 0.1053 - val_loss: 0.0967\n",
      "Epoch 159/450\n",
      "50/50 [==============================] - ETA: 0s - loss: 0.098 - ETA: 0s - loss: 0.111 - ETA: 0s - loss: 0.116 - ETA: 0s - loss: 0.116 - ETA: 0s - loss: 0.112 - ETA: 0s - loss: 0.110 - ETA: 0s - loss: 0.108 - ETA: 0s - loss: 0.106 - ETA: 0s - loss: 0.106 - ETA: 0s - loss: 0.107 - 1s 14ms/step - loss: 0.1090 - val_loss: 0.0963\n",
      "Epoch 160/450\n",
      "50/50 [==============================] - ETA: 0s - loss: 0.124 - ETA: 0s - loss: 0.111 - ETA: 0s - loss: 0.105 - ETA: 0s - loss: 0.104 - ETA: 0s - loss: 0.102 - ETA: 0s - loss: 0.101 - ETA: 0s - loss: 0.101 - ETA: 0s - loss: 0.103 - ETA: 0s - loss: 0.106 - ETA: 0s - loss: 0.106 - 1s 14ms/step - loss: 0.1059 - val_loss: 0.0959\n",
      "Epoch 161/450\n",
      "50/50 [==============================] - ETA: 0s - loss: 0.096 - ETA: 0s - loss: 0.101 - ETA: 0s - loss: 0.099 - ETA: 0s - loss: 0.099 - ETA: 0s - loss: 0.100 - ETA: 0s - loss: 0.102 - ETA: 0s - loss: 0.107 - ETA: 0s - loss: 0.106 - ETA: 0s - loss: 0.105 - ETA: 0s - loss: 0.104 - 1s 14ms/step - loss: 0.1042 - val_loss: 0.0955\n",
      "Epoch 162/450\n",
      "50/50 [==============================] - ETA: 0s - loss: 0.096 - ETA: 0s - loss: 0.098 - ETA: 0s - loss: 0.104 - ETA: 0s - loss: 0.106 - ETA: 0s - loss: 0.110 - ETA: 0s - loss: 0.109 - ETA: 0s - loss: 0.107 - ETA: 0s - loss: 0.106 - ETA: 0s - loss: 0.104 - ETA: 0s - loss: 0.104 - 1s 14ms/step - loss: 0.1049 - val_loss: 0.0951\n",
      "Epoch 163/450\n",
      "50/50 [==============================] - ETA: 0s - loss: 0.118 - ETA: 0s - loss: 0.119 - ETA: 0s - loss: 0.117 - ETA: 0s - loss: 0.111 - ETA: 0s - loss: 0.108 - ETA: 0s - loss: 0.106 - ETA: 0s - loss: 0.104 - ETA: 0s - loss: 0.104 - ETA: 0s - loss: 0.105 - ETA: 0s - loss: 0.107 - 1s 14ms/step - loss: 0.1077 - val_loss: 0.0947\n",
      "Epoch 164/450\n",
      "50/50 [==============================] - ETA: 0s - loss: 0.105 - ETA: 0s - loss: 0.097 - ETA: 0s - loss: 0.098 - ETA: 0s - loss: 0.097 - ETA: 0s - loss: 0.097 - ETA: 0s - loss: 0.097 - ETA: 0s - loss: 0.100 - ETA: 0s - loss: 0.104 - ETA: 0s - loss: 0.104 - ETA: 0s - loss: 0.103 - 1s 14ms/step - loss: 0.1031 - val_loss: 0.0943\n",
      "Epoch 165/450\n",
      "50/50 [==============================] - ETA: 0s - loss: 0.097 - ETA: 0s - loss: 0.096 - ETA: 0s - loss: 0.097 - ETA: 0s - loss: 0.098 - ETA: 0s - loss: 0.101 - ETA: 0s - loss: 0.106 - ETA: 0s - loss: 0.106 - ETA: 0s - loss: 0.104 - ETA: 0s - loss: 0.103 - ETA: 0s - loss: 0.102 - 1s 14ms/step - loss: 0.1027 - val_loss: 0.0939\n",
      "Epoch 166/450\n",
      "50/50 [==============================] - ETA: 0s - loss: 0.097 - ETA: 0s - loss: 0.105 - ETA: 0s - loss: 0.110 - ETA: 0s - loss: 0.112 - ETA: 0s - loss: 0.109 - ETA: 0s - loss: 0.106 - ETA: 0s - loss: 0.105 - ETA: 0s - loss: 0.104 - ETA: 0s - loss: 0.103 - ETA: 0s - loss: 0.104 - 1s 14ms/step - loss: 0.1049 - val_loss: 0.0935\n",
      "Epoch 167/450\n",
      "50/50 [==============================] - ETA: 0s - loss: 0.157 - ETA: 0s - loss: 0.118 - ETA: 0s - loss: 0.108 - ETA: 0s - loss: 0.104 - ETA: 0s - loss: 0.103 - ETA: 0s - loss: 0.101 - ETA: 0s - loss: 0.100 - ETA: 0s - loss: 0.102 - ETA: 0s - loss: 0.105 - ETA: 0s - loss: 0.105 - 1s 14ms/step - loss: 0.1045 - val_loss: 0.0931\n",
      "Epoch 168/450\n",
      "50/50 [==============================] - ETA: 0s - loss: 0.093 - ETA: 0s - loss: 0.097 - ETA: 0s - loss: 0.096 - ETA: 0s - loss: 0.095 - ETA: 0s - loss: 0.096 - ETA: 0s - loss: 0.099 - ETA: 0s - loss: 0.103 - ETA: 0s - loss: 0.103 - ETA: 0s - loss: 0.102 - ETA: 0s - loss: 0.102 - 1s 14ms/step - loss: 0.1015 - val_loss: 0.0927\n",
      "Epoch 169/450\n",
      "50/50 [==============================] - ETA: 0s - loss: 0.093 - ETA: 0s - loss: 0.095 - ETA: 0s - loss: 0.097 - ETA: 0s - loss: 0.101 - ETA: 0s - loss: 0.107 - ETA: 0s - loss: 0.106 - ETA: 0s - loss: 0.104 - ETA: 0s - loss: 0.103 - ETA: 0s - loss: 0.102 - ETA: 0s - loss: 0.101 - 1s 14ms/step - loss: 0.1015 - val_loss: 0.0924\n",
      "Epoch 170/450\n",
      "50/50 [==============================] - ETA: 0s - loss: 0.127 - ETA: 0s - loss: 0.115 - ETA: 0s - loss: 0.117 - ETA: 0s - loss: 0.111 - ETA: 0s - loss: 0.106 - ETA: 0s - loss: 0.105 - ETA: 0s - loss: 0.103 - ETA: 0s - loss: 0.102 - ETA: 0s - loss: 0.103 - ETA: 0s - loss: 0.105 - 1s 14ms/step - loss: 0.1055 - val_loss: 0.0920\n",
      "Epoch 171/450\n",
      "50/50 [==============================] - ETA: 0s - loss: 0.102 - ETA: 0s - loss: 0.096 - ETA: 0s - loss: 0.095 - ETA: 0s - loss: 0.095 - ETA: 0s - loss: 0.095 - ETA: 0s - loss: 0.095 - ETA: 0s - loss: 0.097 - ETA: 0s - loss: 0.101 - ETA: 0s - loss: 0.101 - ETA: 0s - loss: 0.100 - 1s 14ms/step - loss: 0.1005 - val_loss: 0.0916\n",
      "Epoch 172/450\n",
      "50/50 [==============================] - ETA: 0s - loss: 0.097 - ETA: 0s - loss: 0.094 - ETA: 0s - loss: 0.093 - ETA: 0s - loss: 0.094 - ETA: 0s - loss: 0.098 - ETA: 0s - loss: 0.103 - ETA: 0s - loss: 0.103 - ETA: 0s - loss: 0.101 - ETA: 0s - loss: 0.101 - ETA: 0s - loss: 0.100 - 1s 14ms/step - loss: 0.0997 - val_loss: 0.0912\n",
      "Epoch 173/450\n",
      "50/50 [==============================] - ETA: 0s - loss: 0.102 - ETA: 0s - loss: 0.100 - ETA: 0s - loss: 0.103 - ETA: 0s - loss: 0.110 - ETA: 0s - loss: 0.107 - ETA: 0s - loss: 0.104 - ETA: 0s - loss: 0.103 - ETA: 0s - loss: 0.101 - ETA: 0s - loss: 0.101 - ETA: 0s - loss: 0.101 - 1s 14ms/step - loss: 0.1016 - val_loss: 0.0908\n",
      "Epoch 174/450\n",
      "50/50 [==============================] - ETA: 0s - loss: 0.143 - ETA: 0s - loss: 0.122 - ETA: 0s - loss: 0.110 - ETA: 0s - loss: 0.104 - ETA: 0s - loss: 0.102 - ETA: 0s - loss: 0.100 - ETA: 0s - loss: 0.099 - ETA: 0s - loss: 0.100 - ETA: 0s - loss: 0.102 - ETA: 0s - loss: 0.103 - 1s 14ms/step - loss: 0.1028 - val_loss: 0.0904\n",
      "Epoch 175/450\n",
      "50/50 [==============================] - ETA: 0s - loss: 0.090 - ETA: 0s - loss: 0.093 - ETA: 0s - loss: 0.093 - ETA: 0s - loss: 0.092 - ETA: 0s - loss: 0.093 - ETA: 0s - loss: 0.096 - ETA: 0s - loss: 0.100 - ETA: 0s - loss: 0.101 - ETA: 0s - loss: 0.100 - ETA: 0s - loss: 0.099 - ETA: 0s - loss: 0.098 - 1s 14ms/step - loss: 0.0988 - val_loss: 0.0901\n",
      "Epoch 176/450\n",
      "50/50 [==============================] - ETA: 0s - loss: 0.090 - ETA: 0s - loss: 0.091 - ETA: 0s - loss: 0.092 - ETA: 0s - loss: 0.098 - ETA: 0s - loss: 0.104 - ETA: 0s - loss: 0.103 - ETA: 0s - loss: 0.101 - ETA: 0s - loss: 0.100 - ETA: 0s - loss: 0.099 - ETA: 0s - loss: 0.098 - 1s 14ms/step - loss: 0.0983 - val_loss: 0.0897\n",
      "Epoch 177/450\n",
      "50/50 [==============================] - ETA: 0s - loss: 0.115 - ETA: 0s - loss: 0.108 - ETA: 0s - loss: 0.115 - ETA: 0s - loss: 0.110 - ETA: 0s - loss: 0.105 - ETA: 0s - loss: 0.103 - ETA: 0s - loss: 0.101 - ETA: 0s - loss: 0.100 - ETA: 0s - loss: 0.100 - ETA: 0s - loss: 0.101 - 1s 14ms/step - loss: 0.1031 - val_loss: 0.0893\n",
      "Epoch 178/450\n",
      "50/50 [==============================] - ETA: 0s - loss: 0.098 - ETA: 0s - loss: 0.095 - ETA: 0s - loss: 0.093 - ETA: 0s - loss: 0.093 - ETA: 0s - loss: 0.092 - ETA: 0s - loss: 0.093 - ETA: 0s - loss: 0.095 - ETA: 0s - loss: 0.097 - ETA: 0s - loss: 0.099 - ETA: 0s - loss: 0.098 - 1s 14ms/step - loss: 0.0978 - val_loss: 0.0889\n",
      "Epoch 179/450\n",
      "50/50 [==============================] - ETA: 0s - loss: 0.102 - ETA: 0s - loss: 0.094 - ETA: 0s - loss: 0.092 - ETA: 0s - loss: 0.092 - ETA: 0s - loss: 0.096 - ETA: 0s - loss: 0.101 - ETA: 0s - loss: 0.101 - ETA: 0s - loss: 0.099 - ETA: 0s - loss: 0.098 - ETA: 0s - loss: 0.098 - 1s 14ms/step - loss: 0.0973 - val_loss: 0.0886\n",
      "Epoch 180/450\n",
      "50/50 [==============================] - ETA: 0s - loss: 0.089 - ETA: 0s - loss: 0.092 - ETA: 0s - loss: 0.100 - ETA: 0s - loss: 0.107 - ETA: 0s - loss: 0.105 - ETA: 0s - loss: 0.102 - ETA: 0s - loss: 0.100 - ETA: 0s - loss: 0.099 - ETA: 0s - loss: 0.098 - ETA: 0s - loss: 0.098 - 1s 14ms/step - loss: 0.0988 - val_loss: 0.0882\n",
      "Epoch 181/450\n",
      "50/50 [==============================] - ETA: 0s - loss: 0.097 - ETA: 0s - loss: 0.118 - ETA: 0s - loss: 0.108 - ETA: 0s - loss: 0.102 - ETA: 0s - loss: 0.100 - ETA: 0s - loss: 0.098 - ETA: 0s - loss: 0.097 - ETA: 0s - loss: 0.097 - ETA: 0s - loss: 0.099 - ETA: 0s - loss: 0.100 - 1s 14ms/step - loss: 0.1003 - val_loss: 0.0878\n",
      "Epoch 182/450\n",
      "50/50 [==============================] - ETA: 0s - loss: 0.089 - ETA: 0s - loss: 0.088 - ETA: 0s - loss: 0.091 - ETA: 0s - loss: 0.090 - ETA: 0s - loss: 0.090 - ETA: 0s - loss: 0.093 - ETA: 0s - loss: 0.097 - ETA: 0s - loss: 0.098 - ETA: 0s - loss: 0.097 - ETA: 0s - loss: 0.096 - 1s 14ms/step - loss: 0.0962 - val_loss: 0.0874\n",
      "Epoch 183/450\n",
      "50/50 [==============================] - ETA: 0s - loss: 0.088 - ETA: 0s - loss: 0.088 - ETA: 0s - loss: 0.089 - ETA: 0s - loss: 0.095 - ETA: 0s - loss: 0.101 - ETA: 0s - loss: 0.100 - ETA: 0s - loss: 0.098 - ETA: 0s - loss: 0.098 - ETA: 0s - loss: 0.096 - ETA: 0s - loss: 0.096 - 1s 14ms/step - loss: 0.0957 - val_loss: 0.0871\n",
      "Epoch 184/450\n",
      "50/50 [==============================] - ETA: 0s - loss: 0.090 - ETA: 0s - loss: 0.104 - ETA: 0s - loss: 0.112 - ETA: 0s - loss: 0.107 - ETA: 0s - loss: 0.102 - ETA: 0s - loss: 0.100 - ETA: 0s - loss: 0.098 - ETA: 0s - loss: 0.097 - ETA: 0s - loss: 0.097 - ETA: 0s - loss: 0.098 - 1s 14ms/step - loss: 0.1001 - val_loss: 0.0867\n",
      "Epoch 185/450\n",
      "50/50 [==============================] - ETA: 0s - loss: 0.104 - ETA: 0s - loss: 0.096 - ETA: 0s - loss: 0.092 - ETA: 0s - loss: 0.092 - ETA: 0s - loss: 0.091 - ETA: 0s - loss: 0.091 - ETA: 0s - loss: 0.092 - ETA: 0s - loss: 0.094 - ETA: 0s - loss: 0.096 - ETA: 0s - loss: 0.096 - 1s 14ms/step - loss: 0.0956 - val_loss: 0.0863\n",
      "Epoch 186/450\n",
      "50/50 [==============================] - ETA: 0s - loss: 0.087 - ETA: 0s - loss: 0.091 - ETA: 0s - loss: 0.089 - ETA: 0s - loss: 0.089 - ETA: 0s - loss: 0.093 - ETA: 0s - loss: 0.096 - ETA: 0s - loss: 0.098 - ETA: 0s - loss: 0.097 - ETA: 0s - loss: 0.096 - ETA: 0s - loss: 0.095 - 1s 14ms/step - loss: 0.0947 - val_loss: 0.0860\n",
      "Epoch 187/450\n",
      "50/50 [==============================] - ETA: 0s - loss: 0.087 - ETA: 0s - loss: 0.089 - ETA: 0s - loss: 0.097 - ETA: 0s - loss: 0.103 - ETA: 0s - loss: 0.102 - ETA: 0s - loss: 0.099 - ETA: 0s - loss: 0.098 - ETA: 0s - loss: 0.096 - ETA: 0s - loss: 0.095 - ETA: 0s - loss: 0.094 - 1s 14ms/step - loss: 0.0960 - val_loss: 0.0856\n",
      "Epoch 188/450\n",
      "50/50 [==============================] - ETA: 0s - loss: 0.092 - ETA: 0s - loss: 0.115 - ETA: 0s - loss: 0.106 - ETA: 0s - loss: 0.100 - ETA: 0s - loss: 0.098 - ETA: 0s - loss: 0.095 - ETA: 0s - loss: 0.094 - ETA: 0s - loss: 0.094 - ETA: 0s - loss: 0.095 - ETA: 0s - loss: 0.098 - 1s 14ms/step - loss: 0.0979 - val_loss: 0.0852\n",
      "Epoch 189/450\n",
      "50/50 [==============================] - ETA: 0s - loss: 0.087 - ETA: 0s - loss: 0.086 - ETA: 0s - loss: 0.088 - ETA: 0s - loss: 0.087 - ETA: 0s - loss: 0.088 - ETA: 0s - loss: 0.090 - ETA: 0s - loss: 0.092 - ETA: 0s - loss: 0.095 - ETA: 0s - loss: 0.094 - ETA: 0s - loss: 0.093 - 1s 14ms/step - loss: 0.0936 - val_loss: 0.0849\n",
      "Epoch 190/450\n",
      "50/50 [==============================] - ETA: 0s - loss: 0.086 - ETA: 0s - loss: 0.085 - ETA: 0s - loss: 0.087 - ETA: 0s - loss: 0.092 - ETA: 0s - loss: 0.096 - ETA: 0s - loss: 0.097 - ETA: 0s - loss: 0.096 - ETA: 0s - loss: 0.095 - ETA: 0s - loss: 0.094 - ETA: 0s - loss: 0.093 - 1s 14ms/step - loss: 0.0931 - val_loss: 0.0845\n",
      "Epoch 191/450\n",
      "50/50 [==============================] - ETA: 0s - loss: 0.084 - ETA: 0s - loss: 0.101 - ETA: 0s - loss: 0.108 - ETA: 0s - loss: 0.105 - ETA: 0s - loss: 0.100 - ETA: 0s - loss: 0.098 - ETA: 0s - loss: 0.096 - ETA: 0s - loss: 0.094 - ETA: 0s - loss: 0.094 - ETA: 0s - loss: 0.095 - 1s 14ms/step - loss: 0.0976 - val_loss: 0.0841\n",
      "Epoch 192/450\n",
      "50/50 [==============================] - ETA: 0s - loss: 0.095 - ETA: 0s - loss: 0.093 - ETA: 0s - loss: 0.089 - ETA: 0s - loss: 0.089 - ETA: 0s - loss: 0.088 - ETA: 0s - loss: 0.088 - ETA: 0s - loss: 0.089 - ETA: 0s - loss: 0.090 - ETA: 0s - loss: 0.094 - ETA: 0s - loss: 0.093 - 1s 14ms/step - loss: 0.0931 - val_loss: 0.0838\n",
      "Epoch 193/450\n",
      "50/50 [==============================] - ETA: 0s - loss: 0.084 - ETA: 0s - loss: 0.089 - ETA: 0s - loss: 0.087 - ETA: 0s - loss: 0.087 - ETA: 0s - loss: 0.089 - ETA: 0s - loss: 0.092 - ETA: 0s - loss: 0.095 - ETA: 0s - loss: 0.094 - ETA: 0s - loss: 0.093 - ETA: 0s - loss: 0.092 - 1s 14ms/step - loss: 0.0922 - val_loss: 0.0834\n",
      "Epoch 194/450\n",
      "50/50 [==============================] - ETA: 0s - loss: 0.084 - ETA: 0s - loss: 0.087 - ETA: 0s - loss: 0.093 - ETA: 0s - loss: 0.099 - ETA: 0s - loss: 0.099 - ETA: 0s - loss: 0.097 - ETA: 0s - loss: 0.095 - ETA: 0s - loss: 0.094 - ETA: 0s - loss: 0.092 - ETA: 0s - loss: 0.092 - 1s 14ms/step - loss: 0.0933 - val_loss: 0.0831\n",
      "Epoch 195/450\n",
      "50/50 [==============================] - ETA: 0s - loss: 0.094 - ETA: 0s - loss: 0.110 - ETA: 0s - loss: 0.104 - ETA: 0s - loss: 0.098 - ETA: 0s - loss: 0.095 - ETA: 0s - loss: 0.093 - ETA: 0s - loss: 0.092 - ETA: 0s - loss: 0.091 - ETA: 0s - loss: 0.092 - ETA: 0s - loss: 0.095 - 1s 14ms/step - loss: 0.0955 - val_loss: 0.0827\n",
      "Epoch 196/450\n",
      "50/50 [==============================] - ETA: 0s - loss: 0.084 - ETA: 0s - loss: 0.083 - ETA: 0s - loss: 0.085 - ETA: 0s - loss: 0.085 - ETA: 0s - loss: 0.085 - ETA: 0s - loss: 0.086 - ETA: 0s - loss: 0.088 - ETA: 0s - loss: 0.092 - ETA: 0s - loss: 0.092 - ETA: 0s - loss: 0.091 - 1s 14ms/step - loss: 0.0911 - val_loss: 0.0824\n",
      "Epoch 197/450\n",
      "50/50 [==============================] - ETA: 0s - loss: 0.085 - ETA: 0s - loss: 0.083 - ETA: 0s - loss: 0.084 - ETA: 0s - loss: 0.088 - ETA: 0s - loss: 0.091 - ETA: 0s - loss: 0.095 - ETA: 0s - loss: 0.093 - ETA: 0s - loss: 0.092 - ETA: 0s - loss: 0.091 - ETA: 0s - loss: 0.090 - 1s 14ms/step - loss: 0.0906 - val_loss: 0.0820\n",
      "Epoch 198/450\n",
      "50/50 [==============================] - ETA: 0s - loss: 0.083 - ETA: 0s - loss: 0.096 - ETA: 0s - loss: 0.102 - ETA: 0s - loss: 0.101 - ETA: 0s - loss: 0.097 - ETA: 0s - loss: 0.095 - ETA: 0s - loss: 0.093 - ETA: 0s - loss: 0.092 - ETA: 0s - loss: 0.091 - ETA: 0s - loss: 0.092 - 1s 14ms/step - loss: 0.0943 - val_loss: 0.0816\n",
      "Epoch 199/450\n",
      "50/50 [==============================] - ETA: 0s - loss: 0.119 - ETA: 0s - loss: 0.097 - ETA: 0s - loss: 0.090 - ETA: 0s - loss: 0.089 - ETA: 0s - loss: 0.088 - ETA: 0s - loss: 0.087 - ETA: 0s - loss: 0.086 - ETA: 0s - loss: 0.089 - ETA: 0s - loss: 0.092 - ETA: 0s - loss: 0.092 - 1s 14ms/step - loss: 0.0914 - val_loss: 0.0813\n",
      "Epoch 200/450\n",
      "50/50 [==============================] - ETA: 0s - loss: 0.082 - ETA: 0s - loss: 0.086 - ETA: 0s - loss: 0.084 - ETA: 0s - loss: 0.084 - ETA: 0s - loss: 0.085 - ETA: 0s - loss: 0.088 - ETA: 0s - loss: 0.092 - ETA: 0s - loss: 0.092 - ETA: 0s - loss: 0.090 - ETA: 0s - loss: 0.090 - 1s 14ms/step - loss: 0.0897 - val_loss: 0.0809\n",
      "Epoch 201/450\n",
      "50/50 [==============================] - ETA: 0s - loss: 0.081 - ETA: 0s - loss: 0.084 - ETA: 0s - loss: 0.088 - ETA: 0s - loss: 0.092 - ETA: 0s - loss: 0.096 - ETA: 0s - loss: 0.094 - ETA: 0s - loss: 0.092 - ETA: 0s - loss: 0.091 - ETA: 0s - loss: 0.090 - ETA: 0s - loss: 0.089 - 1s 14ms/step - loss: 0.0905 - val_loss: 0.0806\n",
      "Epoch 202/450\n",
      "50/50 [==============================] - ETA: 0s - loss: 0.103 - ETA: 0s - loss: 0.105 - ETA: 0s - loss: 0.103 - ETA: 0s - loss: 0.097 - ETA: 0s - loss: 0.094 - ETA: 0s - loss: 0.092 - ETA: 0s - loss: 0.090 - ETA: 0s - loss: 0.089 - ETA: 0s - loss: 0.090 - ETA: 0s - loss: 0.093 - 1s 14ms/step - loss: 0.0932 - val_loss: 0.0802\n",
      "Epoch 203/450\n",
      "50/50 [==============================] - ETA: 0s - loss: 0.092 - ETA: 0s - loss: 0.083 - ETA: 0s - loss: 0.083 - ETA: 0s - loss: 0.083 - ETA: 0s - loss: 0.083 - ETA: 0s - loss: 0.083 - ETA: 0s - loss: 0.086 - ETA: 0s - loss: 0.090 - ETA: 0s - loss: 0.090 - ETA: 0s - loss: 0.089 - 1s 14ms/step - loss: 0.0887 - val_loss: 0.0799\n",
      "Epoch 204/450\n",
      "50/50 [==============================] - ETA: 0s - loss: 0.084 - ETA: 0s - loss: 0.082 - ETA: 0s - loss: 0.082 - ETA: 0s - loss: 0.084 - ETA: 0s - loss: 0.087 - ETA: 0s - loss: 0.092 - ETA: 0s - loss: 0.091 - ETA: 0s - loss: 0.090 - ETA: 0s - loss: 0.089 - ETA: 0s - loss: 0.088 - 1s 14ms/step - loss: 0.0882 - val_loss: 0.0795\n",
      "Epoch 205/450\n",
      "50/50 [==============================] - ETA: 0s - loss: 0.085 - ETA: 0s - loss: 0.091 - ETA: 0s - loss: 0.094 - ETA: 0s - loss: 0.099 - ETA: 0s - loss: 0.095 - ETA: 0s - loss: 0.092 - ETA: 0s - loss: 0.091 - ETA: 0s - loss: 0.089 - ETA: 0s - loss: 0.089 - ETA: 0s - loss: 0.089 - 1s 14ms/step - loss: 0.0905 - val_loss: 0.0792\n",
      "Epoch 206/450\n",
      "50/50 [==============================] - ETA: 0s - loss: 0.153 - ETA: 0s - loss: 0.105 - ETA: 0s - loss: 0.095 - ETA: 0s - loss: 0.091 - ETA: 0s - loss: 0.089 - ETA: 0s - loss: 0.087 - ETA: 0s - loss: 0.086 - ETA: 0s - loss: 0.088 - ETA: 0s - loss: 0.091 - ETA: 0s - loss: 0.091 - 1s 14ms/step - loss: 0.0903 - val_loss: 0.0789\n",
      "Epoch 207/450\n",
      "50/50 [==============================] - ETA: 0s - loss: 0.079 - ETA: 0s - loss: 0.082 - ETA: 0s - loss: 0.082 - ETA: 0s - loss: 0.081 - ETA: 0s - loss: 0.081 - ETA: 0s - loss: 0.085 - ETA: 0s - loss: 0.089 - ETA: 0s - loss: 0.089 - ETA: 0s - loss: 0.088 - ETA: 0s - loss: 0.087 - 1s 14ms/step - loss: 0.0873 - val_loss: 0.0785\n",
      "Epoch 208/450\n",
      "50/50 [==============================] - ETA: 0s - loss: 0.078 - ETA: 0s - loss: 0.081 - ETA: 0s - loss: 0.084 - ETA: 0s - loss: 0.087 - ETA: 0s - loss: 0.093 - ETA: 0s - loss: 0.092 - ETA: 0s - loss: 0.090 - ETA: 0s - loss: 0.089 - ETA: 0s - loss: 0.088 - ETA: 0s - loss: 0.087 - 1s 14ms/step - loss: 0.0874 - val_loss: 0.0782\n",
      "Epoch 209/450\n",
      "50/50 [==============================] - ETA: 0s - loss: 0.111 - ETA: 0s - loss: 0.100 - ETA: 0s - loss: 0.102 - ETA: 0s - loss: 0.096 - ETA: 0s - loss: 0.092 - ETA: 0s - loss: 0.090 - ETA: 0s - loss: 0.088 - ETA: 0s - loss: 0.088 - ETA: 0s - loss: 0.088 - ETA: 0s - loss: 0.090 - 1s 14ms/step - loss: 0.0912 - val_loss: 0.0778\n",
      "Epoch 210/450\n",
      "50/50 [==============================] - ETA: 0s - loss: 0.088 - ETA: 0s - loss: 0.082 - ETA: 0s - loss: 0.081 - ETA: 0s - loss: 0.081 - ETA: 0s - loss: 0.080 - ETA: 0s - loss: 0.081 - ETA: 0s - loss: 0.083 - ETA: 0s - loss: 0.087 - ETA: 0s - loss: 0.087 - ETA: 0s - loss: 0.086 - 1s 14ms/step - loss: 0.0864 - val_loss: 0.0775\n",
      "Epoch 211/450\n",
      "50/50 [==============================] - ETA: 0s - loss: 0.086 - ETA: 0s - loss: 0.080 - ETA: 0s - loss: 0.079 - ETA: 0s - loss: 0.080 - ETA: 0s - loss: 0.084 - ETA: 0s - loss: 0.089 - ETA: 0s - loss: 0.089 - ETA: 0s - loss: 0.087 - ETA: 0s - loss: 0.087 - ETA: 0s - loss: 0.086 - 1s 14ms/step - loss: 0.0857 - val_loss: 0.0771\n",
      "Epoch 212/450\n",
      "50/50 [==============================] - ETA: 0s - loss: 0.089 - ETA: 0s - loss: 0.085 - ETA: 0s - loss: 0.089 - ETA: 0s - loss: 0.096 - ETA: 0s - loss: 0.093 - ETA: 0s - loss: 0.090 - ETA: 0s - loss: 0.089 - ETA: 0s - loss: 0.087 - ETA: 0s - loss: 0.087 - ETA: 0s - loss: 0.087 - 1s 14ms/step - loss: 0.0875 - val_loss: 0.0768\n",
      "Epoch 213/450\n",
      "50/50 [==============================] - ETA: 0s - loss: 0.119 - ETA: 0s - loss: 0.107 - ETA: 0s - loss: 0.096 - ETA: 0s - loss: 0.090 - ETA: 0s - loss: 0.088 - ETA: 0s - loss: 0.086 - ETA: 0s - loss: 0.085 - ETA: 0s - loss: 0.086 - ETA: 0s - loss: 0.088 - ETA: 0s - loss: 0.089 - 1s 14ms/step - loss: 0.0888 - val_loss: 0.0765\n",
      "Epoch 214/450\n",
      "50/50 [==============================] - ETA: 0s - loss: 0.076 - ETA: 0s - loss: 0.079 - ETA: 0s - loss: 0.079 - ETA: 0s - loss: 0.078 - ETA: 0s - loss: 0.079 - ETA: 0s - loss: 0.082 - ETA: 0s - loss: 0.086 - ETA: 0s - loss: 0.087 - ETA: 0s - loss: 0.085 - ETA: 0s - loss: 0.085 - 1s 14ms/step - loss: 0.0849 - val_loss: 0.0761\n",
      "Epoch 215/450\n",
      "50/50 [==============================] - ETA: 0s - loss: 0.076 - ETA: 0s - loss: 0.077 - ETA: 0s - loss: 0.078 - ETA: 0s - loss: 0.084 - ETA: 0s - loss: 0.090 - ETA: 0s - loss: 0.089 - ETA: 0s - loss: 0.087 - ETA: 0s - loss: 0.086 - ETA: 0s - loss: 0.085 - ETA: 0s - loss: 0.084 - 1s 14ms/step - loss: 0.0844 - val_loss: 0.0758\n",
      "Epoch 216/450\n",
      "50/50 [==============================] - ETA: 0s - loss: 0.104 - ETA: 0s - loss: 0.094 - ETA: 0s - loss: 0.102 - ETA: 0s - loss: 0.096 - ETA: 0s - loss: 0.091 - ETA: 0s - loss: 0.089 - ETA: 0s - loss: 0.087 - ETA: 0s - loss: 0.086 - ETA: 0s - loss: 0.086 - ETA: 0s - loss: 0.088 - 1s 14ms/step - loss: 0.0893 - val_loss: 0.0755\n",
      "Epoch 217/450\n",
      "50/50 [==============================] - ETA: 0s - loss: 0.087 - ETA: 0s - loss: 0.081 - ETA: 0s - loss: 0.079 - ETA: 0s - loss: 0.079 - ETA: 0s - loss: 0.079 - ETA: 0s - loss: 0.079 - ETA: 0s - loss: 0.081 - ETA: 0s - loss: 0.084 - ETA: 0s - loss: 0.085 - ETA: 0s - loss: 0.084 - 1s 14ms/step - loss: 0.0840 - val_loss: 0.0751\n",
      "Epoch 218/450\n",
      "50/50 [==============================] - ETA: 0s - loss: 0.090 - ETA: 0s - loss: 0.080 - ETA: 0s - loss: 0.078 - ETA: 0s - loss: 0.078 - ETA: 0s - loss: 0.082 - ETA: 0s - loss: 0.087 - ETA: 0s - loss: 0.087 - ETA: 0s - loss: 0.085 - ETA: 0s - loss: 0.085 - ETA: 0s - loss: 0.084 - 1s 14ms/step - loss: 0.0835 - val_loss: 0.0748\n",
      "Epoch 219/450\n",
      "50/50 [==============================] - ETA: 0s - loss: 0.075 - ETA: 0s - loss: 0.078 - ETA: 0s - loss: 0.086 - ETA: 0s - loss: 0.092 - ETA: 0s - loss: 0.091 - ETA: 0s - loss: 0.088 - ETA: 0s - loss: 0.087 - ETA: 0s - loss: 0.085 - ETA: 0s - loss: 0.084 - ETA: 0s - loss: 0.084 - 1s 14ms/step - loss: 0.0850 - val_loss: 0.0745\n",
      "Epoch 220/450\n",
      "50/50 [==============================] - ETA: 0s - loss: 0.082 - ETA: 0s - loss: 0.105 - ETA: 0s - loss: 0.094 - ETA: 0s - loss: 0.088 - ETA: 0s - loss: 0.086 - ETA: 0s - loss: 0.084 - ETA: 0s - loss: 0.083 - ETA: 0s - loss: 0.084 - ETA: 0s - loss: 0.085 - ETA: 0s - loss: 0.087 - 1s 14ms/step - loss: 0.0866 - val_loss: 0.0741\n",
      "Epoch 221/450\n",
      "50/50 [==============================] - ETA: 0s - loss: 0.075 - ETA: 0s - loss: 0.075 - ETA: 0s - loss: 0.077 - ETA: 0s - loss: 0.076 - ETA: 0s - loss: 0.077 - ETA: 0s - loss: 0.079 - ETA: 0s - loss: 0.083 - ETA: 0s - loss: 0.084 - ETA: 0s - loss: 0.083 - ETA: 0s - loss: 0.082 - 1s 14ms/step - loss: 0.0825 - val_loss: 0.0738\n",
      "Epoch 222/450\n",
      "50/50 [==============================] - ETA: 0s - loss: 0.075 - ETA: 0s - loss: 0.074 - ETA: 0s - loss: 0.076 - ETA: 0s - loss: 0.081 - ETA: 0s - loss: 0.087 - ETA: 0s - loss: 0.087 - ETA: 0s - loss: 0.085 - ETA: 0s - loss: 0.084 - ETA: 0s - loss: 0.083 - ETA: 0s - loss: 0.082 - 1s 14ms/step - loss: 0.0820 - val_loss: 0.0735\n",
      "Epoch 223/450\n",
      "50/50 [==============================] - ETA: 0s - loss: 0.078 - ETA: 0s - loss: 0.091 - ETA: 0s - loss: 0.099 - ETA: 0s - loss: 0.093 - ETA: 0s - loss: 0.089 - ETA: 0s - loss: 0.087 - ETA: 0s - loss: 0.085 - ETA: 0s - loss: 0.084 - ETA: 0s - loss: 0.083 - ETA: 0s - loss: 0.084 - 1s 14ms/step - loss: 0.0867 - val_loss: 0.0731\n",
      "Epoch 224/450\n",
      "50/50 [==============================] - ETA: 0s - loss: 0.088 - ETA: 0s - loss: 0.081 - ETA: 0s - loss: 0.078 - ETA: 0s - loss: 0.078 - ETA: 0s - loss: 0.077 - ETA: 0s - loss: 0.077 - ETA: 0s - loss: 0.078 - ETA: 0s - loss: 0.080 - ETA: 0s - loss: 0.083 - ETA: 0s - loss: 0.082 - 1s 14ms/step - loss: 0.0819 - val_loss: 0.0728\n",
      "Epoch 225/450\n",
      "50/50 [==============================] - ETA: 0s - loss: 0.074 - ETA: 0s - loss: 0.077 - ETA: 0s - loss: 0.076 - ETA: 0s - loss: 0.076 - ETA: 0s - loss: 0.079 - ETA: 0s - loss: 0.084 - ETA: 0s - loss: 0.084 - ETA: 0s - loss: 0.083 - ETA: 0s - loss: 0.082 - ETA: 0s - loss: 0.081 - 1s 14ms/step - loss: 0.0812 - val_loss: 0.0725\n",
      "Epoch 226/450\n",
      "50/50 [==============================] - ETA: 0s - loss: 0.074 - ETA: 0s - loss: 0.076 - ETA: 0s - loss: 0.083 - ETA: 0s - loss: 0.089 - ETA: 0s - loss: 0.089 - ETA: 0s - loss: 0.086 - ETA: 0s - loss: 0.084 - ETA: 0s - loss: 0.083 - ETA: 0s - loss: 0.082 - ETA: 0s - loss: 0.081 - 1s 14ms/step - loss: 0.0826 - val_loss: 0.0722\n",
      "Epoch 227/450\n",
      "50/50 [==============================] - ETA: 0s - loss: 0.079 - ETA: 0s - loss: 0.101 - ETA: 0s - loss: 0.092 - ETA: 0s - loss: 0.086 - ETA: 0s - loss: 0.084 - ETA: 0s - loss: 0.082 - ETA: 0s - loss: 0.081 - ETA: 0s - loss: 0.080 - ETA: 0s - loss: 0.082 - ETA: 0s - loss: 0.084 - 1s 14ms/step - loss: 0.0844 - val_loss: 0.0718\n",
      "Epoch 228/450\n",
      "50/50 [==============================] - ETA: 0s - loss: 0.073 - ETA: 0s - loss: 0.072 - ETA: 0s - loss: 0.075 - ETA: 0s - loss: 0.074 - ETA: 0s - loss: 0.074 - ETA: 0s - loss: 0.076 - ETA: 0s - loss: 0.079 - ETA: 0s - loss: 0.081 - ETA: 0s - loss: 0.081 - ETA: 0s - loss: 0.080 - 1s 14ms/step - loss: 0.0802 - val_loss: 0.0715\n",
      "Epoch 229/450\n",
      "50/50 [==============================] - ETA: 0s - loss: 0.072 - ETA: 0s - loss: 0.072 - ETA: 0s - loss: 0.073 - ETA: 0s - loss: 0.078 - ETA: 0s - loss: 0.083 - ETA: 0s - loss: 0.084 - ETA: 0s - loss: 0.083 - ETA: 0s - loss: 0.081 - ETA: 0s - loss: 0.081 - ETA: 0s - loss: 0.080 - 1s 14ms/step - loss: 0.0798 - val_loss: 0.0712\n",
      "Epoch 230/450\n",
      "50/50 [==============================] - ETA: 0s - loss: 0.071 - ETA: 0s - loss: 0.087 - ETA: 0s - loss: 0.094 - ETA: 0s - loss: 0.091 - ETA: 0s - loss: 0.086 - ETA: 0s - loss: 0.084 - ETA: 0s - loss: 0.082 - ETA: 0s - loss: 0.081 - ETA: 0s - loss: 0.080 - ETA: 0s - loss: 0.081 - 1s 14ms/step - loss: 0.0842 - val_loss: 0.0709\n",
      "Epoch 231/450\n",
      "50/50 [==============================] - ETA: 0s - loss: 0.084 - ETA: 0s - loss: 0.081 - ETA: 0s - loss: 0.076 - ETA: 0s - loss: 0.076 - ETA: 0s - loss: 0.075 - ETA: 0s - loss: 0.075 - ETA: 0s - loss: 0.075 - ETA: 0s - loss: 0.077 - ETA: 0s - loss: 0.080 - ETA: 0s - loss: 0.080 - 1s 14ms/step - loss: 0.0799 - val_loss: 0.0706\n",
      "Epoch 232/450\n",
      "50/50 [==============================] - ETA: 0s - loss: 0.071 - ETA: 0s - loss: 0.075 - ETA: 0s - loss: 0.073 - ETA: 0s - loss: 0.074 - ETA: 0s - loss: 0.076 - ETA: 0s - loss: 0.078 - ETA: 0s - loss: 0.082 - ETA: 0s - loss: 0.081 - ETA: 0s - loss: 0.080 - ETA: 0s - loss: 0.079 - 1s 14ms/step - loss: 0.0789 - val_loss: 0.0702\n",
      "Epoch 233/450\n",
      "50/50 [==============================] - ETA: 0s - loss: 0.071 - ETA: 0s - loss: 0.073 - ETA: 0s - loss: 0.080 - ETA: 0s - loss: 0.085 - ETA: 0s - loss: 0.086 - ETA: 0s - loss: 0.083 - ETA: 0s - loss: 0.082 - ETA: 0s - loss: 0.081 - ETA: 0s - loss: 0.079 - ETA: 0s - loss: 0.079 - 1s 14ms/step - loss: 0.0802 - val_loss: 0.0699\n",
      "Epoch 234/450\n",
      "50/50 [==============================] - ETA: 0s - loss: 0.079 - ETA: 0s - loss: 0.096 - ETA: 0s - loss: 0.091 - ETA: 0s - loss: 0.084 - ETA: 0s - loss: 0.082 - ETA: 0s - loss: 0.080 - ETA: 0s - loss: 0.078 - ETA: 0s - loss: 0.078 - ETA: 0s - loss: 0.079 - ETA: 0s - loss: 0.082 - 1s 14ms/step - loss: 0.0823 - val_loss: 0.0696\n",
      "Epoch 235/450\n",
      "50/50 [==============================] - ETA: 0s - loss: 0.071 - ETA: 0s - loss: 0.070 - ETA: 0s - loss: 0.072 - ETA: 0s - loss: 0.072 - ETA: 0s - loss: 0.072 - ETA: 0s - loss: 0.073 - ETA: 0s - loss: 0.075 - ETA: 0s - loss: 0.079 - ETA: 0s - loss: 0.079 - ETA: 0s - loss: 0.078 - 1s 14ms/step - loss: 0.0780 - val_loss: 0.0693\n",
      "Epoch 236/450\n",
      "50/50 [==============================] - ETA: 0s - loss: 0.070 - ETA: 0s - loss: 0.070 - ETA: 0s - loss: 0.071 - ETA: 0s - loss: 0.075 - ETA: 0s - loss: 0.079 - ETA: 0s - loss: 0.082 - ETA: 0s - loss: 0.080 - ETA: 0s - loss: 0.079 - ETA: 0s - loss: 0.078 - ETA: 0s - loss: 0.077 - 1s 14ms/step - loss: 0.0775 - val_loss: 0.0690\n",
      "Epoch 237/450\n",
      "50/50 [==============================] - ETA: 0s - loss: 0.070 - ETA: 0s - loss: 0.083 - ETA: 0s - loss: 0.089 - ETA: 0s - loss: 0.088 - ETA: 0s - loss: 0.084 - ETA: 0s - loss: 0.082 - ETA: 0s - loss: 0.080 - ETA: 0s - loss: 0.079 - ETA: 0s - loss: 0.078 - ETA: 0s - loss: 0.079 - 1s 14ms/step - loss: 0.0811 - val_loss: 0.0687\n",
      "Epoch 238/450\n",
      "50/50 [==============================] - ETA: 0s - loss: 0.101 - ETA: 0s - loss: 0.085 - ETA: 0s - loss: 0.078 - ETA: 0s - loss: 0.076 - ETA: 0s - loss: 0.075 - ETA: 0s - loss: 0.074 - ETA: 0s - loss: 0.074 - ETA: 0s - loss: 0.076 - ETA: 0s - loss: 0.079 - ETA: 0s - loss: 0.079 - 1s 14ms/step - loss: 0.0785 - val_loss: 0.0683\n",
      "Epoch 239/450\n",
      "50/50 [==============================] - ETA: 0s - loss: 0.069 - ETA: 0s - loss: 0.073 - ETA: 0s - loss: 0.071 - ETA: 0s - loss: 0.071 - ETA: 0s - loss: 0.072 - ETA: 0s - loss: 0.075 - ETA: 0s - loss: 0.079 - ETA: 0s - loss: 0.079 - ETA: 0s - loss: 0.077 - ETA: 0s - loss: 0.077 - 1s 14ms/step - loss: 0.0767 - val_loss: 0.0680\n",
      "Epoch 240/450\n",
      "50/50 [==============================] - ETA: 0s - loss: 0.068 - ETA: 0s - loss: 0.071 - ETA: 0s - loss: 0.076 - ETA: 0s - loss: 0.080 - ETA: 0s - loss: 0.083 - ETA: 0s - loss: 0.081 - ETA: 0s - loss: 0.079 - ETA: 0s - loss: 0.078 - ETA: 0s - loss: 0.077 - ETA: 0s - loss: 0.076 - 1s 14ms/step - loss: 0.0775 - val_loss: 0.0677\n",
      "Epoch 241/450\n",
      "50/50 [==============================] - ETA: 0s - loss: 0.089 - ETA: 0s - loss: 0.094 - ETA: 0s - loss: 0.090 - ETA: 0s - loss: 0.084 - ETA: 0s - loss: 0.081 - ETA: 0s - loss: 0.079 - ETA: 0s - loss: 0.077 - ETA: 0s - loss: 0.076 - ETA: 0s - loss: 0.078 - ETA: 0s - loss: 0.080 - 1s 14ms/step - loss: 0.0804 - val_loss: 0.0674\n",
      "Epoch 242/450\n",
      "50/50 [==============================] - ETA: 0s - loss: 0.078 - ETA: 0s - loss: 0.070 - ETA: 0s - loss: 0.071 - ETA: 0s - loss: 0.070 - ETA: 0s - loss: 0.070 - ETA: 0s - loss: 0.070 - ETA: 0s - loss: 0.073 - ETA: 0s - loss: 0.077 - ETA: 0s - loss: 0.077 - ETA: 0s - loss: 0.076 - 1s 14ms/step - loss: 0.0759 - val_loss: 0.0671\n",
      "Epoch 243/450\n",
      "50/50 [==============================] - ETA: 0s - loss: 0.071 - ETA: 0s - loss: 0.068 - ETA: 0s - loss: 0.069 - ETA: 0s - loss: 0.071 - ETA: 0s - loss: 0.074 - ETA: 0s - loss: 0.079 - ETA: 0s - loss: 0.078 - ETA: 0s - loss: 0.077 - ETA: 0s - loss: 0.076 - ETA: 0s - loss: 0.075 - 1s 14ms/step - loss: 0.0754 - val_loss: 0.0668\n",
      "Epoch 244/450\n",
      "50/50 [==============================] - ETA: 0s - loss: 0.066 - ETA: 0s - loss: 0.078 - ETA: 0s - loss: 0.082 - ETA: 0s - loss: 0.085 - ETA: 0s - loss: 0.082 - ETA: 0s - loss: 0.079 - ETA: 0s - loss: 0.078 - ETA: 0s - loss: 0.077 - ETA: 0s - loss: 0.076 - ETA: 0s - loss: 0.077 - 1s 14ms/step - loss: 0.0778 - val_loss: 0.0665\n",
      "Epoch 245/450\n",
      "50/50 [==============================] - ETA: 0s - loss: 0.123 - ETA: 0s - loss: 0.091 - ETA: 0s - loss: 0.081 - ETA: 0s - loss: 0.077 - ETA: 0s - loss: 0.076 - ETA: 0s - loss: 0.074 - ETA: 0s - loss: 0.073 - ETA: 0s - loss: 0.075 - ETA: 0s - loss: 0.078 - ETA: 0s - loss: 0.078 - 1s 14ms/step - loss: 0.0775 - val_loss: 0.0662\n",
      "Epoch 246/450\n",
      "50/50 [==============================] - ETA: 0s - loss: 0.066 - ETA: 0s - loss: 0.071 - ETA: 0s - loss: 0.069 - ETA: 0s - loss: 0.068 - ETA: 0s - loss: 0.069 - ETA: 0s - loss: 0.072 - ETA: 0s - loss: 0.076 - ETA: 0s - loss: 0.076 - ETA: 0s - loss: 0.075 - ETA: 0s - loss: 0.075 - 1s 14ms/step - loss: 0.0746 - val_loss: 0.0659\n",
      "Epoch 247/450\n",
      "50/50 [==============================] - ETA: 0s - loss: 0.066 - ETA: 0s - loss: 0.068 - ETA: 0s - loss: 0.070 - ETA: 0s - loss: 0.074 - ETA: 0s - loss: 0.081 - ETA: 0s - loss: 0.079 - ETA: 0s - loss: 0.077 - ETA: 0s - loss: 0.076 - ETA: 0s - loss: 0.075 - ETA: 0s - loss: 0.074 - 1s 14ms/step - loss: 0.0747 - val_loss: 0.0656\n",
      "Epoch 248/450\n",
      "50/50 [==============================] - ETA: 0s - loss: 0.100 - ETA: 0s - loss: 0.085 - ETA: 0s - loss: 0.090 - ETA: 0s - loss: 0.084 - ETA: 0s - loss: 0.079 - ETA: 0s - loss: 0.078 - ETA: 0s - loss: 0.076 - ETA: 0s - loss: 0.075 - ETA: 0s - loss: 0.076 - ETA: 0s - loss: 0.078 - 1s 14ms/step - loss: 0.0787 - val_loss: 0.0653\n",
      "Epoch 249/450\n",
      "50/50 [==============================] - ETA: 0s - loss: 0.076 - ETA: 0s - loss: 0.069 - ETA: 0s - loss: 0.069 - ETA: 0s - loss: 0.069 - ETA: 0s - loss: 0.068 - ETA: 0s - loss: 0.068 - ETA: 0s - loss: 0.071 - ETA: 0s - loss: 0.074 - ETA: 0s - loss: 0.075 - ETA: 0s - loss: 0.074 - 1s 14ms/step - loss: 0.0738 - val_loss: 0.0650\n",
      "Epoch 250/450\n",
      "50/50 [==============================] - ETA: 0s - loss: 0.074 - ETA: 0s - loss: 0.068 - ETA: 0s - loss: 0.067 - ETA: 0s - loss: 0.068 - ETA: 0s - loss: 0.072 - ETA: 0s - loss: 0.077 - ETA: 0s - loss: 0.076 - ETA: 0s - loss: 0.075 - ETA: 0s - loss: 0.074 - ETA: 0s - loss: 0.073 - 1s 14ms/step - loss: 0.0732 - val_loss: 0.0647\n",
      "Epoch 251/450\n",
      "50/50 [==============================] - ETA: 0s - loss: 0.079 - ETA: 0s - loss: 0.072 - ETA: 0s - loss: 0.076 - ETA: 0s - loss: 0.084 - ETA: 0s - loss: 0.081 - ETA: 0s - loss: 0.078 - ETA: 0s - loss: 0.076 - ETA: 0s - loss: 0.075 - ETA: 0s - loss: 0.074 - ETA: 0s - loss: 0.074 - 1s 14ms/step - loss: 0.0751 - val_loss: 0.0644\n",
      "Epoch 252/450\n",
      "50/50 [==============================] - ETA: 0s - loss: 0.111 - ETA: 0s - loss: 0.095 - ETA: 0s - loss: 0.084 - ETA: 0s - loss: 0.078 - ETA: 0s - loss: 0.076 - ETA: 0s - loss: 0.074 - ETA: 0s - loss: 0.073 - ETA: 0s - loss: 0.074 - ETA: 0s - loss: 0.076 - ETA: 0s - loss: 0.077 - 1s 14ms/step - loss: 0.0764 - val_loss: 0.0641\n",
      "Epoch 253/450\n",
      "50/50 [==============================] - ETA: 0s - loss: 0.064 - ETA: 0s - loss: 0.067 - ETA: 0s - loss: 0.067 - ETA: 0s - loss: 0.066 - ETA: 0s - loss: 0.066 - ETA: 0s - loss: 0.070 - ETA: 0s - loss: 0.074 - ETA: 0s - loss: 0.074 - ETA: 0s - loss: 0.073 - ETA: 0s - loss: 0.073 - 1s 14ms/step - loss: 0.0725 - val_loss: 0.0638\n",
      "Epoch 254/450\n",
      "50/50 [==============================] - ETA: 0s - loss: 0.064 - ETA: 0s - loss: 0.064 - ETA: 0s - loss: 0.066 - ETA: 0s - loss: 0.072 - ETA: 0s - loss: 0.078 - ETA: 0s - loss: 0.077 - ETA: 0s - loss: 0.075 - ETA: 0s - loss: 0.074 - ETA: 0s - loss: 0.073 - ETA: 0s - loss: 0.072 - 1s 14ms/step - loss: 0.0720 - val_loss: 0.0635\n",
      "Epoch 255/450\n",
      "50/50 [==============================] - ETA: 0s - loss: 0.101 - ETA: 0s - loss: 0.082 - ETA: 0s - loss: 0.089 - ETA: 0s - loss: 0.083 - ETA: 0s - loss: 0.079 - ETA: 0s - loss: 0.077 - ETA: 0s - loss: 0.075 - ETA: 0s - loss: 0.074 - ETA: 0s - loss: 0.074 - ETA: 0s - loss: 0.075 - 1s 14ms/step - loss: 0.0770 - val_loss: 0.0632\n",
      "Epoch 256/450\n",
      "50/50 [==============================] - ETA: 0s - loss: 0.073 - ETA: 0s - loss: 0.069 - ETA: 0s - loss: 0.066 - ETA: 0s - loss: 0.067 - ETA: 0s - loss: 0.066 - ETA: 0s - loss: 0.066 - ETA: 0s - loss: 0.069 - ETA: 0s - loss: 0.071 - ETA: 0s - loss: 0.073 - ETA: 0s - loss: 0.072 - 1s 14ms/step - loss: 0.0717 - val_loss: 0.0629\n",
      "Epoch 257/450\n",
      "50/50 [==============================] - ETA: 0s - loss: 0.076 - ETA: 0s - loss: 0.068 - ETA: 0s - loss: 0.066 - ETA: 0s - loss: 0.066 - ETA: 0s - loss: 0.070 - ETA: 0s - loss: 0.075 - ETA: 0s - loss: 0.075 - ETA: 0s - loss: 0.073 - ETA: 0s - loss: 0.072 - ETA: 0s - loss: 0.072 - 1s 14ms/step - loss: 0.0713 - val_loss: 0.0626\n",
      "Epoch 258/450\n",
      "50/50 [==============================] - ETA: 0s - loss: 0.063 - ETA: 0s - loss: 0.066 - ETA: 0s - loss: 0.074 - ETA: 0s - loss: 0.080 - ETA: 0s - loss: 0.079 - ETA: 0s - loss: 0.076 - ETA: 0s - loss: 0.074 - ETA: 0s - loss: 0.073 - ETA: 0s - loss: 0.072 - ETA: 0s - loss: 0.072 - 1s 14ms/step - loss: 0.0728 - val_loss: 0.0623\n",
      "Epoch 259/450\n",
      "50/50 [==============================] - ETA: 0s - loss: 0.068 - ETA: 0s - loss: 0.092 - ETA: 0s - loss: 0.082 - ETA: 0s - loss: 0.076 - ETA: 0s - loss: 0.074 - ETA: 0s - loss: 0.072 - ETA: 0s - loss: 0.071 - ETA: 0s - loss: 0.072 - ETA: 0s - loss: 0.073 - ETA: 0s - loss: 0.074 - ETA: 0s - loss: 0.074 - 1s 14ms/step - loss: 0.0744 - val_loss: 0.0620\n",
      "Epoch 260/450\n",
      "50/50 [==============================] - ETA: 0s - loss: 0.063 - ETA: 0s - loss: 0.063 - ETA: 0s - loss: 0.065 - ETA: 0s - loss: 0.064 - ETA: 0s - loss: 0.065 - ETA: 0s - loss: 0.067 - ETA: 0s - loss: 0.071 - ETA: 0s - loss: 0.072 - ETA: 0s - loss: 0.071 - ETA: 0s - loss: 0.070 - 1s 14ms/step - loss: 0.0704 - val_loss: 0.0617\n",
      "Epoch 261/450\n",
      "50/50 [==============================] - ETA: 0s - loss: 0.063 - ETA: 0s - loss: 0.062 - ETA: 0s - loss: 0.064 - ETA: 0s - loss: 0.069 - ETA: 0s - loss: 0.075 - ETA: 0s - loss: 0.075 - ETA: 0s - loss: 0.073 - ETA: 0s - loss: 0.072 - ETA: 0s - loss: 0.071 - ETA: 0s - loss: 0.070 - 1s 14ms/step - loss: 0.0700 - val_loss: 0.0614\n",
      "Epoch 262/450\n",
      "50/50 [==============================] - ETA: 0s - loss: 0.064 - ETA: 0s - loss: 0.078 - ETA: 0s - loss: 0.086 - ETA: 0s - loss: 0.081 - ETA: 0s - loss: 0.077 - ETA: 0s - loss: 0.075 - ETA: 0s - loss: 0.073 - ETA: 0s - loss: 0.072 - ETA: 0s - loss: 0.071 - ETA: 0s - loss: 0.072 - 1s 14ms/step - loss: 0.0747 - val_loss: 0.0611\n",
      "Epoch 263/450\n",
      "50/50 [==============================] - ETA: 0s - loss: 0.071 - ETA: 0s - loss: 0.068 - ETA: 0s - loss: 0.065 - ETA: 0s - loss: 0.066 - ETA: 0s - loss: 0.065 - ETA: 0s - loss: 0.065 - ETA: 0s - loss: 0.066 - ETA: 0s - loss: 0.068 - ETA: 0s - loss: 0.071 - ETA: 0s - loss: 0.070 - 1s 14ms/step - loss: 0.0698 - val_loss: 0.0608\n",
      "Epoch 264/450\n",
      "50/50 [==============================] - ETA: 0s - loss: 0.062 - ETA: 0s - loss: 0.066 - ETA: 0s - loss: 0.064 - ETA: 0s - loss: 0.064 - ETA: 0s - loss: 0.067 - ETA: 0s - loss: 0.072 - ETA: 0s - loss: 0.072 - ETA: 0s - loss: 0.071 - ETA: 0s - loss: 0.070 - ETA: 0s - loss: 0.069 - 1s 14ms/step - loss: 0.0692 - val_loss: 0.0606\n",
      "Epoch 265/450\n",
      "50/50 [==============================] - ETA: 0s - loss: 0.062 - ETA: 0s - loss: 0.064 - ETA: 0s - loss: 0.071 - ETA: 0s - loss: 0.078 - ETA: 0s - loss: 0.077 - ETA: 0s - loss: 0.074 - ETA: 0s - loss: 0.072 - ETA: 0s - loss: 0.071 - ETA: 0s - loss: 0.070 - ETA: 0s - loss: 0.069 - 1s 14ms/step - loss: 0.0707 - val_loss: 0.0603\n",
      "Epoch 266/450\n",
      "50/50 [==============================] - ETA: 0s - loss: 0.064 - ETA: 0s - loss: 0.090 - ETA: 0s - loss: 0.080 - ETA: 0s - loss: 0.074 - ETA: 0s - loss: 0.072 - ETA: 0s - loss: 0.070 - ETA: 0s - loss: 0.069 - ETA: 0s - loss: 0.069 - ETA: 0s - loss: 0.070 - ETA: 0s - loss: 0.072 - 1s 14ms/step - loss: 0.0725 - val_loss: 0.0600\n",
      "Epoch 267/450\n",
      "50/50 [==============================] - ETA: 0s - loss: 0.062 - ETA: 0s - loss: 0.061 - ETA: 0s - loss: 0.063 - ETA: 0s - loss: 0.062 - ETA: 0s - loss: 0.062 - ETA: 0s - loss: 0.064 - ETA: 0s - loss: 0.065 - ETA: 0s - loss: 0.070 - ETA: 0s - loss: 0.069 - ETA: 0s - loss: 0.068 - ETA: 0s - loss: 0.068 - 1s 16ms/step - loss: 0.0684 - val_loss: 0.0597\n",
      "Epoch 268/450\n",
      "50/50 [==============================] - ETA: 0s - loss: 0.061 - ETA: 0s - loss: 0.060 - ETA: 0s - loss: 0.062 - ETA: 0s - loss: 0.066 - ETA: 0s - loss: 0.071 - ETA: 0s - loss: 0.072 - ETA: 0s - loss: 0.071 - ETA: 0s - loss: 0.070 - ETA: 0s - loss: 0.069 - ETA: 0s - loss: 0.068 - 1s 14ms/step - loss: 0.0680 - val_loss: 0.0594\n",
      "Epoch 269/450\n",
      "50/50 [==============================] - ETA: 0s - loss: 0.059 - ETA: 0s - loss: 0.075 - ETA: 0s - loss: 0.082 - ETA: 0s - loss: 0.079 - ETA: 0s - loss: 0.075 - ETA: 0s - loss: 0.073 - ETA: 0s - loss: 0.071 - ETA: 0s - loss: 0.069 - ETA: 0s - loss: 0.068 - ETA: 0s - loss: 0.070 - 1s 14ms/step - loss: 0.0723 - val_loss: 0.0591\n",
      "Epoch 270/450\n",
      "50/50 [==============================] - ETA: 0s - loss: 0.071 - ETA: 0s - loss: 0.069 - ETA: 0s - loss: 0.065 - ETA: 0s - loss: 0.065 - ETA: 0s - loss: 0.064 - ETA: 0s - loss: 0.063 - ETA: 0s - loss: 0.064 - ETA: 0s - loss: 0.065 - ETA: 0s - loss: 0.069 - ETA: 0s - loss: 0.069 - 1s 14ms/step - loss: 0.0682 - val_loss: 0.0589\n",
      "Epoch 271/450\n",
      "50/50 [==============================] - ETA: 0s - loss: 0.059 - ETA: 0s - loss: 0.064 - ETA: 0s - loss: 0.062 - ETA: 0s - loss: 0.062 - ETA: 0s - loss: 0.064 - ETA: 0s - loss: 0.067 - ETA: 0s - loss: 0.070 - ETA: 0s - loss: 0.069 - ETA: 0s - loss: 0.068 - ETA: 0s - loss: 0.067 - 1s 14ms/step - loss: 0.0673 - val_loss: 0.0586\n",
      "Epoch 272/450\n",
      "50/50 [==============================] - ETA: 0s - loss: 0.059 - ETA: 0s - loss: 0.062 - ETA: 0s - loss: 0.068 - ETA: 0s - loss: 0.073 - ETA: 0s - loss: 0.074 - ETA: 0s - loss: 0.072 - ETA: 0s - loss: 0.070 - ETA: 0s - loss: 0.069 - ETA: 0s - loss: 0.068 - ETA: 0s - loss: 0.067 - 1s 14ms/step - loss: 0.0685 - val_loss: 0.0583\n",
      "Epoch 273/450\n",
      "50/50 [==============================] - ETA: 0s - loss: 0.070 - ETA: 0s - loss: 0.087 - ETA: 0s - loss: 0.079 - ETA: 0s - loss: 0.073 - ETA: 0s - loss: 0.071 - ETA: 0s - loss: 0.069 - ETA: 0s - loss: 0.067 - ETA: 0s - loss: 0.066 - ETA: 0s - loss: 0.068 - ETA: 0s - loss: 0.070 - 1s 14ms/step - loss: 0.0707 - val_loss: 0.0580\n",
      "Epoch 274/450\n",
      "50/50 [==============================] - ETA: 0s - loss: 0.060 - ETA: 0s - loss: 0.059 - ETA: 0s - loss: 0.061 - ETA: 0s - loss: 0.060 - ETA: 0s - loss: 0.060 - ETA: 0s - loss: 0.061 - ETA: 0s - loss: 0.063 - ETA: 0s - loss: 0.067 - ETA: 0s - loss: 0.067 - ETA: 0s - loss: 0.066 - 1s 14ms/step - loss: 0.0664 - val_loss: 0.0577\n",
      "Epoch 275/450\n",
      "50/50 [==============================] - ETA: 0s - loss: 0.060 - ETA: 0s - loss: 0.059 - ETA: 0s - loss: 0.060 - ETA: 0s - loss: 0.063 - ETA: 0s - loss: 0.067 - ETA: 0s - loss: 0.070 - ETA: 0s - loss: 0.069 - ETA: 0s - loss: 0.067 - ETA: 0s - loss: 0.067 - ETA: 0s - loss: 0.066 - 1s 14ms/step - loss: 0.0660 - val_loss: 0.0575\n",
      "Epoch 276/450\n",
      "50/50 [==============================] - ETA: 0s - loss: 0.058 - ETA: 0s - loss: 0.072 - ETA: 0s - loss: 0.078 - ETA: 0s - loss: 0.077 - ETA: 0s - loss: 0.073 - ETA: 0s - loss: 0.070 - ETA: 0s - loss: 0.069 - ETA: 0s - loss: 0.067 - ETA: 0s - loss: 0.067 - ETA: 0s - loss: 0.068 - 1s 14ms/step - loss: 0.0698 - val_loss: 0.0572\n",
      "Epoch 277/450\n",
      "50/50 [==============================] - ETA: 0s - loss: 0.095 - ETA: 0s - loss: 0.073 - ETA: 0s - loss: 0.066 - ETA: 0s - loss: 0.065 - ETA: 0s - loss: 0.063 - ETA: 0s - loss: 0.062 - ETA: 0s - loss: 0.062 - ETA: 0s - loss: 0.064 - ETA: 0s - loss: 0.067 - ETA: 0s - loss: 0.067 - 1s 14ms/step - loss: 0.0669 - val_loss: 0.0569\n",
      "Epoch 278/450\n",
      "50/50 [==============================] - ETA: 0s - loss: 0.057 - ETA: 0s - loss: 0.061 - ETA: 0s - loss: 0.060 - ETA: 0s - loss: 0.060 - ETA: 0s - loss: 0.061 - ETA: 0s - loss: 0.063 - ETA: 0s - loss: 0.068 - ETA: 0s - loss: 0.067 - ETA: 0s - loss: 0.066 - ETA: 0s - loss: 0.066 - 1s 14ms/step - loss: 0.0653 - val_loss: 0.0566\n",
      "Epoch 279/450\n",
      "50/50 [==============================] - ETA: 0s - loss: 0.057 - ETA: 0s - loss: 0.060 - ETA: 0s - loss: 0.065 - ETA: 0s - loss: 0.068 - ETA: 0s - loss: 0.072 - ETA: 0s - loss: 0.070 - ETA: 0s - loss: 0.068 - ETA: 0s - loss: 0.067 - ETA: 0s - loss: 0.066 - ETA: 0s - loss: 0.065 - 1s 14ms/step - loss: 0.0661 - val_loss: 0.0564\n",
      "Epoch 280/450\n",
      "50/50 [==============================] - ETA: 0s - loss: 0.080 - ETA: 0s - loss: 0.083 - ETA: 0s - loss: 0.079 - ETA: 0s - loss: 0.072 - ETA: 0s - loss: 0.069 - ETA: 0s - loss: 0.067 - ETA: 0s - loss: 0.066 - ETA: 0s - loss: 0.065 - ETA: 0s - loss: 0.066 - ETA: 0s - loss: 0.068 - 1s 14ms/step - loss: 0.0690 - val_loss: 0.0561\n",
      "Epoch 281/450\n",
      "50/50 [==============================] - ETA: 0s - loss: 0.067 - ETA: 0s - loss: 0.059 - ETA: 0s - loss: 0.060 - ETA: 0s - loss: 0.059 - ETA: 0s - loss: 0.058 - ETA: 0s - loss: 0.059 - ETA: 0s - loss: 0.062 - ETA: 0s - loss: 0.065 - ETA: 0s - loss: 0.065 - ETA: 0s - loss: 0.064 - 1s 14ms/step - loss: 0.0646 - val_loss: 0.0558\n",
      "Epoch 282/450\n",
      "50/50 [==============================] - ETA: 0s - loss: 0.059 - ETA: 0s - loss: 0.057 - ETA: 0s - loss: 0.058 - ETA: 0s - loss: 0.059 - ETA: 0s - loss: 0.063 - ETA: 0s - loss: 0.068 - ETA: 0s - loss: 0.067 - ETA: 0s - loss: 0.066 - ETA: 0s - loss: 0.065 - ETA: 0s - loss: 0.064 - 1s 14ms/step - loss: 0.0641 - val_loss: 0.0555\n",
      "Epoch 283/450\n",
      "50/50 [==============================] - ETA: 0s - loss: 0.059 - ETA: 0s - loss: 0.068 - ETA: 0s - loss: 0.070 - ETA: 0s - loss: 0.074 - ETA: 0s - loss: 0.071 - ETA: 0s - loss: 0.068 - ETA: 0s - loss: 0.067 - ETA: 0s - loss: 0.065 - ETA: 0s - loss: 0.065 - ETA: 0s - loss: 0.066 - 1s 14ms/step - loss: 0.0669 - val_loss: 0.0553\n",
      "Epoch 284/450\n",
      "50/50 [==============================] - ETA: 0s - loss: 0.107 - ETA: 0s - loss: 0.077 - ETA: 0s - loss: 0.069 - ETA: 0s - loss: 0.065 - ETA: 0s - loss: 0.064 - ETA: 0s - loss: 0.062 - ETA: 0s - loss: 0.062 - ETA: 0s - loss: 0.063 - ETA: 0s - loss: 0.066 - ETA: 0s - loss: 0.066 - 1s 14ms/step - loss: 0.0660 - val_loss: 0.0550\n",
      "Epoch 285/450\n",
      "50/50 [==============================] - ETA: 0s - loss: 0.055 - ETA: 0s - loss: 0.059 - ETA: 0s - loss: 0.058 - ETA: 0s - loss: 0.057 - ETA: 0s - loss: 0.058 - ETA: 0s - loss: 0.061 - ETA: 0s - loss: 0.065 - ETA: 0s - loss: 0.065 - ETA: 0s - loss: 0.064 - ETA: 0s - loss: 0.064 - 1s 14ms/step - loss: 0.0634 - val_loss: 0.0547\n",
      "Epoch 286/450\n",
      "50/50 [==============================] - ETA: 0s - loss: 0.055 - ETA: 0s - loss: 0.057 - ETA: 0s - loss: 0.060 - ETA: 0s - loss: 0.063 - ETA: 0s - loss: 0.069 - ETA: 0s - loss: 0.068 - ETA: 0s - loss: 0.066 - ETA: 0s - loss: 0.065 - ETA: 0s - loss: 0.064 - ETA: 0s - loss: 0.063 - 1s 14ms/step - loss: 0.0635 - val_loss: 0.0545\n",
      "Epoch 287/450\n",
      "50/50 [==============================] - ETA: 0s - loss: 0.090 - ETA: 0s - loss: 0.077 - ETA: 0s - loss: 0.079 - ETA: 0s - loss: 0.073 - ETA: 0s - loss: 0.068 - ETA: 0s - loss: 0.067 - ETA: 0s - loss: 0.065 - ETA: 0s - loss: 0.064 - ETA: 0s - loss: 0.065 - ETA: 0s - loss: 0.066 - 1s 14ms/step - loss: 0.0676 - val_loss: 0.0542\n",
      "Epoch 288/450\n",
      "50/50 [==============================] - ETA: 0s - loss: 0.064 - ETA: 0s - loss: 0.058 - ETA: 0s - loss: 0.058 - ETA: 0s - loss: 0.058 - ETA: 0s - loss: 0.057 - ETA: 0s - loss: 0.057 - ETA: 0s - loss: 0.060 - ETA: 0s - loss: 0.063 - ETA: 0s - loss: 0.064 - ETA: 0s - loss: 0.063 - 1s 14ms/step - loss: 0.0627 - val_loss: 0.0539\n",
      "Epoch 289/450\n",
      "50/50 [==============================] - ETA: 0s - loss: 0.063 - ETA: 0s - loss: 0.057 - ETA: 0s - loss: 0.056 - ETA: 0s - loss: 0.057 - ETA: 0s - loss: 0.061 - ETA: 0s - loss: 0.066 - ETA: 0s - loss: 0.065 - ETA: 0s - loss: 0.064 - ETA: 0s - loss: 0.063 - ETA: 0s - loss: 0.062 - 1s 14ms/step - loss: 0.0622 - val_loss: 0.0537\n",
      "Epoch 290/450\n",
      "50/50 [==============================] - ETA: 0s - loss: 0.068 - ETA: 0s - loss: 0.061 - ETA: 0s - loss: 0.065 - ETA: 0s - loss: 0.073 - ETA: 0s - loss: 0.070 - ETA: 0s - loss: 0.067 - ETA: 0s - loss: 0.065 - ETA: 0s - loss: 0.064 - ETA: 0s - loss: 0.063 - ETA: 0s - loss: 0.063 - 1s 14ms/step - loss: 0.0641 - val_loss: 0.0534\n",
      "Epoch 291/450\n",
      "50/50 [==============================] - ETA: 0s - loss: 0.101 - ETA: 0s - loss: 0.083 - ETA: 0s - loss: 0.072 - ETA: 0s - loss: 0.067 - ETA: 0s - loss: 0.065 - ETA: 0s - loss: 0.063 - ETA: 0s - loss: 0.062 - ETA: 0s - loss: 0.063 - ETA: 0s - loss: 0.065 - ETA: 0s - loss: 0.066 - 1s 14ms/step - loss: 0.0654 - val_loss: 0.0532\n",
      "Epoch 292/450\n",
      "50/50 [==============================] - ETA: 0s - loss: 0.053 - ETA: 0s - loss: 0.056 - ETA: 0s - loss: 0.056 - ETA: 0s - loss: 0.055 - ETA: 0s - loss: 0.056 - ETA: 0s - loss: 0.059 - ETA: 0s - loss: 0.063 - ETA: 0s - loss: 0.063 - ETA: 0s - loss: 0.062 - ETA: 0s - loss: 0.062 - 1s 14ms/step - loss: 0.0616 - val_loss: 0.0529\n",
      "Epoch 293/450\n",
      "50/50 [==============================] - ETA: 0s - loss: 0.053 - ETA: 0s - loss: 0.054 - ETA: 0s - loss: 0.055 - ETA: 0s - loss: 0.061 - ETA: 0s - loss: 0.067 - ETA: 0s - loss: 0.066 - ETA: 0s - loss: 0.064 - ETA: 0s - loss: 0.063 - ETA: 0s - loss: 0.062 - ETA: 0s - loss: 0.061 - 1s 14ms/step - loss: 0.0611 - val_loss: 0.0526\n",
      "Epoch 294/450\n",
      "50/50 [==============================] - ETA: 0s - loss: 0.078 - ETA: 0s - loss: 0.071 - ETA: 0s - loss: 0.079 - ETA: 0s - loss: 0.073 - ETA: 0s - loss: 0.068 - ETA: 0s - loss: 0.066 - ETA: 0s - loss: 0.064 - ETA: 0s - loss: 0.063 - ETA: 0s - loss: 0.063 - ETA: 0s - loss: 0.064 - 1s 14ms/step - loss: 0.0661 - val_loss: 0.0524\n",
      "Epoch 295/450\n",
      "50/50 [==============================] - ETA: 0s - loss: 0.063 - ETA: 0s - loss: 0.058 - ETA: 0s - loss: 0.056 - ETA: 0s - loss: 0.056 - ETA: 0s - loss: 0.056 - ETA: 0s - loss: 0.056 - ETA: 0s - loss: 0.058 - ETA: 0s - loss: 0.061 - ETA: 0s - loss: 0.062 - ETA: 0s - loss: 0.061 - 1s 14ms/step - loss: 0.0609 - val_loss: 0.0521\n",
      "Epoch 296/450\n",
      "50/50 [==============================] - ETA: 0s - loss: 0.064 - ETA: 0s - loss: 0.057 - ETA: 0s - loss: 0.055 - ETA: 0s - loss: 0.055 - ETA: 0s - loss: 0.059 - ETA: 0s - loss: 0.064 - ETA: 0s - loss: 0.064 - ETA: 0s - loss: 0.062 - ETA: 0s - loss: 0.062 - ETA: 0s - loss: 0.061 - 1s 14ms/step - loss: 0.0605 - val_loss: 0.0519\n",
      "Epoch 297/450\n",
      "50/50 [==============================] - ETA: 0s - loss: 0.053 - ETA: 0s - loss: 0.055 - ETA: 0s - loss: 0.063 - ETA: 0s - loss: 0.070 - ETA: 0s - loss: 0.068 - ETA: 0s - loss: 0.065 - ETA: 0s - loss: 0.064 - ETA: 0s - loss: 0.062 - ETA: 0s - loss: 0.061 - ETA: 0s - loss: 0.061 - 1s 14ms/step - loss: 0.0621 - val_loss: 0.0516\n",
      "Epoch 298/450\n",
      "50/50 [==============================] - ETA: 0s - loss: 0.061 - ETA: 0s - loss: 0.082 - ETA: 0s - loss: 0.071 - ETA: 0s - loss: 0.065 - ETA: 0s - loss: 0.063 - ETA: 0s - loss: 0.061 - ETA: 0s - loss: 0.060 - ETA: 0s - loss: 0.061 - ETA: 0s - loss: 0.062 - ETA: 0s - loss: 0.064 - 1s 14ms/step - loss: 0.0637 - val_loss: 0.0513\n",
      "Epoch 299/450\n",
      "50/50 [==============================] - ETA: 0s - loss: 0.052 - ETA: 0s - loss: 0.052 - ETA: 0s - loss: 0.054 - ETA: 0s - loss: 0.053 - ETA: 0s - loss: 0.054 - ETA: 0s - loss: 0.057 - ETA: 0s - loss: 0.060 - ETA: 0s - loss: 0.061 - ETA: 0s - loss: 0.060 - ETA: 0s - loss: 0.060 - 1s 14ms/step - loss: 0.0597 - val_loss: 0.0511\n",
      "Epoch 300/450\n",
      "50/50 [==============================] - ETA: 0s - loss: 0.052 - ETA: 0s - loss: 0.052 - ETA: 0s - loss: 0.053 - ETA: 0s - loss: 0.058 - ETA: 0s - loss: 0.064 - ETA: 0s - loss: 0.064 - ETA: 0s - loss: 0.062 - ETA: 0s - loss: 0.061 - ETA: 0s - loss: 0.060 - ETA: 0s - loss: 0.059 - 1s 14ms/step - loss: 0.0593 - val_loss: 0.0508\n",
      "Epoch 301/450\n",
      "50/50 [==============================] - ETA: 0s - loss: 0.053 - ETA: 0s - loss: 0.068 - ETA: 0s - loss: 0.076 - ETA: 0s - loss: 0.071 - ETA: 0s - loss: 0.066 - ETA: 0s - loss: 0.064 - ETA: 0s - loss: 0.062 - ETA: 0s - loss: 0.061 - ETA: 0s - loss: 0.061 - ETA: 0s - loss: 0.061 - 1s 14ms/step - loss: 0.0642 - val_loss: 0.0506\n",
      "Epoch 302/450\n",
      "50/50 [==============================] - ETA: 0s - loss: 0.061 - ETA: 0s - loss: 0.058 - ETA: 0s - loss: 0.055 - ETA: 0s - loss: 0.055 - ETA: 0s - loss: 0.054 - ETA: 0s - loss: 0.054 - ETA: 0s - loss: 0.056 - ETA: 0s - loss: 0.058 - ETA: 0s - loss: 0.060 - ETA: 0s - loss: 0.060 - 1s 14ms/step - loss: 0.0593 - val_loss: 0.0503\n",
      "Epoch 303/450\n",
      "50/50 [==============================] - ETA: 0s - loss: 0.051 - ETA: 0s - loss: 0.055 - ETA: 0s - loss: 0.053 - ETA: 0s - loss: 0.054 - ETA: 0s - loss: 0.057 - ETA: 0s - loss: 0.061 - ETA: 0s - loss: 0.062 - ETA: 0s - loss: 0.061 - ETA: 0s - loss: 0.060 - ETA: 0s - loss: 0.059 - 1s 14ms/step - loss: 0.0587 - val_loss: 0.0501\n",
      "Epoch 304/450\n",
      "50/50 [==============================] - ETA: 0s - loss: 0.051 - ETA: 0s - loss: 0.053 - ETA: 0s - loss: 0.061 - ETA: 0s - loss: 0.067 - ETA: 0s - loss: 0.066 - ETA: 0s - loss: 0.063 - ETA: 0s - loss: 0.062 - ETA: 0s - loss: 0.060 - ETA: 0s - loss: 0.059 - ETA: 0s - loss: 0.059 - 1s 14ms/step - loss: 0.0602 - val_loss: 0.0498\n",
      "Epoch 305/450\n",
      "50/50 [==============================] - ETA: 0s - loss: 0.054 - ETA: 0s - loss: 0.079 - ETA: 0s - loss: 0.070 - ETA: 0s - loss: 0.064 - ETA: 0s - loss: 0.062 - ETA: 0s - loss: 0.060 - ETA: 0s - loss: 0.058 - ETA: 0s - loss: 0.058 - ETA: 0s - loss: 0.059 - ETA: 0s - loss: 0.062 - 1s 14ms/step - loss: 0.0620 - val_loss: 0.0496\n",
      "Epoch 306/450\n",
      "50/50 [==============================] - ETA: 0s - loss: 0.051 - ETA: 0s - loss: 0.050 - ETA: 0s - loss: 0.052 - ETA: 0s - loss: 0.052 - ETA: 0s - loss: 0.052 - ETA: 0s - loss: 0.054 - ETA: 0s - loss: 0.056 - ETA: 0s - loss: 0.059 - ETA: 0s - loss: 0.059 - ETA: 0s - loss: 0.058 - 1s 14ms/step - loss: 0.0580 - val_loss: 0.0493\n",
      "Epoch 307/450\n",
      "50/50 [==============================] - ETA: 0s - loss: 0.052 - ETA: 0s - loss: 0.050 - ETA: 0s - loss: 0.052 - ETA: 0s - loss: 0.056 - ETA: 0s - loss: 0.061 - ETA: 0s - loss: 0.062 - ETA: 0s - loss: 0.060 - ETA: 0s - loss: 0.059 - ETA: 0s - loss: 0.058 - ETA: 0s - loss: 0.057 - 1s 14ms/step - loss: 0.0576 - val_loss: 0.0491\n",
      "Epoch 308/450\n",
      "50/50 [==============================] - ETA: 0s - loss: 0.049 - ETA: 0s - loss: 0.066 - ETA: 0s - loss: 0.072 - ETA: 0s - loss: 0.069 - ETA: 0s - loss: 0.064 - ETA: 0s - loss: 0.062 - ETA: 0s - loss: 0.060 - ETA: 0s - loss: 0.059 - ETA: 0s - loss: 0.058 - ETA: 0s - loss: 0.059 - 1s 14ms/step - loss: 0.0619 - val_loss: 0.0488\n",
      "Epoch 309/450\n",
      "50/50 [==============================] - ETA: 0s - loss: 0.072 - ETA: 0s - loss: 0.060 - ETA: 0s - loss: 0.055 - ETA: 0s - loss: 0.055 - ETA: 0s - loss: 0.054 - ETA: 0s - loss: 0.053 - ETA: 0s - loss: 0.054 - ETA: 0s - loss: 0.055 - ETA: 0s - loss: 0.059 - ETA: 0s - loss: 0.058 - 1s 14ms/step - loss: 0.0580 - val_loss: 0.0486\n",
      "Epoch 310/450\n",
      "50/50 [==============================] - ETA: 0s - loss: 0.049 - ETA: 0s - loss: 0.053 - ETA: 0s - loss: 0.051 - ETA: 0s - loss: 0.052 - ETA: 0s - loss: 0.054 - ETA: 0s - loss: 0.057 - ETA: 0s - loss: 0.060 - ETA: 0s - loss: 0.059 - ETA: 0s - loss: 0.058 - ETA: 0s - loss: 0.057 - 1s 14ms/step - loss: 0.0570 - val_loss: 0.0483\n",
      "Epoch 311/450\n",
      "50/50 [==============================] - ETA: 0s - loss: 0.049 - ETA: 0s - loss: 0.052 - ETA: 0s - loss: 0.058 - ETA: 0s - loss: 0.064 - ETA: 0s - loss: 0.064 - ETA: 0s - loss: 0.061 - ETA: 0s - loss: 0.060 - ETA: 0s - loss: 0.059 - ETA: 0s - loss: 0.057 - ETA: 0s - loss: 0.057 - 1s 14ms/step - loss: 0.0583 - val_loss: 0.0481\n",
      "Epoch 312/450\n",
      "50/50 [==============================] - ETA: 0s - loss: 0.058 - ETA: 0s - loss: 0.075 - ETA: 0s - loss: 0.069 - ETA: 0s - loss: 0.063 - ETA: 0s - loss: 0.060 - ETA: 0s - loss: 0.058 - ETA: 0s - loss: 0.057 - ETA: 0s - loss: 0.056 - ETA: 0s - loss: 0.058 - ETA: 0s - loss: 0.060 - 1s 14ms/step - loss: 0.0605 - val_loss: 0.0478\n",
      "Epoch 313/450\n",
      "50/50 [==============================] - ETA: 0s - loss: 0.049 - ETA: 0s - loss: 0.049 - ETA: 0s - loss: 0.050 - ETA: 0s - loss: 0.050 - ETA: 0s - loss: 0.050 - ETA: 0s - loss: 0.051 - ETA: 0s - loss: 0.053 - ETA: 0s - loss: 0.057 - ETA: 0s - loss: 0.057 - ETA: 0s - loss: 0.056 - 1s 14ms/step - loss: 0.0563 - val_loss: 0.0476\n",
      "Epoch 314/450\n",
      "50/50 [==============================] - ETA: 0s - loss: 0.050 - ETA: 0s - loss: 0.048 - ETA: 0s - loss: 0.049 - ETA: 0s - loss: 0.053 - ETA: 0s - loss: 0.057 - ETA: 0s - loss: 0.060 - ETA: 0s - loss: 0.059 - ETA: 0s - loss: 0.057 - ETA: 0s - loss: 0.057 - ETA: 0s - loss: 0.056 - 1s 14ms/step - loss: 0.0559 - val_loss: 0.0474\n",
      "Epoch 315/450\n",
      "50/50 [==============================] - ETA: 0s - loss: 0.049 - ETA: 0s - loss: 0.062 - ETA: 0s - loss: 0.069 - ETA: 0s - loss: 0.067 - ETA: 0s - loss: 0.063 - ETA: 0s - loss: 0.060 - ETA: 0s - loss: 0.059 - ETA: 0s - loss: 0.057 - ETA: 0s - loss: 0.056 - ETA: 0s - loss: 0.057 - 1s 14ms/step - loss: 0.0598 - val_loss: 0.0471\n",
      "Epoch 316/450\n",
      "50/50 [==============================] - ETA: 0s - loss: 0.075 - ETA: 0s - loss: 0.061 - ETA: 0s - loss: 0.055 - ETA: 0s - loss: 0.054 - ETA: 0s - loss: 0.053 - ETA: 0s - loss: 0.052 - ETA: 0s - loss: 0.052 - ETA: 0s - loss: 0.054 - ETA: 0s - loss: 0.057 - ETA: 0s - loss: 0.057 - 1s 14ms/step - loss: 0.0567 - val_loss: 0.0469\n",
      "Epoch 317/450\n",
      "50/50 [==============================] - ETA: 0s - loss: 0.047 - ETA: 0s - loss: 0.051 - ETA: 0s - loss: 0.050 - ETA: 0s - loss: 0.050 - ETA: 0s - loss: 0.051 - ETA: 0s - loss: 0.053 - ETA: 0s - loss: 0.058 - ETA: 0s - loss: 0.057 - ETA: 0s - loss: 0.056 - ETA: 0s - loss: 0.056 - 1s 14ms/step - loss: 0.0553 - val_loss: 0.0466\n",
      "Epoch 318/450\n",
      "50/50 [==============================] - ETA: 0s - loss: 0.047 - ETA: 0s - loss: 0.050 - ETA: 0s - loss: 0.054 - ETA: 0s - loss: 0.058 - ETA: 0s - loss: 0.062 - ETA: 0s - loss: 0.060 - ETA: 0s - loss: 0.058 - ETA: 0s - loss: 0.057 - ETA: 0s - loss: 0.056 - ETA: 0s - loss: 0.055 - 1s 14ms/step - loss: 0.0562 - val_loss: 0.0464\n",
      "Epoch 319/450\n",
      "50/50 [==============================] - ETA: 0s - loss: 0.065 - ETA: 0s - loss: 0.071 - ETA: 0s - loss: 0.068 - ETA: 0s - loss: 0.062 - ETA: 0s - loss: 0.059 - ETA: 0s - loss: 0.057 - ETA: 0s - loss: 0.056 - ETA: 0s - loss: 0.055 - ETA: 0s - loss: 0.056 - ETA: 0s - loss: 0.058 - 1s 14ms/step - loss: 0.0590 - val_loss: 0.0462\n",
      "Epoch 320/450\n",
      "50/50 [==============================] - ETA: 0s - loss: 0.058 - ETA: 0s - loss: 0.049 - ETA: 0s - loss: 0.049 - ETA: 0s - loss: 0.049 - ETA: 0s - loss: 0.048 - ETA: 0s - loss: 0.049 - ETA: 0s - loss: 0.052 - ETA: 0s - loss: 0.056 - ETA: 0s - loss: 0.055 - ETA: 0s - loss: 0.055 - 1s 15ms/step - loss: 0.0546 - val_loss: 0.0459\n",
      "Epoch 321/450\n",
      "50/50 [==============================] - ETA: 0s - loss: 0.053 - ETA: 0s - loss: 0.048 - ETA: 0s - loss: 0.048 - ETA: 0s - loss: 0.050 - ETA: 0s - loss: 0.053 - ETA: 0s - loss: 0.058 - ETA: 0s - loss: 0.057 - ETA: 0s - loss: 0.056 - ETA: 0s - loss: 0.055 - ETA: 0s - loss: 0.054 - 1s 14ms/step - loss: 0.0543 - val_loss: 0.0457\n",
      "Epoch 322/450\n",
      "50/50 [==============================] - ETA: 0s - loss: 0.051 - ETA: 0s - loss: 0.057 - ETA: 0s - loss: 0.061 - ETA: 0s - loss: 0.065 - ETA: 0s - loss: 0.061 - ETA: 0s - loss: 0.058 - ETA: 0s - loss: 0.057 - ETA: 0s - loss: 0.056 - ETA: 0s - loss: 0.055 - ETA: 0s - loss: 0.056 - 1s 14ms/step - loss: 0.0567 - val_loss: 0.0455\n",
      "Epoch 323/450\n",
      "50/50 [==============================] - ETA: 0s - loss: 0.110 - ETA: 0s - loss: 0.070 - ETA: 0s - loss: 0.060 - ETA: 0s - loss: 0.057 - ETA: 0s - loss: 0.055 - ETA: 0s - loss: 0.053 - ETA: 0s - loss: 0.052 - ETA: 0s - loss: 0.054 - ETA: 0s - loss: 0.057 - ETA: 0s - loss: 0.057 - ETA: 0s - loss: 0.056 - 1s 14ms/step - loss: 0.0566 - val_loss: 0.0452\n",
      "Epoch 324/450\n",
      "50/50 [==============================] - ETA: 0s - loss: 0.045 - ETA: 0s - loss: 0.049 - ETA: 0s - loss: 0.048 - ETA: 0s - loss: 0.047 - ETA: 0s - loss: 0.048 - ETA: 0s - loss: 0.051 - ETA: 0s - loss: 0.056 - ETA: 0s - loss: 0.055 - ETA: 0s - loss: 0.054 - ETA: 0s - loss: 0.054 - 1s 14ms/step - loss: 0.0536 - val_loss: 0.0450\n",
      "Epoch 325/450\n",
      "50/50 [==============================] - ETA: 0s - loss: 0.045 - ETA: 0s - loss: 0.047 - ETA: 0s - loss: 0.050 - ETA: 0s - loss: 0.053 - ETA: 0s - loss: 0.060 - ETA: 0s - loss: 0.058 - ETA: 0s - loss: 0.056 - ETA: 0s - loss: 0.055 - ETA: 0s - loss: 0.054 - ETA: 0s - loss: 0.053 - 1s 14ms/step - loss: 0.0539 - val_loss: 0.0448\n",
      "Epoch 326/450\n",
      "50/50 [==============================] - ETA: 0s - loss: 0.078 - ETA: 0s - loss: 0.064 - ETA: 0s - loss: 0.069 - ETA: 0s - loss: 0.063 - ETA: 0s - loss: 0.059 - ETA: 0s - loss: 0.057 - ETA: 0s - loss: 0.055 - ETA: 0s - loss: 0.054 - ETA: 0s - loss: 0.055 - ETA: 0s - loss: 0.057 - 1s 14ms/step - loss: 0.0579 - val_loss: 0.0445\n",
      "Epoch 327/450\n",
      "50/50 [==============================] - ETA: 0s - loss: 0.055 - ETA: 0s - loss: 0.048 - ETA: 0s - loss: 0.048 - ETA: 0s - loss: 0.048 - ETA: 0s - loss: 0.047 - ETA: 0s - loss: 0.047 - ETA: 0s - loss: 0.050 - ETA: 0s - loss: 0.054 - ETA: 0s - loss: 0.054 - ETA: 0s - loss: 0.053 - 1s 14ms/step - loss: 0.0531 - val_loss: 0.0443\n",
      "Epoch 328/450\n",
      "50/50 [==============================] - ETA: 0s - loss: 0.048 - ETA: 0s - loss: 0.047 - ETA: 0s - loss: 0.046 - ETA: 0s - loss: 0.047 - ETA: 0s - loss: 0.051 - ETA: 0s - loss: 0.056 - ETA: 0s - loss: 0.056 - ETA: 0s - loss: 0.054 - ETA: 0s - loss: 0.054 - ETA: 0s - loss: 0.053 - 1s 14ms/step - loss: 0.0525 - val_loss: 0.0441\n",
      "Epoch 329/450\n",
      "50/50 [==============================] - ETA: 0s - loss: 0.055 - ETA: 0s - loss: 0.053 - ETA: 0s - loss: 0.056 - ETA: 0s - loss: 0.063 - ETA: 0s - loss: 0.060 - ETA: 0s - loss: 0.057 - ETA: 0s - loss: 0.056 - ETA: 0s - loss: 0.054 - ETA: 0s - loss: 0.053 - ETA: 0s - loss: 0.054 - 1s 14ms/step - loss: 0.0545 - val_loss: 0.0438\n",
      "Epoch 330/450\n",
      "50/50 [==============================] - ETA: 0s - loss: 0.098 - ETA: 0s - loss: 0.075 - ETA: 0s - loss: 0.063 - ETA: 0s - loss: 0.057 - ETA: 0s - loss: 0.055 - ETA: 0s - loss: 0.053 - ETA: 0s - loss: 0.052 - ETA: 0s - loss: 0.053 - ETA: 0s - loss: 0.055 - ETA: 0s - loss: 0.056 - 1s 14ms/step - loss: 0.0559 - val_loss: 0.0436\n",
      "Epoch 331/450\n",
      "50/50 [==============================] - ETA: 0s - loss: 0.044 - ETA: 0s - loss: 0.046 - ETA: 0s - loss: 0.046 - ETA: 0s - loss: 0.046 - ETA: 0s - loss: 0.046 - ETA: 0s - loss: 0.049 - ETA: 0s - loss: 0.054 - ETA: 0s - loss: 0.054 - ETA: 0s - loss: 0.053 - ETA: 0s - loss: 0.052 - 1s 14ms/step - loss: 0.0520 - val_loss: 0.0434\n",
      "Epoch 332/450\n",
      "50/50 [==============================] - ETA: 0s - loss: 0.044 - ETA: 0s - loss: 0.044 - ETA: 0s - loss: 0.046 - ETA: 0s - loss: 0.051 - ETA: 0s - loss: 0.057 - ETA: 0s - loss: 0.056 - ETA: 0s - loss: 0.054 - ETA: 0s - loss: 0.054 - ETA: 0s - loss: 0.052 - ETA: 0s - loss: 0.052 - 1s 14ms/step - loss: 0.0517 - val_loss: 0.0432\n",
      "Epoch 333/450\n",
      "50/50 [==============================] - ETA: 0s - loss: 0.075 - ETA: 0s - loss: 0.061 - ETA: 0s - loss: 0.069 - ETA: 0s - loss: 0.063 - ETA: 0s - loss: 0.058 - ETA: 0s - loss: 0.056 - ETA: 0s - loss: 0.054 - ETA: 0s - loss: 0.053 - ETA: 0s - loss: 0.054 - ETA: 0s - loss: 0.055 - 1s 14ms/step - loss: 0.0567 - val_loss: 0.0429\n",
      "Epoch 334/450\n",
      "50/50 [==============================] - ETA: 0s - loss: 0.052 - ETA: 0s - loss: 0.049 - ETA: 0s - loss: 0.046 - ETA: 0s - loss: 0.047 - ETA: 0s - loss: 0.046 - ETA: 0s - loss: 0.046 - ETA: 0s - loss: 0.048 - ETA: 0s - loss: 0.052 - ETA: 0s - loss: 0.052 - ETA: 0s - loss: 0.052 - 1s 14ms/step - loss: 0.0515 - val_loss: 0.0427\n",
      "Epoch 335/450\n",
      "50/50 [==============================] - ETA: 0s - loss: 0.054 - ETA: 0s - loss: 0.048 - ETA: 0s - loss: 0.045 - ETA: 0s - loss: 0.046 - ETA: 0s - loss: 0.050 - ETA: 0s - loss: 0.055 - ETA: 0s - loss: 0.054 - ETA: 0s - loss: 0.053 - ETA: 0s - loss: 0.052 - ETA: 0s - loss: 0.051 - 1s 14ms/step - loss: 0.0511 - val_loss: 0.0425\n",
      "Epoch 336/450\n",
      "50/50 [==============================] - ETA: 0s - loss: 0.045 - ETA: 0s - loss: 0.046 - ETA: 0s - loss: 0.054 - ETA: 0s - loss: 0.060 - ETA: 0s - loss: 0.059 - ETA: 0s - loss: 0.056 - ETA: 0s - loss: 0.054 - ETA: 0s - loss: 0.053 - ETA: 0s - loss: 0.052 - ETA: 0s - loss: 0.052 - 1s 14ms/step - loss: 0.0528 - val_loss: 0.0423\n",
      "Epoch 337/450\n",
      "50/50 [==============================] - ETA: 0s - loss: 0.050 - ETA: 0s - loss: 0.073 - ETA: 0s - loss: 0.062 - ETA: 0s - loss: 0.056 - ETA: 0s - loss: 0.054 - ETA: 0s - loss: 0.052 - ETA: 0s - loss: 0.051 - ETA: 0s - loss: 0.052 - ETA: 0s - loss: 0.052 - ETA: 0s - loss: 0.054 - ETA: 0s - loss: 0.054 - 1s 14ms/step - loss: 0.0544 - val_loss: 0.0420\n",
      "Epoch 338/450\n",
      "50/50 [==============================] - ETA: 0s - loss: 0.043 - ETA: 0s - loss: 0.043 - ETA: 0s - loss: 0.045 - ETA: 0s - loss: 0.044 - ETA: 0s - loss: 0.045 - ETA: 0s - loss: 0.047 - ETA: 0s - loss: 0.049 - ETA: 0s - loss: 0.052 - ETA: 0s - loss: 0.051 - ETA: 0s - loss: 0.050 - ETA: 0s - loss: 0.050 - 1s 15ms/step - loss: 0.0504 - val_loss: 0.0418\n",
      "Epoch 339/450\n",
      "50/50 [==============================] - ETA: 0s - loss: 0.044 - ETA: 0s - loss: 0.042 - ETA: 0s - loss: 0.045 - ETA: 0s - loss: 0.048 - ETA: 0s - loss: 0.051 - ETA: 0s - loss: 0.055 - ETA: 0s - loss: 0.054 - ETA: 0s - loss: 0.052 - ETA: 0s - loss: 0.051 - ETA: 0s - loss: 0.050 - ETA: 0s - loss: 0.050 - 1s 15ms/step - loss: 0.0501 - val_loss: 0.0416\n",
      "Epoch 340/450\n",
      "50/50 [==============================] - ETA: 0s - loss: 0.044 - ETA: 0s - loss: 0.059 - ETA: 0s - loss: 0.066 - ETA: 0s - loss: 0.062 - ETA: 0s - loss: 0.057 - ETA: 0s - loss: 0.055 - ETA: 0s - loss: 0.053 - ETA: 0s - loss: 0.052 - ETA: 0s - loss: 0.051 - ETA: 0s - loss: 0.052 - 1s 14ms/step - loss: 0.0548 - val_loss: 0.0414\n",
      "Epoch 341/450\n",
      "50/50 [==============================] - ETA: 0s - loss: 0.056 - ETA: 0s - loss: 0.050 - ETA: 0s - loss: 0.046 - ETA: 0s - loss: 0.046 - ETA: 0s - loss: 0.045 - ETA: 0s - loss: 0.045 - ETA: 0s - loss: 0.047 - ETA: 0s - loss: 0.049 - ETA: 0s - loss: 0.051 - ETA: 0s - loss: 0.050 - 1s 14ms/step - loss: 0.0502 - val_loss: 0.0412\n",
      "Epoch 342/450\n",
      "50/50 [==============================] - ETA: 0s - loss: 0.042 - ETA: 0s - loss: 0.046 - ETA: 0s - loss: 0.044 - ETA: 0s - loss: 0.044 - ETA: 0s - loss: 0.048 - ETA: 0s - loss: 0.052 - ETA: 0s - loss: 0.053 - ETA: 0s - loss: 0.051 - ETA: 0s - loss: 0.050 - ETA: 0s - loss: 0.050 - 1s 14ms/step - loss: 0.0496 - val_loss: 0.0409\n",
      "Epoch 343/450\n",
      "50/50 [==============================] - ETA: 0s - loss: 0.042 - ETA: 0s - loss: 0.044 - ETA: 0s - loss: 0.051 - ETA: 0s - loss: 0.059 - ETA: 0s - loss: 0.057 - ETA: 0s - loss: 0.054 - ETA: 0s - loss: 0.053 - ETA: 0s - loss: 0.051 - ETA: 0s - loss: 0.050 - ETA: 0s - loss: 0.049 - 1s 14ms/step - loss: 0.0510 - val_loss: 0.0407\n",
      "Epoch 344/450\n",
      "50/50 [==============================] - ETA: 0s - loss: 0.051 - ETA: 0s - loss: 0.071 - ETA: 0s - loss: 0.061 - ETA: 0s - loss: 0.055 - ETA: 0s - loss: 0.053 - ETA: 0s - loss: 0.051 - ETA: 0s - loss: 0.050 - ETA: 0s - loss: 0.049 - ETA: 0s - loss: 0.050 - ETA: 0s - loss: 0.053 - 1s 15ms/step - loss: 0.0531 - val_loss: 0.0405\n",
      "Epoch 345/450\n",
      "50/50 [==============================] - ETA: 0s - loss: 0.042 - ETA: 0s - loss: 0.041 - ETA: 0s - loss: 0.043 - ETA: 0s - loss: 0.043 - ETA: 0s - loss: 0.043 - ETA: 0s - loss: 0.045 - ETA: 0s - loss: 0.048 - ETA: 0s - loss: 0.050 - ETA: 0s - loss: 0.050 - ETA: 0s - loss: 0.049 - 1s 14ms/step - loss: 0.0489 - val_loss: 0.0403\n",
      "Epoch 346/450\n",
      "50/50 [==============================] - ETA: 0s - loss: 0.041 - ETA: 0s - loss: 0.041 - ETA: 0s - loss: 0.042 - ETA: 0s - loss: 0.047 - ETA: 0s - loss: 0.052 - ETA: 0s - loss: 0.053 - ETA: 0s - loss: 0.051 - ETA: 0s - loss: 0.050 - ETA: 0s - loss: 0.049 - ETA: 0s - loss: 0.048 - 1s 14ms/step - loss: 0.0486 - val_loss: 0.0401\n",
      "Epoch 347/450\n",
      "50/50 [==============================] - ETA: 0s - loss: 0.041 - ETA: 0s - loss: 0.057 - ETA: 0s - loss: 0.063 - ETA: 0s - loss: 0.060 - ETA: 0s - loss: 0.055 - ETA: 0s - loss: 0.053 - ETA: 0s - loss: 0.051 - ETA: 0s - loss: 0.050 - ETA: 0s - loss: 0.049 - ETA: 0s - loss: 0.050 - 1s 14ms/step - loss: 0.0530 - val_loss: 0.0399\n",
      "Epoch 348/450\n",
      "50/50 [==============================] - ETA: 0s - loss: 0.054 - ETA: 0s - loss: 0.051 - ETA: 0s - loss: 0.046 - ETA: 0s - loss: 0.046 - ETA: 0s - loss: 0.045 - ETA: 0s - loss: 0.044 - ETA: 0s - loss: 0.045 - ETA: 0s - loss: 0.046 - ETA: 0s - loss: 0.050 - ETA: 0s - loss: 0.049 - 1s 14ms/step - loss: 0.0490 - val_loss: 0.0396\n",
      "Epoch 349/450\n",
      "50/50 [==============================] - ETA: 0s - loss: 0.040 - ETA: 0s - loss: 0.044 - ETA: 0s - loss: 0.042 - ETA: 0s - loss: 0.043 - ETA: 0s - loss: 0.045 - ETA: 0s - loss: 0.048 - ETA: 0s - loss: 0.051 - ETA: 0s - loss: 0.050 - ETA: 0s - loss: 0.049 - ETA: 0s - loss: 0.048 - 1s 14ms/step - loss: 0.0481 - val_loss: 0.0394\n",
      "Epoch 350/450\n",
      "50/50 [==============================] - ETA: 0s - loss: 0.040 - ETA: 0s - loss: 0.043 - ETA: 0s - loss: 0.049 - ETA: 0s - loss: 0.055 - ETA: 0s - loss: 0.055 - ETA: 0s - loss: 0.053 - ETA: 0s - loss: 0.051 - ETA: 0s - loss: 0.050 - ETA: 0s - loss: 0.049 - ETA: 0s - loss: 0.048 - 1s 14ms/step - loss: 0.0494 - val_loss: 0.0392\n",
      "Epoch 351/450\n",
      "50/50 [==============================] - ETA: 0s - loss: 0.048 - ETA: 0s - loss: 0.067 - ETA: 0s - loss: 0.060 - ETA: 0s - loss: 0.054 - ETA: 0s - loss: 0.051 - ETA: 0s - loss: 0.049 - ETA: 0s - loss: 0.048 - ETA: 0s - loss: 0.047 - ETA: 0s - loss: 0.049 - ETA: 0s - loss: 0.051 - 1s 14ms/step - loss: 0.0516 - val_loss: 0.0390\n",
      "Epoch 352/450\n",
      "50/50 [==============================] - ETA: 0s - loss: 0.041 - ETA: 0s - loss: 0.040 - ETA: 0s - loss: 0.042 - ETA: 0s - loss: 0.041 - ETA: 0s - loss: 0.041 - ETA: 0s - loss: 0.042 - ETA: 0s - loss: 0.044 - ETA: 0s - loss: 0.048 - ETA: 0s - loss: 0.048 - ETA: 0s - loss: 0.047 - 1s 14ms/step - loss: 0.0474 - val_loss: 0.0388\n",
      "Epoch 353/450\n",
      "50/50 [==============================] - ETA: 0s - loss: 0.042 - ETA: 0s - loss: 0.040 - ETA: 0s - loss: 0.041 - ETA: 0s - loss: 0.045 - ETA: 0s - loss: 0.048 - ETA: 0s - loss: 0.051 - ETA: 0s - loss: 0.050 - ETA: 0s - loss: 0.049 - ETA: 0s - loss: 0.048 - ETA: 0s - loss: 0.047 - 1s 14ms/step - loss: 0.0472 - val_loss: 0.0386\n",
      "Epoch 354/450\n",
      "50/50 [==============================] - ETA: 0s - loss: 0.041 - ETA: 0s - loss: 0.053 - ETA: 0s - loss: 0.060 - ETA: 0s - loss: 0.058 - ETA: 0s - loss: 0.054 - ETA: 0s - loss: 0.052 - ETA: 0s - loss: 0.050 - ETA: 0s - loss: 0.048 - ETA: 0s - loss: 0.048 - ETA: 0s - loss: 0.049 - 1s 13ms/step - loss: 0.0510 - val_loss: 0.0384\n",
      "Epoch 355/450\n",
      "50/50 [==============================] - ETA: 0s - loss: 0.057 - ETA: 0s - loss: 0.053 - ETA: 0s - loss: 0.047 - ETA: 0s - loss: 0.046 - ETA: 0s - loss: 0.044 - ETA: 0s - loss: 0.043 - ETA: 0s - loss: 0.043 - ETA: 0s - loss: 0.045 - ETA: 0s - loss: 0.048 - ETA: 0s - loss: 0.048 - 1s 14ms/step - loss: 0.0481 - val_loss: 0.0382\n",
      "Epoch 356/450\n",
      "50/50 [==============================] - ETA: 0s - loss: 0.039 - ETA: 0s - loss: 0.043 - ETA: 0s - loss: 0.041 - ETA: 0s - loss: 0.041 - ETA: 0s - loss: 0.042 - ETA: 0s - loss: 0.044 - ETA: 0s - loss: 0.049 - ETA: 0s - loss: 0.048 - ETA: 0s - loss: 0.047 - ETA: 0s - loss: 0.047 - 1s 14ms/step - loss: 0.0466 - val_loss: 0.0380\n",
      "Epoch 357/450\n",
      "50/50 [==============================] - ETA: 0s - loss: 0.038 - ETA: 0s - loss: 0.041 - ETA: 0s - loss: 0.046 - ETA: 0s - loss: 0.050 - ETA: 0s - loss: 0.053 - ETA: 0s - loss: 0.051 - ETA: 0s - loss: 0.049 - ETA: 0s - loss: 0.048 - ETA: 0s - loss: 0.047 - ETA: 0s - loss: 0.046 - 1s 14ms/step - loss: 0.0475 - val_loss: 0.0378\n",
      "Epoch 358/450\n",
      "50/50 [==============================] - ETA: 0s - loss: 0.057 - ETA: 0s - loss: 0.065 - ETA: 0s - loss: 0.060 - ETA: 0s - loss: 0.054 - ETA: 0s - loss: 0.051 - ETA: 0s - loss: 0.049 - ETA: 0s - loss: 0.047 - ETA: 0s - loss: 0.046 - ETA: 0s - loss: 0.048 - ETA: 0s - loss: 0.050 - 1s 14ms/step - loss: 0.0504 - val_loss: 0.0376\n",
      "Epoch 359/450\n",
      "50/50 [==============================] - ETA: 0s - loss: 0.048 - ETA: 0s - loss: 0.040 - ETA: 0s - loss: 0.041 - ETA: 0s - loss: 0.040 - ETA: 0s - loss: 0.040 - ETA: 0s - loss: 0.040 - ETA: 0s - loss: 0.043 - ETA: 0s - loss: 0.047 - ETA: 0s - loss: 0.047 - ETA: 0s - loss: 0.046 - 1s 14ms/step - loss: 0.0462 - val_loss: 0.0373\n",
      "Epoch 360/450\n",
      "50/50 [==============================] - ETA: 0s - loss: 0.039 - ETA: 0s - loss: 0.038 - ETA: 0s - loss: 0.039 - ETA: 0s - loss: 0.041 - ETA: 0s - loss: 0.044 - ETA: 0s - loss: 0.049 - ETA: 0s - loss: 0.049 - ETA: 0s - loss: 0.047 - ETA: 0s - loss: 0.046 - ETA: 0s - loss: 0.046 - 1s 14ms/step - loss: 0.0456 - val_loss: 0.0371\n",
      "Epoch 361/450\n",
      "50/50 [==============================] - ETA: 0s - loss: 0.038 - ETA: 0s - loss: 0.049 - ETA: 0s - loss: 0.053 - ETA: 0s - loss: 0.056 - ETA: 0s - loss: 0.053 - ETA: 0s - loss: 0.050 - ETA: 0s - loss: 0.049 - ETA: 0s - loss: 0.047 - ETA: 0s - loss: 0.046 - ETA: 0s - loss: 0.047 - 1s 14ms/step - loss: 0.0481 - val_loss: 0.0369\n",
      "Epoch 362/450\n",
      "50/50 [==============================] - ETA: 0s - loss: 0.109 - ETA: 0s - loss: 0.063 - ETA: 0s - loss: 0.053 - ETA: 0s - loss: 0.049 - ETA: 0s - loss: 0.046 - ETA: 0s - loss: 0.045 - ETA: 0s - loss: 0.044 - ETA: 0s - loss: 0.046 - ETA: 0s - loss: 0.049 - ETA: 0s - loss: 0.049 - 1s 14ms/step - loss: 0.0482 - val_loss: 0.0367\n",
      "Epoch 363/450\n",
      "50/50 [==============================] - ETA: 0s - loss: 0.037 - ETA: 0s - loss: 0.041 - ETA: 0s - loss: 0.040 - ETA: 0s - loss: 0.039 - ETA: 0s - loss: 0.039 - ETA: 0s - loss: 0.043 - ETA: 0s - loss: 0.047 - ETA: 0s - loss: 0.047 - ETA: 0s - loss: 0.046 - ETA: 0s - loss: 0.045 - 1s 14ms/step - loss: 0.0452 - val_loss: 0.0365\n",
      "Epoch 364/450\n",
      "50/50 [==============================] - ETA: 0s - loss: 0.036 - ETA: 0s - loss: 0.039 - ETA: 0s - loss: 0.041 - ETA: 0s - loss: 0.045 - ETA: 0s - loss: 0.051 - ETA: 0s - loss: 0.050 - ETA: 0s - loss: 0.048 - ETA: 0s - loss: 0.047 - ETA: 0s - loss: 0.046 - ETA: 0s - loss: 0.045 - ETA: 0s - loss: 0.045 - 1s 15ms/step - loss: 0.0454 - val_loss: 0.0363\n",
      "Epoch 365/450\n",
      "50/50 [==============================] - ETA: 0s - loss: 0.072 - ETA: 0s - loss: 0.058 - ETA: 0s - loss: 0.060 - ETA: 0s - loss: 0.055 - ETA: 0s - loss: 0.050 - ETA: 0s - loss: 0.049 - ETA: 0s - loss: 0.047 - ETA: 0s - loss: 0.046 - ETA: 0s - loss: 0.047 - ETA: 0s - loss: 0.048 - 1s 14ms/step - loss: 0.0495 - val_loss: 0.0361\n",
      "Epoch 366/450\n",
      "50/50 [==============================] - ETA: 0s - loss: 0.047 - ETA: 0s - loss: 0.040 - ETA: 0s - loss: 0.039 - ETA: 0s - loss: 0.040 - ETA: 0s - loss: 0.039 - ETA: 0s - loss: 0.039 - ETA: 0s - loss: 0.042 - ETA: 0s - loss: 0.046 - ETA: 0s - loss: 0.046 - ETA: 0s - loss: 0.045 - 1s 14ms/step - loss: 0.0447 - val_loss: 0.0359\n",
      "Epoch 367/450\n",
      "50/50 [==============================] - ETA: 0s - loss: 0.049 - ETA: 0s - loss: 0.039 - ETA: 0s - loss: 0.038 - ETA: 0s - loss: 0.039 - ETA: 0s - loss: 0.043 - ETA: 0s - loss: 0.048 - ETA: 0s - loss: 0.047 - ETA: 0s - loss: 0.046 - ETA: 0s - loss: 0.045 - ETA: 0s - loss: 0.044 - 1s 14ms/step - loss: 0.0442 - val_loss: 0.0357\n",
      "Epoch 368/450\n",
      "50/50 [==============================] - ETA: 0s - loss: 0.048 - ETA: 0s - loss: 0.044 - ETA: 0s - loss: 0.047 - ETA: 0s - loss: 0.055 - ETA: 0s - loss: 0.052 - ETA: 0s - loss: 0.049 - ETA: 0s - loss: 0.048 - ETA: 0s - loss: 0.046 - ETA: 0s - loss: 0.045 - ETA: 0s - loss: 0.045 - 1s 14ms/step - loss: 0.0461 - val_loss: 0.0355\n",
      "Epoch 369/450\n",
      "50/50 [==============================] - ETA: 0s - loss: 0.086 - ETA: 0s - loss: 0.066 - ETA: 0s - loss: 0.055 - ETA: 0s - loss: 0.049 - ETA: 0s - loss: 0.047 - ETA: 0s - loss: 0.045 - ETA: 0s - loss: 0.044 - ETA: 0s - loss: 0.045 - ETA: 0s - loss: 0.047 - ETA: 0s - loss: 0.048 - 1s 14ms/step - loss: 0.0476 - val_loss: 0.0353\n",
      "Epoch 370/450\n",
      "50/50 [==============================] - ETA: 0s - loss: 0.035 - ETA: 0s - loss: 0.038 - ETA: 0s - loss: 0.038 - ETA: 0s - loss: 0.037 - ETA: 0s - loss: 0.038 - ETA: 0s - loss: 0.041 - ETA: 0s - loss: 0.045 - ETA: 0s - loss: 0.046 - ETA: 0s - loss: 0.044 - ETA: 0s - loss: 0.044 - 1s 14ms/step - loss: 0.0438 - val_loss: 0.0352\n",
      "Epoch 371/450\n",
      "50/50 [==============================] - ETA: 0s - loss: 0.035 - ETA: 0s - loss: 0.036 - ETA: 0s - loss: 0.037 - ETA: 0s - loss: 0.043 - ETA: 0s - loss: 0.049 - ETA: 0s - loss: 0.048 - ETA: 0s - loss: 0.046 - ETA: 0s - loss: 0.045 - ETA: 0s - loss: 0.044 - ETA: 0s - loss: 0.043 - 1s 14ms/step - loss: 0.0435 - val_loss: 0.0350\n",
      "Epoch 372/450\n",
      "50/50 [==============================] - ETA: 0s - loss: 0.060 - ETA: 0s - loss: 0.053 - ETA: 0s - loss: 0.061 - ETA: 0s - loss: 0.055 - ETA: 0s - loss: 0.050 - ETA: 0s - loss: 0.048 - ETA: 0s - loss: 0.046 - ETA: 0s - loss: 0.045 - ETA: 0s - loss: 0.046 - ETA: 0s - loss: 0.046 - 1s 14ms/step - loss: 0.0484 - val_loss: 0.0348\n",
      "Epoch 373/450\n",
      "50/50 [==============================] - ETA: 0s - loss: 0.046 - ETA: 0s - loss: 0.041 - ETA: 0s - loss: 0.038 - ETA: 0s - loss: 0.039 - ETA: 0s - loss: 0.038 - ETA: 0s - loss: 0.038 - ETA: 0s - loss: 0.040 - ETA: 0s - loss: 0.044 - ETA: 0s - loss: 0.044 - ETA: 0s - loss: 0.044 - 1s 14ms/step - loss: 0.0434 - val_loss: 0.0346\n",
      "Epoch 374/450\n",
      "50/50 [==============================] - ETA: 0s - loss: 0.044 - ETA: 0s - loss: 0.039 - ETA: 0s - loss: 0.037 - ETA: 0s - loss: 0.038 - ETA: 0s - loss: 0.041 - ETA: 0s - loss: 0.046 - ETA: 0s - loss: 0.046 - ETA: 0s - loss: 0.045 - ETA: 0s - loss: 0.044 - ETA: 0s - loss: 0.043 - 1s 14ms/step - loss: 0.0430 - val_loss: 0.0344\n",
      "Epoch 375/450\n",
      "50/50 [==============================] - ETA: 0s - loss: 0.036 - ETA: 0s - loss: 0.039 - ETA: 0s - loss: 0.046 - ETA: 0s - loss: 0.053 - ETA: 0s - loss: 0.050 - ETA: 0s - loss: 0.047 - ETA: 0s - loss: 0.046 - ETA: 0s - loss: 0.045 - ETA: 0s - loss: 0.044 - ETA: 0s - loss: 0.043 - 1s 14ms/step - loss: 0.0446 - val_loss: 0.0342\n",
      "Epoch 376/450\n",
      "50/50 [==============================] - ETA: 0s - loss: 0.042 - ETA: 0s - loss: 0.065 - ETA: 0s - loss: 0.054 - ETA: 0s - loss: 0.048 - ETA: 0s - loss: 0.046 - ETA: 0s - loss: 0.044 - ETA: 0s - loss: 0.043 - ETA: 0s - loss: 0.044 - ETA: 0s - loss: 0.045 - ETA: 0s - loss: 0.046 - 1s 14ms/step - loss: 0.0464 - val_loss: 0.0340\n",
      "Epoch 377/450\n",
      "50/50 [==============================] - ETA: 0s - loss: 0.035 - ETA: 0s - loss: 0.035 - ETA: 0s - loss: 0.037 - ETA: 0s - loss: 0.036 - ETA: 0s - loss: 0.036 - ETA: 0s - loss: 0.039 - ETA: 0s - loss: 0.043 - ETA: 0s - loss: 0.044 - ETA: 0s - loss: 0.043 - ETA: 0s - loss: 0.042 - 1s 14ms/step - loss: 0.0424 - val_loss: 0.0338\n",
      "Epoch 378/450\n",
      "50/50 [==============================] - ETA: 0s - loss: 0.035 - ETA: 0s - loss: 0.034 - ETA: 0s - loss: 0.036 - ETA: 0s - loss: 0.041 - ETA: 0s - loss: 0.047 - ETA: 0s - loss: 0.047 - ETA: 0s - loss: 0.045 - ETA: 0s - loss: 0.044 - ETA: 0s - loss: 0.043 - ETA: 0s - loss: 0.042 - 1s 14ms/step - loss: 0.0421 - val_loss: 0.0336\n",
      "Epoch 379/450\n",
      "50/50 [==============================] - ETA: 0s - loss: 0.036 - ETA: 0s - loss: 0.051 - ETA: 0s - loss: 0.059 - ETA: 0s - loss: 0.054 - ETA: 0s - loss: 0.049 - ETA: 0s - loss: 0.047 - ETA: 0s - loss: 0.045 - ETA: 0s - loss: 0.044 - ETA: 0s - loss: 0.043 - ETA: 0s - loss: 0.044 - 1s 14ms/step - loss: 0.0470 - val_loss: 0.0334\n",
      "Epoch 380/450\n",
      "50/50 [==============================] - ETA: 0s - loss: 0.045 - ETA: 0s - loss: 0.041 - ETA: 0s - loss: 0.038 - ETA: 0s - loss: 0.038 - ETA: 0s - loss: 0.037 - ETA: 0s - loss: 0.037 - ETA: 0s - loss: 0.038 - ETA: 0s - loss: 0.039 - ETA: 0s - loss: 0.043 - ETA: 0s - loss: 0.043 - ETA: 0s - loss: 0.042 - 1s 15ms/step - loss: 0.0422 - val_loss: 0.0332\n",
      "Epoch 381/450\n",
      "50/50 [==============================] - ETA: 0s - loss: 0.034 - ETA: 0s - loss: 0.038 - ETA: 0s - loss: 0.036 - ETA: 0s - loss: 0.036 - ETA: 0s - loss: 0.040 - ETA: 0s - loss: 0.044 - ETA: 0s - loss: 0.045 - ETA: 0s - loss: 0.044 - ETA: 0s - loss: 0.043 - ETA: 0s - loss: 0.042 - ETA: 0s - loss: 0.042 - 1s 16ms/step - loss: 0.0417 - val_loss: 0.0330\n",
      "Epoch 382/450\n",
      "50/50 [==============================] - ETA: 0s - loss: 0.034 - ETA: 0s - loss: 0.037 - ETA: 0s - loss: 0.044 - ETA: 0s - loss: 0.050 - ETA: 0s - loss: 0.049 - ETA: 0s - loss: 0.046 - ETA: 0s - loss: 0.045 - ETA: 0s - loss: 0.043 - ETA: 0s - loss: 0.042 - ETA: 0s - loss: 0.042 - 1s 14ms/step - loss: 0.0433 - val_loss: 0.0329\n",
      "Epoch 383/450\n",
      "50/50 [==============================] - ETA: 0s - loss: 0.038 - ETA: 0s - loss: 0.062 - ETA: 0s - loss: 0.053 - ETA: 0s - loss: 0.047 - ETA: 0s - loss: 0.045 - ETA: 0s - loss: 0.043 - ETA: 0s - loss: 0.041 - ETA: 0s - loss: 0.041 - ETA: 0s - loss: 0.042 - ETA: 0s - loss: 0.045 - 1s 14ms/step - loss: 0.0451 - val_loss: 0.0327\n",
      "Epoch 384/450\n",
      "50/50 [==============================] - ETA: 0s - loss: 0.034 - ETA: 0s - loss: 0.033 - ETA: 0s - loss: 0.036 - ETA: 0s - loss: 0.035 - ETA: 0s - loss: 0.035 - ETA: 0s - loss: 0.037 - ETA: 0s - loss: 0.039 - ETA: 0s - loss: 0.042 - ETA: 0s - loss: 0.042 - ETA: 0s - loss: 0.041 - 1s 14ms/step - loss: 0.0411 - val_loss: 0.0325\n",
      "Epoch 385/450\n",
      "50/50 [==============================] - ETA: 0s - loss: 0.035 - ETA: 0s - loss: 0.033 - ETA: 0s - loss: 0.035 - ETA: 0s - loss: 0.039 - ETA: 0s - loss: 0.044 - ETA: 0s - loss: 0.045 - ETA: 0s - loss: 0.044 - ETA: 0s - loss: 0.042 - ETA: 0s - loss: 0.042 - ETA: 0s - loss: 0.041 - ETA: 0s - loss: 0.041 - 1s 15ms/step - loss: 0.0408 - val_loss: 0.0323\n",
      "Epoch 386/450\n",
      "50/50 [==============================] - ETA: 0s - loss: 0.032 - ETA: 0s - loss: 0.048 - ETA: 0s - loss: 0.056 - ETA: 0s - loss: 0.053 - ETA: 0s - loss: 0.048 - ETA: 0s - loss: 0.046 - ETA: 0s - loss: 0.044 - ETA: 0s - loss: 0.042 - ETA: 0s - loss: 0.042 - ETA: 0s - loss: 0.043 - ETA: 0s - loss: 0.044 - 1s 15ms/step - loss: 0.0452 - val_loss: 0.0321\n",
      "Epoch 387/450\n",
      "50/50 [==============================] - ETA: 0s - loss: 0.056 - ETA: 0s - loss: 0.045 - ETA: 0s - loss: 0.039 - ETA: 0s - loss: 0.038 - ETA: 0s - loss: 0.037 - ETA: 0s - loss: 0.036 - ETA: 0s - loss: 0.036 - ETA: 0s - loss: 0.038 - ETA: 0s - loss: 0.042 - ETA: 0s - loss: 0.042 - ETA: 0s - loss: 0.041 - 1s 15ms/step - loss: 0.0413 - val_loss: 0.0319\n",
      "Epoch 388/450\n",
      "50/50 [==============================] - ETA: 0s - loss: 0.032 - ETA: 0s - loss: 0.037 - ETA: 0s - loss: 0.035 - ETA: 0s - loss: 0.035 - ETA: 0s - loss: 0.038 - ETA: 0s - loss: 0.040 - ETA: 0s - loss: 0.043 - ETA: 0s - loss: 0.042 - ETA: 0s - loss: 0.041 - ETA: 0s - loss: 0.041 - 1s 14ms/step - loss: 0.0404 - val_loss: 0.0318\n",
      "Epoch 389/450\n",
      "50/50 [==============================] - ETA: 0s - loss: 0.033 - ETA: 0s - loss: 0.035 - ETA: 0s - loss: 0.042 - ETA: 0s - loss: 0.046 - ETA: 0s - loss: 0.047 - ETA: 0s - loss: 0.045 - ETA: 0s - loss: 0.043 - ETA: 0s - loss: 0.042 - ETA: 0s - loss: 0.041 - ETA: 0s - loss: 0.040 - 1s 14ms/step - loss: 0.0418 - val_loss: 0.0316\n",
      "Epoch 390/450\n",
      "50/50 [==============================] - ETA: 0s - loss: 0.041 - ETA: 0s - loss: 0.059 - ETA: 0s - loss: 0.053 - ETA: 0s - loss: 0.046 - ETA: 0s - loss: 0.044 - ETA: 0s - loss: 0.042 - ETA: 0s - loss: 0.040 - ETA: 0s - loss: 0.040 - ETA: 0s - loss: 0.041 - ETA: 0s - loss: 0.044 - 1s 14ms/step - loss: 0.0440 - val_loss: 0.0314\n",
      "Epoch 391/450\n",
      "50/50 [==============================] - ETA: 0s - loss: 0.033 - ETA: 0s - loss: 0.032 - ETA: 0s - loss: 0.034 - ETA: 0s - loss: 0.034 - ETA: 0s - loss: 0.034 - ETA: 0s - loss: 0.035 - ETA: 0s - loss: 0.037 - ETA: 0s - loss: 0.041 - ETA: 0s - loss: 0.041 - ETA: 0s - loss: 0.040 - 1s 14ms/step - loss: 0.0398 - val_loss: 0.0312\n",
      "Epoch 392/450\n",
      "50/50 [==============================] - ETA: 0s - loss: 0.034 - ETA: 0s - loss: 0.032 - ETA: 0s - loss: 0.033 - ETA: 0s - loss: 0.037 - ETA: 0s - loss: 0.040 - ETA: 0s - loss: 0.044 - ETA: 0s - loss: 0.042 - ETA: 0s - loss: 0.041 - ETA: 0s - loss: 0.040 - ETA: 0s - loss: 0.039 - 1s 14ms/step - loss: 0.0395 - val_loss: 0.0310\n",
      "Epoch 393/450\n",
      "50/50 [==============================] - ETA: 0s - loss: 0.036 - ETA: 0s - loss: 0.046 - ETA: 0s - loss: 0.052 - ETA: 0s - loss: 0.050 - ETA: 0s - loss: 0.046 - ETA: 0s - loss: 0.044 - ETA: 0s - loss: 0.042 - ETA: 0s - loss: 0.041 - ETA: 0s - loss: 0.040 - ETA: 0s - loss: 0.041 - 1s 14ms/step - loss: 0.0432 - val_loss: 0.0309\n",
      "Epoch 394/450\n",
      "50/50 [==============================] - ETA: 0s - loss: 0.076 - ETA: 0s - loss: 0.049 - ETA: 0s - loss: 0.041 - ETA: 0s - loss: 0.039 - ETA: 0s - loss: 0.038 - ETA: 0s - loss: 0.036 - ETA: 0s - loss: 0.036 - ETA: 0s - loss: 0.038 - ETA: 0s - loss: 0.041 - ETA: 0s - loss: 0.041 - 1s 14ms/step - loss: 0.0409 - val_loss: 0.0307\n",
      "Epoch 395/450\n",
      "50/50 [==============================] - ETA: 0s - loss: 0.031 - ETA: 0s - loss: 0.035 - ETA: 0s - loss: 0.033 - ETA: 0s - loss: 0.033 - ETA: 0s - loss: 0.034 - ETA: 0s - loss: 0.037 - ETA: 0s - loss: 0.042 - ETA: 0s - loss: 0.041 - ETA: 0s - loss: 0.040 - ETA: 0s - loss: 0.039 - 1s 14ms/step - loss: 0.0391 - val_loss: 0.0305\n",
      "Epoch 396/450\n",
      "50/50 [==============================] - ETA: 0s - loss: 0.031 - ETA: 0s - loss: 0.034 - ETA: 0s - loss: 0.038 - ETA: 0s - loss: 0.041 - ETA: 0s - loss: 0.046 - ETA: 0s - loss: 0.044 - ETA: 0s - loss: 0.042 - ETA: 0s - loss: 0.041 - ETA: 0s - loss: 0.040 - ETA: 0s - loss: 0.039 - 1s 14ms/step - loss: 0.0402 - val_loss: 0.0303\n",
      "Epoch 397/450\n",
      "50/50 [==============================] - ETA: 0s - loss: 0.047 - ETA: 0s - loss: 0.055 - ETA: 0s - loss: 0.052 - ETA: 0s - loss: 0.046 - ETA: 0s - loss: 0.043 - ETA: 0s - loss: 0.041 - ETA: 0s - loss: 0.039 - ETA: 0s - loss: 0.039 - ETA: 0s - loss: 0.040 - ETA: 0s - loss: 0.042 - 1s 14ms/step - loss: 0.0429 - val_loss: 0.0302\n",
      "Epoch 398/450\n",
      "50/50 [==============================] - ETA: 0s - loss: 0.040 - ETA: 0s - loss: 0.032 - ETA: 0s - loss: 0.034 - ETA: 0s - loss: 0.033 - ETA: 0s - loss: 0.032 - ETA: 0s - loss: 0.033 - ETA: 0s - loss: 0.036 - ETA: 0s - loss: 0.039 - ETA: 0s - loss: 0.039 - ETA: 0s - loss: 0.038 - 1s 14ms/step - loss: 0.0387 - val_loss: 0.0300\n",
      "Epoch 399/450\n",
      "50/50 [==============================] - ETA: 0s - loss: 0.034 - ETA: 0s - loss: 0.032 - ETA: 0s - loss: 0.032 - ETA: 0s - loss: 0.034 - ETA: 0s - loss: 0.037 - ETA: 0s - loss: 0.042 - ETA: 0s - loss: 0.041 - ETA: 0s - loss: 0.040 - ETA: 0s - loss: 0.039 - ETA: 0s - loss: 0.038 - 1s 14ms/step - loss: 0.0383 - val_loss: 0.0298\n",
      "Epoch 400/450\n",
      "50/50 [==============================] - ETA: 0s - loss: 0.035 - ETA: 0s - loss: 0.042 - ETA: 0s - loss: 0.046 - ETA: 0s - loss: 0.049 - ETA: 0s - loss: 0.045 - ETA: 0s - loss: 0.043 - ETA: 0s - loss: 0.041 - ETA: 0s - loss: 0.040 - ETA: 0s - loss: 0.039 - ETA: 0s - loss: 0.040 - 1s 14ms/step - loss: 0.0413 - val_loss: 0.0296\n",
      "Epoch 401/450\n",
      "50/50 [==============================] - ETA: 0s - loss: 0.089 - ETA: 0s - loss: 0.052 - ETA: 0s - loss: 0.043 - ETA: 0s - loss: 0.040 - ETA: 0s - loss: 0.038 - ETA: 0s - loss: 0.037 - ETA: 0s - loss: 0.036 - ETA: 0s - loss: 0.038 - ETA: 0s - loss: 0.041 - ETA: 0s - loss: 0.041 - 1s 14ms/step - loss: 0.0404 - val_loss: 0.0295\n",
      "Epoch 402/450\n",
      "50/50 [==============================] - ETA: 0s - loss: 0.030 - ETA: 0s - loss: 0.033 - ETA: 0s - loss: 0.032 - ETA: 0s - loss: 0.032 - ETA: 0s - loss: 0.032 - ETA: 0s - loss: 0.035 - ETA: 0s - loss: 0.040 - ETA: 0s - loss: 0.040 - ETA: 0s - loss: 0.039 - ETA: 0s - loss: 0.038 - 1s 14ms/step - loss: 0.0379 - val_loss: 0.0293\n",
      "Epoch 403/450\n",
      "50/50 [==============================] - ETA: 0s - loss: 0.029 - ETA: 0s - loss: 0.032 - ETA: 0s - loss: 0.034 - ETA: 0s - loss: 0.038 - ETA: 0s - loss: 0.044 - ETA: 0s - loss: 0.042 - ETA: 0s - loss: 0.040 - ETA: 0s - loss: 0.040 - ETA: 0s - loss: 0.038 - ETA: 0s - loss: 0.038 - 1s 14ms/step - loss: 0.0382 - val_loss: 0.0291\n",
      "Epoch 404/450\n",
      "50/50 [==============================] - ETA: 0s - loss: 0.064 - ETA: 0s - loss: 0.050 - ETA: 0s - loss: 0.053 - ETA: 0s - loss: 0.047 - ETA: 0s - loss: 0.043 - ETA: 0s - loss: 0.041 - ETA: 0s - loss: 0.039 - ETA: 0s - loss: 0.039 - ETA: 0s - loss: 0.039 - ETA: 0s - loss: 0.041 - 1s 14ms/step - loss: 0.0422 - val_loss: 0.0289\n",
      "Epoch 405/450\n",
      "50/50 [==============================] - ETA: 0s - loss: 0.038 - ETA: 0s - loss: 0.033 - ETA: 0s - loss: 0.032 - ETA: 0s - loss: 0.032 - ETA: 0s - loss: 0.032 - ETA: 0s - loss: 0.032 - ETA: 0s - loss: 0.035 - ETA: 0s - loss: 0.038 - ETA: 0s - loss: 0.038 - ETA: 0s - loss: 0.038 - 1s 14ms/step - loss: 0.0376 - val_loss: 0.0288\n",
      "Epoch 406/450\n",
      "50/50 [==============================] - ETA: 0s - loss: 0.037 - ETA: 0s - loss: 0.031 - ETA: 0s - loss: 0.030 - ETA: 0s - loss: 0.031 - ETA: 0s - loss: 0.035 - ETA: 0s - loss: 0.041 - ETA: 0s - loss: 0.040 - ETA: 0s - loss: 0.039 - ETA: 0s - loss: 0.038 - ETA: 0s - loss: 0.037 - 1s 14ms/step - loss: 0.0369 - val_loss: 0.0286\n",
      "Epoch 407/450\n",
      "50/50 [==============================] - ETA: 0s - loss: 0.040 - ETA: 0s - loss: 0.036 - ETA: 0s - loss: 0.041 - ETA: 0s - loss: 0.048 - ETA: 0s - loss: 0.045 - ETA: 0s - loss: 0.042 - ETA: 0s - loss: 0.040 - ETA: 0s - loss: 0.039 - ETA: 0s - loss: 0.038 - ETA: 0s - loss: 0.038 - 1s 14ms/step - loss: 0.0391 - val_loss: 0.0284\n",
      "Epoch 408/450\n",
      "50/50 [==============================] - ETA: 0s - loss: 0.069 - ETA: 0s - loss: 0.059 - ETA: 0s - loss: 0.047 - ETA: 0s - loss: 0.042 - ETA: 0s - loss: 0.040 - ETA: 0s - loss: 0.038 - ETA: 0s - loss: 0.037 - ETA: 0s - loss: 0.038 - ETA: 0s - loss: 0.040 - ETA: 0s - loss: 0.041 - 1s 14ms/step - loss: 0.0404 - val_loss: 0.0283\n",
      "Epoch 409/450\n",
      "50/50 [==============================] - ETA: 0s - loss: 0.028 - ETA: 0s - loss: 0.031 - ETA: 0s - loss: 0.031 - ETA: 0s - loss: 0.030 - ETA: 0s - loss: 0.031 - ETA: 0s - loss: 0.034 - ETA: 0s - loss: 0.038 - ETA: 0s - loss: 0.038 - ETA: 0s - loss: 0.037 - ETA: 0s - loss: 0.037 - 1s 14ms/step - loss: 0.0367 - val_loss: 0.0281\n",
      "Epoch 410/450\n",
      "50/50 [==============================] - ETA: 0s - loss: 0.028 - ETA: 0s - loss: 0.029 - ETA: 0s - loss: 0.030 - ETA: 0s - loss: 0.036 - ETA: 0s - loss: 0.042 - ETA: 0s - loss: 0.041 - ETA: 0s - loss: 0.039 - ETA: 0s - loss: 0.038 - ETA: 0s - loss: 0.037 - ETA: 0s - loss: 0.036 - 1s 14ms/step - loss: 0.0364 - val_loss: 0.0279\n",
      "Epoch 411/450\n",
      "50/50 [==============================] - ETA: 0s - loss: 0.052 - ETA: 0s - loss: 0.046 - ETA: 0s - loss: 0.054 - ETA: 0s - loss: 0.048 - ETA: 0s - loss: 0.043 - ETA: 0s - loss: 0.041 - ETA: 0s - loss: 0.039 - ETA: 0s - loss: 0.038 - ETA: 0s - loss: 0.038 - ETA: 0s - loss: 0.039 - 1s 14ms/step - loss: 0.0415 - val_loss: 0.0278\n",
      "Epoch 412/450\n",
      "50/50 [==============================] - ETA: 0s - loss: 0.037 - ETA: 0s - loss: 0.033 - ETA: 0s - loss: 0.031 - ETA: 0s - loss: 0.032 - ETA: 0s - loss: 0.031 - ETA: 0s - loss: 0.031 - ETA: 0s - loss: 0.033 - ETA: 0s - loss: 0.036 - ETA: 0s - loss: 0.037 - ETA: 0s - loss: 0.037 - 1s 14ms/step - loss: 0.0363 - val_loss: 0.0276\n",
      "Epoch 413/450\n",
      "50/50 [==============================] - ETA: 0s - loss: 0.038 - ETA: 0s - loss: 0.032 - ETA: 0s - loss: 0.030 - ETA: 0s - loss: 0.031 - ETA: 0s - loss: 0.035 - ETA: 0s - loss: 0.039 - ETA: 0s - loss: 0.039 - ETA: 0s - loss: 0.038 - ETA: 0s - loss: 0.037 - ETA: 0s - loss: 0.036 - 1s 14ms/step - loss: 0.0361 - val_loss: 0.0274\n",
      "Epoch 414/450\n",
      "50/50 [==============================] - ETA: 0s - loss: 0.030 - ETA: 0s - loss: 0.031 - ETA: 0s - loss: 0.039 - ETA: 0s - loss: 0.045 - ETA: 0s - loss: 0.044 - ETA: 0s - loss: 0.041 - ETA: 0s - loss: 0.039 - ETA: 0s - loss: 0.038 - ETA: 0s - loss: 0.037 - ETA: 0s - loss: 0.037 - 1s 14ms/step - loss: 0.0377 - val_loss: 0.0273\n",
      "Epoch 415/450\n",
      "50/50 [==============================] - ETA: 0s - loss: 0.037 - ETA: 0s - loss: 0.058 - ETA: 0s - loss: 0.047 - ETA: 0s - loss: 0.041 - ETA: 0s - loss: 0.039 - ETA: 0s - loss: 0.037 - ETA: 0s - loss: 0.036 - ETA: 0s - loss: 0.037 - ETA: 0s - loss: 0.038 - ETA: 0s - loss: 0.040 - 1s 14ms/step - loss: 0.0395 - val_loss: 0.0271\n",
      "Epoch 416/450\n",
      "50/50 [==============================] - ETA: 0s - loss: 0.028 - ETA: 0s - loss: 0.028 - ETA: 0s - loss: 0.030 - ETA: 0s - loss: 0.029 - ETA: 0s - loss: 0.030 - ETA: 0s - loss: 0.032 - ETA: 0s - loss: 0.036 - ETA: 0s - loss: 0.037 - ETA: 0s - loss: 0.036 - ETA: 0s - loss: 0.035 - 1s 14ms/step - loss: 0.0356 - val_loss: 0.0270\n",
      "Epoch 417/450\n",
      "50/50 [==============================] - ETA: 0s - loss: 0.028 - ETA: 0s - loss: 0.027 - ETA: 0s - loss: 0.029 - ETA: 0s - loss: 0.035 - ETA: 0s - loss: 0.040 - ETA: 0s - loss: 0.040 - ETA: 0s - loss: 0.038 - ETA: 0s - loss: 0.037 - ETA: 0s - loss: 0.036 - ETA: 0s - loss: 0.035 - 1s 14ms/step - loss: 0.0353 - val_loss: 0.0268\n",
      "Epoch 418/450\n",
      "50/50 [==============================] - ETA: 0s - loss: 0.030 - ETA: 0s - loss: 0.044 - ETA: 0s - loss: 0.051 - ETA: 0s - loss: 0.047 - ETA: 0s - loss: 0.042 - ETA: 0s - loss: 0.040 - ETA: 0s - loss: 0.038 - ETA: 0s - loss: 0.037 - ETA: 0s - loss: 0.037 - ETA: 0s - loss: 0.037 - 1s 14ms/step - loss: 0.0401 - val_loss: 0.0266\n",
      "Epoch 419/450\n",
      "50/50 [==============================] - ETA: 0s - loss: 0.043 - ETA: 0s - loss: 0.035 - ETA: 0s - loss: 0.031 - ETA: 0s - loss: 0.031 - ETA: 0s - loss: 0.030 - ETA: 0s - loss: 0.030 - ETA: 0s - loss: 0.032 - ETA: 0s - loss: 0.034 - ETA: 0s - loss: 0.036 - ETA: 0s - loss: 0.036 - 1s 14ms/step - loss: 0.0355 - val_loss: 0.0265\n",
      "Epoch 420/450\n",
      "50/50 [==============================] - ETA: 0s - loss: 0.028 - ETA: 0s - loss: 0.031 - ETA: 0s - loss: 0.029 - ETA: 0s - loss: 0.030 - ETA: 0s - loss: 0.033 - ETA: 0s - loss: 0.037 - ETA: 0s - loss: 0.038 - ETA: 0s - loss: 0.037 - ETA: 0s - loss: 0.036 - ETA: 0s - loss: 0.035 - 1s 14ms/step - loss: 0.0349 - val_loss: 0.0263\n",
      "Epoch 421/450\n",
      "50/50 [==============================] - ETA: 0s - loss: 0.027 - ETA: 0s - loss: 0.030 - ETA: 0s - loss: 0.037 - ETA: 0s - loss: 0.044 - ETA: 0s - loss: 0.042 - ETA: 0s - loss: 0.039 - ETA: 0s - loss: 0.038 - ETA: 0s - loss: 0.037 - ETA: 0s - loss: 0.035 - ETA: 0s - loss: 0.035 - 1s 14ms/step - loss: 0.0365 - val_loss: 0.0262\n",
      "Epoch 422/450\n",
      "50/50 [==============================] - ETA: 0s - loss: 0.031 - ETA: 0s - loss: 0.054 - ETA: 0s - loss: 0.046 - ETA: 0s - loss: 0.040 - ETA: 0s - loss: 0.038 - ETA: 0s - loss: 0.036 - ETA: 0s - loss: 0.035 - ETA: 0s - loss: 0.035 - ETA: 0s - loss: 0.036 - ETA: 0s - loss: 0.038 - 1s 14ms/step - loss: 0.0385 - val_loss: 0.0260\n",
      "Epoch 423/450\n",
      "50/50 [==============================] - ETA: 0s - loss: 0.028 - ETA: 0s - loss: 0.027 - ETA: 0s - loss: 0.029 - ETA: 0s - loss: 0.028 - ETA: 0s - loss: 0.029 - ETA: 0s - loss: 0.030 - ETA: 0s - loss: 0.033 - ETA: 0s - loss: 0.036 - ETA: 0s - loss: 0.035 - ETA: 0s - loss: 0.034 - 1s 14ms/step - loss: 0.0345 - val_loss: 0.0259\n",
      "Epoch 424/450\n",
      "50/50 [==============================] - ETA: 0s - loss: 0.027 - ETA: 0s - loss: 0.026 - ETA: 0s - loss: 0.028 - ETA: 0s - loss: 0.033 - ETA: 0s - loss: 0.038 - ETA: 0s - loss: 0.039 - ETA: 0s - loss: 0.037 - ETA: 0s - loss: 0.036 - ETA: 0s - loss: 0.035 - ETA: 0s - loss: 0.034 - 1s 14ms/step - loss: 0.0341 - val_loss: 0.0257\n",
      "Epoch 425/450\n",
      "50/50 [==============================] - ETA: 0s - loss: 0.027 - ETA: 0s - loss: 0.042 - ETA: 0s - loss: 0.048 - ETA: 0s - loss: 0.046 - ETA: 0s - loss: 0.041 - ETA: 0s - loss: 0.039 - ETA: 0s - loss: 0.037 - ETA: 0s - loss: 0.036 - ETA: 0s - loss: 0.035 - ETA: 0s - loss: 0.036 - 1s 14ms/step - loss: 0.0386 - val_loss: 0.0255\n",
      "Epoch 426/450\n",
      "50/50 [==============================] - ETA: 0s - loss: 0.038 - ETA: 0s - loss: 0.036 - ETA: 0s - loss: 0.032 - ETA: 0s - loss: 0.031 - ETA: 0s - loss: 0.030 - ETA: 0s - loss: 0.030 - ETA: 0s - loss: 0.030 - ETA: 0s - loss: 0.032 - ETA: 0s - loss: 0.035 - ETA: 0s - loss: 0.035 - 1s 14ms/step - loss: 0.0347 - val_loss: 0.0254\n",
      "Epoch 427/450\n",
      "50/50 [==============================] - ETA: 0s - loss: 0.026 - ETA: 0s - loss: 0.030 - ETA: 0s - loss: 0.028 - ETA: 0s - loss: 0.028 - ETA: 0s - loss: 0.029 - ETA: 0s - loss: 0.032 - ETA: 0s - loss: 0.037 - ETA: 0s - loss: 0.036 - ETA: 0s - loss: 0.035 - ETA: 0s - loss: 0.034 - ETA: 0s - loss: 0.033 - 1s 14ms/step - loss: 0.0338 - val_loss: 0.0252\n",
      "Epoch 428/450\n",
      "50/50 [==============================] - ETA: 0s - loss: 0.026 - ETA: 0s - loss: 0.028 - ETA: 0s - loss: 0.035 - ETA: 0s - loss: 0.041 - ETA: 0s - loss: 0.041 - ETA: 0s - loss: 0.038 - ETA: 0s - loss: 0.037 - ETA: 0s - loss: 0.036 - ETA: 0s - loss: 0.034 - ETA: 0s - loss: 0.034 - 1s 14ms/step - loss: 0.0352 - val_loss: 0.0251\n",
      "Epoch 429/450\n",
      "50/50 [==============================] - ETA: 0s - loss: 0.035 - ETA: 0s - loss: 0.054 - ETA: 0s - loss: 0.046 - ETA: 0s - loss: 0.040 - ETA: 0s - loss: 0.037 - ETA: 0s - loss: 0.035 - ETA: 0s - loss: 0.034 - ETA: 0s - loss: 0.033 - ETA: 0s - loss: 0.035 - ETA: 0s - loss: 0.037 - 1s 14ms/step - loss: 0.0376 - val_loss: 0.0249\n",
      "Epoch 430/450\n",
      "50/50 [==============================] - ETA: 0s - loss: 0.026 - ETA: 0s - loss: 0.026 - ETA: 0s - loss: 0.028 - ETA: 0s - loss: 0.027 - ETA: 0s - loss: 0.027 - ETA: 0s - loss: 0.028 - ETA: 0s - loss: 0.030 - ETA: 0s - loss: 0.034 - ETA: 0s - loss: 0.034 - ETA: 0s - loss: 0.033 - 1s 14ms/step - loss: 0.0334 - val_loss: 0.0248\n",
      "Epoch 431/450\n",
      "50/50 [==============================] - ETA: 0s - loss: 0.026 - ETA: 0s - loss: 0.025 - ETA: 0s - loss: 0.027 - ETA: 0s - loss: 0.030 - ETA: 0s - loss: 0.034 - ETA: 0s - loss: 0.037 - ETA: 0s - loss: 0.036 - ETA: 0s - loss: 0.034 - ETA: 0s - loss: 0.034 - ETA: 0s - loss: 0.033 - 1s 14ms/step - loss: 0.0330 - val_loss: 0.0246\n",
      "Epoch 432/450\n",
      "50/50 [==============================] - ETA: 0s - loss: 0.029 - ETA: 0s - loss: 0.040 - ETA: 0s - loss: 0.045 - ETA: 0s - loss: 0.044 - ETA: 0s - loss: 0.040 - ETA: 0s - loss: 0.038 - ETA: 0s - loss: 0.036 - ETA: 0s - loss: 0.035 - ETA: 0s - loss: 0.034 - ETA: 0s - loss: 0.035 - 1s 14ms/step - loss: 0.0370 - val_loss: 0.0245\n",
      "Epoch 433/450\n",
      "50/50 [==============================] - ETA: 0s - loss: 0.056 - ETA: 0s - loss: 0.040 - ETA: 0s - loss: 0.033 - ETA: 0s - loss: 0.032 - ETA: 0s - loss: 0.031 - ETA: 0s - loss: 0.030 - ETA: 0s - loss: 0.029 - ETA: 0s - loss: 0.031 - ETA: 0s - loss: 0.035 - ETA: 0s - loss: 0.035 - 1s 14ms/step - loss: 0.0343 - val_loss: 0.0243\n",
      "Epoch 434/450\n",
      "50/50 [==============================] - ETA: 0s - loss: 0.025 - ETA: 0s - loss: 0.029 - ETA: 0s - loss: 0.027 - ETA: 0s - loss: 0.027 - ETA: 0s - loss: 0.028 - ETA: 0s - loss: 0.031 - ETA: 0s - loss: 0.035 - ETA: 0s - loss: 0.035 - ETA: 0s - loss: 0.033 - ETA: 0s - loss: 0.033 - 1s 14ms/step - loss: 0.0328 - val_loss: 0.0242\n",
      "Epoch 435/450\n",
      "50/50 [==============================] - ETA: 0s - loss: 0.024 - ETA: 0s - loss: 0.027 - ETA: 0s - loss: 0.032 - ETA: 0s - loss: 0.036 - ETA: 0s - loss: 0.039 - ETA: 0s - loss: 0.037 - ETA: 0s - loss: 0.035 - ETA: 0s - loss: 0.034 - ETA: 0s - loss: 0.033 - ETA: 0s - loss: 0.033 - 1s 14ms/step - loss: 0.0338 - val_loss: 0.0240\n",
      "Epoch 436/450\n",
      "50/50 [==============================] - ETA: 0s - loss: 0.042 - ETA: 0s - loss: 0.050 - ETA: 0s - loss: 0.046 - ETA: 0s - loss: 0.040 - ETA: 0s - loss: 0.037 - ETA: 0s - loss: 0.035 - ETA: 0s - loss: 0.033 - ETA: 0s - loss: 0.032 - ETA: 0s - loss: 0.034 - ETA: 0s - loss: 0.036 - 1s 14ms/step - loss: 0.0366 - val_loss: 0.0239\n",
      "Epoch 437/450\n",
      "50/50 [==============================] - ETA: 0s - loss: 0.035 - ETA: 0s - loss: 0.026 - ETA: 0s - loss: 0.028 - ETA: 0s - loss: 0.027 - ETA: 0s - loss: 0.026 - ETA: 0s - loss: 0.026 - ETA: 0s - loss: 0.029 - ETA: 0s - loss: 0.033 - ETA: 0s - loss: 0.033 - ETA: 0s - loss: 0.032 - 1s 14ms/step - loss: 0.0325 - val_loss: 0.0237\n",
      "Epoch 438/450\n",
      "50/50 [==============================] - ETA: 0s - loss: 0.026 - ETA: 0s - loss: 0.025 - ETA: 0s - loss: 0.026 - ETA: 0s - loss: 0.027 - ETA: 0s - loss: 0.030 - ETA: 0s - loss: 0.036 - ETA: 0s - loss: 0.035 - ETA: 0s - loss: 0.033 - ETA: 0s - loss: 0.033 - ETA: 0s - loss: 0.032 - 1s 14ms/step - loss: 0.0319 - val_loss: 0.0236\n",
      "Epoch 439/450\n",
      "50/50 [==============================] - ETA: 0s - loss: 0.030 - ETA: 0s - loss: 0.036 - ETA: 0s - loss: 0.039 - ETA: 0s - loss: 0.043 - ETA: 0s - loss: 0.039 - ETA: 0s - loss: 0.036 - ETA: 0s - loss: 0.035 - ETA: 0s - loss: 0.034 - ETA: 0s - loss: 0.033 - ETA: 0s - loss: 0.034 - 1s 14ms/step - loss: 0.0348 - val_loss: 0.0234\n",
      "Epoch 440/450\n",
      "50/50 [==============================] - ETA: 0s - loss: 0.099 - ETA: 0s - loss: 0.048 - ETA: 0s - loss: 0.038 - ETA: 0s - loss: 0.035 - ETA: 0s - loss: 0.033 - ETA: 0s - loss: 0.031 - ETA: 0s - loss: 0.030 - ETA: 0s - loss: 0.032 - ETA: 0s - loss: 0.035 - ETA: 0s - loss: 0.035 - 1s 14ms/step - loss: 0.0345 - val_loss: 0.0233\n",
      "Epoch 441/450\n",
      "50/50 [==============================] - ETA: 0s - loss: 0.023 - ETA: 0s - loss: 0.026 - ETA: 0s - loss: 0.026 - ETA: 0s - loss: 0.025 - ETA: 0s - loss: 0.026 - ETA: 0s - loss: 0.029 - ETA: 0s - loss: 0.034 - ETA: 0s - loss: 0.034 - ETA: 0s - loss: 0.032 - ETA: 0s - loss: 0.032 - 1s 14ms/step - loss: 0.0318 - val_loss: 0.0231\n",
      "Epoch 442/450\n",
      "50/50 [==============================] - ETA: 0s - loss: 0.023 - ETA: 0s - loss: 0.025 - ETA: 0s - loss: 0.028 - ETA: 0s - loss: 0.031 - ETA: 0s - loss: 0.038 - ETA: 0s - loss: 0.036 - ETA: 0s - loss: 0.034 - ETA: 0s - loss: 0.033 - ETA: 0s - loss: 0.032 - ETA: 0s - loss: 0.032 - 1s 14ms/step - loss: 0.0320 - val_loss: 0.0230\n",
      "Epoch 443/450\n",
      "50/50 [==============================] - ETA: 0s - loss: 0.056 - ETA: 0s - loss: 0.046 - ETA: 0s - loss: 0.047 - ETA: 0s - loss: 0.041 - ETA: 0s - loss: 0.037 - ETA: 0s - loss: 0.035 - ETA: 0s - loss: 0.033 - ETA: 0s - loss: 0.033 - ETA: 0s - loss: 0.034 - ETA: 0s - loss: 0.035 - 1s 14ms/step - loss: 0.0362 - val_loss: 0.0229\n",
      "Epoch 444/450\n",
      "50/50 [==============================] - ETA: 0s - loss: 0.034 - ETA: 0s - loss: 0.027 - ETA: 0s - loss: 0.026 - ETA: 0s - loss: 0.026 - ETA: 0s - loss: 0.026 - ETA: 0s - loss: 0.026 - ETA: 0s - loss: 0.029 - ETA: 0s - loss: 0.032 - ETA: 0s - loss: 0.032 - ETA: 0s - loss: 0.031 - 1s 14ms/step - loss: 0.0314 - val_loss: 0.0227\n",
      "Epoch 445/450\n",
      "50/50 [==============================] - ETA: 0s - loss: 0.033 - ETA: 0s - loss: 0.026 - ETA: 0s - loss: 0.025 - ETA: 0s - loss: 0.026 - ETA: 0s - loss: 0.030 - ETA: 0s - loss: 0.035 - ETA: 0s - loss: 0.034 - ETA: 0s - loss: 0.033 - ETA: 0s - loss: 0.032 - ETA: 0s - loss: 0.031 - 1s 14ms/step - loss: 0.0311 - val_loss: 0.0226\n",
      "Epoch 446/450\n",
      "50/50 [==============================] - ETA: 0s - loss: 0.036 - ETA: 0s - loss: 0.031 - ETA: 0s - loss: 0.034 - ETA: 0s - loss: 0.042 - ETA: 0s - loss: 0.039 - ETA: 0s - loss: 0.036 - ETA: 0s - loss: 0.034 - ETA: 0s - loss: 0.033 - ETA: 0s - loss: 0.032 - ETA: 0s - loss: 0.032 - 1s 14ms/step - loss: 0.0330 - val_loss: 0.0224\n",
      "Epoch 447/450\n",
      "50/50 [==============================] - ETA: 0s - loss: 0.076 - ETA: 0s - loss: 0.053 - ETA: 0s - loss: 0.042 - ETA: 0s - loss: 0.036 - ETA: 0s - loss: 0.034 - ETA: 0s - loss: 0.032 - ETA: 0s - loss: 0.031 - ETA: 0s - loss: 0.032 - ETA: 0s - loss: 0.034 - ETA: 0s - loss: 0.035 - 1s 14ms/step - loss: 0.0345 - val_loss: 0.0223\n",
      "Epoch 448/450\n",
      "50/50 [==============================] - ETA: 0s - loss: 0.022 - ETA: 0s - loss: 0.025 - ETA: 0s - loss: 0.025 - ETA: 0s - loss: 0.024 - ETA: 0s - loss: 0.025 - ETA: 0s - loss: 0.028 - ETA: 0s - loss: 0.032 - ETA: 0s - loss: 0.033 - ETA: 0s - loss: 0.031 - ETA: 0s - loss: 0.031 - 1s 14ms/step - loss: 0.0308 - val_loss: 0.0222\n",
      "Epoch 449/450\n",
      "50/50 [==============================] - ETA: 0s - loss: 0.022 - ETA: 0s - loss: 0.023 - ETA: 0s - loss: 0.024 - ETA: 0s - loss: 0.030 - ETA: 0s - loss: 0.036 - ETA: 0s - loss: 0.035 - ETA: 0s - loss: 0.033 - ETA: 0s - loss: 0.032 - ETA: 0s - loss: 0.031 - ETA: 0s - loss: 0.031 - 1s 14ms/step - loss: 0.0305 - val_loss: 0.0220\n",
      "Epoch 450/450\n",
      "50/50 [==============================] - ETA: 0s - loss: 0.045 - ETA: 0s - loss: 0.041 - ETA: 0s - loss: 0.048 - ETA: 0s - loss: 0.042 - ETA: 0s - loss: 0.037 - ETA: 0s - loss: 0.035 - ETA: 0s - loss: 0.033 - ETA: 0s - loss: 0.032 - ETA: 0s - loss: 0.033 - ETA: 0s - loss: 0.034 - 1s 14ms/step - loss: 0.0355 - val_loss: 0.0219\n",
      "Duration: 330.4773609638214 seconds\n"
     ]
    }
   ],
   "source": [
    "import time\n",
    "start = time.time()\n",
    "EVALUATION_INTERVAL = 50\n",
    "EPOCHS = 450 # 500\n",
    "history = convLSTM.fit(train_data_multi, epochs = EPOCHS, steps_per_epoch=EVALUATION_INTERVAL, validation_data=val_data_multi, validation_steps=50, verbose = 1,\n",
    "                         callbacks = [tf.keras.callbacks.EarlyStopping(monitor = 'val_loss', min_delta = 0, patience = 5, verbose = 1, mode = 'min')\n",
    "                                      ])\n",
    "\n",
    "print('Duration: {} seconds'.format(time.time() - start))"
   ]
  },
  {
   "cell_type": "code",
   "execution_count": 60,
   "id": "a129eedf-c751-4c91-b236-5440f3b1a4ea",
   "metadata": {},
   "outputs": [
    {
     "name": "stdout",
     "output_type": "stream",
     "text": [
      "Model: \"sequential\"\n",
      "_________________________________________________________________\n",
      "Layer (type)                 Output Shape              Param #   \n",
      "=================================================================\n",
      "conv1d (Conv1D)              (None, 5, 500)            122000    \n",
      "_________________________________________________________________\n",
      "batch_normalization (BatchNo (None, 5, 500)            2000      \n",
      "_________________________________________________________________\n",
      "leaky_re_lu (LeakyReLU)      (None, 5, 500)            0         \n",
      "_________________________________________________________________\n",
      "p_re_lu (PReLU)              (None, 5, 500)            2500      \n",
      "_________________________________________________________________\n",
      "dropout (Dropout)            (None, 5, 500)            0         \n",
      "_________________________________________________________________\n",
      "conv1d_1 (Conv1D)            (None, 5, 250)            375250    \n",
      "_________________________________________________________________\n",
      "batch_normalization_1 (Batch (None, 5, 250)            1000      \n",
      "_________________________________________________________________\n",
      "leaky_re_lu_1 (LeakyReLU)    (None, 5, 250)            0         \n",
      "_________________________________________________________________\n",
      "p_re_lu_1 (PReLU)            (None, 5, 250)            1250      \n",
      "_________________________________________________________________\n",
      "dropout_1 (Dropout)          (None, 5, 250)            0         \n",
      "_________________________________________________________________\n",
      "max_pooling1d (MaxPooling1D) (None, 5, 250)            0         \n",
      "_________________________________________________________________\n",
      "conv1d_2 (Conv1D)            (None, 5, 125)            93875     \n",
      "_________________________________________________________________\n",
      "batch_normalization_2 (Batch (None, 5, 125)            500       \n",
      "_________________________________________________________________\n",
      "leaky_re_lu_2 (LeakyReLU)    (None, 5, 125)            0         \n",
      "_________________________________________________________________\n",
      "p_re_lu_2 (PReLU)            (None, 5, 125)            625       \n",
      "_________________________________________________________________\n",
      "dropout_2 (Dropout)          (None, 5, 125)            0         \n",
      "_________________________________________________________________\n",
      "max_pooling1d_1 (MaxPooling1 (None, 5, 125)            0         \n",
      "_________________________________________________________________\n",
      "conv1d_3 (Conv1D)            (None, 5, 100)            37600     \n",
      "_________________________________________________________________\n",
      "batch_normalization_3 (Batch (None, 5, 100)            400       \n",
      "_________________________________________________________________\n",
      "leaky_re_lu_3 (LeakyReLU)    (None, 5, 100)            0         \n",
      "_________________________________________________________________\n",
      "p_re_lu_3 (PReLU)            (None, 5, 100)            500       \n",
      "_________________________________________________________________\n",
      "dropout_3 (Dropout)          (None, 5, 100)            0         \n",
      "_________________________________________________________________\n",
      "max_pooling1d_2 (MaxPooling1 (None, 5, 100)            0         \n",
      "_________________________________________________________________\n",
      "conv1d_4 (Conv1D)            (None, 5, 50)             15050     \n",
      "_________________________________________________________________\n",
      "batch_normalization_4 (Batch (None, 5, 50)             200       \n",
      "_________________________________________________________________\n",
      "leaky_re_lu_4 (LeakyReLU)    (None, 5, 50)             0         \n",
      "_________________________________________________________________\n",
      "p_re_lu_4 (PReLU)            (None, 5, 50)             250       \n",
      "_________________________________________________________________\n",
      "dropout_4 (Dropout)          (None, 5, 50)             0         \n",
      "_________________________________________________________________\n",
      "max_pooling1d_3 (MaxPooling1 (None, 5, 50)             0         \n",
      "_________________________________________________________________\n",
      "conv1d_5 (Conv1D)            (None, 5, 25)             3775      \n",
      "_________________________________________________________________\n",
      "batch_normalization_5 (Batch (None, 5, 25)             100       \n",
      "_________________________________________________________________\n",
      "leaky_re_lu_5 (LeakyReLU)    (None, 5, 25)             0         \n",
      "_________________________________________________________________\n",
      "p_re_lu_5 (PReLU)            (None, 5, 25)             125       \n",
      "_________________________________________________________________\n",
      "dropout_5 (Dropout)          (None, 5, 25)             0         \n",
      "_________________________________________________________________\n",
      "max_pooling1d_4 (MaxPooling1 (None, 5, 25)             0         \n",
      "_________________________________________________________________\n",
      "time_distributed (TimeDistri (None, 5, 2)              52        \n",
      "_________________________________________________________________\n",
      "dropout_6 (Dropout)          (None, 5, 2)              0         \n",
      "_________________________________________________________________\n",
      "bidirectional (Bidirectional (None, 5, 4)              80        \n",
      "_________________________________________________________________\n",
      "dropout_7 (Dropout)          (None, 5, 4)              0         \n",
      "_________________________________________________________________\n",
      "flatten (Flatten)            (None, 20)                0         \n",
      "_________________________________________________________________\n",
      "dense_1 (Dense)              (None, 15)                315       \n",
      "=================================================================\n",
      "Total params: 657,447\n",
      "Trainable params: 655,347\n",
      "Non-trainable params: 2,100\n",
      "_________________________________________________________________\n"
     ]
    }
   ],
   "source": [
    "convLSTM.summary()"
   ]
  },
  {
   "cell_type": "code",
   "execution_count": 61,
   "id": "545ca673-88ef-448a-b223-8c44c0c6d9d0",
   "metadata": {},
   "outputs": [
    {
     "data": {
      "image/png": "[encoded data removed]",
      "text/plain": [
       "<Figure size 576x432 with 1 Axes>"
      ]
     },
     "metadata": {
      "needs_background": "light"
     },
     "output_type": "display_data"
    }
   ],
   "source": [
    "plt.plot(history.history['loss'])\n",
    "plt.plot(history.history['val_loss'])\n",
    "plt.title('Model Loss')\n",
    "plt.ylabel('loss')\n",
    "plt.xlabel('epoch')\n",
    "plt.legend(['train loss', 'validation loss'], loc = 'upper left')\n",
    "plt.rcParams[\"figure.figsize\"] = [16,9]\n",
    "plt.show()"
   ]
  },
  {
   "cell_type": "code",
   "execution_count": 62,
   "id": "c0e7afad-3955-4f2c-a743-19b517abbb8b",
   "metadata": {},
   "outputs": [],
   "source": [
    "# serialize model to JSON\n",
    "model_json = convLSTM.to_json()\n",
    "with open(\"model_1.json\", \"w\") as json_file:\n",
    "    json_file.write(model_json)"
   ]
  },
  {
   "cell_type": "code",
   "execution_count": 63,
   "id": "d184c58d-7bd5-424b-8b65-dfc92e4cc6f3",
   "metadata": {},
   "outputs": [
    {
     "name": "stdout",
     "output_type": "stream",
     "text": [
      "Saved model to disk\n"
     ]
    }
   ],
   "source": [
    "convLSTM.save_weights(\"convLSTM_Non_Volatile_1.h5\")\n",
    "print(\"Saved model to disk\")"
   ]
  },
  {
   "cell_type": "code",
   "execution_count": 64,
   "id": "961c342c-e0ea-49f2-9c91-db32992bd703",
   "metadata": {},
   "outputs": [
    {
     "data": {
      "text/plain": [
       "array([[7097.178 , 6843.909 , 6819.557 , 6487.989 , 6624.0425, 7021.4854,\n",
       "        6738.4653, 7054.705 , 7272.2417, 7269.09  , 6808.8325, 6942.78  ,\n",
       "        6843.9414, 7046.7095, 6830.069 ]], dtype=float32)"
      ]
     },
     "execution_count": 64,
     "metadata": {},
     "output_type": "execute_result"
    }
   ],
   "source": [
    "data_val = x_scaler.fit_transform(model1[['is_incart', 'is_special_buy', 'is_bau', 'is_major_event', 'is_event',\n",
    "       'ty_regular_retail', 'ty_effective_retail', 'markdown',\n",
    "       'ty_promo_gross_demand', 'promo_pen','lagprice1',\n",
    "       'lagprice2', 'lagprice3', 'lagprice4', 'lagprice5', 'lagprice7',\n",
    "       'lagprice11', 'weekend_indi', 'isLeapYear', 'month_1', 'month_2',\n",
    "       'month_3', 'month_4', 'month_5', 'month_6', 'month_7', 'month_8',\n",
    "       'month_9', 'month_10', 'month_11', 'month_12', 'dayofweek_1',\n",
    "       'dayofweek_2', 'dayofweek_3', 'dayofweek_4', 'dayofweek_5',\n",
    "       'dayofweek_6', 'dayofweek_7', 'dayofweek_8', 'dayofweek_9',\n",
    "       'dayofweek_10', 'dayofweek_11', 'dayofweek_12', 'dayofweek_13',\n",
    "       'dayofweek_14', 'dayofweek_15', 'dayofweek_16', 'dayofweek_17',\n",
    "       'dayofweek_18', 'dayofweek_19', 'dayofweek_20', 'dayofweek_21',\n",
    "       'dayofweek_22', 'dayofweek_23', 'dayofweek_24', 'dayofweek_25',\n",
    "       'dayofweek_26', 'dayofweek_27', 'dayofweek_28', 'dayofweek_29',\n",
    "       'dayofweek_30', 'dayofweek_31', 'Weekday_0', 'Weekday_1', 'Weekday_2',\n",
    "       'Weekday_3', 'Weekday_4', 'Weekday_5', 'Weekday_6', 'quarter_1',\n",
    "       'quarter_2', 'quarter_3', 'quarter_4', 'merch_dept_25H-HARDWARE (25H)',\n",
    "       'class_nbr_025-012', 'class_name_PNEUMATIC FASTENERS',\n",
    "       'mfg_brand_name_RYOBI',\n",
    "       'internet_sku_name_203810823-ONE  18V Cordless AirStrike 18 Gauge Brad Nailer  Tool Only  with Sample Nails',\n",
    "       'oms_id_203810823', 'Is_Holiday', 'ty_gross_demand']].tail(hist_window))\n",
    "\n",
    "val_rescaled = data_val.reshape(1,data_val.shape[0], data_val.shape[1])\n",
    "\n",
    "Predicted_results = convLSTM.predict(val_rescaled)\n",
    "Predicted_results\n",
    "\n",
    "Predicted_results_Inv_trans = y_scaler.inverse_transform(Predicted_results)\n",
    "Predicted_results_Inv_trans"
   ]
  },
  {
   "cell_type": "code",
   "execution_count": 65,
   "id": "9f6bd32c-0a31-42e6-8e1a-e6d2a2d97d1f",
   "metadata": {},
   "outputs": [
    {
     "data": {
      "text/plain": [
       "array([7097.178 , 6843.909 , 6819.557 , 6487.989 , 6624.0425, 7021.4854,\n",
       "       6738.4653, 7054.705 , 7272.2417, 7269.09  , 6808.8325, 6942.78  ,\n",
       "       6843.9414, 7046.7095, 6830.069 ], dtype=float32)"
      ]
     },
     "execution_count": 65,
     "metadata": {},
     "output_type": "execute_result"
    }
   ],
   "source": [
    "Predicted_results_Inv_trans[0]"
   ]
  },
  {
   "cell_type": "code",
   "execution_count": 66,
   "id": "a0955670-9683-4f68-9ec4-211e8710f8b8",
   "metadata": {},
   "outputs": [
    {
     "data": {
      "text/plain": [
       "cal_dt\n",
       "2021-10-04    7155.0\n",
       "2021-10-05    6530.0\n",
       "2021-10-06    6637.0\n",
       "2021-10-07    6193.0\n",
       "2021-10-08    6738.0\n",
       "2021-10-09    5453.0\n",
       "2021-10-10    5838.0\n",
       "2021-10-11    6933.0\n",
       "2021-10-12    6034.0\n",
       "2021-10-13    6797.0\n",
       "2021-10-14    9140.0\n",
       "2021-10-15    8647.0\n",
       "2021-10-16    7041.0\n",
       "2021-10-17    5691.0\n",
       "2021-10-18    6266.0\n",
       "Name: ty_gross_demand, dtype: float64"
      ]
     },
     "execution_count": 66,
     "metadata": {},
     "output_type": "execute_result"
    }
   ],
   "source": [
    "validate['ty_gross_demand']"
   ]
  },
  {
   "cell_type": "code",
   "execution_count": 67,
   "id": "45027857-86be-46bd-afe7-0b1a2d34c30e",
   "metadata": {},
   "outputs": [
    {
     "name": "stdout",
     "output_type": "stream",
     "text": [
      "Evaluation metric results:-\n",
      "MSE is: 1054052.2654997825\n",
      "MAE is: 761.0964192708333\n",
      "RMSE is: 1026.6704756151228\n",
      "MAPE is: 11.271142844888002\n",
      "R2 is : -0.10199816833172681\n",
      "\n"
     ]
    }
   ],
   "source": [
    "timeseries_evaluation_metrics_func(validate['ty_gross_demand'], Predicted_results_Inv_trans[0])"
   ]
  },
  {
   "cell_type": "code",
   "execution_count": 68,
   "id": "cb65a008-ea0b-47ac-b57c-68a9cc6e8ce0",
   "metadata": {},
   "outputs": [
    {
     "data": {
      "image/png": "[encoded data removed]",
      "text/plain": [
       "<Figure size 1152x648 with 1 Axes>"
      ]
     },
     "metadata": {
      "needs_background": "light"
     },
     "output_type": "display_data"
    }
   ],
   "source": [
    "plt.plot(list(validate['ty_gross_demand']))\n",
    "plt.plot(list(Predicted_results_Inv_trans[0]))\n",
    "plt.title(\"Actual vs. Predicted\")\n",
    "plt.ylabel(\"ty_gross_demand\")\n",
    "plt.legend(('Actual','Predicted'))\n",
    "plt.show()"
   ]
  },
  {
   "cell_type": "code",
   "execution_count": 69,
   "id": "9bc2c2f6-82b9-454a-8fa9-ae50ceaea290",
   "metadata": {},
   "outputs": [],
   "source": [
    "pred1 = df1.copy()"
   ]
  },
  {
   "cell_type": "code",
   "execution_count": 70,
   "id": "0117da59-e202-4ee8-83c4-3abd83bbd5bc",
   "metadata": {},
   "outputs": [],
   "source": [
    "yhat = convLSTM.predict(np.array(pred1.tail(hist_window)).reshape(1, hist_window, pred1.shape[1])).tolist()[0]"
   ]
  },
  {
   "cell_type": "code",
   "execution_count": 71,
   "id": "7bf19f88-ebc7-4cc8-8ff8-b9f33eba80e4",
   "metadata": {},
   "outputs": [],
   "source": [
    "yhat = y_scaler.inverse_transform(np.array(yhat).reshape(-1,1)).tolist()"
   ]
  },
  {
   "cell_type": "code",
   "execution_count": 72,
   "id": "3371acf0-66fb-45e7-a542-77223987e016",
   "metadata": {},
   "outputs": [],
   "source": [
    "preds = pd.DataFrame(yhat, index = pd.date_range(start = pred1.index[-1], periods = len(yhat), freq = 'D'))"
   ]
  },
  {
   "cell_type": "code",
   "execution_count": 73,
   "id": "a6c46580-e2f7-4a51-b8a6-b0495dded6f5",
   "metadata": {},
   "outputs": [
    {
     "name": "stdout",
     "output_type": "stream",
     "text": [
      "                      0\n",
      "2021-10-18  6940.938889\n",
      "2021-10-19  6679.034575\n",
      "2021-10-20  6675.721721\n",
      "2021-10-21  6883.911425\n",
      "2021-10-22  6734.822089\n",
      "2021-10-23  6414.889599\n",
      "2021-10-24  7590.778898\n",
      "2021-10-25  7264.017933\n",
      "2021-10-26  6596.385378\n",
      "2021-10-27  7022.663228\n",
      "2021-10-28  7149.563304\n",
      "2021-10-29  6755.181330\n",
      "2021-10-30  7238.566147\n",
      "2021-10-31  7274.800388\n",
      "2021-11-01  6479.727650\n"
     ]
    }
   ],
   "source": [
    "print(preds)"
   ]
  },
  {
   "cell_type": "code",
   "execution_count": 74,
   "id": "41e43f99-4aba-4b88-b248-2e2e52c66ae6",
   "metadata": {},
   "outputs": [],
   "source": [
    "periods = 15"
   ]
  },
  {
   "cell_type": "code",
   "execution_count": 75,
   "id": "81467717-39e3-4a31-9284-733baf054a0f",
   "metadata": {},
   "outputs": [],
   "source": [
    "actual = pd.DataFrame(pred1['ty_gross_demand'].tail(periods), index = pred1.ty_gross_demand.tail(periods).index).append(preds.head(1))"
   ]
  },
  {
   "cell_type": "code",
   "execution_count": 76,
   "id": "e8bb16e8-6c67-4c1b-b115-855bcfd08b37",
   "metadata": {},
   "outputs": [
    {
     "data": {
      "image/png": "[encoded data removed]",
      "text/plain": [
       "<Figure size 864x288 with 1 Axes>"
      ]
     },
     "metadata": {
      "needs_background": "light"
     },
     "output_type": "display_data"
    }
   ],
   "source": [
    "plt.figure(figsize=(12,4))\n",
    "plt.plot(actual, label='actuals')\n",
    "plt.plot(preds, label='predictions')\n",
    "plt.ylabel(\"price\")\n",
    "plt.ylabel('dates')\n",
    "plt.title(f'forecasting the next {len(yhat)} days')\n",
    "plt.legend()\n",
    "plt.show()"
   ]
  },
  {
   "cell_type": "markdown",
   "id": "69f086bb-cb44-481a-a61c-c434fa32b27c",
   "metadata": {},
   "source": [
    "### Load the Model"
   ]
  },
  {
   "cell_type": "code",
   "execution_count": 77,
   "id": "cb89b533-e003-425b-adb3-936038e48043",
   "metadata": {},
   "outputs": [
    {
     "name": "stdout",
     "output_type": "stream",
     "text": [
      "Loaded model from disk\n"
     ]
    }
   ],
   "source": [
    "from keras.models import model_from_json\n",
    "\n",
    "# load json and create model\n",
    "json_file = open('model_805.json', 'r')\n",
    "loaded_model_json = json_file.read()\n",
    "json_file.close()\n",
    "loaded_model = model_from_json(loaded_model_json)\n",
    "\n",
    "# load weights into new model\n",
    "loaded_model.load_weights(\"convLSTM_Non_Volatile_805.h5\")\n",
    "print(\"Loaded model from disk\")"
   ]
  },
  {
   "cell_type": "code",
   "execution_count": 78,
   "id": "b700d509-de64-4ae3-b34b-5f4430e756a2",
   "metadata": {},
   "outputs": [
    {
     "name": "stdout",
     "output_type": "stream",
     "text": [
      "Model: \"sequential\"\n",
      "_________________________________________________________________\n",
      "Layer (type)                 Output Shape              Param #   \n",
      "=================================================================\n",
      "conv1d (Conv1D)              (None, 5, 25)             6100      \n",
      "_________________________________________________________________\n",
      "batch_normalization (BatchNo (None, 5, 25)             100       \n",
      "_________________________________________________________________\n",
      "leaky_re_lu (LeakyReLU)      (None, 5, 25)             0         \n",
      "_________________________________________________________________\n",
      "p_re_lu (PReLU)              (None, 5, 25)             125       \n",
      "_________________________________________________________________\n",
      "dropout (Dropout)            (None, 5, 25)             0         \n",
      "_________________________________________________________________\n",
      "conv1d_1 (Conv1D)            (None, 5, 25)             1900      \n",
      "_________________________________________________________________\n",
      "batch_normalization_1 (Batch (None, 5, 25)             100       \n",
      "_________________________________________________________________\n",
      "leaky_re_lu_1 (LeakyReLU)    (None, 5, 25)             0         \n",
      "_________________________________________________________________\n",
      "p_re_lu_1 (PReLU)            (None, 5, 25)             125       \n",
      "_________________________________________________________________\n",
      "dropout_1 (Dropout)          (None, 5, 25)             0         \n",
      "_________________________________________________________________\n",
      "max_pooling1d (MaxPooling1D) (None, 5, 25)             0         \n",
      "_________________________________________________________________\n",
      "conv1d_2 (Conv1D)            (None, 5, 50)             3800      \n",
      "_________________________________________________________________\n",
      "batch_normalization_2 (Batch (None, 5, 50)             200       \n",
      "_________________________________________________________________\n",
      "leaky_re_lu_2 (LeakyReLU)    (None, 5, 50)             0         \n",
      "_________________________________________________________________\n",
      "p_re_lu_2 (PReLU)            (None, 5, 50)             250       \n",
      "_________________________________________________________________\n",
      "dropout_2 (Dropout)          (None, 5, 50)             0         \n",
      "_________________________________________________________________\n",
      "max_pooling1d_1 (MaxPooling1 (None, 5, 50)             0         \n",
      "_________________________________________________________________\n",
      "conv1d_3 (Conv1D)            (None, 5, 100)            15100     \n",
      "_________________________________________________________________\n",
      "batch_normalization_3 (Batch (None, 5, 100)            400       \n",
      "_________________________________________________________________\n",
      "leaky_re_lu_3 (LeakyReLU)    (None, 5, 100)            0         \n",
      "_________________________________________________________________\n",
      "p_re_lu_3 (PReLU)            (None, 5, 100)            500       \n",
      "_________________________________________________________________\n",
      "dropout_3 (Dropout)          (None, 5, 100)            0         \n",
      "_________________________________________________________________\n",
      "max_pooling1d_2 (MaxPooling1 (None, 5, 100)            0         \n",
      "_________________________________________________________________\n",
      "time_distributed (TimeDistri (None, 5, 30)             3030      \n",
      "_________________________________________________________________\n",
      "bidirectional (Bidirectional (None, 5, 60)             14640     \n",
      "_________________________________________________________________\n",
      "flatten (Flatten)            (None, 300)               0         \n",
      "_________________________________________________________________\n",
      "dense_1 (Dense)              (None, 15)                4515      \n",
      "=================================================================\n",
      "Total params: 50,885\n",
      "Trainable params: 50,485\n",
      "Non-trainable params: 400\n",
      "_________________________________________________________________\n"
     ]
    }
   ],
   "source": [
    "loaded_model.summary()"
   ]
  },
  {
   "cell_type": "code",
   "execution_count": 79,
   "id": "2f5e6d86-a7ac-4384-a2a8-83d89c978067",
   "metadata": {},
   "outputs": [
    {
     "data": {
      "text/plain": [
       "array([[6804.602 , 7345.6846, 6901.8403, 6413.0435, 6699.5146, 7096.283 ,\n",
       "        6741.5825, 6408.393 , 6910.11  , 6579.9917, 7506.3228, 7668.4644,\n",
       "        7588.8374, 6145.0903, 6891.243 ]], dtype=float32)"
      ]
     },
     "execution_count": 79,
     "metadata": {},
     "output_type": "execute_result"
    }
   ],
   "source": [
    "data_val = x_scaler.fit_transform(model1[['is_incart', 'is_special_buy', 'is_bau', 'is_major_event', 'is_event',\n",
    "       'ty_regular_retail', 'ty_effective_retail', 'markdown',\n",
    "       'ty_promo_gross_demand', 'promo_pen','lagprice1',\n",
    "       'lagprice2', 'lagprice3', 'lagprice4', 'lagprice5', 'lagprice7',\n",
    "       'lagprice11', 'weekend_indi', 'isLeapYear', 'month_1', 'month_2',\n",
    "       'month_3', 'month_4', 'month_5', 'month_6', 'month_7', 'month_8',\n",
    "       'month_9', 'month_10', 'month_11', 'month_12', 'dayofweek_1',\n",
    "       'dayofweek_2', 'dayofweek_3', 'dayofweek_4', 'dayofweek_5',\n",
    "       'dayofweek_6', 'dayofweek_7', 'dayofweek_8', 'dayofweek_9',\n",
    "       'dayofweek_10', 'dayofweek_11', 'dayofweek_12', 'dayofweek_13',\n",
    "       'dayofweek_14', 'dayofweek_15', 'dayofweek_16', 'dayofweek_17',\n",
    "       'dayofweek_18', 'dayofweek_19', 'dayofweek_20', 'dayofweek_21',\n",
    "       'dayofweek_22', 'dayofweek_23', 'dayofweek_24', 'dayofweek_25',\n",
    "       'dayofweek_26', 'dayofweek_27', 'dayofweek_28', 'dayofweek_29',\n",
    "       'dayofweek_30', 'dayofweek_31', 'Weekday_0', 'Weekday_1', 'Weekday_2',\n",
    "       'Weekday_3', 'Weekday_4', 'Weekday_5', 'Weekday_6', 'quarter_1',\n",
    "       'quarter_2', 'quarter_3', 'quarter_4', 'merch_dept_25H-HARDWARE (25H)',\n",
    "       'class_nbr_025-012', 'class_name_PNEUMATIC FASTENERS',\n",
    "       'mfg_brand_name_RYOBI',\n",
    "       'internet_sku_name_203810823-ONE  18V Cordless AirStrike 18 Gauge Brad Nailer  Tool Only  with Sample Nails',\n",
    "       'oms_id_203810823', 'Is_Holiday', 'ty_gross_demand']].tail(hist_window))\n",
    "\n",
    "val_rescaled = data_val.reshape(1,data_val.shape[0], data_val.shape[1])\n",
    "\n",
    "Predicted_results = loaded_model.predict(val_rescaled)\n",
    "Predicted_results\n",
    "\n",
    "Predicted_results_Inv_trans = y_scaler.inverse_transform(Predicted_results)\n",
    "Predicted_results_Inv_trans"
   ]
  },
  {
   "cell_type": "code",
   "execution_count": 80,
   "id": "0ad42eed-340f-4368-a309-2ec8d0a8d1b6",
   "metadata": {},
   "outputs": [
    {
     "data": {
      "image/png": "[encoded data removed]",
      "text/plain": [
       "<Figure size 1152x648 with 1 Axes>"
      ]
     },
     "metadata": {
      "needs_background": "light"
     },
     "output_type": "display_data"
    }
   ],
   "source": [
    "plt.plot(list(validate['ty_gross_demand']))\n",
    "plt.plot(list(Predicted_results_Inv_trans[0]))\n",
    "plt.title(\"Actual vs. Predicted\")\n",
    "plt.ylabel(\"Gross Ads\")\n",
    "plt.legend(('Actual','Predicted'))\n",
    "plt.show()"
   ]
  },
  {
   "cell_type": "code",
   "execution_count": 81,
   "id": "c620ddd4-b446-4684-a194-28f3fb62772f",
   "metadata": {},
   "outputs": [
    {
     "name": "stdout",
     "output_type": "stream",
     "text": [
      "Evaluation metric results:-\n",
      "MSE is: 669237.4325518131\n",
      "MAE is: 672.8950846354167\n",
      "RMSE is: 818.0693323623696\n",
      "MAPE is: 10.088254197466364\n",
      "R2 is : 0.3003208199534221\n",
      "\n"
     ]
    }
   ],
   "source": [
    "timeseries_evaluation_metrics_func(validate['ty_gross_demand'], Predicted_results_Inv_trans[0])"
   ]
  },
  {
   "cell_type": "markdown",
   "id": "c62948ff-d648-4de5-ad2f-94a9f0e9d8c9",
   "metadata": {},
   "source": [
    "### Hyperparameter Tuning"
   ]
  },
  {
   "cell_type": "code",
   "execution_count": 82,
   "id": "a68e5930-a1eb-48f0-a1e4-f2b784473b34",
   "metadata": {},
   "outputs": [],
   "source": [
    "from tensorflow import keras\n",
    "from tensorflow.keras.layers import (\n",
    "    Conv1D,\n",
    "    Dense,\n",
    "    Dropout,\n",
    "    Flatten,\n",
    "    MaxPool1D,\n",
    "    TimeDistributed,\n",
    "    BatchNormalization,\n",
    "    LSTM,\n",
    "    GRU,\n",
    "    SimpleRNN,\n",
    "    PReLU,\n",
    "    LeakyReLU,\n",
    "    MaxPooling1D\n",
    "    \n",
    ")\n",
    "\n",
    "INPUT_SHAPE = (x_train_multi.shape[1], x_train_multi.shape[2])\n",
    "NUM_CLASSES = 1\n",
    "input_shape = (x_train_multi.shape[1], x_train_multi.shape[2])\n",
    "num_classes = 1"
   ]
  },
  {
   "cell_type": "code",
   "execution_count": 83,
   "id": "c174939b-683f-42ac-8c69-3bd02a62016a",
   "metadata": {},
   "outputs": [],
   "source": [
    "from kerastuner import HyperModel\n",
    "\n",
    "\n",
    "class CNNHyperModel(HyperModel):\n",
    "    def __init__(self, input_shape, num_classes):\n",
    "        self.input_shape = input_shape\n",
    "        self.num_classes = num_classes\n",
    "\n",
    "    def build(self, hp):\n",
    "        model = keras.Sequential()\n",
    "        model.add(\n",
    "            Conv1D(\n",
    "                filters=hp.Choice(\n",
    "                    'Conv1D_Filters_1',\n",
    "                    values=[5, 10, 15, 20, 25, 50, 100, 150, 200, 300, 400, 500],\n",
    "                    default=25,\n",
    "                ),\n",
    "                kernel_size=3,\n",
    "                strides=1,\n",
    "                padding = \"causal\",\n",
    "                activation= hp.Choice(\n",
    "                    'Conv1D_Activation_1',\n",
    "                    values=['relu', 'tanh', 'sigmoid', 'swish','elu','selu'],\n",
    "                    default='relu'\n",
    "                ),\n",
    "                input_shape=self.input_shape\n",
    "            ))\n",
    "        \n",
    "        model.add(BatchNormalization())\n",
    "        \n",
    "        model.add(\n",
    "                LeakyReLU(alpha=hp.Float(\n",
    "                'LeakyReLU_1',\n",
    "                min_value=0.0,\n",
    "                max_value=0.5,\n",
    "                default=0.25,\n",
    "                step=0.05,\n",
    "            )))\n",
    "        \n",
    "        model.add(PReLU())\n",
    "        \n",
    "        model.add(\n",
    "            Dropout(\n",
    "                rate=hp.Float(\n",
    "                    'dropout_1',\n",
    "                    min_value=0.0,\n",
    "                    max_value=0.5,\n",
    "                    default=0.25,\n",
    "                    step=0.05)\n",
    "            ))\n",
    "        \n",
    "        model.add(\n",
    "            Conv1D(\n",
    "                filters=hp.Choice(\n",
    "                    'Conv1D_Filters_2',\n",
    "                    values=[5, 10, 15, 20, 25, 50, 100, 150, 200, 300, 400, 500],\n",
    "                    default=25,\n",
    "                ),\n",
    "                kernel_size=3,\n",
    "                strides=1,\n",
    "                padding = \"causal\",\n",
    "                activation= hp.Choice(\n",
    "                    'Conv1D_Activation_2',\n",
    "                    values=['relu', 'tanh', 'sigmoid', 'swish','elu','selu'],\n",
    "                    default='relu'\n",
    "                )\n",
    "            ))\n",
    "        \n",
    "        model.add(BatchNormalization())\n",
    "        \n",
    "        model.add(\n",
    "                LeakyReLU(alpha=hp.Float(\n",
    "                'LeakyReLU_2',\n",
    "                min_value=0.0,\n",
    "                max_value=0.5,\n",
    "                default=0.25,\n",
    "                step=0.05,\n",
    "            )))\n",
    "        \n",
    "        model.add(PReLU())\n",
    "        \n",
    "        model.add(\n",
    "            Dropout(\n",
    "                rate=hp.Float(\n",
    "                    'dropout_2',\n",
    "                    min_value=0.0,\n",
    "                    max_value=0.5,\n",
    "                    default=0.25,\n",
    "                    step=0.05)\n",
    "            ))\n",
    "        \n",
    "        \n",
    "        model.add(MaxPooling1D(pool_size=1, strides=1, padding='same'))\n",
    "        \n",
    "        model.add(\n",
    "            Conv1D(\n",
    "                filters=hp.Choice(\n",
    "                    'Conv1D_Filters_3',\n",
    "                    values=[5, 10, 15, 20, 25, 50, 100, 150, 200, 300, 400, 500],\n",
    "                    default=25,\n",
    "                ),\n",
    "                kernel_size=3,\n",
    "                strides=1,\n",
    "                padding = \"causal\",\n",
    "                activation= hp.Choice(\n",
    "                    'Conv1D_Activation_3',\n",
    "                    values=['relu', 'tanh', 'sigmoid', 'swish','elu','selu'],\n",
    "                    default='relu'\n",
    "                )\n",
    "            ))\n",
    "        \n",
    "        model.add(BatchNormalization())\n",
    "        \n",
    "        model.add(\n",
    "                LeakyReLU(alpha=hp.Float(\n",
    "                'LeakyReLU_3',\n",
    "                min_value=0.0,\n",
    "                max_value=0.5,\n",
    "                default=0.25,\n",
    "                step=0.05,\n",
    "            )))\n",
    "        \n",
    "        model.add(PReLU())\n",
    "        \n",
    "        model.add(\n",
    "            Dropout(\n",
    "                rate=hp.Float(\n",
    "                    'dropout_3',\n",
    "                    min_value=0.0,\n",
    "                    max_value=0.5,\n",
    "                    default=0.25,\n",
    "                    step=0.05)\n",
    "            ))      \n",
    "        \n",
    "        model.add(MaxPooling1D(pool_size=1, strides=1, padding='same'))\n",
    "        \n",
    "        \n",
    "        model.add(\n",
    "            Conv1D(\n",
    "                filters=hp.Choice(\n",
    "                    'Conv1D_Filters_4',\n",
    "                    values=[5, 10, 15, 20, 25, 50, 100, 150, 200, 300, 400, 500],\n",
    "                    default=25,\n",
    "                ),\n",
    "                kernel_size=3,\n",
    "                strides=1,\n",
    "                padding = \"causal\",\n",
    "                activation= hp.Choice(\n",
    "                    'Conv1D_Activation_4',\n",
    "                    values=['relu', 'tanh', 'sigmoid', 'swish','elu','selu'],\n",
    "                    default='relu'\n",
    "                )\n",
    "            ))\n",
    "        \n",
    "        model.add(BatchNormalization())\n",
    "        \n",
    "        model.add(\n",
    "                LeakyReLU(alpha=hp.Float(\n",
    "                'LeakyReLU_4',\n",
    "                min_value=0.0,\n",
    "                max_value=0.5,\n",
    "                default=0.25,\n",
    "                step=0.05,\n",
    "            )))\n",
    "        \n",
    "        model.add(PReLU())\n",
    "        \n",
    "        model.add(\n",
    "            Dropout(\n",
    "                rate=hp.Float(\n",
    "                    'dropout_4',\n",
    "                    min_value=0.0,\n",
    "                    max_value=0.5,\n",
    "                    default=0.25,\n",
    "                    step=0.05)\n",
    "            ))            \n",
    "        \n",
    "        \n",
    "        model.add(MaxPooling1D(pool_size=1, strides=1, padding='same'))\n",
    "\n",
    "        model.add(\n",
    "            TimeDistributed(Dense(\n",
    "                units=hp.Choice(\n",
    "                    'TimeDistributed_units_1',\n",
    "                    values=[1, 5, 10, 30, 40, 80, 100, 200, 300, 500],\n",
    "                    default=30,\n",
    "                ), activation = hp.Choice(\n",
    "                    'TimeDistributed_Activation_1',\n",
    "                    values=['relu', 'tanh', 'sigmoid', 'swish', 'selu', 'elu'],\n",
    "                    default='tanh'\n",
    "                ))))\n",
    "\n",
    "        model.add(\n",
    "            Bidirectional(LSTM(\n",
    "                units=hp.Choice(\n",
    "                    'Bidirectional_units',\n",
    "                    values=[1, 5, 10, 30, 40, 80, 100, 200, 300, 500],\n",
    "                    default=30,\n",
    "                ), activation = hp.Choice(\n",
    "                    'Bidirectional_Activation',\n",
    "                    values=['relu', 'tanh', 'sigmoid', 'selu', 'elu'],\n",
    "                    default='tanh'\n",
    "                ), go_backwards=True, return_sequences = True)))\n",
    "        \n",
    "        model.add(Flatten())\n",
    "        \n",
    "        model.add(\n",
    "            Dense(\n",
    "                units= 1,\n",
    "                kernel_regularizer=regularizers.l2(0.01),\n",
    "                bias_regularizer=regularizers.l2(0.01),\n",
    "                activity_regularizer=regularizers.l2(0.01),\n",
    "                activation=hp.Choice(\n",
    "                    'dense_activation',\n",
    "                    values=['relu', 'tanh', 'sigmoid','linear','swish','softmax'],\n",
    "                    default='softmax'\n",
    "                )\n",
    "            )\n",
    "        )\n",
    "        \n",
    "        model.compile(\n",
    "            optimizer=keras.optimizers.Adam(\n",
    "                hp.Float(\n",
    "                    'learning_rate',\n",
    "                    min_value=.00001,\n",
    "                    max_value=.01,\n",
    "                    sampling='LOG',\n",
    "                    default=.00001\n",
    "                )\n",
    "            ),\n",
    "            loss=tf.losses.MeanSquaredError(),\n",
    "            metrics=['accuracy']\n",
    "        )\n",
    "        \n",
    "        return model\n",
    "\n",
    "hypermodel = CNNHyperModel(input_shape=INPUT_SHAPE, num_classes=NUM_CLASSES)"
   ]
  },
  {
   "cell_type": "code",
   "execution_count": 84,
   "id": "6bbd2c9c-6900-4dd2-97a2-fc2917000797",
   "metadata": {},
   "outputs": [],
   "source": [
    "HYPERBAND_MAX_EPOCHS = 60\n",
    "MAX_TRIALS = 60\n",
    "EXECUTION_PER_TRIAL = 60"
   ]
  },
  {
   "cell_type": "code",
   "execution_count": 85,
   "id": "7602244e-e1a5-411d-b4ea-82fb2f170d55",
   "metadata": {},
   "outputs": [
    {
     "name": "stdout",
     "output_type": "stream",
     "text": [
      "INFO:tensorflow:Reloading Oracle from existing project /home/jupyter/hyperband4/oracle.json\n",
      "INFO:tensorflow:Reloading Tuner from /home/jupyter/hyperband4/tuner0.json\n"
     ]
    }
   ],
   "source": [
    "from kerastuner.tuners import Hyperband\n",
    "\n",
    "\n",
    "tuner = Hyperband(\n",
    "    hypermodel,\n",
    "    max_epochs=HYPERBAND_MAX_EPOCHS,\n",
    "    objective='val_accuracy',\n",
    "    seed=1,\n",
    "    executions_per_trial=EXECUTION_PER_TRIAL,\n",
    "    directory='/home/jupyter',\n",
    "    project_name='hyperband4'\n",
    ")"
   ]
  },
  {
   "cell_type": "code",
   "execution_count": 86,
   "id": "c0bfb586-dd6f-413e-b495-4e494e0e9431",
   "metadata": {},
   "outputs": [
    {
     "data": {
      "text/html": [
       "<span style=\"color:#4527A0\"><h1 style=\"font-size:18px\">Search space summary</h1></span>"
      ],
      "text/plain": [
       "<IPython.core.display.HTML object>"
      ]
     },
     "metadata": {},
     "output_type": "display_data"
    },
    {
     "data": {
      "text/html": [
       "<span style=\"color:cyan\"> |-Default search space size: 22</span>"
      ],
      "text/plain": [
       "<IPython.core.display.HTML object>"
      ]
     },
     "metadata": {},
     "output_type": "display_data"
    },
    {
     "data": {
      "text/html": [
       "<span style=\"color:#7E57C2\"><h2 style=\"font-size:16px\">Conv1D_Filters_1 (Choice)</h2></span>"
      ],
      "text/plain": [
       "<IPython.core.display.HTML object>"
      ]
     },
     "metadata": {},
     "output_type": "display_data"
    },
    {
     "data": {
      "text/html": [
       "<span style=\"color:cyan\"> |-default: 25</span>"
      ],
      "text/plain": [
       "<IPython.core.display.HTML object>"
      ]
     },
     "metadata": {},
     "output_type": "display_data"
    },
    {
     "data": {
      "text/html": [
       "<span style=\"color:blue\"> |-ordered: True</span>"
      ],
      "text/plain": [
       "<IPython.core.display.HTML object>"
      ]
     },
     "metadata": {},
     "output_type": "display_data"
    },
    {
     "data": {
      "text/html": [
       "<span style=\"color:cyan\"> |-values: [5, 10, 15, 20, 25, 50, 100, 150, 200, 300, 400, 500]</span>"
      ],
      "text/plain": [
       "<IPython.core.display.HTML object>"
      ]
     },
     "metadata": {},
     "output_type": "display_data"
    },
    {
     "data": {
      "text/html": [
       "<span style=\"color:#7E57C2\"><h2 style=\"font-size:16px\">Conv1D_Activation_1 (Choice)</h2></span>"
      ],
      "text/plain": [
       "<IPython.core.display.HTML object>"
      ]
     },
     "metadata": {},
     "output_type": "display_data"
    },
    {
     "data": {
      "text/html": [
       "<span style=\"color:cyan\"> |-default: relu</span>"
      ],
      "text/plain": [
       "<IPython.core.display.HTML object>"
      ]
     },
     "metadata": {},
     "output_type": "display_data"
    },
    {
     "data": {
      "text/html": [
       "<span style=\"color:blue\"> |-ordered: False</span>"
      ],
      "text/plain": [
       "<IPython.core.display.HTML object>"
      ]
     },
     "metadata": {},
     "output_type": "display_data"
    },
    {
     "data": {
      "text/html": [
       "<span style=\"color:cyan\"> |-values: ['relu', 'tanh', 'sigmoid', 'swish', 'elu', 'selu']</span>"
      ],
      "text/plain": [
       "<IPython.core.display.HTML object>"
      ]
     },
     "metadata": {},
     "output_type": "display_data"
    },
    {
     "data": {
      "text/html": [
       "<span style=\"color:#7E57C2\"><h2 style=\"font-size:16px\">LeakyReLU_1 (Float)</h2></span>"
      ],
      "text/plain": [
       "<IPython.core.display.HTML object>"
      ]
     },
     "metadata": {},
     "output_type": "display_data"
    },
    {
     "data": {
      "text/html": [
       "<span style=\"color:cyan\"> |-default: 0.25</span>"
      ],
      "text/plain": [
       "<IPython.core.display.HTML object>"
      ]
     },
     "metadata": {},
     "output_type": "display_data"
    },
    {
     "data": {
      "text/html": [
       "<span style=\"color:blue\"> |-max_value: 0.5</span>"
      ],
      "text/plain": [
       "<IPython.core.display.HTML object>"
      ]
     },
     "metadata": {},
     "output_type": "display_data"
    },
    {
     "data": {
      "text/html": [
       "<span style=\"color:cyan\"> |-min_value: 0.0</span>"
      ],
      "text/plain": [
       "<IPython.core.display.HTML object>"
      ]
     },
     "metadata": {},
     "output_type": "display_data"
    },
    {
     "data": {
      "text/html": [
       "<span style=\"color:blue\"> |-sampling: None</span>"
      ],
      "text/plain": [
       "<IPython.core.display.HTML object>"
      ]
     },
     "metadata": {},
     "output_type": "display_data"
    },
    {
     "data": {
      "text/html": [
       "<span style=\"color:cyan\"> |-step: 0.05</span>"
      ],
      "text/plain": [
       "<IPython.core.display.HTML object>"
      ]
     },
     "metadata": {},
     "output_type": "display_data"
    },
    {
     "data": {
      "text/html": [
       "<span style=\"color:#7E57C2\"><h2 style=\"font-size:16px\">dropout_1 (Float)</h2></span>"
      ],
      "text/plain": [
       "<IPython.core.display.HTML object>"
      ]
     },
     "metadata": {},
     "output_type": "display_data"
    },
    {
     "data": {
      "text/html": [
       "<span style=\"color:cyan\"> |-default: 0.25</span>"
      ],
      "text/plain": [
       "<IPython.core.display.HTML object>"
      ]
     },
     "metadata": {},
     "output_type": "display_data"
    },
    {
     "data": {
      "text/html": [
       "<span style=\"color:blue\"> |-max_value: 0.5</span>"
      ],
      "text/plain": [
       "<IPython.core.display.HTML object>"
      ]
     },
     "metadata": {},
     "output_type": "display_data"
    },
    {
     "data": {
      "text/html": [
       "<span style=\"color:cyan\"> |-min_value: 0.0</span>"
      ],
      "text/plain": [
       "<IPython.core.display.HTML object>"
      ]
     },
     "metadata": {},
     "output_type": "display_data"
    },
    {
     "data": {
      "text/html": [
       "<span style=\"color:blue\"> |-sampling: None</span>"
      ],
      "text/plain": [
       "<IPython.core.display.HTML object>"
      ]
     },
     "metadata": {},
     "output_type": "display_data"
    },
    {
     "data": {
      "text/html": [
       "<span style=\"color:cyan\"> |-step: 0.05</span>"
      ],
      "text/plain": [
       "<IPython.core.display.HTML object>"
      ]
     },
     "metadata": {},
     "output_type": "display_data"
    },
    {
     "data": {
      "text/html": [
       "<span style=\"color:#7E57C2\"><h2 style=\"font-size:16px\">Conv1D_Filters_2 (Choice)</h2></span>"
      ],
      "text/plain": [
       "<IPython.core.display.HTML object>"
      ]
     },
     "metadata": {},
     "output_type": "display_data"
    },
    {
     "data": {
      "text/html": [
       "<span style=\"color:cyan\"> |-default: 25</span>"
      ],
      "text/plain": [
       "<IPython.core.display.HTML object>"
      ]
     },
     "metadata": {},
     "output_type": "display_data"
    },
    {
     "data": {
      "text/html": [
       "<span style=\"color:blue\"> |-ordered: True</span>"
      ],
      "text/plain": [
       "<IPython.core.display.HTML object>"
      ]
     },
     "metadata": {},
     "output_type": "display_data"
    },
    {
     "data": {
      "text/html": [
       "<span style=\"color:cyan\"> |-values: [5, 10, 15, 20, 25, 50, 100, 150, 200, 300, 400, 500]</span>"
      ],
      "text/plain": [
       "<IPython.core.display.HTML object>"
      ]
     },
     "metadata": {},
     "output_type": "display_data"
    },
    {
     "data": {
      "text/html": [
       "<span style=\"color:#7E57C2\"><h2 style=\"font-size:16px\">Conv1D_Activation_2 (Choice)</h2></span>"
      ],
      "text/plain": [
       "<IPython.core.display.HTML object>"
      ]
     },
     "metadata": {},
     "output_type": "display_data"
    },
    {
     "data": {
      "text/html": [
       "<span style=\"color:cyan\"> |-default: relu</span>"
      ],
      "text/plain": [
       "<IPython.core.display.HTML object>"
      ]
     },
     "metadata": {},
     "output_type": "display_data"
    },
    {
     "data": {
      "text/html": [
       "<span style=\"color:blue\"> |-ordered: False</span>"
      ],
      "text/plain": [
       "<IPython.core.display.HTML object>"
      ]
     },
     "metadata": {},
     "output_type": "display_data"
    },
    {
     "data": {
      "text/html": [
       "<span style=\"color:cyan\"> |-values: ['relu', 'tanh', 'sigmoid', 'swish', 'elu', 'selu']</span>"
      ],
      "text/plain": [
       "<IPython.core.display.HTML object>"
      ]
     },
     "metadata": {},
     "output_type": "display_data"
    },
    {
     "data": {
      "text/html": [
       "<span style=\"color:#7E57C2\"><h2 style=\"font-size:16px\">LeakyReLU_2 (Float)</h2></span>"
      ],
      "text/plain": [
       "<IPython.core.display.HTML object>"
      ]
     },
     "metadata": {},
     "output_type": "display_data"
    },
    {
     "data": {
      "text/html": [
       "<span style=\"color:cyan\"> |-default: 0.25</span>"
      ],
      "text/plain": [
       "<IPython.core.display.HTML object>"
      ]
     },
     "metadata": {},
     "output_type": "display_data"
    },
    {
     "data": {
      "text/html": [
       "<span style=\"color:blue\"> |-max_value: 0.5</span>"
      ],
      "text/plain": [
       "<IPython.core.display.HTML object>"
      ]
     },
     "metadata": {},
     "output_type": "display_data"
    },
    {
     "data": {
      "text/html": [
       "<span style=\"color:cyan\"> |-min_value: 0.0</span>"
      ],
      "text/plain": [
       "<IPython.core.display.HTML object>"
      ]
     },
     "metadata": {},
     "output_type": "display_data"
    },
    {
     "data": {
      "text/html": [
       "<span style=\"color:blue\"> |-sampling: None</span>"
      ],
      "text/plain": [
       "<IPython.core.display.HTML object>"
      ]
     },
     "metadata": {},
     "output_type": "display_data"
    },
    {
     "data": {
      "text/html": [
       "<span style=\"color:cyan\"> |-step: 0.05</span>"
      ],
      "text/plain": [
       "<IPython.core.display.HTML object>"
      ]
     },
     "metadata": {},
     "output_type": "display_data"
    },
    {
     "data": {
      "text/html": [
       "<span style=\"color:#7E57C2\"><h2 style=\"font-size:16px\">dropout_2 (Float)</h2></span>"
      ],
      "text/plain": [
       "<IPython.core.display.HTML object>"
      ]
     },
     "metadata": {},
     "output_type": "display_data"
    },
    {
     "data": {
      "text/html": [
       "<span style=\"color:cyan\"> |-default: 0.25</span>"
      ],
      "text/plain": [
       "<IPython.core.display.HTML object>"
      ]
     },
     "metadata": {},
     "output_type": "display_data"
    },
    {
     "data": {
      "text/html": [
       "<span style=\"color:blue\"> |-max_value: 0.5</span>"
      ],
      "text/plain": [
       "<IPython.core.display.HTML object>"
      ]
     },
     "metadata": {},
     "output_type": "display_data"
    },
    {
     "data": {
      "text/html": [
       "<span style=\"color:cyan\"> |-min_value: 0.0</span>"
      ],
      "text/plain": [
       "<IPython.core.display.HTML object>"
      ]
     },
     "metadata": {},
     "output_type": "display_data"
    },
    {
     "data": {
      "text/html": [
       "<span style=\"color:blue\"> |-sampling: None</span>"
      ],
      "text/plain": [
       "<IPython.core.display.HTML object>"
      ]
     },
     "metadata": {},
     "output_type": "display_data"
    },
    {
     "data": {
      "text/html": [
       "<span style=\"color:cyan\"> |-step: 0.05</span>"
      ],
      "text/plain": [
       "<IPython.core.display.HTML object>"
      ]
     },
     "metadata": {},
     "output_type": "display_data"
    },
    {
     "data": {
      "text/html": [
       "<span style=\"color:#7E57C2\"><h2 style=\"font-size:16px\">Conv1D_Filters_3 (Choice)</h2></span>"
      ],
      "text/plain": [
       "<IPython.core.display.HTML object>"
      ]
     },
     "metadata": {},
     "output_type": "display_data"
    },
    {
     "data": {
      "text/html": [
       "<span style=\"color:cyan\"> |-default: 25</span>"
      ],
      "text/plain": [
       "<IPython.core.display.HTML object>"
      ]
     },
     "metadata": {},
     "output_type": "display_data"
    },
    {
     "data": {
      "text/html": [
       "<span style=\"color:blue\"> |-ordered: True</span>"
      ],
      "text/plain": [
       "<IPython.core.display.HTML object>"
      ]
     },
     "metadata": {},
     "output_type": "display_data"
    },
    {
     "data": {
      "text/html": [
       "<span style=\"color:cyan\"> |-values: [5, 10, 15, 20, 25, 50, 100, 150, 200, 300, 400, 500]</span>"
      ],
      "text/plain": [
       "<IPython.core.display.HTML object>"
      ]
     },
     "metadata": {},
     "output_type": "display_data"
    },
    {
     "data": {
      "text/html": [
       "<span style=\"color:#7E57C2\"><h2 style=\"font-size:16px\">Conv1D_Activation_3 (Choice)</h2></span>"
      ],
      "text/plain": [
       "<IPython.core.display.HTML object>"
      ]
     },
     "metadata": {},
     "output_type": "display_data"
    },
    {
     "data": {
      "text/html": [
       "<span style=\"color:cyan\"> |-default: relu</span>"
      ],
      "text/plain": [
       "<IPython.core.display.HTML object>"
      ]
     },
     "metadata": {},
     "output_type": "display_data"
    },
    {
     "data": {
      "text/html": [
       "<span style=\"color:blue\"> |-ordered: False</span>"
      ],
      "text/plain": [
       "<IPython.core.display.HTML object>"
      ]
     },
     "metadata": {},
     "output_type": "display_data"
    },
    {
     "data": {
      "text/html": [
       "<span style=\"color:cyan\"> |-values: ['relu', 'tanh', 'sigmoid', 'swish', 'elu', 'selu']</span>"
      ],
      "text/plain": [
       "<IPython.core.display.HTML object>"
      ]
     },
     "metadata": {},
     "output_type": "display_data"
    },
    {
     "data": {
      "text/html": [
       "<span style=\"color:#7E57C2\"><h2 style=\"font-size:16px\">LeakyReLU_3 (Float)</h2></span>"
      ],
      "text/plain": [
       "<IPython.core.display.HTML object>"
      ]
     },
     "metadata": {},
     "output_type": "display_data"
    },
    {
     "data": {
      "text/html": [
       "<span style=\"color:cyan\"> |-default: 0.25</span>"
      ],
      "text/plain": [
       "<IPython.core.display.HTML object>"
      ]
     },
     "metadata": {},
     "output_type": "display_data"
    },
    {
     "data": {
      "text/html": [
       "<span style=\"color:blue\"> |-max_value: 0.5</span>"
      ],
      "text/plain": [
       "<IPython.core.display.HTML object>"
      ]
     },
     "metadata": {},
     "output_type": "display_data"
    },
    {
     "data": {
      "text/html": [
       "<span style=\"color:cyan\"> |-min_value: 0.0</span>"
      ],
      "text/plain": [
       "<IPython.core.display.HTML object>"
      ]
     },
     "metadata": {},
     "output_type": "display_data"
    },
    {
     "data": {
      "text/html": [
       "<span style=\"color:blue\"> |-sampling: None</span>"
      ],
      "text/plain": [
       "<IPython.core.display.HTML object>"
      ]
     },
     "metadata": {},
     "output_type": "display_data"
    },
    {
     "data": {
      "text/html": [
       "<span style=\"color:cyan\"> |-step: 0.05</span>"
      ],
      "text/plain": [
       "<IPython.core.display.HTML object>"
      ]
     },
     "metadata": {},
     "output_type": "display_data"
    },
    {
     "data": {
      "text/html": [
       "<span style=\"color:#7E57C2\"><h2 style=\"font-size:16px\">dropout_3 (Float)</h2></span>"
      ],
      "text/plain": [
       "<IPython.core.display.HTML object>"
      ]
     },
     "metadata": {},
     "output_type": "display_data"
    },
    {
     "data": {
      "text/html": [
       "<span style=\"color:cyan\"> |-default: 0.25</span>"
      ],
      "text/plain": [
       "<IPython.core.display.HTML object>"
      ]
     },
     "metadata": {},
     "output_type": "display_data"
    },
    {
     "data": {
      "text/html": [
       "<span style=\"color:blue\"> |-max_value: 0.5</span>"
      ],
      "text/plain": [
       "<IPython.core.display.HTML object>"
      ]
     },
     "metadata": {},
     "output_type": "display_data"
    },
    {
     "data": {
      "text/html": [
       "<span style=\"color:cyan\"> |-min_value: 0.0</span>"
      ],
      "text/plain": [
       "<IPython.core.display.HTML object>"
      ]
     },
     "metadata": {},
     "output_type": "display_data"
    },
    {
     "data": {
      "text/html": [
       "<span style=\"color:blue\"> |-sampling: None</span>"
      ],
      "text/plain": [
       "<IPython.core.display.HTML object>"
      ]
     },
     "metadata": {},
     "output_type": "display_data"
    },
    {
     "data": {
      "text/html": [
       "<span style=\"color:cyan\"> |-step: 0.05</span>"
      ],
      "text/plain": [
       "<IPython.core.display.HTML object>"
      ]
     },
     "metadata": {},
     "output_type": "display_data"
    },
    {
     "data": {
      "text/html": [
       "<span style=\"color:#7E57C2\"><h2 style=\"font-size:16px\">Conv1D_Filters_4 (Choice)</h2></span>"
      ],
      "text/plain": [
       "<IPython.core.display.HTML object>"
      ]
     },
     "metadata": {},
     "output_type": "display_data"
    },
    {
     "data": {
      "text/html": [
       "<span style=\"color:cyan\"> |-default: 25</span>"
      ],
      "text/plain": [
       "<IPython.core.display.HTML object>"
      ]
     },
     "metadata": {},
     "output_type": "display_data"
    },
    {
     "data": {
      "text/html": [
       "<span style=\"color:blue\"> |-ordered: True</span>"
      ],
      "text/plain": [
       "<IPython.core.display.HTML object>"
      ]
     },
     "metadata": {},
     "output_type": "display_data"
    },
    {
     "data": {
      "text/html": [
       "<span style=\"color:cyan\"> |-values: [5, 10, 15, 20, 25, 50, 100, 150, 200, 300, 400, 500]</span>"
      ],
      "text/plain": [
       "<IPython.core.display.HTML object>"
      ]
     },
     "metadata": {},
     "output_type": "display_data"
    },
    {
     "data": {
      "text/html": [
       "<span style=\"color:#7E57C2\"><h2 style=\"font-size:16px\">Conv1D_Activation_4 (Choice)</h2></span>"
      ],
      "text/plain": [
       "<IPython.core.display.HTML object>"
      ]
     },
     "metadata": {},
     "output_type": "display_data"
    },
    {
     "data": {
      "text/html": [
       "<span style=\"color:cyan\"> |-default: relu</span>"
      ],
      "text/plain": [
       "<IPython.core.display.HTML object>"
      ]
     },
     "metadata": {},
     "output_type": "display_data"
    },
    {
     "data": {
      "text/html": [
       "<span style=\"color:blue\"> |-ordered: False</span>"
      ],
      "text/plain": [
       "<IPython.core.display.HTML object>"
      ]
     },
     "metadata": {},
     "output_type": "display_data"
    },
    {
     "data": {
      "text/html": [
       "<span style=\"color:cyan\"> |-values: ['relu', 'tanh', 'sigmoid', 'swish', 'elu', 'selu']</span>"
      ],
      "text/plain": [
       "<IPython.core.display.HTML object>"
      ]
     },
     "metadata": {},
     "output_type": "display_data"
    },
    {
     "data": {
      "text/html": [
       "<span style=\"color:#7E57C2\"><h2 style=\"font-size:16px\">LeakyReLU_4 (Float)</h2></span>"
      ],
      "text/plain": [
       "<IPython.core.display.HTML object>"
      ]
     },
     "metadata": {},
     "output_type": "display_data"
    },
    {
     "data": {
      "text/html": [
       "<span style=\"color:cyan\"> |-default: 0.25</span>"
      ],
      "text/plain": [
       "<IPython.core.display.HTML object>"
      ]
     },
     "metadata": {},
     "output_type": "display_data"
    },
    {
     "data": {
      "text/html": [
       "<span style=\"color:blue\"> |-max_value: 0.5</span>"
      ],
      "text/plain": [
       "<IPython.core.display.HTML object>"
      ]
     },
     "metadata": {},
     "output_type": "display_data"
    },
    {
     "data": {
      "text/html": [
       "<span style=\"color:cyan\"> |-min_value: 0.0</span>"
      ],
      "text/plain": [
       "<IPython.core.display.HTML object>"
      ]
     },
     "metadata": {},
     "output_type": "display_data"
    },
    {
     "data": {
      "text/html": [
       "<span style=\"color:blue\"> |-sampling: None</span>"
      ],
      "text/plain": [
       "<IPython.core.display.HTML object>"
      ]
     },
     "metadata": {},
     "output_type": "display_data"
    },
    {
     "data": {
      "text/html": [
       "<span style=\"color:cyan\"> |-step: 0.05</span>"
      ],
      "text/plain": [
       "<IPython.core.display.HTML object>"
      ]
     },
     "metadata": {},
     "output_type": "display_data"
    },
    {
     "data": {
      "text/html": [
       "<span style=\"color:#7E57C2\"><h2 style=\"font-size:16px\">dropout_4 (Float)</h2></span>"
      ],
      "text/plain": [
       "<IPython.core.display.HTML object>"
      ]
     },
     "metadata": {},
     "output_type": "display_data"
    },
    {
     "data": {
      "text/html": [
       "<span style=\"color:cyan\"> |-default: 0.25</span>"
      ],
      "text/plain": [
       "<IPython.core.display.HTML object>"
      ]
     },
     "metadata": {},
     "output_type": "display_data"
    },
    {
     "data": {
      "text/html": [
       "<span style=\"color:blue\"> |-max_value: 0.5</span>"
      ],
      "text/plain": [
       "<IPython.core.display.HTML object>"
      ]
     },
     "metadata": {},
     "output_type": "display_data"
    },
    {
     "data": {
      "text/html": [
       "<span style=\"color:cyan\"> |-min_value: 0.0</span>"
      ],
      "text/plain": [
       "<IPython.core.display.HTML object>"
      ]
     },
     "metadata": {},
     "output_type": "display_data"
    },
    {
     "data": {
      "text/html": [
       "<span style=\"color:blue\"> |-sampling: None</span>"
      ],
      "text/plain": [
       "<IPython.core.display.HTML object>"
      ]
     },
     "metadata": {},
     "output_type": "display_data"
    },
    {
     "data": {
      "text/html": [
       "<span style=\"color:cyan\"> |-step: 0.05</span>"
      ],
      "text/plain": [
       "<IPython.core.display.HTML object>"
      ]
     },
     "metadata": {},
     "output_type": "display_data"
    },
    {
     "data": {
      "text/html": [
       "<span style=\"color:#7E57C2\"><h2 style=\"font-size:16px\">TimeDistributed_units_1 (Choice)</h2></span>"
      ],
      "text/plain": [
       "<IPython.core.display.HTML object>"
      ]
     },
     "metadata": {},
     "output_type": "display_data"
    },
    {
     "data": {
      "text/html": [
       "<span style=\"color:cyan\"> |-default: 30</span>"
      ],
      "text/plain": [
       "<IPython.core.display.HTML object>"
      ]
     },
     "metadata": {},
     "output_type": "display_data"
    },
    {
     "data": {
      "text/html": [
       "<span style=\"color:blue\"> |-ordered: True</span>"
      ],
      "text/plain": [
       "<IPython.core.display.HTML object>"
      ]
     },
     "metadata": {},
     "output_type": "display_data"
    },
    {
     "data": {
      "text/html": [
       "<span style=\"color:cyan\"> |-values: [1, 5, 10, 30, 40, 80, 100, 200, 300, 500]</span>"
      ],
      "text/plain": [
       "<IPython.core.display.HTML object>"
      ]
     },
     "metadata": {},
     "output_type": "display_data"
    },
    {
     "data": {
      "text/html": [
       "<span style=\"color:#7E57C2\"><h2 style=\"font-size:16px\">TimeDistributed_Activation_1 (Choice)</h2></span>"
      ],
      "text/plain": [
       "<IPython.core.display.HTML object>"
      ]
     },
     "metadata": {},
     "output_type": "display_data"
    },
    {
     "data": {
      "text/html": [
       "<span style=\"color:cyan\"> |-default: tanh</span>"
      ],
      "text/plain": [
       "<IPython.core.display.HTML object>"
      ]
     },
     "metadata": {},
     "output_type": "display_data"
    },
    {
     "data": {
      "text/html": [
       "<span style=\"color:blue\"> |-ordered: False</span>"
      ],
      "text/plain": [
       "<IPython.core.display.HTML object>"
      ]
     },
     "metadata": {},
     "output_type": "display_data"
    },
    {
     "data": {
      "text/html": [
       "<span style=\"color:cyan\"> |-values: ['relu', 'tanh', 'sigmoid', 'swish', 'selu', 'elu']</span>"
      ],
      "text/plain": [
       "<IPython.core.display.HTML object>"
      ]
     },
     "metadata": {},
     "output_type": "display_data"
    },
    {
     "data": {
      "text/html": [
       "<span style=\"color:#7E57C2\"><h2 style=\"font-size:16px\">Bidirectional_units (Choice)</h2></span>"
      ],
      "text/plain": [
       "<IPython.core.display.HTML object>"
      ]
     },
     "metadata": {},
     "output_type": "display_data"
    },
    {
     "data": {
      "text/html": [
       "<span style=\"color:cyan\"> |-default: 30</span>"
      ],
      "text/plain": [
       "<IPython.core.display.HTML object>"
      ]
     },
     "metadata": {},
     "output_type": "display_data"
    },
    {
     "data": {
      "text/html": [
       "<span style=\"color:blue\"> |-ordered: True</span>"
      ],
      "text/plain": [
       "<IPython.core.display.HTML object>"
      ]
     },
     "metadata": {},
     "output_type": "display_data"
    },
    {
     "data": {
      "text/html": [
       "<span style=\"color:cyan\"> |-values: [1, 5, 10, 30, 40, 80, 100, 200, 300, 500]</span>"
      ],
      "text/plain": [
       "<IPython.core.display.HTML object>"
      ]
     },
     "metadata": {},
     "output_type": "display_data"
    },
    {
     "data": {
      "text/html": [
       "<span style=\"color:#7E57C2\"><h2 style=\"font-size:16px\">Bidirectional_Activation (Choice)</h2></span>"
      ],
      "text/plain": [
       "<IPython.core.display.HTML object>"
      ]
     },
     "metadata": {},
     "output_type": "display_data"
    },
    {
     "data": {
      "text/html": [
       "<span style=\"color:cyan\"> |-default: tanh</span>"
      ],
      "text/plain": [
       "<IPython.core.display.HTML object>"
      ]
     },
     "metadata": {},
     "output_type": "display_data"
    },
    {
     "data": {
      "text/html": [
       "<span style=\"color:blue\"> |-ordered: False</span>"
      ],
      "text/plain": [
       "<IPython.core.display.HTML object>"
      ]
     },
     "metadata": {},
     "output_type": "display_data"
    },
    {
     "data": {
      "text/html": [
       "<span style=\"color:cyan\"> |-values: ['relu', 'tanh', 'sigmoid', 'selu', 'elu']</span>"
      ],
      "text/plain": [
       "<IPython.core.display.HTML object>"
      ]
     },
     "metadata": {},
     "output_type": "display_data"
    },
    {
     "data": {
      "text/html": [
       "<span style=\"color:#7E57C2\"><h2 style=\"font-size:16px\">dense_activation (Choice)</h2></span>"
      ],
      "text/plain": [
       "<IPython.core.display.HTML object>"
      ]
     },
     "metadata": {},
     "output_type": "display_data"
    },
    {
     "data": {
      "text/html": [
       "<span style=\"color:cyan\"> |-default: softmax</span>"
      ],
      "text/plain": [
       "<IPython.core.display.HTML object>"
      ]
     },
     "metadata": {},
     "output_type": "display_data"
    },
    {
     "data": {
      "text/html": [
       "<span style=\"color:blue\"> |-ordered: False</span>"
      ],
      "text/plain": [
       "<IPython.core.display.HTML object>"
      ]
     },
     "metadata": {},
     "output_type": "display_data"
    },
    {
     "data": {
      "text/html": [
       "<span style=\"color:cyan\"> |-values: ['relu', 'tanh', 'sigmoid', 'linear', 'swish', 'softmax']</span>"
      ],
      "text/plain": [
       "<IPython.core.display.HTML object>"
      ]
     },
     "metadata": {},
     "output_type": "display_data"
    },
    {
     "data": {
      "text/html": [
       "<span style=\"color:#7E57C2\"><h2 style=\"font-size:16px\">learning_rate (Float)</h2></span>"
      ],
      "text/plain": [
       "<IPython.core.display.HTML object>"
      ]
     },
     "metadata": {},
     "output_type": "display_data"
    },
    {
     "data": {
      "text/html": [
       "<span style=\"color:cyan\"> |-default: 1e-05</span>"
      ],
      "text/plain": [
       "<IPython.core.display.HTML object>"
      ]
     },
     "metadata": {},
     "output_type": "display_data"
    },
    {
     "data": {
      "text/html": [
       "<span style=\"color:blue\"> |-max_value: 0.01</span>"
      ],
      "text/plain": [
       "<IPython.core.display.HTML object>"
      ]
     },
     "metadata": {},
     "output_type": "display_data"
    },
    {
     "data": {
      "text/html": [
       "<span style=\"color:cyan\"> |-min_value: 1e-05</span>"
      ],
      "text/plain": [
       "<IPython.core.display.HTML object>"
      ]
     },
     "metadata": {},
     "output_type": "display_data"
    },
    {
     "data": {
      "text/html": [
       "<span style=\"color:blue\"> |-sampling: log</span>"
      ],
      "text/plain": [
       "<IPython.core.display.HTML object>"
      ]
     },
     "metadata": {},
     "output_type": "display_data"
    },
    {
     "data": {
      "text/html": [
       "<span style=\"color:cyan\"> |-step: None</span>"
      ],
      "text/plain": [
       "<IPython.core.display.HTML object>"
      ]
     },
     "metadata": {},
     "output_type": "display_data"
    }
   ],
   "source": [
    "tuner.search_space_summary()"
   ]
  },
  {
   "cell_type": "code",
   "execution_count": 87,
   "id": "8fdd7560-8ffe-4c75-815b-e3aed00af543",
   "metadata": {},
   "outputs": [],
   "source": [
    "N_EPOCH_SEARCH = 60"
   ]
  },
  {
   "cell_type": "code",
   "execution_count": 88,
   "id": "e05101b3-e3b2-4dd8-823b-37516a097545",
   "metadata": {},
   "outputs": [],
   "source": [
    "class ClearTrainingOutput(tf.keras.callbacks.Callback):\n",
    "  def on_train_end(*args, **kwargs):\n",
    "    IPython.display.clear_output(wait = True)"
   ]
  },
  {
   "cell_type": "code",
   "execution_count": 89,
   "id": "c86fba55-d466-4ffb-941a-3889551dace2",
   "metadata": {},
   "outputs": [
    {
     "data": {
      "text/plain": [
       "'\\nimport time\\nstart = time.time()\\nEVALUATION_INTERVAL = 50\\nEPOCHS = 60\\ntuner.search(train_data_multi, epochs = EPOCHS, validation_steps=50, validation_data = val_data_multi, steps_per_epoch=EVALUATION_INTERVAL, callbacks = [ClearTrainingOutput()])\\n'"
      ]
     },
     "execution_count": 89,
     "metadata": {},
     "output_type": "execute_result"
    }
   ],
   "source": [
    "'''\n",
    "import time\n",
    "start = time.time()\n",
    "EVALUATION_INTERVAL = 50\n",
    "EPOCHS = 60\n",
    "tuner.search(train_data_multi, epochs = EPOCHS, validation_steps=50, validation_data = val_data_multi, steps_per_epoch=EVALUATION_INTERVAL, callbacks = [ClearTrainingOutput()])\n",
    "'''"
   ]
  },
  {
   "cell_type": "code",
   "execution_count": 90,
   "id": "d0721198-06b6-4646-ac48-f63de146a919",
   "metadata": {},
   "outputs": [
    {
     "data": {
      "text/html": [
       "<span style=\"color:#4527A0\"><h1 style=\"font-size:18px\">Results summary</h1></span>"
      ],
      "text/plain": [
       "<IPython.core.display.HTML object>"
      ]
     },
     "metadata": {},
     "output_type": "display_data"
    },
    {
     "data": {
      "text/html": [
       "<span style=\"color:cyan\"> |-Results in /home/jupyter/hyperband4</span>"
      ],
      "text/plain": [
       "<IPython.core.display.HTML object>"
      ]
     },
     "metadata": {},
     "output_type": "display_data"
    },
    {
     "data": {
      "text/html": [
       "<span style=\"color:cyan\"> |-Showing 10 best trials</span>"
      ],
      "text/plain": [
       "<IPython.core.display.HTML object>"
      ]
     },
     "metadata": {},
     "output_type": "display_data"
    },
    {
     "data": {
      "text/html": [
       "<span style=\"color:cyan\"> |-Objective(name='val_accuracy', direction='max')</span>"
      ],
      "text/plain": [
       "<IPython.core.display.HTML object>"
      ]
     },
     "metadata": {},
     "output_type": "display_data"
    },
    {
     "data": {
      "text/html": [
       "<span style=\"color:#4527A0\"><h1 style=\"font-size:18px\">Trial summary</h1></span>"
      ],
      "text/plain": [
       "<IPython.core.display.HTML object>"
      ]
     },
     "metadata": {},
     "output_type": "display_data"
    },
    {
     "data": {
      "text/html": [
       "<span style=\"color:cyan\"> |-Trial ID: 3e71c45b2e2dbe3fe69f1aa218380c86</span>"
      ],
      "text/plain": [
       "<IPython.core.display.HTML object>"
      ]
     },
     "metadata": {},
     "output_type": "display_data"
    },
    {
     "data": {
      "text/html": [
       "<span style=\"color:cyan\"> |-Score: 0.0</span>"
      ],
      "text/plain": [
       "<IPython.core.display.HTML object>"
      ]
     },
     "metadata": {},
     "output_type": "display_data"
    },
    {
     "data": {
      "text/html": [
       "<span style=\"color:cyan\"> |-Best step: 0</span>"
      ],
      "text/plain": [
       "<IPython.core.display.HTML object>"
      ]
     },
     "metadata": {},
     "output_type": "display_data"
    },
    {
     "data": {
      "text/html": [
       "<span style=\"color:#7E57C2\"><h2 style=\"font-size:16px\">Hyperparameters:</h2></span>"
      ],
      "text/plain": [
       "<IPython.core.display.HTML object>"
      ]
     },
     "metadata": {},
     "output_type": "display_data"
    },
    {
     "data": {
      "text/html": [
       "<span style=\"color:cyan\"> |-Bidirectional_Activation: relu</span>"
      ],
      "text/plain": [
       "<IPython.core.display.HTML object>"
      ]
     },
     "metadata": {},
     "output_type": "display_data"
    },
    {
     "data": {
      "text/html": [
       "<span style=\"color:blue\"> |-Bidirectional_units: 100</span>"
      ],
      "text/plain": [
       "<IPython.core.display.HTML object>"
      ]
     },
     "metadata": {},
     "output_type": "display_data"
    },
    {
     "data": {
      "text/html": [
       "<span style=\"color:cyan\"> |-Conv1D_Activation_1: selu</span>"
      ],
      "text/plain": [
       "<IPython.core.display.HTML object>"
      ]
     },
     "metadata": {},
     "output_type": "display_data"
    },
    {
     "data": {
      "text/html": [
       "<span style=\"color:blue\"> |-Conv1D_Activation_2: relu</span>"
      ],
      "text/plain": [
       "<IPython.core.display.HTML object>"
      ]
     },
     "metadata": {},
     "output_type": "display_data"
    },
    {
     "data": {
      "text/html": [
       "<span style=\"color:cyan\"> |-Conv1D_Activation_3: relu</span>"
      ],
      "text/plain": [
       "<IPython.core.display.HTML object>"
      ]
     },
     "metadata": {},
     "output_type": "display_data"
    },
    {
     "data": {
      "text/html": [
       "<span style=\"color:blue\"> |-Conv1D_Activation_4: sigmoid</span>"
      ],
      "text/plain": [
       "<IPython.core.display.HTML object>"
      ]
     },
     "metadata": {},
     "output_type": "display_data"
    },
    {
     "data": {
      "text/html": [
       "<span style=\"color:cyan\"> |-Conv1D_Filters_1: 25</span>"
      ],
      "text/plain": [
       "<IPython.core.display.HTML object>"
      ]
     },
     "metadata": {},
     "output_type": "display_data"
    },
    {
     "data": {
      "text/html": [
       "<span style=\"color:blue\"> |-Conv1D_Filters_2: 400</span>"
      ],
      "text/plain": [
       "<IPython.core.display.HTML object>"
      ]
     },
     "metadata": {},
     "output_type": "display_data"
    },
    {
     "data": {
      "text/html": [
       "<span style=\"color:cyan\"> |-Conv1D_Filters_3: 5</span>"
      ],
      "text/plain": [
       "<IPython.core.display.HTML object>"
      ]
     },
     "metadata": {},
     "output_type": "display_data"
    },
    {
     "data": {
      "text/html": [
       "<span style=\"color:blue\"> |-Conv1D_Filters_4: 200</span>"
      ],
      "text/plain": [
       "<IPython.core.display.HTML object>"
      ]
     },
     "metadata": {},
     "output_type": "display_data"
    },
    {
     "data": {
      "text/html": [
       "<span style=\"color:cyan\"> |-LeakyReLU_1: 0.2</span>"
      ],
      "text/plain": [
       "<IPython.core.display.HTML object>"
      ]
     },
     "metadata": {},
     "output_type": "display_data"
    },
    {
     "data": {
      "text/html": [
       "<span style=\"color:blue\"> |-LeakyReLU_2: 0.25</span>"
      ],
      "text/plain": [
       "<IPython.core.display.HTML object>"
      ]
     },
     "metadata": {},
     "output_type": "display_data"
    },
    {
     "data": {
      "text/html": [
       "<span style=\"color:cyan\"> |-LeakyReLU_3: 0.30000000000000004</span>"
      ],
      "text/plain": [
       "<IPython.core.display.HTML object>"
      ]
     },
     "metadata": {},
     "output_type": "display_data"
    },
    {
     "data": {
      "text/html": [
       "<span style=\"color:blue\"> |-LeakyReLU_4: 0.35000000000000003</span>"
      ],
      "text/plain": [
       "<IPython.core.display.HTML object>"
      ]
     },
     "metadata": {},
     "output_type": "display_data"
    },
    {
     "data": {
      "text/html": [
       "<span style=\"color:cyan\"> |-TimeDistributed_Activation_1: swish</span>"
      ],
      "text/plain": [
       "<IPython.core.display.HTML object>"
      ]
     },
     "metadata": {},
     "output_type": "display_data"
    },
    {
     "data": {
      "text/html": [
       "<span style=\"color:blue\"> |-TimeDistributed_units_1: 30</span>"
      ],
      "text/plain": [
       "<IPython.core.display.HTML object>"
      ]
     },
     "metadata": {},
     "output_type": "display_data"
    },
    {
     "data": {
      "text/html": [
       "<span style=\"color:cyan\"> |-dense_activation: relu</span>"
      ],
      "text/plain": [
       "<IPython.core.display.HTML object>"
      ]
     },
     "metadata": {},
     "output_type": "display_data"
    },
    {
     "data": {
      "text/html": [
       "<span style=\"color:blue\"> |-dropout_1: 0.35000000000000003</span>"
      ],
      "text/plain": [
       "<IPython.core.display.HTML object>"
      ]
     },
     "metadata": {},
     "output_type": "display_data"
    },
    {
     "data": {
      "text/html": [
       "<span style=\"color:cyan\"> |-dropout_2: 0.25</span>"
      ],
      "text/plain": [
       "<IPython.core.display.HTML object>"
      ]
     },
     "metadata": {},
     "output_type": "display_data"
    },
    {
     "data": {
      "text/html": [
       "<span style=\"color:blue\"> |-dropout_3: 0.25</span>"
      ],
      "text/plain": [
       "<IPython.core.display.HTML object>"
      ]
     },
     "metadata": {},
     "output_type": "display_data"
    },
    {
     "data": {
      "text/html": [
       "<span style=\"color:cyan\"> |-dropout_4: 0.30000000000000004</span>"
      ],
      "text/plain": [
       "<IPython.core.display.HTML object>"
      ]
     },
     "metadata": {},
     "output_type": "display_data"
    },
    {
     "data": {
      "text/html": [
       "<span style=\"color:blue\"> |-learning_rate: 0.0001681154540009978</span>"
      ],
      "text/plain": [
       "<IPython.core.display.HTML object>"
      ]
     },
     "metadata": {},
     "output_type": "display_data"
    },
    {
     "data": {
      "text/html": [
       "<span style=\"color:cyan\"> |-tuner/bracket: 3</span>"
      ],
      "text/plain": [
       "<IPython.core.display.HTML object>"
      ]
     },
     "metadata": {},
     "output_type": "display_data"
    },
    {
     "data": {
      "text/html": [
       "<span style=\"color:blue\"> |-tuner/epochs: 60</span>"
      ],
      "text/plain": [
       "<IPython.core.display.HTML object>"
      ]
     },
     "metadata": {},
     "output_type": "display_data"
    },
    {
     "data": {
      "text/html": [
       "<span style=\"color:cyan\"> |-tuner/initial_epoch: 20</span>"
      ],
      "text/plain": [
       "<IPython.core.display.HTML object>"
      ]
     },
     "metadata": {},
     "output_type": "display_data"
    },
    {
     "data": {
      "text/html": [
       "<span style=\"color:blue\"> |-tuner/round: 3</span>"
      ],
      "text/plain": [
       "<IPython.core.display.HTML object>"
      ]
     },
     "metadata": {},
     "output_type": "display_data"
    },
    {
     "data": {
      "text/html": [
       "<span style=\"color:cyan\"> |-tuner/trial_id: caad251939db9fc34a12de801e818b67</span>"
      ],
      "text/plain": [
       "<IPython.core.display.HTML object>"
      ]
     },
     "metadata": {},
     "output_type": "display_data"
    },
    {
     "data": {
      "text/html": [
       "<span style=\"color:#4527A0\"><h1 style=\"font-size:18px\">Trial summary</h1></span>"
      ],
      "text/plain": [
       "<IPython.core.display.HTML object>"
      ]
     },
     "metadata": {},
     "output_type": "display_data"
    },
    {
     "data": {
      "text/html": [
       "<span style=\"color:cyan\"> |-Trial ID: fa851fed0dc8c5653965514a0d7080af</span>"
      ],
      "text/plain": [
       "<IPython.core.display.HTML object>"
      ]
     },
     "metadata": {},
     "output_type": "display_data"
    },
    {
     "data": {
      "text/html": [
       "<span style=\"color:cyan\"> |-Score: 0.0</span>"
      ],
      "text/plain": [
       "<IPython.core.display.HTML object>"
      ]
     },
     "metadata": {},
     "output_type": "display_data"
    },
    {
     "data": {
      "text/html": [
       "<span style=\"color:cyan\"> |-Best step: 0</span>"
      ],
      "text/plain": [
       "<IPython.core.display.HTML object>"
      ]
     },
     "metadata": {},
     "output_type": "display_data"
    },
    {
     "data": {
      "text/html": [
       "<span style=\"color:#7E57C2\"><h2 style=\"font-size:16px\">Hyperparameters:</h2></span>"
      ],
      "text/plain": [
       "<IPython.core.display.HTML object>"
      ]
     },
     "metadata": {},
     "output_type": "display_data"
    },
    {
     "data": {
      "text/html": [
       "<span style=\"color:cyan\"> |-Bidirectional_Activation: sigmoid</span>"
      ],
      "text/plain": [
       "<IPython.core.display.HTML object>"
      ]
     },
     "metadata": {},
     "output_type": "display_data"
    },
    {
     "data": {
      "text/html": [
       "<span style=\"color:blue\"> |-Bidirectional_units: 40</span>"
      ],
      "text/plain": [
       "<IPython.core.display.HTML object>"
      ]
     },
     "metadata": {},
     "output_type": "display_data"
    },
    {
     "data": {
      "text/html": [
       "<span style=\"color:cyan\"> |-Conv1D_Activation_1: relu</span>"
      ],
      "text/plain": [
       "<IPython.core.display.HTML object>"
      ]
     },
     "metadata": {},
     "output_type": "display_data"
    },
    {
     "data": {
      "text/html": [
       "<span style=\"color:blue\"> |-Conv1D_Activation_2: swish</span>"
      ],
      "text/plain": [
       "<IPython.core.display.HTML object>"
      ]
     },
     "metadata": {},
     "output_type": "display_data"
    },
    {
     "data": {
      "text/html": [
       "<span style=\"color:cyan\"> |-Conv1D_Activation_3: sigmoid</span>"
      ],
      "text/plain": [
       "<IPython.core.display.HTML object>"
      ]
     },
     "metadata": {},
     "output_type": "display_data"
    },
    {
     "data": {
      "text/html": [
       "<span style=\"color:blue\"> |-Conv1D_Activation_4: swish</span>"
      ],
      "text/plain": [
       "<IPython.core.display.HTML object>"
      ]
     },
     "metadata": {},
     "output_type": "display_data"
    },
    {
     "data": {
      "text/html": [
       "<span style=\"color:cyan\"> |-Conv1D_Filters_1: 50</span>"
      ],
      "text/plain": [
       "<IPython.core.display.HTML object>"
      ]
     },
     "metadata": {},
     "output_type": "display_data"
    },
    {
     "data": {
      "text/html": [
       "<span style=\"color:blue\"> |-Conv1D_Filters_2: 10</span>"
      ],
      "text/plain": [
       "<IPython.core.display.HTML object>"
      ]
     },
     "metadata": {},
     "output_type": "display_data"
    },
    {
     "data": {
      "text/html": [
       "<span style=\"color:cyan\"> |-Conv1D_Filters_3: 200</span>"
      ],
      "text/plain": [
       "<IPython.core.display.HTML object>"
      ]
     },
     "metadata": {},
     "output_type": "display_data"
    },
    {
     "data": {
      "text/html": [
       "<span style=\"color:blue\"> |-Conv1D_Filters_4: 300</span>"
      ],
      "text/plain": [
       "<IPython.core.display.HTML object>"
      ]
     },
     "metadata": {},
     "output_type": "display_data"
    },
    {
     "data": {
      "text/html": [
       "<span style=\"color:cyan\"> |-LeakyReLU_1: 0.05</span>"
      ],
      "text/plain": [
       "<IPython.core.display.HTML object>"
      ]
     },
     "metadata": {},
     "output_type": "display_data"
    },
    {
     "data": {
      "text/html": [
       "<span style=\"color:blue\"> |-LeakyReLU_2: 0.2</span>"
      ],
      "text/plain": [
       "<IPython.core.display.HTML object>"
      ]
     },
     "metadata": {},
     "output_type": "display_data"
    },
    {
     "data": {
      "text/html": [
       "<span style=\"color:cyan\"> |-LeakyReLU_3: 0.30000000000000004</span>"
      ],
      "text/plain": [
       "<IPython.core.display.HTML object>"
      ]
     },
     "metadata": {},
     "output_type": "display_data"
    },
    {
     "data": {
      "text/html": [
       "<span style=\"color:blue\"> |-LeakyReLU_4: 0.1</span>"
      ],
      "text/plain": [
       "<IPython.core.display.HTML object>"
      ]
     },
     "metadata": {},
     "output_type": "display_data"
    },
    {
     "data": {
      "text/html": [
       "<span style=\"color:cyan\"> |-TimeDistributed_Activation_1: tanh</span>"
      ],
      "text/plain": [
       "<IPython.core.display.HTML object>"
      ]
     },
     "metadata": {},
     "output_type": "display_data"
    },
    {
     "data": {
      "text/html": [
       "<span style=\"color:blue\"> |-TimeDistributed_units_1: 1</span>"
      ],
      "text/plain": [
       "<IPython.core.display.HTML object>"
      ]
     },
     "metadata": {},
     "output_type": "display_data"
    },
    {
     "data": {
      "text/html": [
       "<span style=\"color:cyan\"> |-dense_activation: softmax</span>"
      ],
      "text/plain": [
       "<IPython.core.display.HTML object>"
      ]
     },
     "metadata": {},
     "output_type": "display_data"
    },
    {
     "data": {
      "text/html": [
       "<span style=\"color:blue\"> |-dropout_1: 0.4</span>"
      ],
      "text/plain": [
       "<IPython.core.display.HTML object>"
      ]
     },
     "metadata": {},
     "output_type": "display_data"
    },
    {
     "data": {
      "text/html": [
       "<span style=\"color:cyan\"> |-dropout_2: 0.0</span>"
      ],
      "text/plain": [
       "<IPython.core.display.HTML object>"
      ]
     },
     "metadata": {},
     "output_type": "display_data"
    },
    {
     "data": {
      "text/html": [
       "<span style=\"color:blue\"> |-dropout_3: 0.2</span>"
      ],
      "text/plain": [
       "<IPython.core.display.HTML object>"
      ]
     },
     "metadata": {},
     "output_type": "display_data"
    },
    {
     "data": {
      "text/html": [
       "<span style=\"color:cyan\"> |-dropout_4: 0.25</span>"
      ],
      "text/plain": [
       "<IPython.core.display.HTML object>"
      ]
     },
     "metadata": {},
     "output_type": "display_data"
    },
    {
     "data": {
      "text/html": [
       "<span style=\"color:blue\"> |-learning_rate: 0.001747906675105963</span>"
      ],
      "text/plain": [
       "<IPython.core.display.HTML object>"
      ]
     },
     "metadata": {},
     "output_type": "display_data"
    },
    {
     "data": {
      "text/html": [
       "<span style=\"color:cyan\"> |-tuner/bracket: 3</span>"
      ],
      "text/plain": [
       "<IPython.core.display.HTML object>"
      ]
     },
     "metadata": {},
     "output_type": "display_data"
    },
    {
     "data": {
      "text/html": [
       "<span style=\"color:blue\"> |-tuner/epochs: 3</span>"
      ],
      "text/plain": [
       "<IPython.core.display.HTML object>"
      ]
     },
     "metadata": {},
     "output_type": "display_data"
    },
    {
     "data": {
      "text/html": [
       "<span style=\"color:cyan\"> |-tuner/initial_epoch: 0</span>"
      ],
      "text/plain": [
       "<IPython.core.display.HTML object>"
      ]
     },
     "metadata": {},
     "output_type": "display_data"
    },
    {
     "data": {
      "text/html": [
       "<span style=\"color:blue\"> |-tuner/round: 0</span>"
      ],
      "text/plain": [
       "<IPython.core.display.HTML object>"
      ]
     },
     "metadata": {},
     "output_type": "display_data"
    },
    {
     "data": {
      "text/html": [
       "<span style=\"color:#4527A0\"><h1 style=\"font-size:18px\">Trial summary</h1></span>"
      ],
      "text/plain": [
       "<IPython.core.display.HTML object>"
      ]
     },
     "metadata": {},
     "output_type": "display_data"
    },
    {
     "data": {
      "text/html": [
       "<span style=\"color:cyan\"> |-Trial ID: 0fd8e044c300f2507ce0f55c5b1c1637</span>"
      ],
      "text/plain": [
       "<IPython.core.display.HTML object>"
      ]
     },
     "metadata": {},
     "output_type": "display_data"
    },
    {
     "data": {
      "text/html": [
       "<span style=\"color:cyan\"> |-Score: 0.0</span>"
      ],
      "text/plain": [
       "<IPython.core.display.HTML object>"
      ]
     },
     "metadata": {},
     "output_type": "display_data"
    },
    {
     "data": {
      "text/html": [
       "<span style=\"color:cyan\"> |-Best step: 0</span>"
      ],
      "text/plain": [
       "<IPython.core.display.HTML object>"
      ]
     },
     "metadata": {},
     "output_type": "display_data"
    },
    {
     "data": {
      "text/html": [
       "<span style=\"color:#7E57C2\"><h2 style=\"font-size:16px\">Hyperparameters:</h2></span>"
      ],
      "text/plain": [
       "<IPython.core.display.HTML object>"
      ]
     },
     "metadata": {},
     "output_type": "display_data"
    },
    {
     "data": {
      "text/html": [
       "<span style=\"color:cyan\"> |-Bidirectional_Activation: elu</span>"
      ],
      "text/plain": [
       "<IPython.core.display.HTML object>"
      ]
     },
     "metadata": {},
     "output_type": "display_data"
    },
    {
     "data": {
      "text/html": [
       "<span style=\"color:blue\"> |-Bidirectional_units: 5</span>"
      ],
      "text/plain": [
       "<IPython.core.display.HTML object>"
      ]
     },
     "metadata": {},
     "output_type": "display_data"
    },
    {
     "data": {
      "text/html": [
       "<span style=\"color:cyan\"> |-Conv1D_Activation_1: relu</span>"
      ],
      "text/plain": [
       "<IPython.core.display.HTML object>"
      ]
     },
     "metadata": {},
     "output_type": "display_data"
    },
    {
     "data": {
      "text/html": [
       "<span style=\"color:blue\"> |-Conv1D_Activation_2: swish</span>"
      ],
      "text/plain": [
       "<IPython.core.display.HTML object>"
      ]
     },
     "metadata": {},
     "output_type": "display_data"
    },
    {
     "data": {
      "text/html": [
       "<span style=\"color:cyan\"> |-Conv1D_Activation_3: selu</span>"
      ],
      "text/plain": [
       "<IPython.core.display.HTML object>"
      ]
     },
     "metadata": {},
     "output_type": "display_data"
    },
    {
     "data": {
      "text/html": [
       "<span style=\"color:blue\"> |-Conv1D_Activation_4: sigmoid</span>"
      ],
      "text/plain": [
       "<IPython.core.display.HTML object>"
      ]
     },
     "metadata": {},
     "output_type": "display_data"
    },
    {
     "data": {
      "text/html": [
       "<span style=\"color:cyan\"> |-Conv1D_Filters_1: 20</span>"
      ],
      "text/plain": [
       "<IPython.core.display.HTML object>"
      ]
     },
     "metadata": {},
     "output_type": "display_data"
    },
    {
     "data": {
      "text/html": [
       "<span style=\"color:blue\"> |-Conv1D_Filters_2: 500</span>"
      ],
      "text/plain": [
       "<IPython.core.display.HTML object>"
      ]
     },
     "metadata": {},
     "output_type": "display_data"
    },
    {
     "data": {
      "text/html": [
       "<span style=\"color:cyan\"> |-Conv1D_Filters_3: 200</span>"
      ],
      "text/plain": [
       "<IPython.core.display.HTML object>"
      ]
     },
     "metadata": {},
     "output_type": "display_data"
    },
    {
     "data": {
      "text/html": [
       "<span style=\"color:blue\"> |-Conv1D_Filters_4: 400</span>"
      ],
      "text/plain": [
       "<IPython.core.display.HTML object>"
      ]
     },
     "metadata": {},
     "output_type": "display_data"
    },
    {
     "data": {
      "text/html": [
       "<span style=\"color:cyan\"> |-LeakyReLU_1: 0.15000000000000002</span>"
      ],
      "text/plain": [
       "<IPython.core.display.HTML object>"
      ]
     },
     "metadata": {},
     "output_type": "display_data"
    },
    {
     "data": {
      "text/html": [
       "<span style=\"color:blue\"> |-LeakyReLU_2: 0.2</span>"
      ],
      "text/plain": [
       "<IPython.core.display.HTML object>"
      ]
     },
     "metadata": {},
     "output_type": "display_data"
    },
    {
     "data": {
      "text/html": [
       "<span style=\"color:cyan\"> |-LeakyReLU_3: 0.45</span>"
      ],
      "text/plain": [
       "<IPython.core.display.HTML object>"
      ]
     },
     "metadata": {},
     "output_type": "display_data"
    },
    {
     "data": {
      "text/html": [
       "<span style=\"color:blue\"> |-LeakyReLU_4: 0.15000000000000002</span>"
      ],
      "text/plain": [
       "<IPython.core.display.HTML object>"
      ]
     },
     "metadata": {},
     "output_type": "display_data"
    },
    {
     "data": {
      "text/html": [
       "<span style=\"color:cyan\"> |-TimeDistributed_Activation_1: sigmoid</span>"
      ],
      "text/plain": [
       "<IPython.core.display.HTML object>"
      ]
     },
     "metadata": {},
     "output_type": "display_data"
    },
    {
     "data": {
      "text/html": [
       "<span style=\"color:blue\"> |-TimeDistributed_units_1: 500</span>"
      ],
      "text/plain": [
       "<IPython.core.display.HTML object>"
      ]
     },
     "metadata": {},
     "output_type": "display_data"
    },
    {
     "data": {
      "text/html": [
       "<span style=\"color:cyan\"> |-dense_activation: softmax</span>"
      ],
      "text/plain": [
       "<IPython.core.display.HTML object>"
      ]
     },
     "metadata": {},
     "output_type": "display_data"
    },
    {
     "data": {
      "text/html": [
       "<span style=\"color:blue\"> |-dropout_1: 0.05</span>"
      ],
      "text/plain": [
       "<IPython.core.display.HTML object>"
      ]
     },
     "metadata": {},
     "output_type": "display_data"
    },
    {
     "data": {
      "text/html": [
       "<span style=\"color:cyan\"> |-dropout_2: 0.45</span>"
      ],
      "text/plain": [
       "<IPython.core.display.HTML object>"
      ]
     },
     "metadata": {},
     "output_type": "display_data"
    },
    {
     "data": {
      "text/html": [
       "<span style=\"color:blue\"> |-dropout_3: 0.15000000000000002</span>"
      ],
      "text/plain": [
       "<IPython.core.display.HTML object>"
      ]
     },
     "metadata": {},
     "output_type": "display_data"
    },
    {
     "data": {
      "text/html": [
       "<span style=\"color:cyan\"> |-dropout_4: 0.35000000000000003</span>"
      ],
      "text/plain": [
       "<IPython.core.display.HTML object>"
      ]
     },
     "metadata": {},
     "output_type": "display_data"
    },
    {
     "data": {
      "text/html": [
       "<span style=\"color:blue\"> |-learning_rate: 0.00010140703941100297</span>"
      ],
      "text/plain": [
       "<IPython.core.display.HTML object>"
      ]
     },
     "metadata": {},
     "output_type": "display_data"
    },
    {
     "data": {
      "text/html": [
       "<span style=\"color:cyan\"> |-tuner/bracket: 3</span>"
      ],
      "text/plain": [
       "<IPython.core.display.HTML object>"
      ]
     },
     "metadata": {},
     "output_type": "display_data"
    },
    {
     "data": {
      "text/html": [
       "<span style=\"color:blue\"> |-tuner/epochs: 3</span>"
      ],
      "text/plain": [
       "<IPython.core.display.HTML object>"
      ]
     },
     "metadata": {},
     "output_type": "display_data"
    },
    {
     "data": {
      "text/html": [
       "<span style=\"color:cyan\"> |-tuner/initial_epoch: 0</span>"
      ],
      "text/plain": [
       "<IPython.core.display.HTML object>"
      ]
     },
     "metadata": {},
     "output_type": "display_data"
    },
    {
     "data": {
      "text/html": [
       "<span style=\"color:blue\"> |-tuner/round: 0</span>"
      ],
      "text/plain": [
       "<IPython.core.display.HTML object>"
      ]
     },
     "metadata": {},
     "output_type": "display_data"
    },
    {
     "data": {
      "text/html": [
       "<span style=\"color:#4527A0\"><h1 style=\"font-size:18px\">Trial summary</h1></span>"
      ],
      "text/plain": [
       "<IPython.core.display.HTML object>"
      ]
     },
     "metadata": {},
     "output_type": "display_data"
    },
    {
     "data": {
      "text/html": [
       "<span style=\"color:cyan\"> |-Trial ID: 2dc0b29fe102068bb38531d3fd293647</span>"
      ],
      "text/plain": [
       "<IPython.core.display.HTML object>"
      ]
     },
     "metadata": {},
     "output_type": "display_data"
    },
    {
     "data": {
      "text/html": [
       "<span style=\"color:cyan\"> |-Score: 0.0</span>"
      ],
      "text/plain": [
       "<IPython.core.display.HTML object>"
      ]
     },
     "metadata": {},
     "output_type": "display_data"
    },
    {
     "data": {
      "text/html": [
       "<span style=\"color:cyan\"> |-Best step: 0</span>"
      ],
      "text/plain": [
       "<IPython.core.display.HTML object>"
      ]
     },
     "metadata": {},
     "output_type": "display_data"
    },
    {
     "data": {
      "text/html": [
       "<span style=\"color:#7E57C2\"><h2 style=\"font-size:16px\">Hyperparameters:</h2></span>"
      ],
      "text/plain": [
       "<IPython.core.display.HTML object>"
      ]
     },
     "metadata": {},
     "output_type": "display_data"
    },
    {
     "data": {
      "text/html": [
       "<span style=\"color:cyan\"> |-Bidirectional_Activation: elu</span>"
      ],
      "text/plain": [
       "<IPython.core.display.HTML object>"
      ]
     },
     "metadata": {},
     "output_type": "display_data"
    },
    {
     "data": {
      "text/html": [
       "<span style=\"color:blue\"> |-Bidirectional_units: 500</span>"
      ],
      "text/plain": [
       "<IPython.core.display.HTML object>"
      ]
     },
     "metadata": {},
     "output_type": "display_data"
    },
    {
     "data": {
      "text/html": [
       "<span style=\"color:cyan\"> |-Conv1D_Activation_1: swish</span>"
      ],
      "text/plain": [
       "<IPython.core.display.HTML object>"
      ]
     },
     "metadata": {},
     "output_type": "display_data"
    },
    {
     "data": {
      "text/html": [
       "<span style=\"color:blue\"> |-Conv1D_Activation_2: selu</span>"
      ],
      "text/plain": [
       "<IPython.core.display.HTML object>"
      ]
     },
     "metadata": {},
     "output_type": "display_data"
    },
    {
     "data": {
      "text/html": [
       "<span style=\"color:cyan\"> |-Conv1D_Activation_3: elu</span>"
      ],
      "text/plain": [
       "<IPython.core.display.HTML object>"
      ]
     },
     "metadata": {},
     "output_type": "display_data"
    },
    {
     "data": {
      "text/html": [
       "<span style=\"color:blue\"> |-Conv1D_Activation_4: sigmoid</span>"
      ],
      "text/plain": [
       "<IPython.core.display.HTML object>"
      ]
     },
     "metadata": {},
     "output_type": "display_data"
    },
    {
     "data": {
      "text/html": [
       "<span style=\"color:cyan\"> |-Conv1D_Filters_1: 20</span>"
      ],
      "text/plain": [
       "<IPython.core.display.HTML object>"
      ]
     },
     "metadata": {},
     "output_type": "display_data"
    },
    {
     "data": {
      "text/html": [
       "<span style=\"color:blue\"> |-Conv1D_Filters_2: 25</span>"
      ],
      "text/plain": [
       "<IPython.core.display.HTML object>"
      ]
     },
     "metadata": {},
     "output_type": "display_data"
    },
    {
     "data": {
      "text/html": [
       "<span style=\"color:cyan\"> |-Conv1D_Filters_3: 25</span>"
      ],
      "text/plain": [
       "<IPython.core.display.HTML object>"
      ]
     },
     "metadata": {},
     "output_type": "display_data"
    },
    {
     "data": {
      "text/html": [
       "<span style=\"color:blue\"> |-Conv1D_Filters_4: 5</span>"
      ],
      "text/plain": [
       "<IPython.core.display.HTML object>"
      ]
     },
     "metadata": {},
     "output_type": "display_data"
    },
    {
     "data": {
      "text/html": [
       "<span style=\"color:cyan\"> |-LeakyReLU_1: 0.0</span>"
      ],
      "text/plain": [
       "<IPython.core.display.HTML object>"
      ]
     },
     "metadata": {},
     "output_type": "display_data"
    },
    {
     "data": {
      "text/html": [
       "<span style=\"color:blue\"> |-LeakyReLU_2: 0.1</span>"
      ],
      "text/plain": [
       "<IPython.core.display.HTML object>"
      ]
     },
     "metadata": {},
     "output_type": "display_data"
    },
    {
     "data": {
      "text/html": [
       "<span style=\"color:cyan\"> |-LeakyReLU_3: 0.05</span>"
      ],
      "text/plain": [
       "<IPython.core.display.HTML object>"
      ]
     },
     "metadata": {},
     "output_type": "display_data"
    },
    {
     "data": {
      "text/html": [
       "<span style=\"color:blue\"> |-LeakyReLU_4: 0.45</span>"
      ],
      "text/plain": [
       "<IPython.core.display.HTML object>"
      ]
     },
     "metadata": {},
     "output_type": "display_data"
    },
    {
     "data": {
      "text/html": [
       "<span style=\"color:cyan\"> |-TimeDistributed_Activation_1: tanh</span>"
      ],
      "text/plain": [
       "<IPython.core.display.HTML object>"
      ]
     },
     "metadata": {},
     "output_type": "display_data"
    },
    {
     "data": {
      "text/html": [
       "<span style=\"color:blue\"> |-TimeDistributed_units_1: 1</span>"
      ],
      "text/plain": [
       "<IPython.core.display.HTML object>"
      ]
     },
     "metadata": {},
     "output_type": "display_data"
    },
    {
     "data": {
      "text/html": [
       "<span style=\"color:cyan\"> |-dense_activation: sigmoid</span>"
      ],
      "text/plain": [
       "<IPython.core.display.HTML object>"
      ]
     },
     "metadata": {},
     "output_type": "display_data"
    },
    {
     "data": {
      "text/html": [
       "<span style=\"color:blue\"> |-dropout_1: 0.1</span>"
      ],
      "text/plain": [
       "<IPython.core.display.HTML object>"
      ]
     },
     "metadata": {},
     "output_type": "display_data"
    },
    {
     "data": {
      "text/html": [
       "<span style=\"color:cyan\"> |-dropout_2: 0.35000000000000003</span>"
      ],
      "text/plain": [
       "<IPython.core.display.HTML object>"
      ]
     },
     "metadata": {},
     "output_type": "display_data"
    },
    {
     "data": {
      "text/html": [
       "<span style=\"color:blue\"> |-dropout_3: 0.25</span>"
      ],
      "text/plain": [
       "<IPython.core.display.HTML object>"
      ]
     },
     "metadata": {},
     "output_type": "display_data"
    },
    {
     "data": {
      "text/html": [
       "<span style=\"color:cyan\"> |-dropout_4: 0.30000000000000004</span>"
      ],
      "text/plain": [
       "<IPython.core.display.HTML object>"
      ]
     },
     "metadata": {},
     "output_type": "display_data"
    },
    {
     "data": {
      "text/html": [
       "<span style=\"color:blue\"> |-learning_rate: 0.00017269767141724694</span>"
      ],
      "text/plain": [
       "<IPython.core.display.HTML object>"
      ]
     },
     "metadata": {},
     "output_type": "display_data"
    },
    {
     "data": {
      "text/html": [
       "<span style=\"color:cyan\"> |-tuner/bracket: 3</span>"
      ],
      "text/plain": [
       "<IPython.core.display.HTML object>"
      ]
     },
     "metadata": {},
     "output_type": "display_data"
    },
    {
     "data": {
      "text/html": [
       "<span style=\"color:blue\"> |-tuner/epochs: 3</span>"
      ],
      "text/plain": [
       "<IPython.core.display.HTML object>"
      ]
     },
     "metadata": {},
     "output_type": "display_data"
    },
    {
     "data": {
      "text/html": [
       "<span style=\"color:cyan\"> |-tuner/initial_epoch: 0</span>"
      ],
      "text/plain": [
       "<IPython.core.display.HTML object>"
      ]
     },
     "metadata": {},
     "output_type": "display_data"
    },
    {
     "data": {
      "text/html": [
       "<span style=\"color:blue\"> |-tuner/round: 0</span>"
      ],
      "text/plain": [
       "<IPython.core.display.HTML object>"
      ]
     },
     "metadata": {},
     "output_type": "display_data"
    },
    {
     "data": {
      "text/html": [
       "<span style=\"color:#4527A0\"><h1 style=\"font-size:18px\">Trial summary</h1></span>"
      ],
      "text/plain": [
       "<IPython.core.display.HTML object>"
      ]
     },
     "metadata": {},
     "output_type": "display_data"
    },
    {
     "data": {
      "text/html": [
       "<span style=\"color:cyan\"> |-Trial ID: 649a883c9ed8550ff7217e9ff7095d82</span>"
      ],
      "text/plain": [
       "<IPython.core.display.HTML object>"
      ]
     },
     "metadata": {},
     "output_type": "display_data"
    },
    {
     "data": {
      "text/html": [
       "<span style=\"color:cyan\"> |-Score: 0.0</span>"
      ],
      "text/plain": [
       "<IPython.core.display.HTML object>"
      ]
     },
     "metadata": {},
     "output_type": "display_data"
    },
    {
     "data": {
      "text/html": [
       "<span style=\"color:cyan\"> |-Best step: 0</span>"
      ],
      "text/plain": [
       "<IPython.core.display.HTML object>"
      ]
     },
     "metadata": {},
     "output_type": "display_data"
    },
    {
     "data": {
      "text/html": [
       "<span style=\"color:#7E57C2\"><h2 style=\"font-size:16px\">Hyperparameters:</h2></span>"
      ],
      "text/plain": [
       "<IPython.core.display.HTML object>"
      ]
     },
     "metadata": {},
     "output_type": "display_data"
    },
    {
     "data": {
      "text/html": [
       "<span style=\"color:cyan\"> |-Bidirectional_Activation: tanh</span>"
      ],
      "text/plain": [
       "<IPython.core.display.HTML object>"
      ]
     },
     "metadata": {},
     "output_type": "display_data"
    },
    {
     "data": {
      "text/html": [
       "<span style=\"color:blue\"> |-Bidirectional_units: 30</span>"
      ],
      "text/plain": [
       "<IPython.core.display.HTML object>"
      ]
     },
     "metadata": {},
     "output_type": "display_data"
    },
    {
     "data": {
      "text/html": [
       "<span style=\"color:cyan\"> |-Conv1D_Activation_1: elu</span>"
      ],
      "text/plain": [
       "<IPython.core.display.HTML object>"
      ]
     },
     "metadata": {},
     "output_type": "display_data"
    },
    {
     "data": {
      "text/html": [
       "<span style=\"color:blue\"> |-Conv1D_Activation_2: relu</span>"
      ],
      "text/plain": [
       "<IPython.core.display.HTML object>"
      ]
     },
     "metadata": {},
     "output_type": "display_data"
    },
    {
     "data": {
      "text/html": [
       "<span style=\"color:cyan\"> |-Conv1D_Activation_3: relu</span>"
      ],
      "text/plain": [
       "<IPython.core.display.HTML object>"
      ]
     },
     "metadata": {},
     "output_type": "display_data"
    },
    {
     "data": {
      "text/html": [
       "<span style=\"color:blue\"> |-Conv1D_Activation_4: swish</span>"
      ],
      "text/plain": [
       "<IPython.core.display.HTML object>"
      ]
     },
     "metadata": {},
     "output_type": "display_data"
    },
    {
     "data": {
      "text/html": [
       "<span style=\"color:cyan\"> |-Conv1D_Filters_1: 200</span>"
      ],
      "text/plain": [
       "<IPython.core.display.HTML object>"
      ]
     },
     "metadata": {},
     "output_type": "display_data"
    },
    {
     "data": {
      "text/html": [
       "<span style=\"color:blue\"> |-Conv1D_Filters_2: 300</span>"
      ],
      "text/plain": [
       "<IPython.core.display.HTML object>"
      ]
     },
     "metadata": {},
     "output_type": "display_data"
    },
    {
     "data": {
      "text/html": [
       "<span style=\"color:cyan\"> |-Conv1D_Filters_3: 5</span>"
      ],
      "text/plain": [
       "<IPython.core.display.HTML object>"
      ]
     },
     "metadata": {},
     "output_type": "display_data"
    },
    {
     "data": {
      "text/html": [
       "<span style=\"color:blue\"> |-Conv1D_Filters_4: 5</span>"
      ],
      "text/plain": [
       "<IPython.core.display.HTML object>"
      ]
     },
     "metadata": {},
     "output_type": "display_data"
    },
    {
     "data": {
      "text/html": [
       "<span style=\"color:cyan\"> |-LeakyReLU_1: 0.30000000000000004</span>"
      ],
      "text/plain": [
       "<IPython.core.display.HTML object>"
      ]
     },
     "metadata": {},
     "output_type": "display_data"
    },
    {
     "data": {
      "text/html": [
       "<span style=\"color:blue\"> |-LeakyReLU_2: 0.35000000000000003</span>"
      ],
      "text/plain": [
       "<IPython.core.display.HTML object>"
      ]
     },
     "metadata": {},
     "output_type": "display_data"
    },
    {
     "data": {
      "text/html": [
       "<span style=\"color:cyan\"> |-LeakyReLU_3: 0.2</span>"
      ],
      "text/plain": [
       "<IPython.core.display.HTML object>"
      ]
     },
     "metadata": {},
     "output_type": "display_data"
    },
    {
     "data": {
      "text/html": [
       "<span style=\"color:blue\"> |-LeakyReLU_4: 0.30000000000000004</span>"
      ],
      "text/plain": [
       "<IPython.core.display.HTML object>"
      ]
     },
     "metadata": {},
     "output_type": "display_data"
    },
    {
     "data": {
      "text/html": [
       "<span style=\"color:cyan\"> |-TimeDistributed_Activation_1: sigmoid</span>"
      ],
      "text/plain": [
       "<IPython.core.display.HTML object>"
      ]
     },
     "metadata": {},
     "output_type": "display_data"
    },
    {
     "data": {
      "text/html": [
       "<span style=\"color:blue\"> |-TimeDistributed_units_1: 100</span>"
      ],
      "text/plain": [
       "<IPython.core.display.HTML object>"
      ]
     },
     "metadata": {},
     "output_type": "display_data"
    },
    {
     "data": {
      "text/html": [
       "<span style=\"color:cyan\"> |-dense_activation: linear</span>"
      ],
      "text/plain": [
       "<IPython.core.display.HTML object>"
      ]
     },
     "metadata": {},
     "output_type": "display_data"
    },
    {
     "data": {
      "text/html": [
       "<span style=\"color:blue\"> |-dropout_1: 0.1</span>"
      ],
      "text/plain": [
       "<IPython.core.display.HTML object>"
      ]
     },
     "metadata": {},
     "output_type": "display_data"
    },
    {
     "data": {
      "text/html": [
       "<span style=\"color:cyan\"> |-dropout_2: 0.30000000000000004</span>"
      ],
      "text/plain": [
       "<IPython.core.display.HTML object>"
      ]
     },
     "metadata": {},
     "output_type": "display_data"
    },
    {
     "data": {
      "text/html": [
       "<span style=\"color:blue\"> |-dropout_3: 0.4</span>"
      ],
      "text/plain": [
       "<IPython.core.display.HTML object>"
      ]
     },
     "metadata": {},
     "output_type": "display_data"
    },
    {
     "data": {
      "text/html": [
       "<span style=\"color:cyan\"> |-dropout_4: 0.4</span>"
      ],
      "text/plain": [
       "<IPython.core.display.HTML object>"
      ]
     },
     "metadata": {},
     "output_type": "display_data"
    },
    {
     "data": {
      "text/html": [
       "<span style=\"color:blue\"> |-learning_rate: 0.0003868733517746581</span>"
      ],
      "text/plain": [
       "<IPython.core.display.HTML object>"
      ]
     },
     "metadata": {},
     "output_type": "display_data"
    },
    {
     "data": {
      "text/html": [
       "<span style=\"color:cyan\"> |-tuner/bracket: 2</span>"
      ],
      "text/plain": [
       "<IPython.core.display.HTML object>"
      ]
     },
     "metadata": {},
     "output_type": "display_data"
    },
    {
     "data": {
      "text/html": [
       "<span style=\"color:blue\"> |-tuner/epochs: 7</span>"
      ],
      "text/plain": [
       "<IPython.core.display.HTML object>"
      ]
     },
     "metadata": {},
     "output_type": "display_data"
    },
    {
     "data": {
      "text/html": [
       "<span style=\"color:cyan\"> |-tuner/initial_epoch: 0</span>"
      ],
      "text/plain": [
       "<IPython.core.display.HTML object>"
      ]
     },
     "metadata": {},
     "output_type": "display_data"
    },
    {
     "data": {
      "text/html": [
       "<span style=\"color:blue\"> |-tuner/round: 0</span>"
      ],
      "text/plain": [
       "<IPython.core.display.HTML object>"
      ]
     },
     "metadata": {},
     "output_type": "display_data"
    },
    {
     "data": {
      "text/html": [
       "<span style=\"color:#4527A0\"><h1 style=\"font-size:18px\">Trial summary</h1></span>"
      ],
      "text/plain": [
       "<IPython.core.display.HTML object>"
      ]
     },
     "metadata": {},
     "output_type": "display_data"
    },
    {
     "data": {
      "text/html": [
       "<span style=\"color:cyan\"> |-Trial ID: 3b98341ac777d07cb16ee1de22bfb6b0</span>"
      ],
      "text/plain": [
       "<IPython.core.display.HTML object>"
      ]
     },
     "metadata": {},
     "output_type": "display_data"
    },
    {
     "data": {
      "text/html": [
       "<span style=\"color:cyan\"> |-Score: 0.0</span>"
      ],
      "text/plain": [
       "<IPython.core.display.HTML object>"
      ]
     },
     "metadata": {},
     "output_type": "display_data"
    },
    {
     "data": {
      "text/html": [
       "<span style=\"color:cyan\"> |-Best step: 0</span>"
      ],
      "text/plain": [
       "<IPython.core.display.HTML object>"
      ]
     },
     "metadata": {},
     "output_type": "display_data"
    },
    {
     "data": {
      "text/html": [
       "<span style=\"color:#7E57C2\"><h2 style=\"font-size:16px\">Hyperparameters:</h2></span>"
      ],
      "text/plain": [
       "<IPython.core.display.HTML object>"
      ]
     },
     "metadata": {},
     "output_type": "display_data"
    },
    {
     "data": {
      "text/html": [
       "<span style=\"color:cyan\"> |-Bidirectional_Activation: relu</span>"
      ],
      "text/plain": [
       "<IPython.core.display.HTML object>"
      ]
     },
     "metadata": {},
     "output_type": "display_data"
    },
    {
     "data": {
      "text/html": [
       "<span style=\"color:blue\"> |-Bidirectional_units: 5</span>"
      ],
      "text/plain": [
       "<IPython.core.display.HTML object>"
      ]
     },
     "metadata": {},
     "output_type": "display_data"
    },
    {
     "data": {
      "text/html": [
       "<span style=\"color:cyan\"> |-Conv1D_Activation_1: sigmoid</span>"
      ],
      "text/plain": [
       "<IPython.core.display.HTML object>"
      ]
     },
     "metadata": {},
     "output_type": "display_data"
    },
    {
     "data": {
      "text/html": [
       "<span style=\"color:blue\"> |-Conv1D_Activation_2: tanh</span>"
      ],
      "text/plain": [
       "<IPython.core.display.HTML object>"
      ]
     },
     "metadata": {},
     "output_type": "display_data"
    },
    {
     "data": {
      "text/html": [
       "<span style=\"color:cyan\"> |-Conv1D_Activation_3: sigmoid</span>"
      ],
      "text/plain": [
       "<IPython.core.display.HTML object>"
      ]
     },
     "metadata": {},
     "output_type": "display_data"
    },
    {
     "data": {
      "text/html": [
       "<span style=\"color:blue\"> |-Conv1D_Activation_4: selu</span>"
      ],
      "text/plain": [
       "<IPython.core.display.HTML object>"
      ]
     },
     "metadata": {},
     "output_type": "display_data"
    },
    {
     "data": {
      "text/html": [
       "<span style=\"color:cyan\"> |-Conv1D_Filters_1: 150</span>"
      ],
      "text/plain": [
       "<IPython.core.display.HTML object>"
      ]
     },
     "metadata": {},
     "output_type": "display_data"
    },
    {
     "data": {
      "text/html": [
       "<span style=\"color:blue\"> |-Conv1D_Filters_2: 50</span>"
      ],
      "text/plain": [
       "<IPython.core.display.HTML object>"
      ]
     },
     "metadata": {},
     "output_type": "display_data"
    },
    {
     "data": {
      "text/html": [
       "<span style=\"color:cyan\"> |-Conv1D_Filters_3: 100</span>"
      ],
      "text/plain": [
       "<IPython.core.display.HTML object>"
      ]
     },
     "metadata": {},
     "output_type": "display_data"
    },
    {
     "data": {
      "text/html": [
       "<span style=\"color:blue\"> |-Conv1D_Filters_4: 20</span>"
      ],
      "text/plain": [
       "<IPython.core.display.HTML object>"
      ]
     },
     "metadata": {},
     "output_type": "display_data"
    },
    {
     "data": {
      "text/html": [
       "<span style=\"color:cyan\"> |-LeakyReLU_1: 0.4</span>"
      ],
      "text/plain": [
       "<IPython.core.display.HTML object>"
      ]
     },
     "metadata": {},
     "output_type": "display_data"
    },
    {
     "data": {
      "text/html": [
       "<span style=\"color:blue\"> |-LeakyReLU_2: 0.45</span>"
      ],
      "text/plain": [
       "<IPython.core.display.HTML object>"
      ]
     },
     "metadata": {},
     "output_type": "display_data"
    },
    {
     "data": {
      "text/html": [
       "<span style=\"color:cyan\"> |-LeakyReLU_3: 0.05</span>"
      ],
      "text/plain": [
       "<IPython.core.display.HTML object>"
      ]
     },
     "metadata": {},
     "output_type": "display_data"
    },
    {
     "data": {
      "text/html": [
       "<span style=\"color:blue\"> |-LeakyReLU_4: 0.30000000000000004</span>"
      ],
      "text/plain": [
       "<IPython.core.display.HTML object>"
      ]
     },
     "metadata": {},
     "output_type": "display_data"
    },
    {
     "data": {
      "text/html": [
       "<span style=\"color:cyan\"> |-TimeDistributed_Activation_1: sigmoid</span>"
      ],
      "text/plain": [
       "<IPython.core.display.HTML object>"
      ]
     },
     "metadata": {},
     "output_type": "display_data"
    },
    {
     "data": {
      "text/html": [
       "<span style=\"color:blue\"> |-TimeDistributed_units_1: 1</span>"
      ],
      "text/plain": [
       "<IPython.core.display.HTML object>"
      ]
     },
     "metadata": {},
     "output_type": "display_data"
    },
    {
     "data": {
      "text/html": [
       "<span style=\"color:cyan\"> |-dense_activation: relu</span>"
      ],
      "text/plain": [
       "<IPython.core.display.HTML object>"
      ]
     },
     "metadata": {},
     "output_type": "display_data"
    },
    {
     "data": {
      "text/html": [
       "<span style=\"color:blue\"> |-dropout_1: 0.25</span>"
      ],
      "text/plain": [
       "<IPython.core.display.HTML object>"
      ]
     },
     "metadata": {},
     "output_type": "display_data"
    },
    {
     "data": {
      "text/html": [
       "<span style=\"color:cyan\"> |-dropout_2: 0.25</span>"
      ],
      "text/plain": [
       "<IPython.core.display.HTML object>"
      ]
     },
     "metadata": {},
     "output_type": "display_data"
    },
    {
     "data": {
      "text/html": [
       "<span style=\"color:blue\"> |-dropout_3: 0.05</span>"
      ],
      "text/plain": [
       "<IPython.core.display.HTML object>"
      ]
     },
     "metadata": {},
     "output_type": "display_data"
    },
    {
     "data": {
      "text/html": [
       "<span style=\"color:cyan\"> |-dropout_4: 0.5</span>"
      ],
      "text/plain": [
       "<IPython.core.display.HTML object>"
      ]
     },
     "metadata": {},
     "output_type": "display_data"
    },
    {
     "data": {
      "text/html": [
       "<span style=\"color:blue\"> |-learning_rate: 0.00013916755655764762</span>"
      ],
      "text/plain": [
       "<IPython.core.display.HTML object>"
      ]
     },
     "metadata": {},
     "output_type": "display_data"
    },
    {
     "data": {
      "text/html": [
       "<span style=\"color:cyan\"> |-tuner/bracket: 2</span>"
      ],
      "text/plain": [
       "<IPython.core.display.HTML object>"
      ]
     },
     "metadata": {},
     "output_type": "display_data"
    },
    {
     "data": {
      "text/html": [
       "<span style=\"color:blue\"> |-tuner/epochs: 7</span>"
      ],
      "text/plain": [
       "<IPython.core.display.HTML object>"
      ]
     },
     "metadata": {},
     "output_type": "display_data"
    },
    {
     "data": {
      "text/html": [
       "<span style=\"color:cyan\"> |-tuner/initial_epoch: 0</span>"
      ],
      "text/plain": [
       "<IPython.core.display.HTML object>"
      ]
     },
     "metadata": {},
     "output_type": "display_data"
    },
    {
     "data": {
      "text/html": [
       "<span style=\"color:blue\"> |-tuner/round: 0</span>"
      ],
      "text/plain": [
       "<IPython.core.display.HTML object>"
      ]
     },
     "metadata": {},
     "output_type": "display_data"
    },
    {
     "data": {
      "text/html": [
       "<span style=\"color:#4527A0\"><h1 style=\"font-size:18px\">Trial summary</h1></span>"
      ],
      "text/plain": [
       "<IPython.core.display.HTML object>"
      ]
     },
     "metadata": {},
     "output_type": "display_data"
    },
    {
     "data": {
      "text/html": [
       "<span style=\"color:cyan\"> |-Trial ID: 4f743684c5ffdaccacf2767c1c71d1ec</span>"
      ],
      "text/plain": [
       "<IPython.core.display.HTML object>"
      ]
     },
     "metadata": {},
     "output_type": "display_data"
    },
    {
     "data": {
      "text/html": [
       "<span style=\"color:cyan\"> |-Score: 0.0</span>"
      ],
      "text/plain": [
       "<IPython.core.display.HTML object>"
      ]
     },
     "metadata": {},
     "output_type": "display_data"
    },
    {
     "data": {
      "text/html": [
       "<span style=\"color:cyan\"> |-Best step: 0</span>"
      ],
      "text/plain": [
       "<IPython.core.display.HTML object>"
      ]
     },
     "metadata": {},
     "output_type": "display_data"
    },
    {
     "data": {
      "text/html": [
       "<span style=\"color:#7E57C2\"><h2 style=\"font-size:16px\">Hyperparameters:</h2></span>"
      ],
      "text/plain": [
       "<IPython.core.display.HTML object>"
      ]
     },
     "metadata": {},
     "output_type": "display_data"
    },
    {
     "data": {
      "text/html": [
       "<span style=\"color:cyan\"> |-Bidirectional_Activation: relu</span>"
      ],
      "text/plain": [
       "<IPython.core.display.HTML object>"
      ]
     },
     "metadata": {},
     "output_type": "display_data"
    },
    {
     "data": {
      "text/html": [
       "<span style=\"color:blue\"> |-Bidirectional_units: 1</span>"
      ],
      "text/plain": [
       "<IPython.core.display.HTML object>"
      ]
     },
     "metadata": {},
     "output_type": "display_data"
    },
    {
     "data": {
      "text/html": [
       "<span style=\"color:cyan\"> |-Conv1D_Activation_1: relu</span>"
      ],
      "text/plain": [
       "<IPython.core.display.HTML object>"
      ]
     },
     "metadata": {},
     "output_type": "display_data"
    },
    {
     "data": {
      "text/html": [
       "<span style=\"color:blue\"> |-Conv1D_Activation_2: tanh</span>"
      ],
      "text/plain": [
       "<IPython.core.display.HTML object>"
      ]
     },
     "metadata": {},
     "output_type": "display_data"
    },
    {
     "data": {
      "text/html": [
       "<span style=\"color:cyan\"> |-Conv1D_Activation_3: tanh</span>"
      ],
      "text/plain": [
       "<IPython.core.display.HTML object>"
      ]
     },
     "metadata": {},
     "output_type": "display_data"
    },
    {
     "data": {
      "text/html": [
       "<span style=\"color:blue\"> |-Conv1D_Activation_4: sigmoid</span>"
      ],
      "text/plain": [
       "<IPython.core.display.HTML object>"
      ]
     },
     "metadata": {},
     "output_type": "display_data"
    },
    {
     "data": {
      "text/html": [
       "<span style=\"color:cyan\"> |-Conv1D_Filters_1: 100</span>"
      ],
      "text/plain": [
       "<IPython.core.display.HTML object>"
      ]
     },
     "metadata": {},
     "output_type": "display_data"
    },
    {
     "data": {
      "text/html": [
       "<span style=\"color:blue\"> |-Conv1D_Filters_2: 5</span>"
      ],
      "text/plain": [
       "<IPython.core.display.HTML object>"
      ]
     },
     "metadata": {},
     "output_type": "display_data"
    },
    {
     "data": {
      "text/html": [
       "<span style=\"color:cyan\"> |-Conv1D_Filters_3: 20</span>"
      ],
      "text/plain": [
       "<IPython.core.display.HTML object>"
      ]
     },
     "metadata": {},
     "output_type": "display_data"
    },
    {
     "data": {
      "text/html": [
       "<span style=\"color:blue\"> |-Conv1D_Filters_4: 10</span>"
      ],
      "text/plain": [
       "<IPython.core.display.HTML object>"
      ]
     },
     "metadata": {},
     "output_type": "display_data"
    },
    {
     "data": {
      "text/html": [
       "<span style=\"color:cyan\"> |-LeakyReLU_1: 0.1</span>"
      ],
      "text/plain": [
       "<IPython.core.display.HTML object>"
      ]
     },
     "metadata": {},
     "output_type": "display_data"
    },
    {
     "data": {
      "text/html": [
       "<span style=\"color:blue\"> |-LeakyReLU_2: 0.25</span>"
      ],
      "text/plain": [
       "<IPython.core.display.HTML object>"
      ]
     },
     "metadata": {},
     "output_type": "display_data"
    },
    {
     "data": {
      "text/html": [
       "<span style=\"color:cyan\"> |-LeakyReLU_3: 0.4</span>"
      ],
      "text/plain": [
       "<IPython.core.display.HTML object>"
      ]
     },
     "metadata": {},
     "output_type": "display_data"
    },
    {
     "data": {
      "text/html": [
       "<span style=\"color:blue\"> |-LeakyReLU_4: 0.2</span>"
      ],
      "text/plain": [
       "<IPython.core.display.HTML object>"
      ]
     },
     "metadata": {},
     "output_type": "display_data"
    },
    {
     "data": {
      "text/html": [
       "<span style=\"color:cyan\"> |-TimeDistributed_Activation_1: elu</span>"
      ],
      "text/plain": [
       "<IPython.core.display.HTML object>"
      ]
     },
     "metadata": {},
     "output_type": "display_data"
    },
    {
     "data": {
      "text/html": [
       "<span style=\"color:blue\"> |-TimeDistributed_units_1: 1</span>"
      ],
      "text/plain": [
       "<IPython.core.display.HTML object>"
      ]
     },
     "metadata": {},
     "output_type": "display_data"
    },
    {
     "data": {
      "text/html": [
       "<span style=\"color:cyan\"> |-dense_activation: swish</span>"
      ],
      "text/plain": [
       "<IPython.core.display.HTML object>"
      ]
     },
     "metadata": {},
     "output_type": "display_data"
    },
    {
     "data": {
      "text/html": [
       "<span style=\"color:blue\"> |-dropout_1: 0.4</span>"
      ],
      "text/plain": [
       "<IPython.core.display.HTML object>"
      ]
     },
     "metadata": {},
     "output_type": "display_data"
    },
    {
     "data": {
      "text/html": [
       "<span style=\"color:cyan\"> |-dropout_2: 0.5</span>"
      ],
      "text/plain": [
       "<IPython.core.display.HTML object>"
      ]
     },
     "metadata": {},
     "output_type": "display_data"
    },
    {
     "data": {
      "text/html": [
       "<span style=\"color:blue\"> |-dropout_3: 0.2</span>"
      ],
      "text/plain": [
       "<IPython.core.display.HTML object>"
      ]
     },
     "metadata": {},
     "output_type": "display_data"
    },
    {
     "data": {
      "text/html": [
       "<span style=\"color:cyan\"> |-dropout_4: 0.15000000000000002</span>"
      ],
      "text/plain": [
       "<IPython.core.display.HTML object>"
      ]
     },
     "metadata": {},
     "output_type": "display_data"
    },
    {
     "data": {
      "text/html": [
       "<span style=\"color:blue\"> |-learning_rate: 0.00029883401391728724</span>"
      ],
      "text/plain": [
       "<IPython.core.display.HTML object>"
      ]
     },
     "metadata": {},
     "output_type": "display_data"
    },
    {
     "data": {
      "text/html": [
       "<span style=\"color:cyan\"> |-tuner/bracket: 3</span>"
      ],
      "text/plain": [
       "<IPython.core.display.HTML object>"
      ]
     },
     "metadata": {},
     "output_type": "display_data"
    },
    {
     "data": {
      "text/html": [
       "<span style=\"color:blue\"> |-tuner/epochs: 3</span>"
      ],
      "text/plain": [
       "<IPython.core.display.HTML object>"
      ]
     },
     "metadata": {},
     "output_type": "display_data"
    },
    {
     "data": {
      "text/html": [
       "<span style=\"color:cyan\"> |-tuner/initial_epoch: 0</span>"
      ],
      "text/plain": [
       "<IPython.core.display.HTML object>"
      ]
     },
     "metadata": {},
     "output_type": "display_data"
    },
    {
     "data": {
      "text/html": [
       "<span style=\"color:blue\"> |-tuner/round: 0</span>"
      ],
      "text/plain": [
       "<IPython.core.display.HTML object>"
      ]
     },
     "metadata": {},
     "output_type": "display_data"
    },
    {
     "data": {
      "text/html": [
       "<span style=\"color:#4527A0\"><h1 style=\"font-size:18px\">Trial summary</h1></span>"
      ],
      "text/plain": [
       "<IPython.core.display.HTML object>"
      ]
     },
     "metadata": {},
     "output_type": "display_data"
    },
    {
     "data": {
      "text/html": [
       "<span style=\"color:cyan\"> |-Trial ID: 1c8a2d1ffee2de8ba5af2aec7dfbab11</span>"
      ],
      "text/plain": [
       "<IPython.core.display.HTML object>"
      ]
     },
     "metadata": {},
     "output_type": "display_data"
    },
    {
     "data": {
      "text/html": [
       "<span style=\"color:cyan\"> |-Score: 0.0</span>"
      ],
      "text/plain": [
       "<IPython.core.display.HTML object>"
      ]
     },
     "metadata": {},
     "output_type": "display_data"
    },
    {
     "data": {
      "text/html": [
       "<span style=\"color:cyan\"> |-Best step: 0</span>"
      ],
      "text/plain": [
       "<IPython.core.display.HTML object>"
      ]
     },
     "metadata": {},
     "output_type": "display_data"
    },
    {
     "data": {
      "text/html": [
       "<span style=\"color:#7E57C2\"><h2 style=\"font-size:16px\">Hyperparameters:</h2></span>"
      ],
      "text/plain": [
       "<IPython.core.display.HTML object>"
      ]
     },
     "metadata": {},
     "output_type": "display_data"
    },
    {
     "data": {
      "text/html": [
       "<span style=\"color:cyan\"> |-Bidirectional_Activation: selu</span>"
      ],
      "text/plain": [
       "<IPython.core.display.HTML object>"
      ]
     },
     "metadata": {},
     "output_type": "display_data"
    },
    {
     "data": {
      "text/html": [
       "<span style=\"color:blue\"> |-Bidirectional_units: 200</span>"
      ],
      "text/plain": [
       "<IPython.core.display.HTML object>"
      ]
     },
     "metadata": {},
     "output_type": "display_data"
    },
    {
     "data": {
      "text/html": [
       "<span style=\"color:cyan\"> |-Conv1D_Activation_1: relu</span>"
      ],
      "text/plain": [
       "<IPython.core.display.HTML object>"
      ]
     },
     "metadata": {},
     "output_type": "display_data"
    },
    {
     "data": {
      "text/html": [
       "<span style=\"color:blue\"> |-Conv1D_Activation_2: swish</span>"
      ],
      "text/plain": [
       "<IPython.core.display.HTML object>"
      ]
     },
     "metadata": {},
     "output_type": "display_data"
    },
    {
     "data": {
      "text/html": [
       "<span style=\"color:cyan\"> |-Conv1D_Activation_3: tanh</span>"
      ],
      "text/plain": [
       "<IPython.core.display.HTML object>"
      ]
     },
     "metadata": {},
     "output_type": "display_data"
    },
    {
     "data": {
      "text/html": [
       "<span style=\"color:blue\"> |-Conv1D_Activation_4: elu</span>"
      ],
      "text/plain": [
       "<IPython.core.display.HTML object>"
      ]
     },
     "metadata": {},
     "output_type": "display_data"
    },
    {
     "data": {
      "text/html": [
       "<span style=\"color:cyan\"> |-Conv1D_Filters_1: 25</span>"
      ],
      "text/plain": [
       "<IPython.core.display.HTML object>"
      ]
     },
     "metadata": {},
     "output_type": "display_data"
    },
    {
     "data": {
      "text/html": [
       "<span style=\"color:blue\"> |-Conv1D_Filters_2: 10</span>"
      ],
      "text/plain": [
       "<IPython.core.display.HTML object>"
      ]
     },
     "metadata": {},
     "output_type": "display_data"
    },
    {
     "data": {
      "text/html": [
       "<span style=\"color:cyan\"> |-Conv1D_Filters_3: 300</span>"
      ],
      "text/plain": [
       "<IPython.core.display.HTML object>"
      ]
     },
     "metadata": {},
     "output_type": "display_data"
    },
    {
     "data": {
      "text/html": [
       "<span style=\"color:blue\"> |-Conv1D_Filters_4: 5</span>"
      ],
      "text/plain": [
       "<IPython.core.display.HTML object>"
      ]
     },
     "metadata": {},
     "output_type": "display_data"
    },
    {
     "data": {
      "text/html": [
       "<span style=\"color:cyan\"> |-LeakyReLU_1: 0.2</span>"
      ],
      "text/plain": [
       "<IPython.core.display.HTML object>"
      ]
     },
     "metadata": {},
     "output_type": "display_data"
    },
    {
     "data": {
      "text/html": [
       "<span style=\"color:blue\"> |-LeakyReLU_2: 0.1</span>"
      ],
      "text/plain": [
       "<IPython.core.display.HTML object>"
      ]
     },
     "metadata": {},
     "output_type": "display_data"
    },
    {
     "data": {
      "text/html": [
       "<span style=\"color:cyan\"> |-LeakyReLU_3: 0.05</span>"
      ],
      "text/plain": [
       "<IPython.core.display.HTML object>"
      ]
     },
     "metadata": {},
     "output_type": "display_data"
    },
    {
     "data": {
      "text/html": [
       "<span style=\"color:blue\"> |-LeakyReLU_4: 0.1</span>"
      ],
      "text/plain": [
       "<IPython.core.display.HTML object>"
      ]
     },
     "metadata": {},
     "output_type": "display_data"
    },
    {
     "data": {
      "text/html": [
       "<span style=\"color:cyan\"> |-TimeDistributed_Activation_1: selu</span>"
      ],
      "text/plain": [
       "<IPython.core.display.HTML object>"
      ]
     },
     "metadata": {},
     "output_type": "display_data"
    },
    {
     "data": {
      "text/html": [
       "<span style=\"color:blue\"> |-TimeDistributed_units_1: 200</span>"
      ],
      "text/plain": [
       "<IPython.core.display.HTML object>"
      ]
     },
     "metadata": {},
     "output_type": "display_data"
    },
    {
     "data": {
      "text/html": [
       "<span style=\"color:cyan\"> |-dense_activation: linear</span>"
      ],
      "text/plain": [
       "<IPython.core.display.HTML object>"
      ]
     },
     "metadata": {},
     "output_type": "display_data"
    },
    {
     "data": {
      "text/html": [
       "<span style=\"color:blue\"> |-dropout_1: 0.25</span>"
      ],
      "text/plain": [
       "<IPython.core.display.HTML object>"
      ]
     },
     "metadata": {},
     "output_type": "display_data"
    },
    {
     "data": {
      "text/html": [
       "<span style=\"color:cyan\"> |-dropout_2: 0.5</span>"
      ],
      "text/plain": [
       "<IPython.core.display.HTML object>"
      ]
     },
     "metadata": {},
     "output_type": "display_data"
    },
    {
     "data": {
      "text/html": [
       "<span style=\"color:blue\"> |-dropout_3: 0.5</span>"
      ],
      "text/plain": [
       "<IPython.core.display.HTML object>"
      ]
     },
     "metadata": {},
     "output_type": "display_data"
    },
    {
     "data": {
      "text/html": [
       "<span style=\"color:cyan\"> |-dropout_4: 0.15000000000000002</span>"
      ],
      "text/plain": [
       "<IPython.core.display.HTML object>"
      ]
     },
     "metadata": {},
     "output_type": "display_data"
    },
    {
     "data": {
      "text/html": [
       "<span style=\"color:blue\"> |-learning_rate: 1.6308979287756596e-05</span>"
      ],
      "text/plain": [
       "<IPython.core.display.HTML object>"
      ]
     },
     "metadata": {},
     "output_type": "display_data"
    },
    {
     "data": {
      "text/html": [
       "<span style=\"color:cyan\"> |-tuner/bracket: 3</span>"
      ],
      "text/plain": [
       "<IPython.core.display.HTML object>"
      ]
     },
     "metadata": {},
     "output_type": "display_data"
    },
    {
     "data": {
      "text/html": [
       "<span style=\"color:blue\"> |-tuner/epochs: 20</span>"
      ],
      "text/plain": [
       "<IPython.core.display.HTML object>"
      ]
     },
     "metadata": {},
     "output_type": "display_data"
    },
    {
     "data": {
      "text/html": [
       "<span style=\"color:cyan\"> |-tuner/initial_epoch: 7</span>"
      ],
      "text/plain": [
       "<IPython.core.display.HTML object>"
      ]
     },
     "metadata": {},
     "output_type": "display_data"
    },
    {
     "data": {
      "text/html": [
       "<span style=\"color:blue\"> |-tuner/round: 2</span>"
      ],
      "text/plain": [
       "<IPython.core.display.HTML object>"
      ]
     },
     "metadata": {},
     "output_type": "display_data"
    },
    {
     "data": {
      "text/html": [
       "<span style=\"color:cyan\"> |-tuner/trial_id: 5fa3de8a05b984e6f6e49da9ae305729</span>"
      ],
      "text/plain": [
       "<IPython.core.display.HTML object>"
      ]
     },
     "metadata": {},
     "output_type": "display_data"
    },
    {
     "data": {
      "text/html": [
       "<span style=\"color:#4527A0\"><h1 style=\"font-size:18px\">Trial summary</h1></span>"
      ],
      "text/plain": [
       "<IPython.core.display.HTML object>"
      ]
     },
     "metadata": {},
     "output_type": "display_data"
    },
    {
     "data": {
      "text/html": [
       "<span style=\"color:cyan\"> |-Trial ID: d941a9a274e9e763a83ffce909736d5c</span>"
      ],
      "text/plain": [
       "<IPython.core.display.HTML object>"
      ]
     },
     "metadata": {},
     "output_type": "display_data"
    },
    {
     "data": {
      "text/html": [
       "<span style=\"color:cyan\"> |-Score: 0.0</span>"
      ],
      "text/plain": [
       "<IPython.core.display.HTML object>"
      ]
     },
     "metadata": {},
     "output_type": "display_data"
    },
    {
     "data": {
      "text/html": [
       "<span style=\"color:cyan\"> |-Best step: 0</span>"
      ],
      "text/plain": [
       "<IPython.core.display.HTML object>"
      ]
     },
     "metadata": {},
     "output_type": "display_data"
    },
    {
     "data": {
      "text/html": [
       "<span style=\"color:#7E57C2\"><h2 style=\"font-size:16px\">Hyperparameters:</h2></span>"
      ],
      "text/plain": [
       "<IPython.core.display.HTML object>"
      ]
     },
     "metadata": {},
     "output_type": "display_data"
    },
    {
     "data": {
      "text/html": [
       "<span style=\"color:cyan\"> |-Bidirectional_Activation: relu</span>"
      ],
      "text/plain": [
       "<IPython.core.display.HTML object>"
      ]
     },
     "metadata": {},
     "output_type": "display_data"
    },
    {
     "data": {
      "text/html": [
       "<span style=\"color:blue\"> |-Bidirectional_units: 1</span>"
      ],
      "text/plain": [
       "<IPython.core.display.HTML object>"
      ]
     },
     "metadata": {},
     "output_type": "display_data"
    },
    {
     "data": {
      "text/html": [
       "<span style=\"color:cyan\"> |-Conv1D_Activation_1: sigmoid</span>"
      ],
      "text/plain": [
       "<IPython.core.display.HTML object>"
      ]
     },
     "metadata": {},
     "output_type": "display_data"
    },
    {
     "data": {
      "text/html": [
       "<span style=\"color:blue\"> |-Conv1D_Activation_2: swish</span>"
      ],
      "text/plain": [
       "<IPython.core.display.HTML object>"
      ]
     },
     "metadata": {},
     "output_type": "display_data"
    },
    {
     "data": {
      "text/html": [
       "<span style=\"color:cyan\"> |-Conv1D_Activation_3: sigmoid</span>"
      ],
      "text/plain": [
       "<IPython.core.display.HTML object>"
      ]
     },
     "metadata": {},
     "output_type": "display_data"
    },
    {
     "data": {
      "text/html": [
       "<span style=\"color:blue\"> |-Conv1D_Activation_4: swish</span>"
      ],
      "text/plain": [
       "<IPython.core.display.HTML object>"
      ]
     },
     "metadata": {},
     "output_type": "display_data"
    },
    {
     "data": {
      "text/html": [
       "<span style=\"color:cyan\"> |-Conv1D_Filters_1: 400</span>"
      ],
      "text/plain": [
       "<IPython.core.display.HTML object>"
      ]
     },
     "metadata": {},
     "output_type": "display_data"
    },
    {
     "data": {
      "text/html": [
       "<span style=\"color:blue\"> |-Conv1D_Filters_2: 100</span>"
      ],
      "text/plain": [
       "<IPython.core.display.HTML object>"
      ]
     },
     "metadata": {},
     "output_type": "display_data"
    },
    {
     "data": {
      "text/html": [
       "<span style=\"color:cyan\"> |-Conv1D_Filters_3: 500</span>"
      ],
      "text/plain": [
       "<IPython.core.display.HTML object>"
      ]
     },
     "metadata": {},
     "output_type": "display_data"
    },
    {
     "data": {
      "text/html": [
       "<span style=\"color:blue\"> |-Conv1D_Filters_4: 50</span>"
      ],
      "text/plain": [
       "<IPython.core.display.HTML object>"
      ]
     },
     "metadata": {},
     "output_type": "display_data"
    },
    {
     "data": {
      "text/html": [
       "<span style=\"color:cyan\"> |-LeakyReLU_1: 0.45</span>"
      ],
      "text/plain": [
       "<IPython.core.display.HTML object>"
      ]
     },
     "metadata": {},
     "output_type": "display_data"
    },
    {
     "data": {
      "text/html": [
       "<span style=\"color:blue\"> |-LeakyReLU_2: 0.05</span>"
      ],
      "text/plain": [
       "<IPython.core.display.HTML object>"
      ]
     },
     "metadata": {},
     "output_type": "display_data"
    },
    {
     "data": {
      "text/html": [
       "<span style=\"color:cyan\"> |-LeakyReLU_3: 0.15000000000000002</span>"
      ],
      "text/plain": [
       "<IPython.core.display.HTML object>"
      ]
     },
     "metadata": {},
     "output_type": "display_data"
    },
    {
     "data": {
      "text/html": [
       "<span style=\"color:blue\"> |-LeakyReLU_4: 0.4</span>"
      ],
      "text/plain": [
       "<IPython.core.display.HTML object>"
      ]
     },
     "metadata": {},
     "output_type": "display_data"
    },
    {
     "data": {
      "text/html": [
       "<span style=\"color:cyan\"> |-TimeDistributed_Activation_1: relu</span>"
      ],
      "text/plain": [
       "<IPython.core.display.HTML object>"
      ]
     },
     "metadata": {},
     "output_type": "display_data"
    },
    {
     "data": {
      "text/html": [
       "<span style=\"color:blue\"> |-TimeDistributed_units_1: 30</span>"
      ],
      "text/plain": [
       "<IPython.core.display.HTML object>"
      ]
     },
     "metadata": {},
     "output_type": "display_data"
    },
    {
     "data": {
      "text/html": [
       "<span style=\"color:cyan\"> |-dense_activation: softmax</span>"
      ],
      "text/plain": [
       "<IPython.core.display.HTML object>"
      ]
     },
     "metadata": {},
     "output_type": "display_data"
    },
    {
     "data": {
      "text/html": [
       "<span style=\"color:blue\"> |-dropout_1: 0.1</span>"
      ],
      "text/plain": [
       "<IPython.core.display.HTML object>"
      ]
     },
     "metadata": {},
     "output_type": "display_data"
    },
    {
     "data": {
      "text/html": [
       "<span style=\"color:cyan\"> |-dropout_2: 0.35000000000000003</span>"
      ],
      "text/plain": [
       "<IPython.core.display.HTML object>"
      ]
     },
     "metadata": {},
     "output_type": "display_data"
    },
    {
     "data": {
      "text/html": [
       "<span style=\"color:blue\"> |-dropout_3: 0.30000000000000004</span>"
      ],
      "text/plain": [
       "<IPython.core.display.HTML object>"
      ]
     },
     "metadata": {},
     "output_type": "display_data"
    },
    {
     "data": {
      "text/html": [
       "<span style=\"color:cyan\"> |-dropout_4: 0.35000000000000003</span>"
      ],
      "text/plain": [
       "<IPython.core.display.HTML object>"
      ]
     },
     "metadata": {},
     "output_type": "display_data"
    },
    {
     "data": {
      "text/html": [
       "<span style=\"color:blue\"> |-learning_rate: 0.003307059680211406</span>"
      ],
      "text/plain": [
       "<IPython.core.display.HTML object>"
      ]
     },
     "metadata": {},
     "output_type": "display_data"
    },
    {
     "data": {
      "text/html": [
       "<span style=\"color:cyan\"> |-tuner/bracket: 3</span>"
      ],
      "text/plain": [
       "<IPython.core.display.HTML object>"
      ]
     },
     "metadata": {},
     "output_type": "display_data"
    },
    {
     "data": {
      "text/html": [
       "<span style=\"color:blue\"> |-tuner/epochs: 3</span>"
      ],
      "text/plain": [
       "<IPython.core.display.HTML object>"
      ]
     },
     "metadata": {},
     "output_type": "display_data"
    },
    {
     "data": {
      "text/html": [
       "<span style=\"color:cyan\"> |-tuner/initial_epoch: 0</span>"
      ],
      "text/plain": [
       "<IPython.core.display.HTML object>"
      ]
     },
     "metadata": {},
     "output_type": "display_data"
    },
    {
     "data": {
      "text/html": [
       "<span style=\"color:blue\"> |-tuner/round: 0</span>"
      ],
      "text/plain": [
       "<IPython.core.display.HTML object>"
      ]
     },
     "metadata": {},
     "output_type": "display_data"
    },
    {
     "data": {
      "text/html": [
       "<span style=\"color:#4527A0\"><h1 style=\"font-size:18px\">Trial summary</h1></span>"
      ],
      "text/plain": [
       "<IPython.core.display.HTML object>"
      ]
     },
     "metadata": {},
     "output_type": "display_data"
    },
    {
     "data": {
      "text/html": [
       "<span style=\"color:cyan\"> |-Trial ID: 5e82e1f6d29fd2306811bb85911d82d2</span>"
      ],
      "text/plain": [
       "<IPython.core.display.HTML object>"
      ]
     },
     "metadata": {},
     "output_type": "display_data"
    },
    {
     "data": {
      "text/html": [
       "<span style=\"color:cyan\"> |-Score: 0.0</span>"
      ],
      "text/plain": [
       "<IPython.core.display.HTML object>"
      ]
     },
     "metadata": {},
     "output_type": "display_data"
    },
    {
     "data": {
      "text/html": [
       "<span style=\"color:cyan\"> |-Best step: 0</span>"
      ],
      "text/plain": [
       "<IPython.core.display.HTML object>"
      ]
     },
     "metadata": {},
     "output_type": "display_data"
    },
    {
     "data": {
      "text/html": [
       "<span style=\"color:#7E57C2\"><h2 style=\"font-size:16px\">Hyperparameters:</h2></span>"
      ],
      "text/plain": [
       "<IPython.core.display.HTML object>"
      ]
     },
     "metadata": {},
     "output_type": "display_data"
    },
    {
     "data": {
      "text/html": [
       "<span style=\"color:cyan\"> |-Bidirectional_Activation: tanh</span>"
      ],
      "text/plain": [
       "<IPython.core.display.HTML object>"
      ]
     },
     "metadata": {},
     "output_type": "display_data"
    },
    {
     "data": {
      "text/html": [
       "<span style=\"color:blue\"> |-Bidirectional_units: 300</span>"
      ],
      "text/plain": [
       "<IPython.core.display.HTML object>"
      ]
     },
     "metadata": {},
     "output_type": "display_data"
    },
    {
     "data": {
      "text/html": [
       "<span style=\"color:cyan\"> |-Conv1D_Activation_1: elu</span>"
      ],
      "text/plain": [
       "<IPython.core.display.HTML object>"
      ]
     },
     "metadata": {},
     "output_type": "display_data"
    },
    {
     "data": {
      "text/html": [
       "<span style=\"color:blue\"> |-Conv1D_Activation_2: relu</span>"
      ],
      "text/plain": [
       "<IPython.core.display.HTML object>"
      ]
     },
     "metadata": {},
     "output_type": "display_data"
    },
    {
     "data": {
      "text/html": [
       "<span style=\"color:cyan\"> |-Conv1D_Activation_3: selu</span>"
      ],
      "text/plain": [
       "<IPython.core.display.HTML object>"
      ]
     },
     "metadata": {},
     "output_type": "display_data"
    },
    {
     "data": {
      "text/html": [
       "<span style=\"color:blue\"> |-Conv1D_Activation_4: relu</span>"
      ],
      "text/plain": [
       "<IPython.core.display.HTML object>"
      ]
     },
     "metadata": {},
     "output_type": "display_data"
    },
    {
     "data": {
      "text/html": [
       "<span style=\"color:cyan\"> |-Conv1D_Filters_1: 150</span>"
      ],
      "text/plain": [
       "<IPython.core.display.HTML object>"
      ]
     },
     "metadata": {},
     "output_type": "display_data"
    },
    {
     "data": {
      "text/html": [
       "<span style=\"color:blue\"> |-Conv1D_Filters_2: 10</span>"
      ],
      "text/plain": [
       "<IPython.core.display.HTML object>"
      ]
     },
     "metadata": {},
     "output_type": "display_data"
    },
    {
     "data": {
      "text/html": [
       "<span style=\"color:cyan\"> |-Conv1D_Filters_3: 15</span>"
      ],
      "text/plain": [
       "<IPython.core.display.HTML object>"
      ]
     },
     "metadata": {},
     "output_type": "display_data"
    },
    {
     "data": {
      "text/html": [
       "<span style=\"color:blue\"> |-Conv1D_Filters_4: 300</span>"
      ],
      "text/plain": [
       "<IPython.core.display.HTML object>"
      ]
     },
     "metadata": {},
     "output_type": "display_data"
    },
    {
     "data": {
      "text/html": [
       "<span style=\"color:cyan\"> |-LeakyReLU_1: 0.35000000000000003</span>"
      ],
      "text/plain": [
       "<IPython.core.display.HTML object>"
      ]
     },
     "metadata": {},
     "output_type": "display_data"
    },
    {
     "data": {
      "text/html": [
       "<span style=\"color:blue\"> |-LeakyReLU_2: 0.0</span>"
      ],
      "text/plain": [
       "<IPython.core.display.HTML object>"
      ]
     },
     "metadata": {},
     "output_type": "display_data"
    },
    {
     "data": {
      "text/html": [
       "<span style=\"color:cyan\"> |-LeakyReLU_3: 0.4</span>"
      ],
      "text/plain": [
       "<IPython.core.display.HTML object>"
      ]
     },
     "metadata": {},
     "output_type": "display_data"
    },
    {
     "data": {
      "text/html": [
       "<span style=\"color:blue\"> |-LeakyReLU_4: 0.05</span>"
      ],
      "text/plain": [
       "<IPython.core.display.HTML object>"
      ]
     },
     "metadata": {},
     "output_type": "display_data"
    },
    {
     "data": {
      "text/html": [
       "<span style=\"color:cyan\"> |-TimeDistributed_Activation_1: tanh</span>"
      ],
      "text/plain": [
       "<IPython.core.display.HTML object>"
      ]
     },
     "metadata": {},
     "output_type": "display_data"
    },
    {
     "data": {
      "text/html": [
       "<span style=\"color:blue\"> |-TimeDistributed_units_1: 40</span>"
      ],
      "text/plain": [
       "<IPython.core.display.HTML object>"
      ]
     },
     "metadata": {},
     "output_type": "display_data"
    },
    {
     "data": {
      "text/html": [
       "<span style=\"color:cyan\"> |-dense_activation: linear</span>"
      ],
      "text/plain": [
       "<IPython.core.display.HTML object>"
      ]
     },
     "metadata": {},
     "output_type": "display_data"
    },
    {
     "data": {
      "text/html": [
       "<span style=\"color:blue\"> |-dropout_1: 0.35000000000000003</span>"
      ],
      "text/plain": [
       "<IPython.core.display.HTML object>"
      ]
     },
     "metadata": {},
     "output_type": "display_data"
    },
    {
     "data": {
      "text/html": [
       "<span style=\"color:cyan\"> |-dropout_2: 0.2</span>"
      ],
      "text/plain": [
       "<IPython.core.display.HTML object>"
      ]
     },
     "metadata": {},
     "output_type": "display_data"
    },
    {
     "data": {
      "text/html": [
       "<span style=\"color:blue\"> |-dropout_3: 0.45</span>"
      ],
      "text/plain": [
       "<IPython.core.display.HTML object>"
      ]
     },
     "metadata": {},
     "output_type": "display_data"
    },
    {
     "data": {
      "text/html": [
       "<span style=\"color:cyan\"> |-dropout_4: 0.05</span>"
      ],
      "text/plain": [
       "<IPython.core.display.HTML object>"
      ]
     },
     "metadata": {},
     "output_type": "display_data"
    },
    {
     "data": {
      "text/html": [
       "<span style=\"color:blue\"> |-learning_rate: 0.00223828804510409</span>"
      ],
      "text/plain": [
       "<IPython.core.display.HTML object>"
      ]
     },
     "metadata": {},
     "output_type": "display_data"
    },
    {
     "data": {
      "text/html": [
       "<span style=\"color:cyan\"> |-tuner/bracket: 3</span>"
      ],
      "text/plain": [
       "<IPython.core.display.HTML object>"
      ]
     },
     "metadata": {},
     "output_type": "display_data"
    },
    {
     "data": {
      "text/html": [
       "<span style=\"color:blue\"> |-tuner/epochs: 3</span>"
      ],
      "text/plain": [
       "<IPython.core.display.HTML object>"
      ]
     },
     "metadata": {},
     "output_type": "display_data"
    },
    {
     "data": {
      "text/html": [
       "<span style=\"color:cyan\"> |-tuner/initial_epoch: 0</span>"
      ],
      "text/plain": [
       "<IPython.core.display.HTML object>"
      ]
     },
     "metadata": {},
     "output_type": "display_data"
    },
    {
     "data": {
      "text/html": [
       "<span style=\"color:blue\"> |-tuner/round: 0</span>"
      ],
      "text/plain": [
       "<IPython.core.display.HTML object>"
      ]
     },
     "metadata": {},
     "output_type": "display_data"
    }
   ],
   "source": [
    "tuner.results_summary()"
   ]
  },
  {
   "cell_type": "code",
   "execution_count": 91,
   "id": "c0922e2e-e38b-42db-b7b5-b4c006a5660a",
   "metadata": {},
   "outputs": [
    {
     "name": "stdout",
     "output_type": "stream",
     "text": [
      "WARNING:tensorflow:Layer lstm will not use cuDNN kernel since it doesn't meet the cuDNN kernel criteria. It will use generic GPU kernel as fallback when running on GPU\n",
      "WARNING:tensorflow:Layer lstm will not use cuDNN kernel since it doesn't meet the cuDNN kernel criteria. It will use generic GPU kernel as fallback when running on GPU\n",
      "WARNING:tensorflow:Layer lstm will not use cuDNN kernel since it doesn't meet the cuDNN kernel criteria. It will use generic GPU kernel as fallback when running on GPU\n"
     ]
    }
   ],
   "source": [
    "best_model = tuner.get_best_models(num_models=1)[0]"
   ]
  },
  {
   "cell_type": "code",
   "execution_count": 92,
   "id": "ebccc01c-dd70-42e7-84a9-30ee683b7831",
   "metadata": {},
   "outputs": [
    {
     "name": "stdout",
     "output_type": "stream",
     "text": [
      "WARNING:tensorflow:Layer lstm will not use cuDNN kernel since it doesn't meet the cuDNN kernel criteria. It will use generic GPU kernel as fallback when running on GPU\n",
      "WARNING:tensorflow:Layer lstm will not use cuDNN kernel since it doesn't meet the cuDNN kernel criteria. It will use generic GPU kernel as fallback when running on GPU\n",
      "WARNING:tensorflow:Layer lstm will not use cuDNN kernel since it doesn't meet the cuDNN kernel criteria. It will use generic GPU kernel as fallback when running on GPU\n",
      "WARNING:tensorflow:Unresolved object in checkpoint: (root).optimizer.iter\n",
      "WARNING:tensorflow:Unresolved object in checkpoint: (root).optimizer.beta_1\n",
      "WARNING:tensorflow:Unresolved object in checkpoint: (root).optimizer.beta_2\n",
      "WARNING:tensorflow:Unresolved object in checkpoint: (root).optimizer.decay\n",
      "WARNING:tensorflow:Unresolved object in checkpoint: (root).optimizer.learning_rate\n",
      "WARNING:tensorflow:A checkpoint was restored (e.g. tf.train.Checkpoint.restore or tf.keras.Model.load_weights) but not all checkpointed values were used. See above for specific issues. Use expect_partial() on the load status object, e.g. tf.train.Checkpoint.restore(...).expect_partial(), to silence these warnings, or use assert_consumed() to make the check explicit. See https://www.tensorflow.org/guide/checkpoint#loading_mechanics for details.\n"
     ]
    }
   ],
   "source": [
    "best_model = tuner.get_best_models(num_models=1)[0]"
   ]
  },
  {
   "cell_type": "code",
   "execution_count": 93,
   "id": "11308517-453e-4469-a579-5ec52d7d8d66",
   "metadata": {},
   "outputs": [],
   "source": [
    "best_hps = tuner.get_best_hyperparameters(num_trials = 1)[0]"
   ]
  },
  {
   "cell_type": "code",
   "execution_count": 94,
   "id": "5ce637e6-71ee-4d25-8d40-d95f7936b68a",
   "metadata": {},
   "outputs": [
    {
     "name": "stdout",
     "output_type": "stream",
     "text": [
      "25\n",
      "selu\n",
      "0.2\n",
      "0.35000000000000003\n",
      "400\n",
      "relu\n",
      "0.25\n",
      "0.25\n",
      "5\n",
      "relu\n",
      "0.30000000000000004\n",
      "0.25\n",
      "200\n",
      "sigmoid\n",
      "0.35000000000000003\n",
      "0.30000000000000004\n",
      "30\n",
      "swish\n",
      "100\n",
      "relu\n",
      "relu\n",
      "0.0001681154540009978\n"
     ]
    }
   ],
   "source": [
    "print(best_hps.get('Conv1D_Filters_1'))\n",
    "print(best_hps.get('Conv1D_Activation_1'))\n",
    "print(best_hps.get('LeakyReLU_1'))\n",
    "print(best_hps.get('dropout_1'))\n",
    "print(best_hps.get('Conv1D_Filters_2'))\n",
    "print(best_hps.get('Conv1D_Activation_2'))\n",
    "print(best_hps.get('LeakyReLU_2'))\n",
    "print(best_hps.get('dropout_2'))\n",
    "print(best_hps.get('Conv1D_Filters_3'))\n",
    "print(best_hps.get('Conv1D_Activation_3'))\n",
    "print(best_hps.get('LeakyReLU_3'))\n",
    "print(best_hps.get('dropout_3'))\n",
    "print(best_hps.get('Conv1D_Filters_4'))\n",
    "print(best_hps.get('Conv1D_Activation_4'))\n",
    "print(best_hps.get('LeakyReLU_4'))\n",
    "print(best_hps.get('dropout_4'))\n",
    "print(best_hps.get('TimeDistributed_units_1'))\n",
    "print(best_hps.get('TimeDistributed_Activation_1'))\n",
    "print(best_hps.get('Bidirectional_units'))\n",
    "print(best_hps.get('Bidirectional_Activation'))\n",
    "print(best_hps.get('dense_activation'))\n",
    "print(best_hps.get('learning_rate'))"
   ]
  },
  {
   "cell_type": "code",
   "execution_count": 95,
   "id": "d0eceb3e-735e-4f78-8615-3ab36819b070",
   "metadata": {},
   "outputs": [],
   "source": [
    "from tensorflow.keras import layers\n",
    "from tensorflow.keras import regularizers\n",
    "\n",
    "leaky_relu_alpha = 0.1\n",
    "filter_num = 25\n",
    "activation_conv = 'tanh'\n",
    "LSTM_act = 'tanh'\n",
    "dense_act = 'softmax'\n",
    "conv_dropout = .15\n",
    "convLSTM_tuned = tf.keras.models.Sequential([ \n",
    "                                        # Conv1\n",
    "                                        tf.keras.layers.Conv1D(activation = 'relu', filters=15, strides=1, padding = \"causal\", kernel_size = 3, input_shape = (x_train_multi.shape[1], x_train_multi.shape[2])),\n",
    "                                        tf.keras.layers.BatchNormalization(),\n",
    "                                        tf.keras.layers.LeakyReLU(alpha=0.1),\n",
    "                                        tf.keras.layers.PReLU(),\n",
    "                                        tf.keras.layers.Dropout(0.1),\n",
    "    \n",
    "                                        # Conv2\n",
    "                                        tf.keras.layers.Conv1D(activation = 'elu',filters=300, strides=1, kernel_size = 3, padding = \"causal\"),\n",
    "                                        tf.keras.layers.BatchNormalization(),\n",
    "                                        tf.keras.layers.LeakyReLU(alpha=0.15000000000000002),\n",
    "                                        tf.keras.layers.PReLU(),\n",
    "                                        tf.keras.layers.Dropout(0.1),\n",
    "    \n",
    "                                        # Pool 1\n",
    "                                        tf.keras.layers.MaxPooling1D(pool_size=1, strides=1, padding='same'),\n",
    "    \n",
    "                                        # Conv3\n",
    "                                        tf.keras.layers.Conv1D(activation = 'elu',filters=150, strides=1, kernel_size = 3,padding = \"causal\"),\n",
    "                                        tf.keras.layers.BatchNormalization(),\n",
    "                                        tf.keras.layers.LeakyReLU(alpha=0.25),\n",
    "                                        tf.keras.layers.PReLU(),\n",
    "                                        tf.keras.layers.Dropout(0.25),\n",
    "                                        \n",
    "                                        # Pool 2\n",
    "                                        tf.keras.layers.MaxPooling1D(pool_size=1, strides=1, padding='same'),\n",
    "    \n",
    "                                        # Conv4\n",
    "                                        tf.keras.layers.Conv1D(activation = 'relu',filters=25, strides=1, kernel_size = 3, padding = \"causal\"),\n",
    "                                        tf.keras.layers.BatchNormalization(),\n",
    "                                        tf.keras.layers.LeakyReLU(alpha=0.5),\n",
    "                                        tf.keras.layers.PReLU(),\n",
    "                                        tf.keras.layers.Dropout(0.2),\n",
    "    \n",
    "                                        # Pool 3\n",
    "                                        tf.keras.layers.MaxPooling1D(pool_size=1, strides=1, padding='same'),\n",
    "    \n",
    "                                        # Time Distributed Layer\n",
    "                                        tf.keras.layers.TimeDistributed(Dense(10, activation = 'tanh')),\n",
    "                                        \n",
    "                                        # Hidden Layer 500\n",
    "                                        tf.keras.layers.Bidirectional(LSTM(10,activation = 'tanh', return_sequences = True, go_backwards=True)),\n",
    "    \n",
    "                                        # Hidden Layer 250\n",
    "                                        #tf.keras.layers.Bidirectional(LSTM(250,activation = 'tanh', return_sequences = True, go_backwards=False)),\n",
    "                                        \n",
    "                                        # Hidden Layer 125\n",
    "                                        #tf.keras.layers.Bidirectional(LSTM(125,activation = 'tanh', return_sequences = True, go_backwards=True)),\n",
    "    \n",
    "                                        # Output Layer\n",
    "                                        #tf.keras.layers.MaxPool1D(pool_size = 1),\n",
    "                                        #tf.keras.layers.PReLU(),\n",
    "                                        #tf.keras.layers.Dropout(0.15),\n",
    "                                        tf.keras.layers.Flatten(),\n",
    "                                        tf.keras.layers.Dense(horizon, activation = 'tanh',\n",
    "                                        kernel_regularizer=regularizers.l2(0.01),\n",
    "                                        bias_regularizer=regularizers.l2(0.01),\n",
    "                                        activity_regularizer=regularizers.l2(0.01)),\n",
    "])"
   ]
  },
  {
   "cell_type": "code",
   "execution_count": 96,
   "id": "cb912675-7de5-42b1-a8a6-96c8e2892fb6",
   "metadata": {},
   "outputs": [],
   "source": [
    "optimizer=tf.optimizers.Adam(learning_rate=0.00749252394311766) #0.00001\n",
    "convLSTM_tuned.compile(optimizer=optimizer, loss='mse')"
   ]
  },
  {
   "cell_type": "code",
   "execution_count": 97,
   "id": "95b152a7-2f37-4fe0-83a6-fb912e3ecf0a",
   "metadata": {},
   "outputs": [
    {
     "name": "stdout",
     "output_type": "stream",
     "text": [
      "Epoch 1/100\n",
      "50/50 [==============================] - ETA: 0s - loss: 0.285 - ETA: 0s - loss: 0.209 - ETA: 0s - loss: 0.151 - ETA: 0s - loss: 0.112 - ETA: 0s - loss: 0.091 - ETA: 0s - loss: 0.078 - ETA: 0s - loss: 0.072 - ETA: 0s - loss: 0.062 - 1s 26ms/step - loss: 0.0590 - val_loss: 0.0133\n",
      "Epoch 2/100\n",
      "50/50 [==============================] - ETA: 0s - loss: 0.006 - ETA: 0s - loss: 0.005 - ETA: 0s - loss: 0.008 - ETA: 0s - loss: 0.013 - ETA: 0s - loss: 0.015 - ETA: 0s - loss: 0.013 - ETA: 0s - loss: 0.012 - ETA: 0s - loss: 0.011 - 1s 11ms/step - loss: 0.0117 - val_loss: 0.0053\n",
      "Epoch 3/100\n",
      "50/50 [==============================] - ETA: 0s - loss: 0.007 - ETA: 0s - loss: 0.019 - ETA: 0s - loss: 0.022 - ETA: 0s - loss: 0.020 - ETA: 0s - loss: 0.018 - ETA: 0s - loss: 0.016 - ETA: 0s - loss: 0.015 - ETA: 0s - loss: 0.017 - 1s 11ms/step - loss: 0.0177 - val_loss: 0.0063\n",
      "Epoch 4/100\n",
      "50/50 [==============================] - ETA: 0s - loss: 0.020 - ETA: 0s - loss: 0.019 - ETA: 0s - loss: 0.015 - ETA: 0s - loss: 0.013 - ETA: 0s - loss: 0.011 - ETA: 0s - loss: 0.013 - ETA: 0s - loss: 0.015 - ETA: 0s - loss: 0.015 - 1s 11ms/step - loss: 0.0158 - val_loss: 0.0045\n",
      "Epoch 5/100\n",
      "50/50 [==============================] - ETA: 0s - loss: 0.003 - ETA: 0s - loss: 0.009 - ETA: 0s - loss: 0.007 - ETA: 0s - loss: 0.010 - ETA: 0s - loss: 0.015 - ETA: 0s - loss: 0.015 - ETA: 0s - loss: 0.015 - ETA: 0s - loss: 0.014 - 1s 11ms/step - loss: 0.0142 - val_loss: 0.0110\n",
      "Epoch 6/100\n",
      "50/50 [==============================] - ETA: 0s - loss: 0.005 - ETA: 0s - loss: 0.007 - ETA: 0s - loss: 0.013 - ETA: 0s - loss: 0.017 - ETA: 0s - loss: 0.016 - ETA: 0s - loss: 0.015 - ETA: 0s - loss: 0.014 - ETA: 0s - loss: 0.013 - 1s 11ms/step - loss: 0.0141 - val_loss: 0.0032\n",
      "Epoch 7/100\n",
      "50/50 [==============================] - ETA: 0s - loss: 0.031 - ETA: 0s - loss: 0.026 - ETA: 0s - loss: 0.021 - ETA: 0s - loss: 0.017 - ETA: 0s - loss: 0.014 - ETA: 0s - loss: 0.013 - ETA: 0s - loss: 0.014 - ETA: 0s - loss: 0.016 - 1s 11ms/step - loss: 0.0165 - val_loss: 0.0117\n",
      "Epoch 8/100\n",
      "50/50 [==============================] - ETA: 0s - loss: 0.011 - ETA: 0s - loss: 0.009 - ETA: 0s - loss: 0.010 - ETA: 0s - loss: 0.009 - ETA: 0s - loss: 0.011 - ETA: 0s - loss: 0.014 - ETA: 0s - loss: 0.014 - ETA: 0s - loss: 0.014 - 1s 11ms/step - loss: 0.0142 - val_loss: 0.0117\n",
      "Epoch 9/100\n",
      "50/50 [==============================] - ETA: 0s - loss: 0.013 - ETA: 0s - loss: 0.007 - ETA: 0s - loss: 0.007 - ETA: 0s - loss: 0.012 - ETA: 0s - loss: 0.015 - ETA: 0s - loss: 0.014 - ETA: 0s - loss: 0.013 - ETA: 0s - loss: 0.012 - 1s 11ms/step - loss: 0.0125 - val_loss: 0.0043\n",
      "Epoch 10/100\n",
      "50/50 [==============================] - ETA: 0s - loss: 0.007 - ETA: 0s - loss: 0.018 - ETA: 0s - loss: 0.021 - ETA: 0s - loss: 0.020 - ETA: 0s - loss: 0.017 - ETA: 0s - loss: 0.015 - ETA: 0s - loss: 0.013 - ETA: 0s - loss: 0.014 - 1s 11ms/step - loss: 0.0158 - val_loss: 0.0055\n",
      "Epoch 11/100\n",
      "50/50 [==============================] - ETA: 0s - loss: 0.042 - ETA: 0s - loss: 0.020 - ETA: 0s - loss: 0.018 - ETA: 0s - loss: 0.015 - ETA: 0s - loss: 0.013 - ETA: 0s - loss: 0.014 - ETA: 0s - loss: 0.016 - ETA: 0s - loss: 0.016 - 1s 11ms/step - loss: 0.0158 - val_loss: 0.0062\n",
      "Epoch 00011: early stopping\n",
      "Duration: 10.288578748703003 seconds\n"
     ]
    }
   ],
   "source": [
    "import time\n",
    "start = time.time()\n",
    "EVALUATION_INTERVAL = 50\n",
    "EPOCHS = 100 # 500\n",
    "history = convLSTM_tuned.fit(train_data_multi, epochs = EPOCHS, steps_per_epoch=EVALUATION_INTERVAL, validation_data=val_data_multi, validation_steps=50, verbose = 1,\n",
    "                         callbacks = [tf.keras.callbacks.EarlyStopping(monitor = 'val_loss', min_delta = 0, patience = 5, verbose = 1, mode = 'min')\n",
    "                                      ])\n",
    "\n",
    "print('Duration: {} seconds'.format(time.time() - start))"
   ]
  },
  {
   "cell_type": "code",
   "execution_count": 98,
   "id": "eee0c47f-3148-4239-9082-e0a69a9bdee3",
   "metadata": {},
   "outputs": [
    {
     "name": "stdout",
     "output_type": "stream",
     "text": [
      "Model: \"sequential_1\"\n",
      "_________________________________________________________________\n",
      "Layer (type)                 Output Shape              Param #   \n",
      "=================================================================\n",
      "conv1d_4 (Conv1D)            (None, 5, 15)             3660      \n",
      "_________________________________________________________________\n",
      "batch_normalization_4 (Batch (None, 5, 15)             60        \n",
      "_________________________________________________________________\n",
      "leaky_re_lu_4 (LeakyReLU)    (None, 5, 15)             0         \n",
      "_________________________________________________________________\n",
      "p_re_lu_4 (PReLU)            (None, 5, 15)             75        \n",
      "_________________________________________________________________\n",
      "dropout_4 (Dropout)          (None, 5, 15)             0         \n",
      "_________________________________________________________________\n",
      "conv1d_5 (Conv1D)            (None, 5, 300)            13800     \n",
      "_________________________________________________________________\n",
      "batch_normalization_5 (Batch (None, 5, 300)            1200      \n",
      "_________________________________________________________________\n",
      "leaky_re_lu_5 (LeakyReLU)    (None, 5, 300)            0         \n",
      "_________________________________________________________________\n",
      "p_re_lu_5 (PReLU)            (None, 5, 300)            1500      \n",
      "_________________________________________________________________\n",
      "dropout_5 (Dropout)          (None, 5, 300)            0         \n",
      "_________________________________________________________________\n",
      "max_pooling1d_3 (MaxPooling1 (None, 5, 300)            0         \n",
      "_________________________________________________________________\n",
      "conv1d_6 (Conv1D)            (None, 5, 150)            135150    \n",
      "_________________________________________________________________\n",
      "batch_normalization_6 (Batch (None, 5, 150)            600       \n",
      "_________________________________________________________________\n",
      "leaky_re_lu_6 (LeakyReLU)    (None, 5, 150)            0         \n",
      "_________________________________________________________________\n",
      "p_re_lu_6 (PReLU)            (None, 5, 150)            750       \n",
      "_________________________________________________________________\n",
      "dropout_6 (Dropout)          (None, 5, 150)            0         \n",
      "_________________________________________________________________\n",
      "max_pooling1d_4 (MaxPooling1 (None, 5, 150)            0         \n",
      "_________________________________________________________________\n",
      "conv1d_7 (Conv1D)            (None, 5, 25)             11275     \n",
      "_________________________________________________________________\n",
      "batch_normalization_7 (Batch (None, 5, 25)             100       \n",
      "_________________________________________________________________\n",
      "leaky_re_lu_7 (LeakyReLU)    (None, 5, 25)             0         \n",
      "_________________________________________________________________\n",
      "p_re_lu_7 (PReLU)            (None, 5, 25)             125       \n",
      "_________________________________________________________________\n",
      "dropout_7 (Dropout)          (None, 5, 25)             0         \n",
      "_________________________________________________________________\n",
      "max_pooling1d_5 (MaxPooling1 (None, 5, 25)             0         \n",
      "_________________________________________________________________\n",
      "time_distributed_1 (TimeDist (None, 5, 10)             260       \n",
      "_________________________________________________________________\n",
      "bidirectional_1 (Bidirection (None, 5, 20)             1680      \n",
      "_________________________________________________________________\n",
      "flatten_1 (Flatten)          (None, 100)               0         \n",
      "_________________________________________________________________\n",
      "dense_3 (Dense)              (None, 15)                1515      \n",
      "=================================================================\n",
      "Total params: 171,750\n",
      "Trainable params: 170,770\n",
      "Non-trainable params: 980\n",
      "_________________________________________________________________\n"
     ]
    }
   ],
   "source": [
    "convLSTM_tuned.summary()"
   ]
  },
  {
   "cell_type": "code",
   "execution_count": 99,
   "id": "574a5003-a0d5-482f-a136-afcec15731d6",
   "metadata": {},
   "outputs": [
    {
     "data": {
      "image/png": "[encoded data removed]",
      "text/plain": [
       "<Figure size 1152x648 with 1 Axes>"
      ]
     },
     "metadata": {
      "needs_background": "light"
     },
     "output_type": "display_data"
    }
   ],
   "source": [
    "plt.plot(history.history['loss'])\n",
    "plt.plot(history.history['val_loss'])\n",
    "plt.title('Model Loss')\n",
    "plt.ylabel('loss')\n",
    "plt.xlabel('epoch')\n",
    "plt.legend(['train loss', 'validation loss'], loc = 'upper left')\n",
    "plt.rcParams[\"figure.figsize\"] = [16,9]\n",
    "plt.show()"
   ]
  },
  {
   "cell_type": "code",
   "execution_count": 100,
   "id": "907a975b-85ff-480c-b5d3-dc4bf5790aa0",
   "metadata": {},
   "outputs": [],
   "source": [
    "# serialize model to JSON\n",
    "model_json = convLSTM_tuned.to_json()\n",
    "with open(\"model_tuned.json\", \"w\") as json_file:\n",
    "    json_file.write(model_json)"
   ]
  },
  {
   "cell_type": "code",
   "execution_count": 101,
   "id": "322c8de0-e02e-4da5-bd10-29d117b60727",
   "metadata": {},
   "outputs": [
    {
     "name": "stdout",
     "output_type": "stream",
     "text": [
      "Saved model to disk\n"
     ]
    }
   ],
   "source": [
    "convLSTM_tuned.save_weights(\"convLSTM_Non_Volatile_tuned.h5\")\n",
    "print(\"Saved model to disk\")"
   ]
  },
  {
   "cell_type": "code",
   "execution_count": 102,
   "id": "c17372cf-9472-4116-8102-a8ec63ed6a0c",
   "metadata": {},
   "outputs": [
    {
     "data": {
      "text/plain": [
       "array([[3966.2861, 3465.723 , 3481.4954, 2872.134 , 3453.2844, 3608.676 ,\n",
       "        3283.8433, 4048.0393, 2794.643 , 2758.8406, 3156.8193, 2927.0676,\n",
       "        2620.5916, 3364.1047, 2967.4846]], dtype=float32)"
      ]
     },
     "execution_count": 102,
     "metadata": {},
     "output_type": "execute_result"
    }
   ],
   "source": [
    "data_val = x_scaler.fit_transform(model1[['is_incart', 'is_special_buy', 'is_bau', 'is_major_event', 'is_event',\n",
    "       'ty_regular_retail', 'ty_effective_retail', 'markdown',\n",
    "       'ty_promo_gross_demand', 'promo_pen','lagprice1',\n",
    "       'lagprice2', 'lagprice3', 'lagprice4', 'lagprice5', 'lagprice7',\n",
    "       'lagprice11', 'weekend_indi', 'isLeapYear', 'month_1', 'month_2',\n",
    "       'month_3', 'month_4', 'month_5', 'month_6', 'month_7', 'month_8',\n",
    "       'month_9', 'month_10', 'month_11', 'month_12', 'dayofweek_1',\n",
    "       'dayofweek_2', 'dayofweek_3', 'dayofweek_4', 'dayofweek_5',\n",
    "       'dayofweek_6', 'dayofweek_7', 'dayofweek_8', 'dayofweek_9',\n",
    "       'dayofweek_10', 'dayofweek_11', 'dayofweek_12', 'dayofweek_13',\n",
    "       'dayofweek_14', 'dayofweek_15', 'dayofweek_16', 'dayofweek_17',\n",
    "       'dayofweek_18', 'dayofweek_19', 'dayofweek_20', 'dayofweek_21',\n",
    "       'dayofweek_22', 'dayofweek_23', 'dayofweek_24', 'dayofweek_25',\n",
    "       'dayofweek_26', 'dayofweek_27', 'dayofweek_28', 'dayofweek_29',\n",
    "       'dayofweek_30', 'dayofweek_31', 'Weekday_0', 'Weekday_1', 'Weekday_2',\n",
    "       'Weekday_3', 'Weekday_4', 'Weekday_5', 'Weekday_6', 'quarter_1',\n",
    "       'quarter_2', 'quarter_3', 'quarter_4', 'merch_dept_25H-HARDWARE (25H)',\n",
    "       'class_nbr_025-012', 'class_name_PNEUMATIC FASTENERS',\n",
    "       'mfg_brand_name_RYOBI',\n",
    "       'internet_sku_name_203810823-ONE  18V Cordless AirStrike 18 Gauge Brad Nailer  Tool Only  with Sample Nails',\n",
    "       'oms_id_203810823', 'Is_Holiday', 'ty_gross_demand']].tail(hist_window))\n",
    "\n",
    "val_rescaled = data_val.reshape(1,data_val.shape[0], data_val.shape[1])\n",
    "\n",
    "Predicted_results = convLSTM_tuned.predict(val_rescaled)\n",
    "Predicted_results\n",
    "\n",
    "Predicted_results_Inv_trans = y_scaler.inverse_transform(Predicted_results)\n",
    "Predicted_results_Inv_trans"
   ]
  },
  {
   "cell_type": "code",
   "execution_count": 103,
   "id": "89e6bfad-e823-4b59-9565-06cecf254a7c",
   "metadata": {},
   "outputs": [
    {
     "data": {
      "text/plain": [
       "array([3966.2861, 3465.723 , 3481.4954, 2872.134 , 3453.2844, 3608.676 ,\n",
       "       3283.8433, 4048.0393, 2794.643 , 2758.8406, 3156.8193, 2927.0676,\n",
       "       2620.5916, 3364.1047, 2967.4846], dtype=float32)"
      ]
     },
     "execution_count": 103,
     "metadata": {},
     "output_type": "execute_result"
    }
   ],
   "source": [
    "Predicted_results_Inv_trans[0]"
   ]
  },
  {
   "cell_type": "code",
   "execution_count": 104,
   "id": "e865c170-9609-42e9-8826-50739fa1a17d",
   "metadata": {},
   "outputs": [
    {
     "name": "stdout",
     "output_type": "stream",
     "text": [
      "Evaluation metric results:-\n",
      "MSE is: 13382103.397515437\n",
      "MAE is: 3488.264469401042\n",
      "RMSE is: 3658.155737187174\n",
      "MAPE is: 50.773987488340886\n",
      "R2 is : -12.990818022193068\n",
      "\n"
     ]
    }
   ],
   "source": [
    "timeseries_evaluation_metrics_func(validate['ty_gross_demand'], Predicted_results_Inv_trans[0])"
   ]
  },
  {
   "cell_type": "code",
   "execution_count": 105,
   "id": "cecd2540-3e6a-46ab-b361-5ab025d94326",
   "metadata": {},
   "outputs": [
    {
     "data": {
      "image/png": "[encoded data removed]",
      "text/plain": [
       "<Figure size 1152x648 with 1 Axes>"
      ]
     },
     "metadata": {
      "needs_background": "light"
     },
     "output_type": "display_data"
    }
   ],
   "source": [
    "plt.plot(list(validate['ty_gross_demand']))\n",
    "plt.plot(list(Predicted_results_Inv_trans[0]))\n",
    "plt.title(\"Actual vs. Predicted\")\n",
    "plt.ylabel(\"Gross Ads\")\n",
    "plt.legend(('Actual','Predicted'))\n",
    "plt.show()"
   ]
  },
  {
   "cell_type": "code",
   "execution_count": null,
   "id": "73153917-2803-4c84-b4c3-fb0ed23462a9",
   "metadata": {},
   "outputs": [],
   "source": []
  }
 ],
 "metadata": {
  "environment": {
   "kernel": "python3",
   "name": "tf2-gpu.2-3.m82",
   "type": "gcloud",
   "uri": "gcr.io/deeplearning-platform-release/tf2-gpu.2-3:m82"
  },
  "kernelspec": {
   "display_name": "Python 3",
   "language": "python",
   "name": "python3"
  },
  "language_info": {
   "codemirror_mode": {
    "name": "ipython",
    "version": 3
   },
   "file_extension": ".py",
   "mimetype": "text/x-python",
   "name": "python",
   "nbconvert_exporter": "python",
   "pygments_lexer": "ipython3",
   "version": "3.7.10"
  }
 },
 "nbformat": 4,
 "nbformat_minor": 5
}
